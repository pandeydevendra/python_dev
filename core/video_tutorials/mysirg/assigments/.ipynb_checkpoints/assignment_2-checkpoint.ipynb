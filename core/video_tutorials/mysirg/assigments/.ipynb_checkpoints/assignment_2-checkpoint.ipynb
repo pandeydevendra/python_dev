{
 "cells": [
  {
   "cell_type": "markdown",
   "id": "0200a03a",
   "metadata": {},
   "source": [
    "#### number is odd or even: divisible by 2 or not"
   ]
  },
  {
   "cell_type": "code",
   "execution_count": 7,
   "id": "08cad185",
   "metadata": {},
   "outputs": [
    {
     "name": "stdout",
     "output_type": "stream",
     "text": [
      "Enter a number: 16\n",
      "16 is an even number.\n"
     ]
    }
   ],
   "source": [
    "n = eval(input(\"Enter a number: \"))\n",
    "r = \"even\" if n%2==0 else \"odd\"\n",
    "print(f\"{n} is an {r} number.\")"
   ]
  },
  {
   "cell_type": "code",
   "execution_count": 10,
   "id": "e6361de0",
   "metadata": {},
   "outputs": [
    {
     "name": "stdout",
     "output_type": "stream",
     "text": [
      "Enter a number: 1005\n",
      "1005 is divisible by 5.\n"
     ]
    }
   ],
   "source": [
    "# number: divisible by 5 or not:\n",
    "n = eval(input(\"Enter a number: \"))\n",
    "r = \"divisible\" if n%5==0 else \"not divisible\"\n",
    "print(f\"{n} is {r} by 5.\")"
   ]
  },
  {
   "cell_type": "markdown",
   "id": "95541f68",
   "metadata": {},
   "source": [
    "#### number is +ve, -ve or zero: inequality with zero(0)"
   ]
  },
  {
   "cell_type": "code",
   "execution_count": 22,
   "id": "4f7ee088",
   "metadata": {},
   "outputs": [
    {
     "name": "stdout",
     "output_type": "stream",
     "text": [
      "Enter a number: 100\n",
      "100 is a positive number.\n"
     ]
    }
   ],
   "source": [
    "a = eval(input(\"Enter a number: \"))\n",
    "if a>=0:\n",
    "    r = \"positive\" if a>0 else \"zero\"\n",
    "else:\n",
    "    r = \"negative\"\n",
    "    \n",
    "print(f\"{a} is a {r} number.\")"
   ]
  },
  {
   "cell_type": "markdown",
   "id": "2338e1a9",
   "metadata": {},
   "source": [
    "#### find greater number among three numbers"
   ]
  },
  {
   "cell_type": "code",
   "execution_count": 35,
   "id": "a9ef7487",
   "metadata": {},
   "outputs": [
    {
     "name": "stdout",
     "output_type": "stream",
     "text": [
      "Enter three numbers: 10.5,100.4,20.5\n"
     ]
    },
    {
     "data": {
      "text/plain": [
       "100.4"
      ]
     },
     "execution_count": 35,
     "metadata": {},
     "output_type": "execute_result"
    }
   ],
   "source": [
    "a, b, c = eval(input(\"Enter three numbers: \"))\n",
    "if a>b and a>c:\n",
    "    r = a if b>c else c\n",
    "else:\n",
    "    r = b if b>c else c\n",
    "r"
   ]
  },
  {
   "cell_type": "code",
   "execution_count": 49,
   "id": "7ed649e3",
   "metadata": {},
   "outputs": [
    {
     "name": "stdout",
     "output_type": "stream",
     "text": [
      "Enter a, b, c: 1,4,4\n",
      "The roots are real and equal because D is 0.\n"
     ]
    }
   ],
   "source": [
    "# a*x**2 + b*x + c = 0\n",
    "a, b, c = eval(input(\"Enter a, b, c: \"))\n",
    "d = b**2-4*a*c\n",
    "if d > 0:\n",
    "    r = \"real and unequal\"\n",
    "elif d == 0:\n",
    "    r = \"real and equal\"\n",
    "else:\n",
    "    r = \"imaginary\"\n",
    "print(\"The roots are {0} because D is {1}.\".format(r,d))"
   ]
  },
  {
   "cell_type": "code",
   "execution_count": null,
   "id": "a5dfb18f",
   "metadata": {},
   "outputs": [],
   "source": [
    "# dictionary order:\n",
    "\n",
    "a, b, c = eval(input(\"Enter a, b, c: \"))\n",
    "l = [a,b,c]\n",
    "d = l.sort()\n",
    "l"
   ]
  },
  {
   "cell_type": "markdown",
   "id": "9dc474d5",
   "metadata": {},
   "source": [
    "### Complex number: real and imaginary part"
   ]
  },
  {
   "cell_type": "code",
   "execution_count": 22,
   "id": "e446aeb4",
   "metadata": {},
   "outputs": [
    {
     "name": "stdout",
     "output_type": "stream",
     "text": [
      "Enter the complex number: 2+3j\n"
     ]
    },
    {
     "ename": "AttributeError",
     "evalue": "module 'math' has no attribute 're'",
     "output_type": "error",
     "traceback": [
      "\u001b[0;31m---------------------------------------------------------------------------\u001b[0m",
      "\u001b[0;31mAttributeError\u001b[0m                            Traceback (most recent call last)",
      "\u001b[0;32m<ipython-input-22-90b53331a046>\u001b[0m in \u001b[0;36m<module>\u001b[0;34m\u001b[0m\n\u001b[1;32m      3\u001b[0m \u001b[0;32mimport\u001b[0m \u001b[0mmath\u001b[0m\u001b[0;34m\u001b[0m\u001b[0;34m\u001b[0m\u001b[0m\n\u001b[1;32m      4\u001b[0m \u001b[0mz\u001b[0m \u001b[0;34m=\u001b[0m \u001b[0mcomplex\u001b[0m\u001b[0;34m(\u001b[0m\u001b[0minput\u001b[0m\u001b[0;34m(\u001b[0m\u001b[0;34m\"Enter the complex number: \"\u001b[0m\u001b[0;34m)\u001b[0m\u001b[0;34m)\u001b[0m\u001b[0;34m\u001b[0m\u001b[0;34m\u001b[0m\u001b[0m\n\u001b[0;32m----> 5\u001b[0;31m \u001b[0mmath\u001b[0m\u001b[0;34m.\u001b[0m\u001b[0mre\u001b[0m\u001b[0;34m(\u001b[0m\u001b[0mz\u001b[0m\u001b[0;34m)\u001b[0m\u001b[0;34m\u001b[0m\u001b[0;34m\u001b[0m\u001b[0m\n\u001b[0m",
      "\u001b[0;31mAttributeError\u001b[0m: module 'math' has no attribute 're'"
     ]
    }
   ],
   "source": [
    "# compex no; z = x + yj\n",
    "# eg: 2+3j, 4 + 2j, 3-j\n",
    "import cmath\n",
    "z = complex(input(\"Enter the complex number: \"))\n",
    "z.real()"
   ]
  },
  {
   "cell_type": "code",
   "execution_count": null,
   "id": "2aa16a23",
   "metadata": {},
   "outputs": [],
   "source": []
  }
 ],
 "metadata": {
  "kernelspec": {
   "display_name": "Python 3",
   "language": "python",
   "name": "python3"
  },
  "language_info": {
   "codemirror_mode": {
    "name": "ipython",
    "version": 3
   },
   "file_extension": ".py",
   "mimetype": "text/x-python",
   "name": "python",
   "nbconvert_exporter": "python",
   "pygments_lexer": "ipython3",
   "version": "3.6.8"
  }
 },
 "nbformat": 4,
 "nbformat_minor": 5
}
