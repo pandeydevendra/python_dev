{
 "cells": [
  {
   "cell_type": "code",
   "execution_count": 4,
   "id": "399812c5",
   "metadata": {},
   "outputs": [
    {
     "name": "stdout",
     "output_type": "stream",
     "text": [
      "Enter a number: 10\n",
      "Number is not prime\n"
     ]
    }
   ],
   "source": [
    "# prime number\n",
    "n = int(input(\"Enter a number: \"))\n",
    "n=int(n+1/2)\n",
    "for x in range(2, n):\n",
    "    if n%x==0:\n",
    "        print(\"Number is not prime\")\n",
    "        break\n",
    "else:\n",
    "    print(\"Number is prime\")\n"
   ]
  },
  {
   "cell_type": "code",
   "execution_count": 15,
   "id": "1f38bbd5",
   "metadata": {},
   "outputs": [
    {
     "name": "stdout",
     "output_type": "stream",
     "text": [
      "17\n"
     ]
    }
   ],
   "source": [
    "# next prime number of a given number:\n",
    "#n = int(input(\"Enter a number: \"))\n",
    "a = 10\n",
    "for n in range(10, 18): \n",
    "    k=int(n+1/2)\n",
    "    for x in range(2, k):\n",
    "        if n%x==0:\n",
    "            break\n",
    "    else:\n",
    "        r = n\n",
    "    \n",
    "print(r)\n"
   ]
  },
  {
   "cell_type": "code",
   "execution_count": 16,
   "id": "ddc2f5cd",
   "metadata": {},
   "outputs": [
    {
     "name": "stdout",
     "output_type": "stream",
     "text": [
      "17\n"
     ]
    }
   ],
   "source": [
    "a = 5 # int(input(\"Enter a number: \"))\n",
    "n = a + 10\n",
    "for x in range(2, n):\n",
    "    if n%x==0:\n",
    "        break\n",
    "else:\n",
    "    r = x\n",
    "\n",
    "print(r)"
   ]
  },
  {
   "cell_type": "code",
   "execution_count": null,
   "id": "e60c79a1",
   "metadata": {},
   "outputs": [],
   "source": []
  }
 ],
 "metadata": {
  "kernelspec": {
   "display_name": "Python 3",
   "language": "python",
   "name": "python3"
  },
  "language_info": {
   "codemirror_mode": {
    "name": "ipython",
    "version": 3
   },
   "file_extension": ".py",
   "mimetype": "text/x-python",
   "name": "python",
   "nbconvert_exporter": "python",
   "pygments_lexer": "ipython3",
   "version": "3.6.8"
  }
 },
 "nbformat": 4,
 "nbformat_minor": 5
}
