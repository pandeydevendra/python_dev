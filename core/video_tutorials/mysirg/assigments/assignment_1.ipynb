{
 "cells": [
  {
   "cell_type": "markdown",
   "id": "2653e95f",
   "metadata": {},
   "source": [
    "#### Add Two Numbers taking user input:"
   ]
  },
  {
   "cell_type": "code",
   "execution_count": 10,
   "id": "aaad73c1",
   "metadata": {},
   "outputs": [
    {
     "name": "stdout",
     "output_type": "stream",
     "text": [
      "Enter two numbers: 11,23\n",
      "Sum of the two numbers is 34\n"
     ]
    }
   ],
   "source": [
    "a, b = eval(input(\"Enter two numbers: \"))\n",
    "s = a+b\n",
    "print(\"Sum of the two numbers is\",s)"
   ]
  },
  {
   "cell_type": "markdown",
   "id": "204387dd",
   "metadata": {},
   "source": []
  }
 ],
 "metadata": {
  "kernelspec": {
   "display_name": "Python 3",
   "language": "python",
   "name": "python3"
  },
  "language_info": {
   "codemirror_mode": {
    "name": "ipython",
    "version": 3
   },
   "file_extension": ".py",
   "mimetype": "text/x-python",
   "name": "python",
   "nbconvert_exporter": "python",
   "pygments_lexer": "ipython3",
   "version": "3.6.8"
  }
 },
 "nbformat": 4,
 "nbformat_minor": 5
}
