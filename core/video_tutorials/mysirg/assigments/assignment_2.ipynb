{
 "cells": [
  {
   "cell_type": "markdown",
   "id": "e93b29e8",
   "metadata": {},
   "source": [
    "#### number is odd or even: divisible by 2 or not"
   ]
  },
  {
   "cell_type": "code",
   "execution_count": 7,
   "id": "0618a4ab",
   "metadata": {},
   "outputs": [
    {
     "name": "stdout",
     "output_type": "stream",
     "text": [
      "Enter a number: 16\n",
      "16 is an even number.\n"
     ]
    }
   ],
   "source": [
    "n = eval(input(\"Enter a number: \"))\n",
    "r = \"even\" if n%2==0 else \"odd\"\n",
    "print(f\"{n} is an {r} number.\")"
   ]
  },
  {
   "cell_type": "code",
   "execution_count": 10,
   "id": "fc7b9330",
   "metadata": {},
   "outputs": [
    {
     "name": "stdout",
     "output_type": "stream",
     "text": [
      "Enter a number: 1005\n",
      "1005 is divisible by 5.\n"
     ]
    }
   ],
   "source": [
    "# number: divisible by 5 or not:\n",
    "n = eval(input(\"Enter a number: \"))\n",
    "r = \"divisible\" if n%5==0 else \"not divisible\"\n",
    "print(f\"{n} is {r} by 5.\")"
   ]
  },
  {
   "cell_type": "markdown",
   "id": "ec551ab4",
   "metadata": {},
   "source": [
    "#### number is +ve, -ve or zero: inequality with zero(0)"
   ]
  },
  {
   "cell_type": "code",
   "execution_count": 22,
   "id": "39434ea1",
   "metadata": {},
   "outputs": [
    {
     "name": "stdout",
     "output_type": "stream",
     "text": [
      "Enter a number: 100\n",
      "100 is a positive number.\n"
     ]
    }
   ],
   "source": [
    "a = eval(input(\"Enter a number: \"))\n",
    "if a>=0:\n",
    "    r = \"positive\" if a>0 else \"zero\"\n",
    "else:\n",
    "    r = \"negative\"\n",
    "    \n",
    "print(f\"{a} is a {r} number.\")"
   ]
  },
  {
   "cell_type": "markdown",
   "id": "ccb69e11",
   "metadata": {},
   "source": [
    "#### find greater number among three numbers"
   ]
  },
  {
   "cell_type": "code",
   "execution_count": 35,
   "id": "6879e9f5",
   "metadata": {},
   "outputs": [
    {
     "name": "stdout",
     "output_type": "stream",
     "text": [
      "Enter three numbers: 10.5,100.4,20.5\n"
     ]
    },
    {
     "data": {
      "text/plain": [
       "100.4"
      ]
     },
     "execution_count": 35,
     "metadata": {},
     "output_type": "execute_result"
    }
   ],
   "source": [
    "a, b, c = eval(input(\"Enter three numbers: \"))\n",
    "if a>b and a>c:\n",
    "    r = a if b>c else c\n",
    "else:\n",
    "    r = b if b>c else c\n",
    "r"
   ]
  },
  {
   "cell_type": "code",
   "execution_count": 49,
   "id": "b92c6eb3",
   "metadata": {},
   "outputs": [
    {
     "name": "stdout",
     "output_type": "stream",
     "text": [
      "Enter a, b, c: 1,4,4\n",
      "The roots are real and equal because D is 0.\n"
     ]
    }
   ],
   "source": [
    "# a*x**2 + b*x + c = 0\n",
    "a, b, c = eval(input(\"Enter a, b, c: \"))\n",
    "d = b**2-4*a*c\n",
    "if d > 0:\n",
    "    r = \"real and unequal\"\n",
    "elif d == 0:\n",
    "    r = \"real and equal\"\n",
    "else:\n",
    "    r = \"imaginary\"\n",
    "print(\"The roots are {0} because D is {1}.\".format(r,d))"
   ]
  },
  {
   "cell_type": "code",
   "execution_count": 1,
   "id": "faa3e517",
   "metadata": {},
   "outputs": [
    {
     "name": "stdout",
     "output_type": "stream",
     "text": [
      "Enter a, b, c: 'sandeep', 'devendra', 'krishna' \n"
     ]
    },
    {
     "data": {
      "text/plain": [
       "['devendra', 'krishna', 'sandeep']"
      ]
     },
     "execution_count": 1,
     "metadata": {},
     "output_type": "execute_result"
    }
   ],
   "source": [
    "# dictionary order:\n",
    "\n",
    "a, b, c = eval(input(\"Enter a, b, c: \"))\n",
    "l = [a,b,c]\n",
    "d = l.sort()\n",
    "l"
   ]
  },
  {
   "cell_type": "code",
   "execution_count": 51,
   "id": "14a33e01",
   "metadata": {},
   "outputs": [
    {
     "name": "stdout",
     "output_type": "stream",
     "text": [
      "Enter three words: aHVSSH\n"
     ]
    },
    {
     "ename": "NameError",
     "evalue": "name 'aHVSSH' is not defined",
     "output_type": "error",
     "traceback": [
      "\u001b[0;31m---------------------------------------------------------------------------\u001b[0m",
      "\u001b[0;31mNameError\u001b[0m                                 Traceback (most recent call last)",
      "\u001b[0;32m<ipython-input-51-3f3233982d96>\u001b[0m in \u001b[0;36m<module>\u001b[0;34m\u001b[0m\n\u001b[0;32m----> 1\u001b[0;31m \u001b[0mname1\u001b[0m\u001b[0;34m,\u001b[0m \u001b[0mname2\u001b[0m\u001b[0;34m,\u001b[0m \u001b[0mname3\u001b[0m \u001b[0;34m=\u001b[0m \u001b[0meval\u001b[0m\u001b[0;34m(\u001b[0m\u001b[0minput\u001b[0m\u001b[0;34m(\u001b[0m\u001b[0;34m\"Enter three words: \"\u001b[0m\u001b[0;34m)\u001b[0m\u001b[0;34m)\u001b[0m\u001b[0;34m\u001b[0m\u001b[0;34m\u001b[0m\u001b[0m\n\u001b[0m\u001b[1;32m      2\u001b[0m \u001b[0;34m\u001b[0m\u001b[0m\n\u001b[1;32m      3\u001b[0m \u001b[0;31m#123,132,213,231,312,321\u001b[0m\u001b[0;34m\u001b[0m\u001b[0;34m\u001b[0m\u001b[0;34m\u001b[0m\u001b[0m\n\u001b[1;32m      4\u001b[0m \u001b[0;34m\u001b[0m\u001b[0m\n\u001b[1;32m      5\u001b[0m \u001b[0;32mif\u001b[0m \u001b[0mname1\u001b[0m\u001b[0;34m<\u001b[0m\u001b[0mname2\u001b[0m \u001b[0;32mand\u001b[0m \u001b[0mname1\u001b[0m\u001b[0;34m<\u001b[0m\u001b[0mname3\u001b[0m\u001b[0;34m:\u001b[0m\u001b[0;34m\u001b[0m\u001b[0;34m\u001b[0m\u001b[0m\n",
      "\u001b[0;32m<string>\u001b[0m in \u001b[0;36m<module>\u001b[0;34m\u001b[0m\n",
      "\u001b[0;31mNameError\u001b[0m: name 'aHVSSH' is not defined"
     ]
    }
   ],
   "source": [
    "name1 = input(\"Enter name1: \")\n",
    "name2 = input(\"Enter name2: \")\n",
    "name3 = input(\"Enter name3: \")\n",
    "\n",
    "#123,132,213,231,312,321\n",
    "\n",
    "if name1<name2 and name1<name3:\n",
    "    if name2<name3:\n",
    "        print(name1, name2, name3)\n",
    "    else:\n",
    "        print(name1, name3, name2)\n",
    "        \n",
    "elif name2<name1 and name2<name3:\n",
    "    if name1<name3:\n",
    "        print(name2,name1,name3)\n",
    "    else:\n",
    "        print(name2,name3,name1)\n",
    "\n",
    "elif name3<name1 and name3<name2:\n",
    "    if name2<name1:\n",
    "        print(name3,name2,name1)\n",
    "    else:\n",
    "        print(name3, name1, name2)"
   ]
  },
  {
   "cell_type": "code",
   "execution_count": 54,
   "id": "e76a98b9",
   "metadata": {},
   "outputs": [
    {
     "name": "stdout",
     "output_type": "stream",
     "text": [
      "Enter three words: 'krishna', 'sandeep', 'devendra'\n",
      "devendra krishna sandeep\n"
     ]
    }
   ],
   "source": [
    "name1 = input(\"Enter name1: \")\n",
    "name2 = input(\"Enter name2: \")\n",
    "name3 = input(\"Enter name3: \")\n",
    "\n",
    "#name1, name2, name3 = eval(input(\"Enter three words: \"))\n",
    "#123,132,213,231,312,321\n",
    "\n",
    "if name1<name2 and name1<name3:\n",
    "    print(name1, name2, name3) if name2<name3 else print(name1, name3, name2)\n",
    "        \n",
    "elif name2<name1 and name2<name3:\n",
    "    print(name2,name1,name3) if name1<name3 else print(name2,name3,name1)\n",
    "\n",
    "elif name3<name1 and name3<name2:\n",
    "    print(name3,name2,name1) if name2<name1 else print(name3, name1, name2)\n"
   ]
  },
  {
   "cell_type": "code",
   "execution_count": null,
   "id": "c0a40e18",
   "metadata": {},
   "outputs": [],
   "source": [
    "a"
   ]
  },
  {
   "cell_type": "code",
   "execution_count": 40,
   "id": "57aa5126",
   "metadata": {},
   "outputs": [
    {
     "data": {
      "text/plain": [
       "True"
      ]
     },
     "execution_count": 40,
     "metadata": {},
     "output_type": "execute_result"
    }
   ],
   "source": [
    "'t'>'s'"
   ]
  },
  {
   "cell_type": "markdown",
   "id": "9daa7c63",
   "metadata": {},
   "source": [
    "### Complex number: real and imaginary part"
   ]
  },
  {
   "cell_type": "code",
   "execution_count": 11,
   "id": "1f3fa7f2",
   "metadata": {
    "scrolled": true
   },
   "outputs": [
    {
     "name": "stdout",
     "output_type": "stream",
     "text": [
      "Enter the complex number: 5+6j\n"
     ]
    },
    {
     "data": {
      "text/plain": [
       "6.0"
      ]
     },
     "execution_count": 11,
     "metadata": {},
     "output_type": "execute_result"
    }
   ],
   "source": [
    "# compex no; z = x + yj\n",
    "# eg: 2+3j, 4 + 2j, 3-j\n",
    "z = complex(input(\"Enter ta, b, c = eval(input(\"Enter a, b, c: \"))\n",
    "d = b**2-4*a*c\n",
    "if d > 0:\n",
    "    r = \"real and unequal\"\n",
    "elif d == 0:\n",
    "    r = \"real and equal\"\n",
    "else:\n",
    "    r = \"imaginary\"\n",
    "print(\"The roots are {0} because D is {1}.\".format(r,d))he complex number: \"))\n",
    "a = z.reala, b, c = eval(input(\"Enter a, b, c: \"))\n",
    "d = b**2-4*a*c\n",
    "if d > 0:\n",
    "    r = \"real and unequal\"\n",
    "elif d == 0:a, b, c = eval(input(\"Enter a, b, c: \"))\n",
    "d = b**2-4*a*c\n",
    "if d > 0:\n",
    "    r = \"real and unequal\"\n",
    "elif d == 0:\n",
    "    r = \"real and equal\"\n",
    "else:\n",
    "    r = \"imaginary\"\n",
    "print(\"The roots are {0} because D is {1}.\".format(r,d))\n",
    "    r = \"real and equal\"\n",
    "else:\n",
    "    r = \"imaginary\"\n",
    "print(\"The roots are {0} because D is {1}.\".format(r,d))\n",
    "b = z.imag\n",
    "r = a if a>b else b\n",
    "r"
   ]
  },
  {
   "cell_type": "code",
   "execution_count": 12,
   "id": "2f6473e1",
   "metadata": {},
   "outputs": [
    {
     "ename": "SyntaxError",
     "evalue": "invalid syntax (<ipython-input-12-bdb23fb26396>, line 2)",
     "output_type": "error",
     "traceback": [
      "\u001b[0;36m  File \u001b[0;32m\"<ipython-input-12-bdb23fb26396>\"\u001b[0;36m, line \u001b[0;32m2\u001b[0m\n\u001b[0;31m    1. dictionary order\u001b[0m\n\u001b[0m                ^\u001b[0m\n\u001b[0;31mSyntaxError\u001b[0m\u001b[0;31m:\u001b[0m invalid syntax\n"
     ]
    }
   ],
   "source": [
    "## todo:\n",
    "1. dictionary order\n",
    "2. real and imaginary part of Complex number\n",
    "3. pass fail: % and division"
   ]
  },
  {
   "cell_type": "code",
   "execution_count": 18,
   "id": "b0271662",
   "metadata": {},
   "outputs": [
    {
     "name": "stdout",
     "output_type": "stream",
     "text": [
      "Enter a: -3\n",
      "-ve\n"
     ]
    }
   ],
   "source": [
    "a = int(input(\"Enter a: \"))\n",
    "if a>0:\n",
    "    print(\"+vbe\")\n",
    "elif a==0:\n",
    "    print(\"zero\")\n",
    "else:\n",
    "    print(\"-ve\")"
   ]
  },
  {
   "cell_type": "code",
   "execution_count": 20,
   "id": "cc2a9e0a",
   "metadata": {},
   "outputs": [
    {
     "ename": "SyntaxError",
     "evalue": "invalid syntax (<ipython-input-20-19f2e4d0c6fd>, line 2)",
     "output_type": "error",
     "traceback": [
      "\u001b[0;36m  File \u001b[0;32m\"<ipython-input-20-19f2e4d0c6fd>\"\u001b[0;36m, line \u001b[0;32m2\u001b[0m\n\u001b[0;31m    z = \"+ve\" if a>0, \"zero\" elif a==0 else \"-ve\"\u001b[0m\n\u001b[0m                    ^\u001b[0m\n\u001b[0;31mSyntaxError\u001b[0m\u001b[0;31m:\u001b[0m invalid syntax\n"
     ]
    }
   ],
   "source": [
    "a = int(input(\"Enter a: \"))\n",
    "z = \"+ve\" if a>0, \"zero\" elif a==0 else \"-ve\"\n",
    "print(z)"
   ]
  },
  {
   "cell_type": "code",
   "execution_count": 1,
   "id": "a4e9d69b",
   "metadata": {},
   "outputs": [
    {
     "name": "stdout",
     "output_type": "stream",
     "text": [
      "Enter n: 5\n",
      "5\n",
      "10\n",
      "15\n",
      "20\n",
      "25\n",
      "30\n",
      "35\n",
      "40\n",
      "45\n",
      "50\n"
     ]
    }
   ],
   "source": [
    "n = int(input(\"Enter n: \"))\n",
    "i = 1\n",
    "while i<=10:\n",
    "    print(n*i)\n",
    "    i+=1"
   ]
  },
  {
   "cell_type": "code",
   "execution_count": 71,
   "id": "75a74f39",
   "metadata": {},
   "outputs": [
    {
     "name": "stdout",
     "output_type": "stream",
     "text": [
      "Enter n: 10\n",
      "55\n"
     ]
    }
   ],
   "source": [
    "# sum of n natural number\n",
    "# for loop:\n",
    "n = int(input(\"Enter n: \"))\n",
    "s = 0\n",
    "for x in range(1, n+1):\n",
    "    s+=x\n",
    "    \n",
    "print(s)\n",
    "# sum of n natural nummber\n",
    "# while loop::\n",
    "n = int(input(\"Enter n: \"))\n",
    "s = 0\n",
    "x = 1\n",
    "while x <=n:\n",
    "    s+=x\n",
    "    x+=1\n",
    "    \n",
    "print(s)\n",
    "# sum of n natural nummber\n",
    "# fn sum()\n",
    "n = int(input(\"Enter n: \"))\n",
    "s = sum(range(1,n+1))\n",
    "print(s)"
   ]
  },
  {
   "cell_type": "code",
   "execution_count": 78,
   "id": "ca9a5ca5",
   "metadata": {},
   "outputs": [
    {
     "name": "stdout",
     "output_type": "stream",
     "text": [
      "Enter n: 200\n",
      "20100\n"
     ]
    }
   ],
   "source": [
    "# sum of n natural nummber\n",
    "# while loop::\n",
    "n = int(input(\"Enter n: \"))\n",
    "s = 0\n",
    "x = 1\n",
    "while x <=n:\n",
    "    s+=x\n",
    "    x+=1\n",
    "    \n",
    "print(s)\n",
    "# sum of n natural nummber\n",
    "# fn sum()\n",
    "n = int(input(\"Enter n: \"))\n",
    "s = sum(range(1,n+1))\n",
    "print(s)"
   ]
  },
  {
   "cell_type": "code",
   "execution_count": 79,
   "id": "eaacb39f",
   "metadata": {},
   "outputs": [
    {
     "name": "stdout",
     "output_type": "stream",
     "text": [
      "Enter n: 1000\n",
      "500500\n"
     ]
    }
   ],
   "source": [
    "# sum of n natural nummber\n",
    "# fn sum()\n",
    "n = int(input(\"Enter n: \"))\n",
    "s = sum(range(1,n+1))\n",
    "print(s)"
   ]
  },
  {
   "cell_type": "code",
   "execution_count": 65,
   "id": "9b684523",
   "metadata": {},
   "outputs": [
    {
     "name": "stdout",
     "output_type": "stream",
     "text": [
      "Enter n: 1000\n",
      "500500\n"
     ]
    }
   ],
   "source": [
    "# sum of n natural nummber\n",
    "# sum formulae\n",
    "n = int(input(\"Enter n: \"))\n",
    "s = n*(n+1)/2\n",
    "print(int(s))"
   ]
  },
  {
   "cell_type": "code",
   "execution_count": 85,
   "id": "80ddd39a",
   "metadata": {},
   "outputs": [],
   "source": [
    "sum?"
   ]
  },
  {
   "cell_type": "code",
   "execution_count": null,
   "id": "4d0c7ed2",
   "metadata": {},
   "outputs": [],
   "source": [
    "Signature: sum(iterable, start=0, /)\n",
    "Docstring:\n",
    "Return the sum of a 'start' value (default: 0) plus an iterable of numbers\n",
    "\n",
    "When the iterable is empty, return the start value.\n",
    "This function is intended specifically for use with numeric values and may\n",
    "reject non-numeric types.\n",
    "Type:      builtin_function_or_method"
   ]
  },
  {
   "cell_type": "code",
   "execution_count": 84,
   "id": "60d899fa",
   "metadata": {},
   "outputs": [],
   "source": [
    "range?"
   ]
  },
  {
   "cell_type": "code",
   "execution_count": null,
   "id": "78c9c2be",
   "metadata": {},
   "outputs": [],
   "source": []
  },
  {
   "cell_type": "code",
   "execution_count": null,
   "id": "1b604336",
   "metadata": {},
   "outputs": [],
   "source": [
    "Init signature: range(self, /, *args, **kwargs)\n",
    "Docstring:     \n",
    "range(stop) -> range object\n",
    "range(start, stop[, step]) -> range object\n",
    "\n",
    "Return an object that produces a sequence of integers from start (inclusive)\n",
    "to stop (exclusive) by step.  range(i, j) produces i, i+1, i+2, ..., j-1.\n",
    "start defaults to 0, and stop is omitted!  range(4) produces 0, 1, 2, 3.\n",
    "These are exactly the valid indices for a list of 4 elements.\n",
    "When step is given, it specifies the increment (or decrement).\n",
    "Type:           type\n",
    "Subclasses:"
   ]
  },
  {
   "cell_type": "code",
   "execution_count": 83,
   "id": "fe4673ba",
   "metadata": {},
   "outputs": [],
   "source": [
    "int?"
   ]
  },
  {
   "cell_type": "code",
   "execution_count": null,
   "id": "64d0b795",
   "metadata": {},
   "outputs": [],
   "source": [
    "Init signature: int(self, /, *args, **kwargs)\n",
    "Docstring:     \n",
    "int(x=0) -> integer\n",
    "int(x, base=10) -> integer\n",
    "\n",
    "Convert a number or string to an integer, or return 0 if no arguments\n",
    "are given.  If x is a number, return x.__int__().  For floating point\n",
    "numbers, this truncates towards zero.\n",
    "\n",
    "If x is not a number or if base is given, then x must be a string,\n",
    "bytes, or bytearray instance representing an integer literal in the\n",
    "given base.  The literal can be preceded by '+' or '-' and be surrounded\n",
    "by whitespace.  The base defaults to 10.  Valid bases are 0 and 2-36.\n",
    "Base 0 means to interpret the base from the string as an integer literal.\n",
    ">>> int('0b100', base=0)\n",
    "4\n",
    "Type:           type\n",
    "Subclasses:     bool, IntEnum, IntFlag, _NamedIntConstant"
   ]
  }
 ],
 "metadata": {
  "kernelspec": {
   "display_name": "Python 3",
   "language": "python",
   "name": "python3"
  },
  "language_info": {
   "codemirror_mode": {
    "name": "ipython",
    "version": 3
   },
   "file_extension": ".py",
   "mimetype": "text/x-python",
   "name": "python",
   "nbconvert_exporter": "python",
   "pygments_lexer": "ipython3",
   "version": "3.6.8"
  }
 },
 "nbformat": 4,
 "nbformat_minor": 5
}
