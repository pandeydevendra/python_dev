{
 "cells": [
  {
   "cell_type": "markdown",
   "id": "e93b29e8",
   "metadata": {},
   "source": [
    "#### number is odd or even: divisible by 2 or not"
   ]
  },
  {
   "cell_type": "code",
   "execution_count": 7,
   "id": "0618a4ab",
   "metadata": {},
   "outputs": [
    {
     "name": "stdout",
     "output_type": "stream",
     "text": [
      "Enter a number: 16\n",
      "16 is an even number.\n"
     ]
    }
   ],
   "source": [
    "n = eval(input(\"Enter a number: \"))\n",
    "r = \"even\" if n%2==0 else \"odd\"\n",
    "print(f\"{n} is an {r} number.\")"
   ]
  },
  {
   "cell_type": "code",
   "execution_count": 10,
   "id": "fc7b9330",
   "metadata": {},
   "outputs": [
    {
     "name": "stdout",
     "output_type": "stream",
     "text": [
      "Enter a number: 1005\n",
      "1005 is divisible by 5.\n"
     ]
    }
   ],
   "source": [
    "# number: divisible by 5 or not:\n",
    "n = eval(input(\"Enter a number: \"))\n",
    "r = \"divisible\" if n%5==0 else \"not divisible\"\n",
    "print(f\"{n} is {r} by 5.\")"
   ]
  },
  {
   "cell_type": "markdown",
   "id": "ec551ab4",
   "metadata": {},
   "source": [
    "#### number is +ve, -ve or zero: inequality with zero(0)"
   ]
  },
  {
   "cell_type": "code",
   "execution_count": 22,
   "id": "39434ea1",
   "metadata": {},
   "outputs": [
    {
     "name": "stdout",
     "output_type": "stream",
     "text": [
      "Enter a number: 100\n",
      "100 is a positive number.\n"
     ]
    }
   ],
   "source": [
    "a = eval(input(\"Enter a number: \"))\n",
    "if a>=0:\n",
    "    r = \"positive\" if a>0 else \"zero\"\n",
    "else:\n",
    "    r = \"negative\"\n",
    "    \n",
    "print(f\"{a} is a {r} number.\")"
   ]
  },
  {
   "cell_type": "markdown",
   "id": "ccb69e11",
   "metadata": {},
   "source": [
    "#### find greater number among three numbers"
   ]
  },
  {
   "cell_type": "code",
   "execution_count": 35,
   "id": "6879e9f5",
   "metadata": {},
   "outputs": [
    {
     "name": "stdout",
     "output_type": "stream",
     "text": [
      "Enter three numbers: 10.5,100.4,20.5\n"
     ]
    },
    {
     "data": {
      "text/plain": [
       "100.4"
      ]
     },
     "execution_count": 35,
     "metadata": {},
     "output_type": "execute_result"
    }
   ],
   "source": [
    "a, b, c = eval(input(\"Enter three numbers: \"))\n",
    "if a>b and a>c:\n",
    "    r = a if b>c else c\n",
    "else:\n",
    "    r = b if b>c else c\n",
    "r"
   ]
  },
  {
   "cell_type": "code",
   "execution_count": 49,
   "id": "b92c6eb3",
   "metadata": {},
   "outputs": [
    {
     "name": "stdout",
     "output_type": "stream",
     "text": [
      "Enter a, b, c: 1,4,4\n",
      "The roots are real and equal because D is 0.\n"
     ]
    }
   ],
   "source": [
    "# a*x**2 + b*x + c = 0\n",
    "a, b, c = eval(input(\"Enter a, b, c: \"))\n",
    "d = b**2-4*a*c\n",
    "if d > 0:\n",
    "    r = \"real and unequal\"\n",
    "elif d == 0:\n",
    "    r = \"real and equal\"\n",
    "else:\n",
    "    r = \"imaginary\"\n",
    "print(\"The roots are {0} because D is {1}.\".format(r,d))"
   ]
  },
  {
   "cell_type": "code",
   "execution_count": null,
   "id": "faa3e517",
   "metadata": {},
   "outputs": [],
   "source": [
    "# dictionary order:\n",
    "\n",
    "a, b, c = eval(input(\"Enter a, b, c: \"))\n",
    "l = [a,b,c]\n",
    "d = l.sort()\n",
    "l"
   ]
  },
  {
   "cell_type": "markdown",
   "id": "9daa7c63",
   "metadata": {},
   "source": [
    "### Complex number: real and imaginary part"
   ]
  },
  {
   "cell_type": "code",
   "execution_count": 26,
   "id": "1f3fa7f2",
   "metadata": {
    "scrolled": true
   },
   "outputs": [
    {
     "name": "stdout",
     "output_type": "stream",
     "text": [
      "Enter the complex number: 2+3j\n"
     ]
    },
    {
     "data": {
      "text/plain": [
       "'2+3j'"
      ]
     },
     "execution_count": 26,
     "metadata": {},
     "output_type": "execute_result"
    }
   ],
   "source": [
    "# compex no; z = x + yj\n",
    "# eg: 2+3j, 4 + 2j, 3-j\n",
    "z = (input(\"Enter the complex number: \"))\n",
    "z"
   ]
  },
  {
   "cell_type": "code",
   "execution_count": null,
   "id": "2f6473e1",
   "metadata": {},
   "outputs": [],
   "source": [
    "## todo:\n",
    "1. dictionary order\n",
    "2. real and imaginary part of Complex number\n",
    "3. pass fail: % and division"
   ]
  }
 ],
 "metadata": {
  "kernelspec": {
   "display_name": "Python 3",
   "language": "python",
   "name": "python3"
  },
  "language_info": {
   "codemirror_mode": {
    "name": "ipython",
    "version": 3
   },
   "file_extension": ".py",
   "mimetype": "text/x-python",
   "name": "python",
   "nbconvert_exporter": "python",
   "pygments_lexer": "ipython3",
   "version": "3.6.8"
  }
 },
 "nbformat": 4,
 "nbformat_minor": 5
}
