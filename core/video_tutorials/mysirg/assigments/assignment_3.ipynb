{
 "cells": [
  {
   "cell_type": "code",
   "execution_count": 49,
   "id": "c980cfe6",
   "metadata": {},
   "outputs": [
    {
     "name": "stdout",
     "output_type": "stream",
     "text": [
      "0\n",
      "1\n",
      "2\n",
      "3\n",
      "4\n",
      "5\n",
      "6\n",
      "7\n",
      "8\n",
      "9\n"
     ]
    }
   ],
   "source": [
    "y = range(10)\n",
    "for x in  y:\n",
    "    print(x)"
   ]
  },
  {
   "cell_type": "code",
   "execution_count": 48,
   "id": "99e0f5cc",
   "metadata": {},
   "outputs": [
    {
     "name": "stdout",
     "output_type": "stream",
     "text": [
      "-1\n",
      "0\n",
      "1\n",
      "2\n",
      "3\n",
      "4\n",
      "5\n",
      "6\n",
      "7\n",
      "8\n"
     ]
    }
   ],
   "source": [
    "for x in  y:\n",
    "    print(x)"
   ]
  },
  {
   "cell_type": "code",
   "execution_count": 55,
   "id": "b44d7ff2",
   "metadata": {},
   "outputs": [
    {
     "name": "stdout",
     "output_type": "stream",
     "text": [
      "10\n",
      "9\n",
      "8\n",
      "7\n",
      "6\n",
      "5\n",
      "4\n",
      "3\n",
      "2\n",
      "1\n"
     ]
    }
   ],
   "source": [
    "for x in range(10,0,-1):\n",
    "    print(x)"
   ]
  },
  {
   "cell_type": "code",
   "execution_count": 80,
   "id": "85b00c6a",
   "metadata": {},
   "outputs": [
    {
     "name": "stdout",
     "output_type": "stream",
     "text": [
      "Enter n: 4\n",
      "7\n",
      "5\n",
      "3\n",
      "1\n"
     ]
    }
   ],
   "source": [
    "n = int(input(\"Enter n: \")) #6 no of first 'n' odd numbers in reverse order\n",
    "for x in range(2*n-1, 0, -2):\n",
    "    print(x)"
   ]
  },
  {
   "cell_type": "code",
   "execution_count": 82,
   "id": "152109e6",
   "metadata": {},
   "outputs": [
    {
     "name": "stdout",
     "output_type": "stream",
     "text": [
      "Enter n: 10\n",
      "20\n",
      "18\n",
      "16\n",
      "14\n",
      "12\n",
      "10\n",
      "8\n",
      "6\n",
      "4\n",
      "2\n"
     ]
    }
   ],
   "source": [
    "n = int(input(\"Enter n: \")) #7 no of first 'n' even numbers in reverse order\n",
    "for x in range(2*n, 0, -2):\n",
    "    print(x)"
   ]
  },
  {
   "cell_type": "code",
   "execution_count": 15,
   "id": "5a6d3fb6",
   "metadata": {
    "scrolled": true
   },
   "outputs": [
    {
     "name": "stdout",
     "output_type": "stream",
     "text": [
      "Enter marks of all five subjects: 45,67,59,83,61\n",
      "Total marks =  315\n",
      "percentage =  63.0 %\n",
      "Result:  PASS\n"
     ]
    }
   ],
   "source": [
    "a, b, c, d, e = eval(input(\"Enter marks of all five subjects: \"))\n",
    "marks = [a, b, c, d, e]\n",
    "s = a+b+c+d+e\n",
    "p = (s/5)\n",
    "for m in marks:\n",
    "    if m < 33:\n",
    "        r = \"FAIL\"\n",
    "        break\n",
    "    else:\n",
    "        r = \"PASS\"\n",
    "        \n",
    "        # sum of n natural number\n",
    "# for loop:\n",
    "n = int(input(\"Enter n: \"))\n",
    "s = 0\n",
    "for x in range(1, n+1):\n",
    "    s+=x\n",
    "    \n",
    "print(s)\n",
    "# sum of n natural nummber\n",
    "# while loop::\n",
    "n = int(input(\"Enter n: \"))\n",
    "s = 0\n",
    "x = 1\n",
    "while x <=n:\n",
    "    s+=x\n",
    "    x+=1\n",
    "    \n",
    "print(s)\n",
    "# sum of n natural nummber\n",
    "# fn sum()\n",
    "n = int(input(\"Enter n: \"))\n",
    "s = sum(range(1,n+1))\n",
    "print(s)\n",
    "print(\"Total marks = \",s)\n",
    "print(\"percentage = \",p, \"%\")\n",
    "print(\"Result: \",r)a, b, c = eval(input(\"Enter a, b, c: \"))\n",
    "d = b**2-4*a*c\n",
    "if d > 0:\n",
    "    r = \"real and unequal\"\n",
    "elif d == 0:\n",
    "    r = \"real and equal\"\n",
    "else:\n",
    "    r = \"imaginary\"\n",
    "print(\"The roots are {0} because D is {1}.\".format(r,d))"
   ]
  },
  {
   "cell_type": "code",
   "execution_count": null,
   "id": "ec3e45e2",
   "metadata": {},
   "outputs": [
    {
     "name": "stdout",
     "output_type": "stream",
     "text": [
      "Enter marks of all five subjects: 45,67,59,83,61\n"
     ]
    }
   ],
   "source": [
    "a, b, c, d, e = eval(input(\"Enter marks of all five subjects: \"))\n",
    "marks = [a, b, c, d, e]\n",
    "s = a+b+c+d+e\n",
    "p = (s/5)\n",
    "for m in marks:\n",
    "    while m > 33:\n",
    "        r = \"PASS\"\n",
    "            \n",
    "print(\"Total marks = \",s)\n",
    "# print(\"percentage = \",pc, \"%\")\n",
    "print(\"Result: \",r)"
   ]
  },
  {
   "cell_type": "code",
   "execution_count": 30,
   "id": "49b33df4",
   "metadata": {},
   "outputs": [
    {
     "name": "stdout",
     "output_type": "stream",
     "text": [
      "Enter marks of all five subjects: 65,67,69,63,66\n",
      "PASS\n",
      "1st\n",
      "Total marks =  330\n",
      "percentage =  66.0 %\n"
     ]
    }
   ],
   "source": [
    "a, b, c, d, e = eval(input(\"Enter marks of all five subjects: \"))\n",
    "if a > 33 and b > 33 and c > 33 and d > 33 and e>33:\n",
    "    print(\"PASS\")\n",
    "    s = a+b+c+d+e\n",
    "    p = (s/5)\n",
    "    if p >= 65:\n",
    "        print(\"1st\")\n",
    "    elif p>=45:\n",
    "        print(\"2nd\")\n",
    "    else:\n",
    "        print(\"3rd\")\n",
    "    print(\"Total marks = \",s)\n",
    "    print(\"percentage = \",p, \"%\")\n",
    "    \n",
    "else:\n",
    "    print(\"FAIL\")"
   ]
  },
  {
   "cell_type": "code",
   "execution_count": 32,
   "id": "0b9e3ca0",
   "metadata": {},
   "outputs": [
    {
     "name": "stdout",
     "output_type": "stream",
     "text": [
      "Enter number6\n",
      "720\n"
     ]
    }
   ],
   "source": [
    "n = int(input(\"Enter number\"))\n",
    "s = 1\n",
    "for x in range(1, n+1):\n",
    "    s = s*x\n",
    "\n",
    "print(s)\n"
   ]
  },
  {
   "cell_type": "code",
   "execution_count": 48,
   "id": "5e7b7b8a",
   "metadata": {},
   "outputs": [
    {
     "name": "stdout",
     "output_type": "stream",
     "text": [
      "Enter number7\n",
      "135135\n"
     ]
    }
   ],
   "source": [
    "# product of 1st N odd numbers \n",
    "# for loop\n",
    "n = int(input(\"Enter number\"))\n",
    "s = 1\n",
    "for x in range(1, 2*n+1, 2):\n",
    "    s = s*x\n",
    "\n",
    "print(s)"
   ]
  },
  {
   "cell_type": "code",
   "execution_count": 50,
   "id": "93785bf3",
   "metadata": {},
   "outputs": [],
   "source": [
    "*?"
   ]
  },
  {
   "cell_type": "code",
   "execution_count": null,
   "id": "4a77e444",
   "metadata": {},
   "outputs": [],
   "source": []
  }
 ],
 "metadata": {
  "kernelspec": {
   "display_name": "Python 3",
   "language": "python",
   "name": "python3"
  },
  "language_info": {
   "codemirror_mode": {
    "name": "ipython",
    "version": 3
   },
   "file_extension": ".py",
   "mimetype": "text/x-python",
   "name": "python",
   "nbconvert_exporter": "python",
   "pygments_lexer": "ipython3",
   "version": "3.6.8"
  }
 },
 "nbformat": 4,
 "nbformat_minor": 5
}
