{
 "cells": [
  {
   "cell_type": "code",
   "execution_count": 9,
   "id": "8ffffe16",
   "metadata": {},
   "outputs": [
    {
     "name": "stdout",
     "output_type": "stream",
     "text": [
      "13\n",
      "11\n",
      "9\n",
      "7\n",
      "5\n",
      "3\n",
      "1\n"
     ]
    }
   ],
   "source": [
    "# first n odd natural number in reverse order:\n",
    "n = int(input(\"Enter a number: \"))\n",
    "for x in range(2*n-1, 0, -2):\n",
    "    print(x)   "
   ]
  },
  {
   "cell_type": "code",
   "execution_count": 11,
   "id": "17e76b8f",
   "metadata": {},
   "outputs": [
    {
     "name": "stdout",
     "output_type": "stream",
     "text": [
      "Enter a number: 10\n",
      "20\n",
      "18\n",
      "16\n",
      "14\n",
      "12\n",
      "10\n",
      "8\n",
      "6\n",
      "4\n",
      "2\n"
     ]
    }
   ],
   "source": [
    "# first n even natural number in reverse order: for loop in range\n",
    "n = int(input(\"Enter a number: \"))\n",
    "for x in range(2*n, 0, -2):\n",
    "    print(x)  "
   ]
  },
  {
   "cell_type": "code",
   "execution_count": null,
   "id": "d968cd2d",
   "metadata": {},
   "outputs": [],
   "source": [
    "### \"\"\"Armstrong number is a number that is equal to the sum of cubes of its digits. \n",
    "For example 0, 1, 153, 370, 371 and 407 are the Armstrong numbers.\n",
    "0 = 0**3\n",
    "1 = 1**3\n",
    "153 = 1**3 + 5**3 + 3**3 = 1+ 125 + 27\n",
    "407 = 4**3 + 0**3 + 7**3 = 64 + 0 + 347\n",
    "\n",
    "\"\"\""
   ]
  }
 ],
 "metadata": {
  "kernelspec": {
   "display_name": "Python 3",
   "language": "python",
   "name": "python3"
  },
  "language_info": {
   "codemirror_mode": {
    "name": "ipython",
    "version": 3
   },
   "file_extension": ".py",
   "mimetype": "text/x-python",
   "name": "python",
   "nbconvert_exporter": "python",
   "pygments_lexer": "ipython3",
   "version": "3.6.8"
  }
 },
 "nbformat": 4,
 "nbformat_minor": 5
}
