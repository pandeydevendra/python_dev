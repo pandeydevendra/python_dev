{
 "cells": [
  {
   "cell_type": "code",
   "execution_count": 14,
   "id": "79fa2100",
   "metadata": {},
   "outputs": [
    {
     "name": "stdout",
     "output_type": "stream",
     "text": [
      "Enter numbers: 10,20,40,30,60,40\n"
     ]
    }
   ],
   "source": [
    "x = list(eval(input(\"Enter numbers: \")))"
   ]
  },
  {
   "cell_type": "code",
   "execution_count": 16,
   "id": "9514d4ed",
   "metadata": {},
   "outputs": [
    {
     "data": {
      "text/plain": [
       "([10, 20, 40, 30, 60, 40], 200)"
      ]
     },
     "execution_count": 16,
     "metadata": {},
     "output_type": "execute_result"
    }
   ],
   "source": [
    "x, sum(x)"
   ]
  },
  {
   "cell_type": "code",
   "execution_count": 19,
   "id": "1e8b00f4",
   "metadata": {},
   "outputs": [
    {
     "data": {
      "text/plain": [
       "([10, 20, 30, 40, 40, 60], 60)"
      ]
     },
     "execution_count": 19,
     "metadata": {},
     "output_type": "execute_result"
    }
   ],
   "source": [
    "x.sort()\n",
    "x, x[-1]"
   ]
  },
  {
   "cell_type": "code",
   "execution_count": 21,
   "id": "45c01b40",
   "metadata": {},
   "outputs": [
    {
     "name": "stdout",
     "output_type": "stream",
     "text": [
      "Enter a number: 9\n",
      "[2, 3, 5, 7, 11, 13, 17, 19, 23]\n"
     ]
    }
   ],
   "source": [
    "# list of first n prime numbers:\n",
    "l_p = []\n",
    "n = int(input(\"Enter a number: \"))\n",
    "# n = 4\n",
    "count = 1\n",
    "for a in range(2, 8*n):\n",
    "    k=int(a+1/2)\n",
    "\n",
    "    while count<=n:    \n",
    "        for x in range(2, k):\n",
    "            if a%x==0:\n",
    "                break\n",
    "\n",
    "        else:\n",
    "            l_p.append(a)\n",
    "            count+=1\n",
    "        break\n",
    "    \n",
    "print(l_p)"
   ]
  },
  {
   "cell_type": "code",
   "execution_count": 28,
   "id": "f202876a",
   "metadata": {},
   "outputs": [
    {
     "ename": "ValueError",
     "evalue": "20 is not in list",
     "output_type": "error",
     "traceback": [
      "\u001b[0;31m--------------------------------------------------------------\u001b[0m",
      "\u001b[0;31mValueError\u001b[0m                   Traceback (most recent call last)",
      "\u001b[0;32m<ipython-input-28-d973ef996127>\u001b[0m in \u001b[0;36m<module>\u001b[0;34m\u001b[0m\n\u001b[1;32m      1\u001b[0m \u001b[0ml\u001b[0m \u001b[0;34m=\u001b[0m \u001b[0;34m[\u001b[0m\u001b[0;36m2\u001b[0m\u001b[0;34m,\u001b[0m \u001b[0;36m3\u001b[0m\u001b[0;34m,\u001b[0m \u001b[0;36m5\u001b[0m\u001b[0;34m,\u001b[0m \u001b[0;36m7\u001b[0m\u001b[0;34m,\u001b[0m \u001b[0;36m11\u001b[0m\u001b[0;34m,\u001b[0m \u001b[0;36m13\u001b[0m\u001b[0;34m,\u001b[0m \u001b[0;36m17\u001b[0m\u001b[0;34m,\u001b[0m \u001b[0;36m19\u001b[0m\u001b[0;34m,\u001b[0m \u001b[0;36m23\u001b[0m\u001b[0;34m]\u001b[0m\u001b[0;34m\u001b[0m\u001b[0;34m\u001b[0m\u001b[0m\n\u001b[0;32m----> 2\u001b[0;31m \u001b[0ml\u001b[0m\u001b[0;34m.\u001b[0m\u001b[0mindex\u001b[0m\u001b[0;34m(\u001b[0m\u001b[0;36m20\u001b[0m\u001b[0;34m)\u001b[0m\u001b[0;34m\u001b[0m\u001b[0;34m\u001b[0m\u001b[0m\n\u001b[0m",
      "\u001b[0;31mValueError\u001b[0m: 20 is not in list"
     ]
    }
   ],
   "source": [
    "l = [2, 3, 5, 7, 11, 13, 17, 19, 23]\n",
    "l.index(20)"
   ]
  },
  {
   "cell_type": "code",
   "execution_count": 36,
   "id": "b766a485",
   "metadata": {},
   "outputs": [
    {
     "name": "stdout",
     "output_type": "stream",
     "text": [
      "Enter numbers: 5, 7, 11, 13, 17, 19, 23, 5, 7, 9\n",
      "0\n",
      "1\n",
      "2\n",
      "3\n",
      "4\n",
      "5\n",
      "6\n",
      "0\n",
      "1\n",
      "9\n"
     ]
    }
   ],
   "source": [
    "x = list(eval(input(\"Enter numbers: \")))\n",
    "for i in x:\n",
    "    print(x.index(i))\n",
    "#     break"
   ]
  },
  {
   "cell_type": "code",
   "execution_count": 68,
   "id": "58ff6533",
   "metadata": {},
   "outputs": [
    {
     "name": "stdout",
     "output_type": "stream",
     "text": [
      "Enter list values: 5, 7, 11, 13, 17, 19, 23, 5, 7, 9, 23\n",
      "Enter element: 5\n",
      "7\n"
     ]
    }
   ],
   "source": [
    "#TODO\n",
    "\n",
    "x = list(eval(input(\"Enter list values: \")))\n",
    "i = eval(input(\"Enter element: \"))\n",
    "n = len(x)-1\n",
    "for e in range(0, n):\n",
    "    if e == i:\n",
    "        print(x.index(i, e, n))\n",
    "\n",
    "    else:\n",
    "        continue    "
   ]
  },
  {
   "cell_type": "code",
   "execution_count": 51,
   "id": "01f9a37e",
   "metadata": {},
   "outputs": [
    {
     "name": "stdout",
     "output_type": "stream",
     "text": [
      "Enter list values: 5, 7, 11, 13, 17, 19, 23, 5, 7, 9, 23\n",
      "Enter element: 5\n"
     ]
    },
    {
     "data": {
      "text/plain": [
       "(11, 6)"
      ]
     },
     "execution_count": 51,
     "metadata": {},
     "output_type": "execute_result"
    }
   ],
   "source": [
    "x = list(eval(input(\"Enter list values: \")))\n",
    "i = eval(input(\"Enter element: \"))\n",
    "n =  len(x)\n",
    "n , x.index(23)"
   ]
  },
  {
   "cell_type": "code",
   "execution_count": 62,
   "id": "9faea302",
   "metadata": {},
   "outputs": [
    {
     "name": "stdout",
     "output_type": "stream",
     "text": [
      "Enter list values: 5, 7, 11, 13, 17, 19, 23, 5, 7, 9, 23\n",
      "Enter element: 5\n",
      "7\n"
     ]
    }
   ],
   "source": [
    "x = list(eval(input(\"Enter list values: \")))\n",
    "i = eval(input(\"Enter element: \"))\n",
    "n = len(x)-1\n",
    "for e in range(0, n):\n",
    "      print(x.index(i, e, n))"
   ]
  },
  {
   "cell_type": "code",
   "execution_count": null,
   "id": "75bffe77",
   "metadata": {},
   "outputs": [],
   "source": []
  }
 ],
 "metadata": {
  "kernelspec": {
   "display_name": "Python 3",
   "language": "python",
   "name": "python3"
  },
  "language_info": {
   "codemirror_mode": {
    "name": "ipython",
    "version": 3
   },
   "file_extension": ".py",
   "mimetype": "text/x-python",
   "name": "python",
   "nbconvert_exporter": "python",
   "pygments_lexer": "ipython3",
   "version": "3.6.8"
  }
 },
 "nbformat": 4,
 "nbformat_minor": 5
}
