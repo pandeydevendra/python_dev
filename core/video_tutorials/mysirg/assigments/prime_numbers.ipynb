{
 "cells": [
  {
   "cell_type": "code",
   "execution_count": 4,
   "id": "399812c5",
   "metadata": {},
   "outputs": [
    {
     "name": "stdout",
     "output_type": "stream",
     "text": [
      "Enter a number: 10\n",
      "Number is not prime\n"
     ]
    }
   ],
   "source": [
    "# prime number\n",
    "n = int(input(\"Enter a number: \"))\n",
    "n=int(n+1/2)\n",
    "for x in range(2, n):\n",
    "    if n%x==0:\n",
    "        print(\"Number is not prime\")\n",
    "        break\n",
    "else:\n",
    "    print(\"Number is prime\")\n"
   ]
  },
  {
   "cell_type": "code",
   "execution_count": 62,
   "id": "1f38bbd5",
   "metadata": {},
   "outputs": [
    {
     "name": "stdout",
     "output_type": "stream",
     "text": [
      "Enter a number: 11\n",
      "13\n"
     ]
    }
   ],
   "source": [
    "# next prime number of a given number:\n",
    "n = int(input(\"Enter a number: \"))\n",
    "# a = 100\n",
    "for n in range(n+1, 2*n): \n",
    "    k=int(n+1/2)\n",
    "    for x in range(2, k):\n",
    "        if n%x==0:\n",
    "            break\n",
    "\n",
    "    else:\n",
    "        print(n)\n",
    "        break"
   ]
  },
  {
   "cell_type": "code",
   "execution_count": 64,
   "id": "305cb2d2",
   "metadata": {},
   "outputs": [
    {
     "name": "stdout",
     "output_type": "stream",
     "text": [
      "Enter number a: 50\n",
      "Enter number b: 100\n",
      "53\n",
      "59\n",
      "61\n",
      "67\n",
      "71\n",
      "73\n",
      "79\n",
      "83\n",
      "89\n",
      "97\n"
     ]
    }
   ],
   "source": [
    "# all prime numbers between a and b: \n",
    "a = int(input(\"Enter number a: \"))\n",
    "b = int(input(\"Enter number b: \"))\n",
    "\n",
    "for n in range(a, b): \n",
    "    k=int(n+1/2)\n",
    "    for x in range(2, k):\n",
    "        if n%x==0:\n",
    "            break\n",
    "\n",
    "    else:\n",
    "        print(n)"
   ]
  },
  {
   "cell_type": "code",
   "execution_count": null,
   "id": "ed7faadf",
   "metadata": {},
   "outputs": [],
   "source": [
    "#TODO:::::\n",
    "\n",
    "# first n prime numbers:\n",
    "# n = int(input(\"Enter a number: \"))\n",
    "n = 4\n",
    "count = 1\n",
    "for a in range(2, 8*n):\n",
    "    k=int(a+1/2)\n",
    "\n",
    "    while count<=n:    \n",
    "        for x in range(2, k):\n",
    "            if a%x==0:\n",
    "                break\n",
    "\n",
    "        else:\n",
    "            print(a)\n",
    "            count+=1\n",
    "            break\n",
    "        "
   ]
  },
  {
   "cell_type": "code",
   "execution_count": 16,
   "id": "ca35dd2a",
   "metadata": {},
   "outputs": [
    {
     "name": "stdout",
     "output_type": "stream",
     "text": [
      "Enter a number: 121\n",
      "11\n"
     ]
    }
   ],
   "source": [
    "# all prime factors of a given number:\n",
    "# n = 6\n",
    "# prime factors = 1,2,3\n",
    "# 5= 1,5\n",
    "# 4 = 1,2\n",
    "# 12 = total factors:1,2,3,4,6,12==>prime factors:1,2,3\n",
    "\n",
    "n = int(input(\"Enter a number: \"))\n",
    "for x in range (2,n):\n",
    "    if n%x==0:\n",
    "        for e in range(2,x):\n",
    "            if x%e==0:\n",
    "                break\n",
    "        else:\n",
    "            print(x)"
   ]
  },
  {
   "cell_type": "code",
   "execution_count": null,
   "id": "455013d0",
   "metadata": {},
   "outputs": [],
   "source": []
  },
  {
   "cell_type": "code",
   "execution_count": null,
   "id": "b86280eb",
   "metadata": {},
   "outputs": [],
   "source": []
  }
 ],
 "metadata": {
  "kernelspec": {
   "display_name": "Python 3",
   "language": "python",
   "name": "python3"
  },
  "language_info": {
   "codemirror_mode": {
    "name": "ipython",
    "version": 3
   },
   "file_extension": ".py",
   "mimetype": "text/x-python",
   "name": "python",
   "nbconvert_exporter": "python",
   "pygments_lexer": "ipython3",
   "version": "3.6.8"
  }
 },
 "nbformat": 4,
 "nbformat_minor": 5
}
