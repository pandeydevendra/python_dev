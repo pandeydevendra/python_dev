{
 "cells": [
  {
   "cell_type": "code",
   "execution_count": 38,
   "id": "b7907287",
   "metadata": {},
   "outputs": [],
   "source": [
    "import wikipedia"
   ]
  },
  {
   "cell_type": "code",
   "execution_count": 40,
   "id": "65f6e37a",
   "metadata": {},
   "outputs": [
    {
     "name": "stdout",
     "output_type": "stream",
     "text": [
      "Wikimedia Foundation, Inc. (WMF, or simply Wikimedia) is an American foundation headquartered in San Francisco, California. WMF owns and operates the Wikimedia projects.It was established in 2003 by Jimmy Wales as a way to fund Wikipedia and its sibling projects through non-profit means. As of 2021, it employs over 550 staff and contractors, with annual revenues in excess of US$150 million.\n"
     ]
    }
   ],
   "source": [
    "print(wikipedia.summary(\"Wikipedia\"))"
   ]
  },
  {
   "cell_type": "code",
   "execution_count": 41,
   "id": "4050f622",
   "metadata": {},
   "outputs": [
    {
     "data": {
      "text/plain": [
       "['Barack Obama',\n",
       " 'Barack Obama Sr.',\n",
       " 'Family of Barack Obama',\n",
       " 'Barack (disambiguation)',\n",
       " 'Barack Obama (disambiguation)',\n",
       " 'Presidency of Barack Obama',\n",
       " 'Barack Obama \"Hope\" poster',\n",
       " 'Barack (name)',\n",
       " 'United States presidential approval rating',\n",
       " 'Cabinet of Barack Obama']"
      ]
     },
     "execution_count": 41,
     "metadata": {},
     "output_type": "execute_result"
    }
   ],
   "source": [
    "wikipedia.search(\"Barack\")"
   ]
  },
  {
   "cell_type": "code",
   "execution_count": 50,
   "id": "83232be1",
   "metadata": {},
   "outputs": [
    {
     "data": {
      "text/plain": [
       "['New York',\n",
       " 'New York City',\n",
       " 'The New York Times',\n",
       " 'New York (state)',\n",
       " 'Gangs of New York',\n",
       " 'NewYork-Presbyterian Hospital',\n",
       " 'List of United States representatives from New York',\n",
       " 'New York metropolitan area',\n",
       " 'New York Giants',\n",
       " 'New York Mets']"
      ]
     },
     "execution_count": 50,
     "metadata": {},
     "output_type": "execute_result"
    }
   ],
   "source": [
    "wikipedia.search(\"NewYork\")"
   ]
  },
  {
   "cell_type": "code",
   "execution_count": 55,
   "id": "5d0dd302",
   "metadata": {},
   "outputs": [
    {
     "ename": "DisambiguationError",
     "evalue": "\"New York\" may refer to: \nNew York City\nNew York (state)\nNew York (1916 film)\nNew York (1927 film)\nNew York (2009 film)\nNew York: A Documentary Film\n\"New York\" (Glee)\nNew York (Burgess book)\nNew York (Morand book)\nNew York (novel)\nNew York (magazine)\nNew York EP\n\"New York\" (Angel Haze song)\nNew York (album)\n\"New York\" (Eskimo Joe song)\n\"New York\" (Ja Rule song)\n\"New York\" (Paloma Faith song)\n\"New York\" (St. Vincent song)\n\"New York\" (Snow Patrol song)\n\"New York\" (U2 song)\nAntti Tuisku\nNever Mind the Bollocks, Here's the Sex Pistols\nNew York, Lincolnshire\nNew York, North Yorkshire\nNew York, Tyne and Wear\nNew York metropolitan area\nNew York County\nUS Postal Service address designating Manhattan\nProvince of New York\nNew York, Florida\nNew York, Iowa\nNew York, Kentucky\nNew York, Missouri\nNew York, Texas\nNew York Mountain\nNew York Mountains\nNiu-York\nList of ships named New York \nList of ships named City of New York\nList of ships named New York City\nNew York Giants\nNew York Jets\nNew York (World Series of Football)\nNew York Mets\nNew York Yankees\nNew York Islanders\nNew York Rangers\nNew York City FC\nNew York Red Bulls\nNew York Stadium\nNew York GAA\nNew York Knicks\nNew York (pinball)\nNew York (1983 typeface)\nNew York (2019 typeface)\nNew York Harbor\nBrooklyn Navy Yard\nTiffany Pollard\nNew York City (disambiguation)\nNew York Cosmos (disambiguation)\nNew York, New York (disambiguation)\nNova Iorque\nNowy Jork\nNY (disambiguation)\nSS New York\nSS New York City\nUSS New York\nAll pages with titles beginning with New York\nAll pages with titles containing New York",
     "output_type": "error",
     "traceback": [
      "\u001b[0;31m---------------------------------------------------------------------------\u001b[0m",
      "\u001b[0;31mDisambiguationError\u001b[0m                       Traceback (most recent call last)",
      "\u001b[0;32m<ipython-input-55-96fa4e2ecba4>\u001b[0m in \u001b[0;36m<module>\u001b[0;34m\u001b[0m\n\u001b[0;32m----> 1\u001b[0;31m \u001b[0mny\u001b[0m \u001b[0;34m=\u001b[0m \u001b[0mwikipedia\u001b[0m\u001b[0;34m.\u001b[0m\u001b[0mpage\u001b[0m\u001b[0;34m(\u001b[0m\u001b[0;34m\"New York\"\u001b[0m\u001b[0;34m)\u001b[0m\u001b[0;34m\u001b[0m\u001b[0;34m\u001b[0m\u001b[0m\n\u001b[0m\u001b[1;32m      2\u001b[0m \u001b[0mny\u001b[0m\u001b[0;34m.\u001b[0m\u001b[0mtitle\u001b[0m\u001b[0;34m\u001b[0m\u001b[0;34m\u001b[0m\u001b[0m\n\u001b[1;32m      3\u001b[0m \u001b[0mny\u001b[0m\u001b[0;34m.\u001b[0m\u001b[0murl\u001b[0m\u001b[0;34m\u001b[0m\u001b[0;34m\u001b[0m\u001b[0m\n",
      "\u001b[0;32m~/Workspace/Py/python/venv/lib/python3.6/site-packages/wikipedia/wikipedia.py\u001b[0m in \u001b[0;36mpage\u001b[0;34m(title, pageid, auto_suggest, redirect, preload)\u001b[0m\n\u001b[1;32m    274\u001b[0m         \u001b[0;31m# if there is no suggestion or search results, the page doesn't exist\u001b[0m\u001b[0;34m\u001b[0m\u001b[0;34m\u001b[0m\u001b[0;34m\u001b[0m\u001b[0m\n\u001b[1;32m    275\u001b[0m         \u001b[0;32mraise\u001b[0m \u001b[0mPageError\u001b[0m\u001b[0;34m(\u001b[0m\u001b[0mtitle\u001b[0m\u001b[0;34m)\u001b[0m\u001b[0;34m\u001b[0m\u001b[0;34m\u001b[0m\u001b[0m\n\u001b[0;32m--> 276\u001b[0;31m     \u001b[0;32mreturn\u001b[0m \u001b[0mWikipediaPage\u001b[0m\u001b[0;34m(\u001b[0m\u001b[0mtitle\u001b[0m\u001b[0;34m,\u001b[0m \u001b[0mredirect\u001b[0m\u001b[0;34m=\u001b[0m\u001b[0mredirect\u001b[0m\u001b[0;34m,\u001b[0m \u001b[0mpreload\u001b[0m\u001b[0;34m=\u001b[0m\u001b[0mpreload\u001b[0m\u001b[0;34m)\u001b[0m\u001b[0;34m\u001b[0m\u001b[0;34m\u001b[0m\u001b[0m\n\u001b[0m\u001b[1;32m    277\u001b[0m   \u001b[0;32melif\u001b[0m \u001b[0mpageid\u001b[0m \u001b[0;32mis\u001b[0m \u001b[0;32mnot\u001b[0m \u001b[0;32mNone\u001b[0m\u001b[0;34m:\u001b[0m\u001b[0;34m\u001b[0m\u001b[0;34m\u001b[0m\u001b[0m\n\u001b[1;32m    278\u001b[0m     \u001b[0;32mreturn\u001b[0m \u001b[0mWikipediaPage\u001b[0m\u001b[0;34m(\u001b[0m\u001b[0mpageid\u001b[0m\u001b[0;34m=\u001b[0m\u001b[0mpageid\u001b[0m\u001b[0;34m,\u001b[0m \u001b[0mpreload\u001b[0m\u001b[0;34m=\u001b[0m\u001b[0mpreload\u001b[0m\u001b[0;34m)\u001b[0m\u001b[0;34m\u001b[0m\u001b[0;34m\u001b[0m\u001b[0m\n",
      "\u001b[0;32m~/Workspace/Py/python/venv/lib/python3.6/site-packages/wikipedia/wikipedia.py\u001b[0m in \u001b[0;36m__init__\u001b[0;34m(self, title, pageid, redirect, preload, original_title)\u001b[0m\n\u001b[1;32m    297\u001b[0m       \u001b[0;32mraise\u001b[0m \u001b[0mValueError\u001b[0m\u001b[0;34m(\u001b[0m\u001b[0;34m\"Either a title or a pageid must be specified\"\u001b[0m\u001b[0;34m)\u001b[0m\u001b[0;34m\u001b[0m\u001b[0;34m\u001b[0m\u001b[0m\n\u001b[1;32m    298\u001b[0m \u001b[0;34m\u001b[0m\u001b[0m\n\u001b[0;32m--> 299\u001b[0;31m     \u001b[0mself\u001b[0m\u001b[0;34m.\u001b[0m\u001b[0m__load\u001b[0m\u001b[0;34m(\u001b[0m\u001b[0mredirect\u001b[0m\u001b[0;34m=\u001b[0m\u001b[0mredirect\u001b[0m\u001b[0;34m,\u001b[0m \u001b[0mpreload\u001b[0m\u001b[0;34m=\u001b[0m\u001b[0mpreload\u001b[0m\u001b[0;34m)\u001b[0m\u001b[0;34m\u001b[0m\u001b[0;34m\u001b[0m\u001b[0m\n\u001b[0m\u001b[1;32m    300\u001b[0m \u001b[0;34m\u001b[0m\u001b[0m\n\u001b[1;32m    301\u001b[0m     \u001b[0;32mif\u001b[0m \u001b[0mpreload\u001b[0m\u001b[0;34m:\u001b[0m\u001b[0;34m\u001b[0m\u001b[0;34m\u001b[0m\u001b[0m\n",
      "\u001b[0;32m~/Workspace/Py/python/venv/lib/python3.6/site-packages/wikipedia/wikipedia.py\u001b[0m in \u001b[0;36m__load\u001b[0;34m(self, redirect, preload)\u001b[0m\n\u001b[1;32m    391\u001b[0m       \u001b[0mmay_refer_to\u001b[0m \u001b[0;34m=\u001b[0m \u001b[0;34m[\u001b[0m\u001b[0mli\u001b[0m\u001b[0;34m.\u001b[0m\u001b[0ma\u001b[0m\u001b[0;34m.\u001b[0m\u001b[0mget_text\u001b[0m\u001b[0;34m(\u001b[0m\u001b[0;34m)\u001b[0m \u001b[0;32mfor\u001b[0m \u001b[0mli\u001b[0m \u001b[0;32min\u001b[0m \u001b[0mfiltered_lis\u001b[0m \u001b[0;32mif\u001b[0m \u001b[0mli\u001b[0m\u001b[0;34m.\u001b[0m\u001b[0ma\u001b[0m\u001b[0;34m]\u001b[0m\u001b[0;34m\u001b[0m\u001b[0;34m\u001b[0m\u001b[0m\n\u001b[1;32m    392\u001b[0m \u001b[0;34m\u001b[0m\u001b[0m\n\u001b[0;32m--> 393\u001b[0;31m       \u001b[0;32mraise\u001b[0m \u001b[0mDisambiguationError\u001b[0m\u001b[0;34m(\u001b[0m\u001b[0mgetattr\u001b[0m\u001b[0;34m(\u001b[0m\u001b[0mself\u001b[0m\u001b[0;34m,\u001b[0m \u001b[0;34m'title'\u001b[0m\u001b[0;34m,\u001b[0m \u001b[0mpage\u001b[0m\u001b[0;34m[\u001b[0m\u001b[0;34m'title'\u001b[0m\u001b[0;34m]\u001b[0m\u001b[0;34m)\u001b[0m\u001b[0;34m,\u001b[0m \u001b[0mmay_refer_to\u001b[0m\u001b[0;34m)\u001b[0m\u001b[0;34m\u001b[0m\u001b[0;34m\u001b[0m\u001b[0m\n\u001b[0m\u001b[1;32m    394\u001b[0m \u001b[0;34m\u001b[0m\u001b[0m\n\u001b[1;32m    395\u001b[0m     \u001b[0;32melse\u001b[0m\u001b[0;34m:\u001b[0m\u001b[0;34m\u001b[0m\u001b[0;34m\u001b[0m\u001b[0m\n",
      "\u001b[0;31mDisambiguationError\u001b[0m: \"New York\" may refer to: \nNew York City\nNew York (state)\nNew York (1916 film)\nNew York (1927 film)\nNew York (2009 film)\nNew York: A Documentary Film\n\"New York\" (Glee)\nNew York (Burgess book)\nNew York (Morand book)\nNew York (novel)\nNew York (magazine)\nNew York EP\n\"New York\" (Angel Haze song)\nNew York (album)\n\"New York\" (Eskimo Joe song)\n\"New York\" (Ja Rule song)\n\"New York\" (Paloma Faith song)\n\"New York\" (St. Vincent song)\n\"New York\" (Snow Patrol song)\n\"New York\" (U2 song)\nAntti Tuisku\nNever Mind the Bollocks, Here's the Sex Pistols\nNew York, Lincolnshire\nNew York, North Yorkshire\nNew York, Tyne and Wear\nNew York metropolitan area\nNew York County\nUS Postal Service address designating Manhattan\nProvince of New York\nNew York, Florida\nNew York, Iowa\nNew York, Kentucky\nNew York, Missouri\nNew York, Texas\nNew York Mountain\nNew York Mountains\nNiu-York\nList of ships named New York \nList of ships named City of New York\nList of ships named New York City\nNew York Giants\nNew York Jets\nNew York (World Series of Football)\nNew York Mets\nNew York Yankees\nNew York Islanders\nNew York Rangers\nNew York City FC\nNew York Red Bulls\nNew York Stadium\nNew York GAA\nNew York Knicks\nNew York (pinball)\nNew York (1983 typeface)\nNew York (2019 typeface)\nNew York Harbor\nBrooklyn Navy Yard\nTiffany Pollard\nNew York City (disambiguation)\nNew York Cosmos (disambiguation)\nNew York, New York (disambiguation)\nNova Iorque\nNowy Jork\nNY (disambiguation)\nSS New York\nSS New York City\nUSS New York\nAll pages with titles beginning with New York\nAll pages with titles containing New York"
     ]
    }
   ],
   "source": [
    "ny = wikipedia.page(\"New York\")\n",
    "ny.title"
   ]
  },
  {
   "cell_type": "code",
   "execution_count": 56,
   "id": "57997c1d",
   "metadata": {},
   "outputs": [
    {
     "ename": "AttributeError",
     "evalue": "'list' object has no attribute 'url'",
     "output_type": "error",
     "traceback": [
      "\u001b[0;31m---------------------------------------------------------------------------\u001b[0m",
      "\u001b[0;31mAttributeError\u001b[0m                            Traceback (most recent call last)",
      "\u001b[0;32m<ipython-input-56-94483a608fd7>\u001b[0m in \u001b[0;36m<module>\u001b[0;34m\u001b[0m\n\u001b[0;32m----> 1\u001b[0;31m \u001b[0mny\u001b[0m\u001b[0;34m.\u001b[0m\u001b[0murl\u001b[0m\u001b[0;34m\u001b[0m\u001b[0;34m\u001b[0m\u001b[0m\n\u001b[0m",
      "\u001b[0;31mAttributeError\u001b[0m: 'list' object has no attribute 'url'"
     ]
    }
   ],
   "source": [
    "ny.url"
   ]
  },
  {
   "cell_type": "code",
   "execution_count": null,
   "id": "16cc2fb8",
   "metadata": {},
   "outputs": [],
   "source": []
  }
 ],
 "metadata": {
  "kernelspec": {
   "display_name": "Python 3",
   "language": "python",
   "name": "python3"
  },
  "language_info": {
   "codemirror_mode": {
    "name": "ipython",
    "version": 3
   },
   "file_extension": ".py",
   "mimetype": "text/x-python",
   "name": "python",
   "nbconvert_exporter": "python",
   "pygments_lexer": "ipython3",
   "version": "3.6.8"
  }
 },
 "nbformat": 4,
 "nbformat_minor": 5
}
