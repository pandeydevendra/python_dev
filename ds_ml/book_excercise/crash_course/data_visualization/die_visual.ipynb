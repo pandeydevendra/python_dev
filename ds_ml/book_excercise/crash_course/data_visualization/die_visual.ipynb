{
 "cells": [
  {
   "cell_type": "code",
   "execution_count": 56,
   "id": "976d72b3",
   "metadata": {},
   "outputs": [
    {
     "name": "stdout",
     "output_type": "stream",
     "text": [
      "[6, 2, 5, 3, 1, 2, 6, 4, 6, 1]\n"
     ]
    }
   ],
   "source": [
    "results = []\n",
    "for roll_num in range(10):\n",
    "    result = die.roll()\n",
    "    results.append(result)\n",
    "print(results)"
   ]
  },
  {
   "cell_type": "code",
   "execution_count": 57,
   "id": "80bc8630",
   "metadata": {},
   "outputs": [
    {
     "name": "stdout",
     "output_type": "stream",
     "text": [
      "[5, 5, 2, 3, 6, 2, 1, 5, 4, 5]\n",
      "[1, 2, 1, 1, 4, 1]\n"
     ]
    }
   ],
   "source": [
    "# from die import Die\n",
    "# die = Die()\n",
    "results = []\n",
    "for roll_num in range(10):\n",
    "    result = die.roll()\n",
    "    results.append(result)\n",
    "print(results)\n",
    "\n",
    "frequencies = []\n",
    "for value in range(1, die.num_sides+1):\n",
    "    frequency = results.count(value)\n",
    "    frequencies.append(frequency)\n",
    "print(frequencies)"
   ]
  },
  {
   "cell_type": "code",
   "execution_count": 58,
   "id": "cd02d85f",
   "metadata": {},
   "outputs": [
    {
     "name": "stdout",
     "output_type": "stream",
     "text": [
      "[4, 4, 4, 3, 2, 1, 1, 3, 6, 6]\n",
      "0\n",
      "2\n",
      "1\n",
      "2\n",
      "3\n",
      "0\n",
      "2\n",
      "0\n"
     ]
    }
   ],
   "source": [
    "results = []\n",
    "for roll_num in range(10):\n",
    "    result = die.roll()\n",
    "    results.append(result)\n",
    "print(results)\n",
    "\n",
    "print(results.count(0))\n",
    "print(results.count(1))\n",
    "print(results.count(2))\n",
    "print(results.count(3))\n",
    "print(results.count(4))\n",
    "print(results.count(5))\n",
    "print(results.count(6))\n",
    "print(results.count(7))"
   ]
  },
  {
   "cell_type": "code",
   "execution_count": 63,
   "id": "5f413ec7",
   "metadata": {},
   "outputs": [
    {
     "name": "stdout",
     "output_type": "stream",
     "text": [
      "[4, 1, 3, 4, 4, 5, 4, 5, 1, 5]\n",
      "{'1': 2, '2': 0, '3': 1, '4': 4, '5': 3, '6': 0}\n"
     ]
    }
   ],
   "source": [
    "results = []\n",
    "for roll_num in range(10):\n",
    "    result = die.roll()\n",
    "    results.append(result)\n",
    "print(results)\n",
    "\n",
    "a = (results.count(1))\n",
    "b = (results.count(2))\n",
    "c = (results.count(3))\n",
    "d = (results.count(4))\n",
    "e = (results.count(5))\n",
    "f = (results.count(6))\n",
    "\n",
    "counts = {'1':a, '2':b, '3':c, '4':d, '5':e, '6':f}\n",
    "print(counts)"
   ]
  },
  {
   "cell_type": "code",
   "execution_count": null,
   "id": "5eb1c86a",
   "metadata": {},
   "outputs": [],
   "source": []
  },
  {
   "cell_type": "code",
   "execution_count": null,
   "id": "1fc13902",
   "metadata": {},
   "outputs": [],
   "source": []
  }
 ],
 "metadata": {
  "kernelspec": {
   "display_name": "Python 3",
   "language": "python",
   "name": "python3"
  },
  "language_info": {
   "codemirror_mode": {
    "name": "ipython",
    "version": 3
   },
   "file_extension": ".py",
   "mimetype": "text/x-python",
   "name": "python",
   "nbconvert_exporter": "python",
   "pygments_lexer": "ipython3",
   "version": "3.6.8"
  }
 },
 "nbformat": 4,
 "nbformat_minor": 5
}
