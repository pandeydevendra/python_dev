{
 "cells": [
  {
   "cell_type": "markdown",
   "id": "27cd1432",
   "metadata": {},
   "source": [
    "#### Mapping Global Data Sets: JSON Format"
   ]
  },
  {
   "cell_type": "code",
   "execution_count": 1,
   "id": "38aeb89c",
   "metadata": {},
   "outputs": [],
   "source": [
    "from pygal_maps_world.maps import World\n",
    "wm = World()\n",
    "wm.title = 'Populations of Countries in North America'\n",
    "wm.add('North America', {'ca': 34126000, 'us': 309349000, 'mx': 113423000})\n",
    "\n",
    "wm.render_to_file('na_populations.svg')"
   ]
  },
  {
   "cell_type": "code",
   "execution_count": 19,
   "id": "e3c0b43e",
   "metadata": {},
   "outputs": [],
   "source": [
    "##country keywords required...........................\n",
    "# wm.title = 'Populations of Countries in North America'\n",
    "# wm.add('North America', {\n",
    "#     'ca': 35151728,\n",
    "#     'us': 332605398,\n",
    "#     'mx': 130060167,\n",
    "#     'Guatemala': 18195184,\n",
    "#     'Haiti': 11518548,\n",
    "#     'Cuba': 11320970,\n",
    "#     'Dominican Republic': 10938373,\n",
    "#     'Honduras': 10036928,\n",
    "#     'El Salvador': 6513912,\n",
    "#     'Nicaragua': 6390306, \n",
    "#     'Costa Rica': 5094118,\n",
    "#     'Panama': 4371804,\n",
    "#     'Jamaica': 2971812, \n",
    "#     'Bahamas': 389482,\n",
    "#     'Dominica': 72133, \n",
    "#     'Saint Kitts and Nevis': 53510\n",
    "# })\n",
    "\n",
    "# wm.render_to_file('na_populations_21.svg')"
   ]
  },
  {
   "cell_type": "code",
   "execution_count": 7,
   "id": "e9381089",
   "metadata": {},
   "outputs": [],
   "source": []
  },
  {
   "cell_type": "code",
   "execution_count": 17,
   "id": "f10d60da",
   "metadata": {},
   "outputs": [
    {
     "name": "stdout",
     "output_type": "stream",
     "text": [
      "Success\n"
     ]
    }
   ],
   "source": [
    "\n",
    "# create a world map\n",
    "worldmap =  World()\n",
    "  \n",
    "# set the title of the map\n",
    "worldmap.title = 'Countries'\n",
    "  \n",
    "# adding the countries\n",
    "worldmap.add('Random Data', {\n",
    "        'aq' : 10,\n",
    "        'cd' : 30,\n",
    "        'de' : 40,\n",
    "        'eg' : 50,\n",
    "        'ga' : 45,\n",
    "        'hk' : 23,\n",
    "        'in' : 70,\n",
    "        'jp' : 54,\n",
    "        'nz' : 41,\n",
    "        'kz' : 32,\n",
    "        'us' : 66\n",
    "})\n",
    "  \n",
    "# save into the file\n",
    "worldmap.render_to_file('abc.svg')\n",
    "  \n",
    "print(\"Success\")"
   ]
  },
  {
   "cell_type": "code",
   "execution_count": 20,
   "id": "c36cca6a",
   "metadata": {},
   "outputs": [],
   "source": [
    "wm = World()\n",
    "wm.force_uri_protocol = 'http'\n",
    "\n",
    "wm.title=\"Map of Central America\"\n",
    "wm.add('North America',{'ca': 84949494949,'mx': 494794164,'us': 99794616})\n",
    "\n",
    "wm.render_to_file('map.svg')"
   ]
  },
  {
   "cell_type": "code",
   "execution_count": 6,
   "id": "15cf1483",
   "metadata": {},
   "outputs": [
    {
     "ename": "ModuleNotFoundError",
     "evalue": "No module named 'pygal_maps_world'",
     "output_type": "error",
     "traceback": [
      "\u001b[0;31m---------------------------------------------------------------------------\u001b[0m",
      "\u001b[0;31mModuleNotFoundError\u001b[0m                       Traceback (most recent call last)",
      "\u001b[0;32m<ipython-input-6-3835b004e8ac>\u001b[0m in \u001b[0;36m<module>\u001b[0;34m\u001b[0m\n\u001b[0;32m----> 1\u001b[0;31m \u001b[0;32mfrom\u001b[0m \u001b[0mpygal_maps_world\u001b[0m\u001b[0;34m.\u001b[0m\u001b[0mmaps\u001b[0m \u001b[0;32mimport\u001b[0m \u001b[0mWorld\u001b[0m\u001b[0;34m\u001b[0m\u001b[0;34m\u001b[0m\u001b[0m\n\u001b[0m\u001b[1;32m      2\u001b[0m \u001b[0;34m\u001b[0m\u001b[0m\n\u001b[1;32m      3\u001b[0m \u001b[0mwm\u001b[0m \u001b[0;34m=\u001b[0m \u001b[0mWorld\u001b[0m\u001b[0;34m(\u001b[0m\u001b[0;34m)\u001b[0m\u001b[0;34m\u001b[0m\u001b[0;34m\u001b[0m\u001b[0m\n",
      "\u001b[0;31mModuleNotFoundError\u001b[0m: No module named 'pygal_maps_world'"
     ]
    }
   ],
   "source": []
  },
  {
   "cell_type": "code",
   "execution_count": 21,
   "id": "b0b73395",
   "metadata": {},
   "outputs": [
    {
     "ename": "AttributeError",
     "evalue": "module 'pygal.maps' has no attribute 'world'",
     "output_type": "error",
     "traceback": [
      "\u001b[0;31m---------------------------------------------------------------------------\u001b[0m",
      "\u001b[0;31mAttributeError\u001b[0m                            Traceback (most recent call last)",
      "\u001b[0;32m<ipython-input-21-4c0a10b1f718>\u001b[0m in \u001b[0;36m<module>\u001b[0;34m\u001b[0m\n\u001b[1;32m      1\u001b[0m \u001b[0;32mimport\u001b[0m \u001b[0mpygal\u001b[0m\u001b[0;34m\u001b[0m\u001b[0;34m\u001b[0m\u001b[0m\n\u001b[0;32m----> 2\u001b[0;31m \u001b[0mworldmap_chart\u001b[0m \u001b[0;34m=\u001b[0m \u001b[0mpygal\u001b[0m\u001b[0;34m.\u001b[0m\u001b[0mmaps\u001b[0m\u001b[0;34m.\u001b[0m\u001b[0mworld\u001b[0m\u001b[0;34m.\u001b[0m\u001b[0mWorld\u001b[0m\u001b[0;34m(\u001b[0m\u001b[0;34m)\u001b[0m\u001b[0;34m\u001b[0m\u001b[0;34m\u001b[0m\u001b[0m\n\u001b[0m\u001b[1;32m      3\u001b[0m \u001b[0mworldmap_chart\u001b[0m\u001b[0;34m.\u001b[0m\u001b[0mtitle\u001b[0m \u001b[0;34m=\u001b[0m \u001b[0;34m'Minimum deaths by capital punishement (source: Amnesty International)'\u001b[0m\u001b[0;34m\u001b[0m\u001b[0;34m\u001b[0m\u001b[0m\n\u001b[1;32m      4\u001b[0m worldmap_chart.add('In 2012', {\n\u001b[1;32m      5\u001b[0m   \u001b[0;34m'af'\u001b[0m\u001b[0;34m:\u001b[0m \u001b[0;36m14\u001b[0m\u001b[0;34m,\u001b[0m\u001b[0;34m\u001b[0m\u001b[0;34m\u001b[0m\u001b[0m\n",
      "\u001b[0;31mAttributeError\u001b[0m: module 'pygal.maps' has no attribute 'world'"
     ]
    }
   ],
   "source": [
    "import pygal\n",
    "worldmap_chart = pygal.maps.world.World()\n",
    "worldmap_chart.title = 'Minimum deaths by capital punishement (source: Amnesty International)'\n",
    "worldmap_chart.add('In 2012', {\n",
    "  'af': 14,\n",
    "  'bd': 1,\n",
    "  'by': 3,\n",
    "  'cn': 1000,\n",
    "  'gm': 9,\n",
    "  'in': 1,\n",
    "  'ir': 314,\n",
    "  'iq': 129,\n",
    "  'jp': 7,\n",
    "  'kp': 6,\n",
    "  'pk': 1,\n",
    "  'ps': 6,\n",
    "  'sa': 79,\n",
    "  'so': 6,\n",
    "  'sd': 5,\n",
    "  'tw': 6,\n",
    "  'ae': 1,\n",
    "  'us': 43,\n",
    "  'ye': 28\n",
    "})\n",
    "worldmap_chart.render()"
   ]
  },
  {
   "cell_type": "code",
   "execution_count": 12,
   "id": "7399639d",
   "metadata": {},
   "outputs": [
    {
     "ename": "ModuleNotFoundError",
     "evalue": "No module named 'pygal_maps_world'",
     "output_type": "error",
     "traceback": [
      "\u001b[0;31m---------------------------------------------------------------------------\u001b[0m",
      "\u001b[0;31mModuleNotFoundError\u001b[0m                       Traceback (most recent call last)",
      "\u001b[0;32m<ipython-input-12-86695220b4a5>\u001b[0m in \u001b[0;36m<module>\u001b[0;34m\u001b[0m\n\u001b[1;32m      1\u001b[0m \u001b[0;32mimport\u001b[0m \u001b[0mpygal\u001b[0m\u001b[0;34m\u001b[0m\u001b[0;34m\u001b[0m\u001b[0m\n\u001b[0;32m----> 2\u001b[0;31m \u001b[0;32mfrom\u001b[0m \u001b[0mpygal_maps_world\u001b[0m\u001b[0;34m.\u001b[0m\u001b[0mmaps\u001b[0m \u001b[0;32mimport\u001b[0m \u001b[0mWorld\u001b[0m\u001b[0;34m\u001b[0m\u001b[0;34m\u001b[0m\u001b[0m\n\u001b[0m",
      "\u001b[0;31mModuleNotFoundError\u001b[0m: No module named 'pygal_maps_world'"
     ]
    }
   ],
   "source": [
    "import pygal\n",
    "from pygal_maps_world.maps import World"
   ]
  },
  {
   "cell_type": "code",
   "execution_count": 9,
   "id": "bed3a7d7",
   "metadata": {},
   "outputs": [
    {
     "ename": "AttributeError",
     "evalue": "module 'pygal.maps' has no attribute 'world'",
     "output_type": "error",
     "traceback": [
      "\u001b[0;31m---------------------------------------------------------------------------\u001b[0m",
      "\u001b[0;31mAttributeError\u001b[0m                            Traceback (most recent call last)",
      "\u001b[0;32m<ipython-input-9-63edf846f5f0>\u001b[0m in \u001b[0;36m<module>\u001b[0;34m\u001b[0m\n\u001b[0;32m----> 1\u001b[0;31m \u001b[0mworldmap_chart\u001b[0m \u001b[0;34m=\u001b[0m \u001b[0mpygal\u001b[0m\u001b[0;34m.\u001b[0m\u001b[0mmaps\u001b[0m\u001b[0;34m.\u001b[0m\u001b[0mworld\u001b[0m\u001b[0;34m.\u001b[0m\u001b[0mWorld\u001b[0m\u001b[0;34m(\u001b[0m\u001b[0;34m)\u001b[0m\u001b[0;34m\u001b[0m\u001b[0;34m\u001b[0m\u001b[0m\n\u001b[0m",
      "\u001b[0;31mAttributeError\u001b[0m: module 'pygal.maps' has no attribute 'world'"
     ]
    }
   ],
   "source": [
    "worldmap_chart = pygal.maps.world.World()"
   ]
  },
  {
   "cell_type": "code",
   "execution_count": null,
   "id": "5ad723af",
   "metadata": {},
   "outputs": [],
   "source": []
  }
 ],
 "metadata": {
  "kernelspec": {
   "display_name": "Python 3",
   "language": "python",
   "name": "python3"
  },
  "language_info": {
   "codemirror_mode": {
    "name": "ipython",
    "version": 3
   },
   "file_extension": ".py",
   "mimetype": "text/x-python",
   "name": "python",
   "nbconvert_exporter": "python",
   "pygments_lexer": "ipython3",
   "version": "3.6.8"
  }
 },
 "nbformat": 4,
 "nbformat_minor": 5
}
