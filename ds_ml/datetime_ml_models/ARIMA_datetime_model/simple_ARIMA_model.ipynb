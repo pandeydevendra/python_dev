{
 "cells": [
  {
   "cell_type": "markdown",
   "id": "d3c1155c",
   "metadata": {},
   "source": [
    "### Time- Series forecasting with simple_ARIMA_model"
   ]
  },
  {
   "cell_type": "code",
   "execution_count": 1,
   "id": "0ff4258c",
   "metadata": {},
   "outputs": [],
   "source": [
    "import os\n",
    "import numpy as np\n",
    "import pandas as pd\n",
    "\n",
    "import matplotlib.pyplot as plt\n",
    "%matplotlib inline"
   ]
  },
  {
   "cell_type": "code",
   "execution_count": 2,
   "id": "f4e65ee6",
   "metadata": {},
   "outputs": [
    {
     "data": {
      "text/html": [
       "<div>\n",
       "<style scoped>\n",
       "    .dataframe tbody tr th:only-of-type {\n",
       "        vertical-align: middle;\n",
       "    }\n",
       "\n",
       "    .dataframe tbody tr th {\n",
       "        vertical-align: top;\n",
       "    }\n",
       "\n",
       "    .dataframe thead th {\n",
       "        text-align: right;\n",
       "    }\n",
       "</style>\n",
       "<table border=\"1\" class=\"dataframe\">\n",
       "  <thead>\n",
       "    <tr style=\"text-align: right;\">\n",
       "      <th></th>\n",
       "      <th>date</th>\n",
       "      <th>sales</th>\n",
       "    </tr>\n",
       "  </thead>\n",
       "  <tbody>\n",
       "    <tr>\n",
       "      <th>0</th>\n",
       "      <td>01/01/21</td>\n",
       "      <td>264</td>\n",
       "    </tr>\n",
       "    <tr>\n",
       "      <th>1</th>\n",
       "      <td>02/01/21</td>\n",
       "      <td>306</td>\n",
       "    </tr>\n",
       "    <tr>\n",
       "      <th>2</th>\n",
       "      <td>03/01/21</td>\n",
       "      <td>251</td>\n",
       "    </tr>\n",
       "    <tr>\n",
       "      <th>3</th>\n",
       "      <td>04/01/21</td>\n",
       "      <td>227</td>\n",
       "    </tr>\n",
       "    <tr>\n",
       "      <th>4</th>\n",
       "      <td>05/01/21</td>\n",
       "      <td>283</td>\n",
       "    </tr>\n",
       "  </tbody>\n",
       "</table>\n",
       "</div>"
      ],
      "text/plain": [
       "       date  sales\n",
       "0  01/01/21    264\n",
       "1  02/01/21    306\n",
       "2  03/01/21    251\n",
       "3  04/01/21    227\n",
       "4  05/01/21    283"
      ]
     },
     "execution_count": 2,
     "metadata": {},
     "output_type": "execute_result"
    }
   ],
   "source": [
    "df = pd.read_csv('sales_data_jan_21.csv')\n",
    "df.head()"
   ]
  },
  {
   "cell_type": "code",
   "execution_count": 3,
   "id": "63478d7c",
   "metadata": {},
   "outputs": [
    {
     "name": "stdout",
     "output_type": "stream",
     "text": [
      "<class 'pandas.core.frame.DataFrame'>\n",
      "RangeIndex: 516 entries, 0 to 515\n",
      "Data columns (total 2 columns):\n",
      " #   Column  Non-Null Count  Dtype \n",
      "---  ------  --------------  ----- \n",
      " 0   date    516 non-null    object\n",
      " 1   sales   516 non-null    int64 \n",
      "dtypes: int64(1), object(1)\n",
      "memory usage: 8.2+ KB\n"
     ]
    }
   ],
   "source": [
    "df.info()"
   ]
  },
  {
   "cell_type": "markdown",
   "id": "f91545fa",
   "metadata": {},
   "source": [
    "date is of object type data :\n",
    "\n",
    "to make it datetime-stamp type we use prase_dates = '[name of date column]'\n",
    " \n",
    "  TypeError: Only booleans, lists, and dictionaries are accepted for the 'parse_dates' parameter\n"
   ]
  },
  {
   "cell_type": "code",
   "execution_count": 4,
   "id": "23bb54bb",
   "metadata": {},
   "outputs": [
    {
     "data": {
      "text/html": [
       "<div>\n",
       "<style scoped>\n",
       "    .dataframe tbody tr th:only-of-type {\n",
       "        vertical-align: middle;\n",
       "    }\n",
       "\n",
       "    .dataframe tbody tr th {\n",
       "        vertical-align: top;\n",
       "    }\n",
       "\n",
       "    .dataframe thead th {\n",
       "        text-align: right;\n",
       "    }\n",
       "</style>\n",
       "<table border=\"1\" class=\"dataframe\">\n",
       "  <thead>\n",
       "    <tr style=\"text-align: right;\">\n",
       "      <th></th>\n",
       "      <th>date</th>\n",
       "      <th>sales</th>\n",
       "    </tr>\n",
       "  </thead>\n",
       "  <tbody>\n",
       "    <tr>\n",
       "      <th>0</th>\n",
       "      <td>01/01/21</td>\n",
       "      <td>264</td>\n",
       "    </tr>\n",
       "    <tr>\n",
       "      <th>1</th>\n",
       "      <td>02/01/21</td>\n",
       "      <td>306</td>\n",
       "    </tr>\n",
       "    <tr>\n",
       "      <th>2</th>\n",
       "      <td>03/01/21</td>\n",
       "      <td>251</td>\n",
       "    </tr>\n",
       "    <tr>\n",
       "      <th>3</th>\n",
       "      <td>04/01/21</td>\n",
       "      <td>227</td>\n",
       "    </tr>\n",
       "    <tr>\n",
       "      <th>4</th>\n",
       "      <td>05/01/21</td>\n",
       "      <td>283</td>\n",
       "    </tr>\n",
       "  </tbody>\n",
       "</table>\n",
       "</div>"
      ],
      "text/plain": [
       "       date  sales\n",
       "0  01/01/21    264\n",
       "1  02/01/21    306\n",
       "2  03/01/21    251\n",
       "3  04/01/21    227\n",
       "4  05/01/21    283"
      ]
     },
     "execution_count": 4,
     "metadata": {},
     "output_type": "execute_result"
    }
   ],
   "source": [
    "df1 = pd.read_csv('sales_data_jan_21.csv', parse_dates = ['date'])\n",
    "df.head()"
   ]
  },
  {
   "cell_type": "code",
   "execution_count": 5,
   "id": "8363e96a",
   "metadata": {},
   "outputs": [
    {
     "name": "stdout",
     "output_type": "stream",
     "text": [
      "<class 'pandas.core.frame.DataFrame'>\n",
      "RangeIndex: 516 entries, 0 to 515\n",
      "Data columns (total 2 columns):\n",
      " #   Column  Non-Null Count  Dtype         \n",
      "---  ------  --------------  -----         \n",
      " 0   date    516 non-null    datetime64[ns]\n",
      " 1   sales   516 non-null    int64         \n",
      "dtypes: datetime64[ns](1), int64(1)\n",
      "memory usage: 8.2 KB\n"
     ]
    }
   ],
   "source": [
    "df1.info()"
   ]
  },
  {
   "cell_type": "markdown",
   "id": "315d99cd",
   "metadata": {},
   "source": [
    "Dtype of date is now datetime"
   ]
  },
  {
   "cell_type": "markdown",
   "id": "ec74fe88",
   "metadata": {},
   "source": [
    "make date as index"
   ]
  },
  {
   "cell_type": "code",
   "execution_count": 6,
   "id": "54d52fb4",
   "metadata": {},
   "outputs": [],
   "source": [
    "df1.set_index(['date'], inplace = True)"
   ]
  },
  {
   "cell_type": "code",
   "execution_count": 7,
   "id": "2318539a",
   "metadata": {},
   "outputs": [
    {
     "data": {
      "text/html": [
       "<div>\n",
       "<style scoped>\n",
       "    .dataframe tbody tr th:only-of-type {\n",
       "        vertical-align: middle;\n",
       "    }\n",
       "\n",
       "    .dataframe tbody tr th {\n",
       "        vertical-align: top;\n",
       "    }\n",
       "\n",
       "    .dataframe thead th {\n",
       "        text-align: right;\n",
       "    }\n",
       "</style>\n",
       "<table border=\"1\" class=\"dataframe\">\n",
       "  <thead>\n",
       "    <tr style=\"text-align: right;\">\n",
       "      <th></th>\n",
       "      <th>sales</th>\n",
       "    </tr>\n",
       "    <tr>\n",
       "      <th>date</th>\n",
       "      <th></th>\n",
       "    </tr>\n",
       "  </thead>\n",
       "  <tbody>\n",
       "    <tr>\n",
       "      <th>2021-01-01</th>\n",
       "      <td>264</td>\n",
       "    </tr>\n",
       "    <tr>\n",
       "      <th>2021-02-01</th>\n",
       "      <td>306</td>\n",
       "    </tr>\n",
       "    <tr>\n",
       "      <th>2021-03-01</th>\n",
       "      <td>251</td>\n",
       "    </tr>\n",
       "    <tr>\n",
       "      <th>2021-04-01</th>\n",
       "      <td>227</td>\n",
       "    </tr>\n",
       "    <tr>\n",
       "      <th>2021-05-01</th>\n",
       "      <td>283</td>\n",
       "    </tr>\n",
       "  </tbody>\n",
       "</table>\n",
       "</div>"
      ],
      "text/plain": [
       "            sales\n",
       "date             \n",
       "2021-01-01    264\n",
       "2021-02-01    306\n",
       "2021-03-01    251\n",
       "2021-04-01    227\n",
       "2021-05-01    283"
      ]
     },
     "execution_count": 7,
     "metadata": {},
     "output_type": "execute_result"
    }
   ],
   "source": [
    "df1.head()"
   ]
  },
  {
   "cell_type": "markdown",
   "id": "c3f87a29",
   "metadata": {},
   "source": [
    "Now data is in desired structed format"
   ]
  },
  {
   "cell_type": "markdown",
   "id": "35e4c392",
   "metadata": {},
   "source": [
    "## Resampling of data:\n",
    "daily >> to >> weekly >> to >> monthly >>to>> yearly"
   ]
  },
  {
   "cell_type": "code",
   "execution_count": 8,
   "id": "bab77805",
   "metadata": {},
   "outputs": [],
   "source": [
    "## rule = 'M' for monthly \n",
    "df_m = df1.resample(rule = 'M').sum()"
   ]
  },
  {
   "cell_type": "code",
   "execution_count": 9,
   "id": "3d9baa00",
   "metadata": {},
   "outputs": [
    {
     "data": {
      "text/html": [
       "<div>\n",
       "<style scoped>\n",
       "    .dataframe tbody tr th:only-of-type {\n",
       "        vertical-align: middle;\n",
       "    }\n",
       "\n",
       "    .dataframe tbody tr th {\n",
       "        vertical-align: top;\n",
       "    }\n",
       "\n",
       "    .dataframe thead th {\n",
       "        text-align: right;\n",
       "    }\n",
       "</style>\n",
       "<table border=\"1\" class=\"dataframe\">\n",
       "  <thead>\n",
       "    <tr style=\"text-align: right;\">\n",
       "      <th></th>\n",
       "      <th>sales</th>\n",
       "    </tr>\n",
       "    <tr>\n",
       "      <th>date</th>\n",
       "      <th></th>\n",
       "    </tr>\n",
       "  </thead>\n",
       "  <tbody>\n",
       "    <tr>\n",
       "      <th>2021-01-31</th>\n",
       "      <td>9810</td>\n",
       "    </tr>\n",
       "    <tr>\n",
       "      <th>2021-02-28</th>\n",
       "      <td>8457</td>\n",
       "    </tr>\n",
       "    <tr>\n",
       "      <th>2021-03-31</th>\n",
       "      <td>9135</td>\n",
       "    </tr>\n",
       "    <tr>\n",
       "      <th>2021-04-30</th>\n",
       "      <td>8743</td>\n",
       "    </tr>\n",
       "    <tr>\n",
       "      <th>2021-05-31</th>\n",
       "      <td>9193</td>\n",
       "    </tr>\n",
       "    <tr>\n",
       "      <th>2021-06-30</th>\n",
       "      <td>9211</td>\n",
       "    </tr>\n",
       "    <tr>\n",
       "      <th>2021-07-31</th>\n",
       "      <td>9157</td>\n",
       "    </tr>\n",
       "    <tr>\n",
       "      <th>2021-08-31</th>\n",
       "      <td>8867</td>\n",
       "    </tr>\n",
       "    <tr>\n",
       "      <th>2021-09-30</th>\n",
       "      <td>9109</td>\n",
       "    </tr>\n",
       "    <tr>\n",
       "      <th>2021-10-31</th>\n",
       "      <td>8539</td>\n",
       "    </tr>\n",
       "    <tr>\n",
       "      <th>2021-11-30</th>\n",
       "      <td>8824</td>\n",
       "    </tr>\n",
       "    <tr>\n",
       "      <th>2021-12-31</th>\n",
       "      <td>9328</td>\n",
       "    </tr>\n",
       "    <tr>\n",
       "      <th>2022-01-31</th>\n",
       "      <td>6866</td>\n",
       "    </tr>\n",
       "    <tr>\n",
       "      <th>2022-02-28</th>\n",
       "      <td>6041</td>\n",
       "    </tr>\n",
       "    <tr>\n",
       "      <th>2022-03-31</th>\n",
       "      <td>6900</td>\n",
       "    </tr>\n",
       "    <tr>\n",
       "      <th>2022-04-30</th>\n",
       "      <td>6977</td>\n",
       "    </tr>\n",
       "    <tr>\n",
       "      <th>2022-05-31</th>\n",
       "      <td>7139</td>\n",
       "    </tr>\n",
       "    <tr>\n",
       "      <th>2022-06-30</th>\n",
       "      <td>1343</td>\n",
       "    </tr>\n",
       "    <tr>\n",
       "      <th>2022-07-31</th>\n",
       "      <td>1583</td>\n",
       "    </tr>\n",
       "    <tr>\n",
       "      <th>2022-08-31</th>\n",
       "      <td>1511</td>\n",
       "    </tr>\n",
       "    <tr>\n",
       "      <th>2022-09-30</th>\n",
       "      <td>1701</td>\n",
       "    </tr>\n",
       "    <tr>\n",
       "      <th>2022-10-31</th>\n",
       "      <td>1573</td>\n",
       "    </tr>\n",
       "    <tr>\n",
       "      <th>2022-11-30</th>\n",
       "      <td>1476</td>\n",
       "    </tr>\n",
       "    <tr>\n",
       "      <th>2022-12-31</th>\n",
       "      <td>1329</td>\n",
       "    </tr>\n",
       "  </tbody>\n",
       "</table>\n",
       "</div>"
      ],
      "text/plain": [
       "            sales\n",
       "date             \n",
       "2021-01-31   9810\n",
       "2021-02-28   8457\n",
       "2021-03-31   9135\n",
       "2021-04-30   8743\n",
       "2021-05-31   9193\n",
       "2021-06-30   9211\n",
       "2021-07-31   9157\n",
       "2021-08-31   8867\n",
       "2021-09-30   9109\n",
       "2021-10-31   8539\n",
       "2021-11-30   8824\n",
       "2021-12-31   9328\n",
       "2022-01-31   6866\n",
       "2022-02-28   6041\n",
       "2022-03-31   6900\n",
       "2022-04-30   6977\n",
       "2022-05-31   7139\n",
       "2022-06-30   1343\n",
       "2022-07-31   1583\n",
       "2022-08-31   1511\n",
       "2022-09-30   1701\n",
       "2022-10-31   1573\n",
       "2022-11-30   1476\n",
       "2022-12-31   1329"
      ]
     },
     "execution_count": 9,
     "metadata": {},
     "output_type": "execute_result"
    }
   ],
   "source": [
    "df_m"
   ]
  },
  {
   "cell_type": "code",
   "execution_count": 10,
   "id": "00910fa9",
   "metadata": {},
   "outputs": [
    {
     "data": {
      "text/plain": [
       "<matplotlib.axes._subplots.AxesSubplot at 0x7f6135e06f98>"
      ]
     },
     "execution_count": 10,
     "metadata": {},
     "output_type": "execute_result"
    },
    {
     "data": {
      "image/png": "[encoded data removed]",
      "text/plain": [
       "<Figure size 432x288 with 1 Axes>"
      ]
     },
     "metadata": {
      "needs_background": "light"
     },
     "output_type": "display_data"
    }
   ],
   "source": [
    "df_m.plot()"
   ]
  },
  {
   "cell_type": "markdown",
   "id": "53fd9914",
   "metadata": {},
   "source": [
    "## Seasonality check of the dataset::"
   ]
  },
  {
   "cell_type": "code",
   "execution_count": 11,
   "id": "d7186961",
   "metadata": {},
   "outputs": [],
   "source": [
    "import statsmodels.api as sm"
   ]
  },
  {
   "cell_type": "code",
   "execution_count": 12,
   "id": "b66a9b84",
   "metadata": {},
   "outputs": [],
   "source": [
    "seasional_decomposition = sm.tsa.seasonal_decompose(df_m, model = 'additive')"
   ]
  },
  {
   "cell_type": "code",
   "execution_count": 13,
   "id": "ded35f83",
   "metadata": {},
   "outputs": [
    {
     "data": {
      "image/png": "[encoded data removed]",
      "text/plain": [
       "<Figure size 432x288 with 4 Axes>"
      ]
     },
     "metadata": {
      "needs_background": "light"
     },
     "output_type": "display_data"
    }
   ],
   "source": [
    "fig = seasional_decomposition.plot()\n",
    "plt.show()"
   ]
  },
  {
   "cell_type": "code",
   "execution_count": 18,
   "id": "ddf00120",
   "metadata": {},
   "outputs": [],
   "source": [
    "# it seams to be having seasonality becuase of Seasonal trend as shown in the plot."
   ]
  },
  {
   "cell_type": "markdown",
   "id": "7bc4d529",
   "metadata": {},
   "source": [
    "## ALSO:"
   ]
  },
  {
   "cell_type": "code",
   "execution_count": 14,
   "id": "9207ed8b",
   "metadata": {},
   "outputs": [],
   "source": [
    "from statsmodels.tsa.stattools import adfuller"
   ]
  },
  {
   "cell_type": "code",
   "execution_count": 15,
   "id": "912f1e82",
   "metadata": {},
   "outputs": [],
   "source": [
    "adf_test = adfuller(df_m)"
   ]
  },
  {
   "cell_type": "code",
   "execution_count": 16,
   "id": "aa0698c8",
   "metadata": {},
   "outputs": [
    {
     "name": "stdout",
     "output_type": "stream",
     "text": [
      "p-value from adfuller test is = 0.3471740646922809\n"
     ]
    }
   ],
   "source": [
    "print(f\"p-value from adfuller test is = {adf_test[1]}\")"
   ]
  },
  {
   "cell_type": "code",
   "execution_count": 17,
   "id": "0848612c",
   "metadata": {},
   "outputs": [],
   "source": [
    "# p- value < 0.5 ; it means distribution is stationary."
   ]
  },
  {
   "cell_type": "markdown",
   "id": "a0fce907",
   "metadata": {},
   "source": [
    "## ARIMA Model:\n",
    "ARIMA model works the best for 'Stationary', 'Non-Seasonal' series dataset."
   ]
  },
  {
   "cell_type": "code",
   "execution_count": 19,
   "id": "528706e3",
   "metadata": {},
   "outputs": [
    {
     "data": {
      "text/plain": [
       "24"
      ]
     },
     "execution_count": 19,
     "metadata": {},
     "output_type": "execute_result"
    }
   ],
   "source": [
    "len(df_m)"
   ]
  },
  {
   "cell_type": "code",
   "execution_count": 25,
   "id": "3a3b69ff",
   "metadata": {},
   "outputs": [],
   "source": [
    "## split data for training and testing"
   ]
  },
  {
   "cell_type": "code",
   "execution_count": 23,
   "id": "cf9452fc",
   "metadata": {},
   "outputs": [
    {
     "data": {
      "text/html": [
       "<div>\n",
       "<style scoped>\n",
       "    .dataframe tbody tr th:only-of-type {\n",
       "        vertical-align: middle;\n",
       "    }\n",
       "\n",
       "    .dataframe tbody tr th {\n",
       "        vertical-align: top;\n",
       "    }\n",
       "\n",
       "    .dataframe thead th {\n",
       "        text-align: right;\n",
       "    }\n",
       "</style>\n",
       "<table border=\"1\" class=\"dataframe\">\n",
       "  <thead>\n",
       "    <tr style=\"text-align: right;\">\n",
       "      <th></th>\n",
       "      <th>sales</th>\n",
       "    </tr>\n",
       "    <tr>\n",
       "      <th>date</th>\n",
       "      <th></th>\n",
       "    </tr>\n",
       "  </thead>\n",
       "  <tbody>\n",
       "    <tr>\n",
       "      <th>2021-01-31</th>\n",
       "      <td>9810</td>\n",
       "    </tr>\n",
       "    <tr>\n",
       "      <th>2021-02-28</th>\n",
       "      <td>8457</td>\n",
       "    </tr>\n",
       "    <tr>\n",
       "      <th>2021-03-31</th>\n",
       "      <td>9135</td>\n",
       "    </tr>\n",
       "    <tr>\n",
       "      <th>2021-04-30</th>\n",
       "      <td>8743</td>\n",
       "    </tr>\n",
       "    <tr>\n",
       "      <th>2021-05-31</th>\n",
       "      <td>9193</td>\n",
       "    </tr>\n",
       "    <tr>\n",
       "      <th>2021-06-30</th>\n",
       "      <td>9211</td>\n",
       "    </tr>\n",
       "    <tr>\n",
       "      <th>2021-07-31</th>\n",
       "      <td>9157</td>\n",
       "    </tr>\n",
       "    <tr>\n",
       "      <th>2021-08-31</th>\n",
       "      <td>8867</td>\n",
       "    </tr>\n",
       "    <tr>\n",
       "      <th>2021-09-30</th>\n",
       "      <td>9109</td>\n",
       "    </tr>\n",
       "    <tr>\n",
       "      <th>2021-10-31</th>\n",
       "      <td>8539</td>\n",
       "    </tr>\n",
       "    <tr>\n",
       "      <th>2021-11-30</th>\n",
       "      <td>8824</td>\n",
       "    </tr>\n",
       "    <tr>\n",
       "      <th>2021-12-31</th>\n",
       "      <td>9328</td>\n",
       "    </tr>\n",
       "    <tr>\n",
       "      <th>2022-01-31</th>\n",
       "      <td>6866</td>\n",
       "    </tr>\n",
       "    <tr>\n",
       "      <th>2022-02-28</th>\n",
       "      <td>6041</td>\n",
       "    </tr>\n",
       "    <tr>\n",
       "      <th>2022-03-31</th>\n",
       "      <td>6900</td>\n",
       "    </tr>\n",
       "    <tr>\n",
       "      <th>2022-04-30</th>\n",
       "      <td>6977</td>\n",
       "    </tr>\n",
       "    <tr>\n",
       "      <th>2022-05-31</th>\n",
       "      <td>7139</td>\n",
       "    </tr>\n",
       "    <tr>\n",
       "      <th>2022-06-30</th>\n",
       "      <td>1343</td>\n",
       "    </tr>\n",
       "    <tr>\n",
       "      <th>2022-07-31</th>\n",
       "      <td>1583</td>\n",
       "    </tr>\n",
       "    <tr>\n",
       "      <th>2022-08-31</th>\n",
       "      <td>1511</td>\n",
       "    </tr>\n",
       "  </tbody>\n",
       "</table>\n",
       "</div>"
      ],
      "text/plain": [
       "            sales\n",
       "date             \n",
       "2021-01-31   9810\n",
       "2021-02-28   8457\n",
       "2021-03-31   9135\n",
       "2021-04-30   8743\n",
       "2021-05-31   9193\n",
       "2021-06-30   9211\n",
       "2021-07-31   9157\n",
       "2021-08-31   8867\n",
       "2021-09-30   9109\n",
       "2021-10-31   8539\n",
       "2021-11-30   8824\n",
       "2021-12-31   9328\n",
       "2022-01-31   6866\n",
       "2022-02-28   6041\n",
       "2022-03-31   6900\n",
       "2022-04-30   6977\n",
       "2022-05-31   7139\n",
       "2022-06-30   1343\n",
       "2022-07-31   1583\n",
       "2022-08-31   1511"
      ]
     },
     "execution_count": 23,
     "metadata": {},
     "output_type": "execute_result"
    }
   ],
   "source": [
    "s_train = df_m[:20]\n",
    "s_train"
   ]
  },
  {
   "cell_type": "code",
   "execution_count": 24,
   "id": "4594ecf4",
   "metadata": {},
   "outputs": [
    {
     "data": {
      "text/html": [
       "<div>\n",
       "<style scoped>\n",
       "    .dataframe tbody tr th:only-of-type {\n",
       "        vertical-align: middle;\n",
       "    }\n",
       "\n",
       "    .dataframe tbody tr th {\n",
       "        vertical-align: top;\n",
       "    }\n",
       "\n",
       "    .dataframe thead th {\n",
       "        text-align: right;\n",
       "    }\n",
       "</style>\n",
       "<table border=\"1\" class=\"dataframe\">\n",
       "  <thead>\n",
       "    <tr style=\"text-align: right;\">\n",
       "      <th></th>\n",
       "      <th>sales</th>\n",
       "    </tr>\n",
       "    <tr>\n",
       "      <th>date</th>\n",
       "      <th></th>\n",
       "    </tr>\n",
       "  </thead>\n",
       "  <tbody>\n",
       "    <tr>\n",
       "      <th>2022-09-30</th>\n",
       "      <td>1701</td>\n",
       "    </tr>\n",
       "    <tr>\n",
       "      <th>2022-10-31</th>\n",
       "      <td>1573</td>\n",
       "    </tr>\n",
       "    <tr>\n",
       "      <th>2022-11-30</th>\n",
       "      <td>1476</td>\n",
       "    </tr>\n",
       "    <tr>\n",
       "      <th>2022-12-31</th>\n",
       "      <td>1329</td>\n",
       "    </tr>\n",
       "  </tbody>\n",
       "</table>\n",
       "</div>"
      ],
      "text/plain": [
       "            sales\n",
       "date             \n",
       "2022-09-30   1701\n",
       "2022-10-31   1573\n",
       "2022-11-30   1476\n",
       "2022-12-31   1329"
      ]
     },
     "execution_count": 24,
     "metadata": {},
     "output_type": "execute_result"
    }
   ],
   "source": [
    "s_test = df_m[20:]\n",
    "s_test"
   ]
  },
  {
   "cell_type": "markdown",
   "id": "78257862",
   "metadata": {},
   "source": [
    "### to Build ARIMA Model\n",
    " it requires Hyper-Parameters >> p, d, q \n",
    "(where p, d, q are order of AR(Auto-Regression), Integration/differentiation, MA(Moving Average) respectively)"
   ]
  },
  {
   "cell_type": "code",
   "execution_count": 28,
   "id": "33b4d2c3",
   "metadata": {},
   "outputs": [],
   "source": [
    "from statsmodels.tsa.arima_model import ARIMA"
   ]
  },
  {
   "cell_type": "code",
   "execution_count": 36,
   "id": "a1c79b43",
   "metadata": {},
   "outputs": [],
   "source": [
    "arima_model = ARIMA(s_train, order = (5,0,0)).fit()\n",
    "# order ; p,d,q >> 5,0,0 taken this time (separate explaintion later)"
   ]
  },
  {
   "cell_type": "markdown",
   "id": "31070459",
   "metadata": {},
   "source": [
    "## predict values"
   ]
  },
  {
   "cell_type": "code",
   "execution_count": 38,
   "id": "aa5b505a",
   "metadata": {},
   "outputs": [
    {
     "data": {
      "text/plain": [
       "(20, 23)"
      ]
     },
     "execution_count": 38,
     "metadata": {},
     "output_type": "execute_result"
    }
   ],
   "source": [
    "len(s_train), len(df_m)-1"
   ]
  },
  {
   "cell_type": "code",
   "execution_count": 39,
   "id": "8b697ec8",
   "metadata": {},
   "outputs": [],
   "source": [
    "s_predicted = arima_model.predict(start = len(s_train), end = (len(df_m)-1))"
   ]
  },
  {
   "cell_type": "code",
   "execution_count": 40,
   "id": "376f836a",
   "metadata": {},
   "outputs": [
    {
     "data": {
      "text/plain": [
       "2022-09-30    3695.203473\n",
       "2022-10-31    2766.326757\n",
       "2022-11-30    3286.034281\n",
       "2022-12-31    3014.643492\n",
       "Freq: M, dtype: float64"
      ]
     },
     "execution_count": 40,
     "metadata": {},
     "output_type": "execute_result"
    }
   ],
   "source": [
    "s_predicted"
   ]
  },
  {
   "cell_type": "code",
   "execution_count": 41,
   "id": "d04a831e",
   "metadata": {},
   "outputs": [
    {
     "data": {
      "text/html": [
       "<div>\n",
       "<style scoped>\n",
       "    .dataframe tbody tr th:only-of-type {\n",
       "        vertical-align: middle;\n",
       "    }\n",
       "\n",
       "    .dataframe tbody tr th {\n",
       "        vertical-align: top;\n",
       "    }\n",
       "\n",
       "    .dataframe thead th {\n",
       "        text-align: right;\n",
       "    }\n",
       "</style>\n",
       "<table border=\"1\" class=\"dataframe\">\n",
       "  <thead>\n",
       "    <tr style=\"text-align: right;\">\n",
       "      <th></th>\n",
       "      <th>sales</th>\n",
       "    </tr>\n",
       "    <tr>\n",
       "      <th>date</th>\n",
       "      <th></th>\n",
       "    </tr>\n",
       "  </thead>\n",
       "  <tbody>\n",
       "    <tr>\n",
       "      <th>2022-09-30</th>\n",
       "      <td>1701</td>\n",
       "    </tr>\n",
       "    <tr>\n",
       "      <th>2022-10-31</th>\n",
       "      <td>1573</td>\n",
       "    </tr>\n",
       "    <tr>\n",
       "      <th>2022-11-30</th>\n",
       "      <td>1476</td>\n",
       "    </tr>\n",
       "    <tr>\n",
       "      <th>2022-12-31</th>\n",
       "      <td>1329</td>\n",
       "    </tr>\n",
       "  </tbody>\n",
       "</table>\n",
       "</div>"
      ],
      "text/plain": [
       "            sales\n",
       "date             \n",
       "2022-09-30   1701\n",
       "2022-10-31   1573\n",
       "2022-11-30   1476\n",
       "2022-12-31   1329"
      ]
     },
     "execution_count": 41,
     "metadata": {},
     "output_type": "execute_result"
    }
   ],
   "source": [
    "s_test"
   ]
  },
  {
   "cell_type": "markdown",
   "id": "a10ea7f0",
   "metadata": {},
   "source": [
    "## Model Accuracy Evaluation"
   ]
  },
  {
   "cell_type": "code",
   "execution_count": 42,
   "id": "501032ab",
   "metadata": {},
   "outputs": [],
   "source": [
    "# using mean_squared_error\n",
    "from sklearn.metrics import mean_squared_error"
   ]
  },
  {
   "cell_type": "code",
   "execution_count": 43,
   "id": "05730086",
   "metadata": {},
   "outputs": [],
   "source": [
    "error = np.sqrt(mean_squared_error(s_test, s_predicted))"
   ]
  },
  {
   "cell_type": "code",
   "execution_count": 44,
   "id": "a2b01967",
   "metadata": {},
   "outputs": [
    {
     "data": {
      "text/plain": [
       "1696.9453673851965"
      ]
     },
     "execution_count": 44,
     "metadata": {},
     "output_type": "execute_result"
    }
   ],
   "source": [
    "error"
   ]
  },
  {
   "cell_type": "code",
   "execution_count": 45,
   "id": "0e8521fe",
   "metadata": {},
   "outputs": [
    {
     "data": {
      "text/plain": [
       "(sales    1519.75\n",
       " dtype: float64,\n",
       " sales    157.042192\n",
       " dtype: float64)"
      ]
     },
     "execution_count": 45,
     "metadata": {},
     "output_type": "execute_result"
    }
   ],
   "source": [
    "s_test.mean(), np.sqrt(s_test.var())"
   ]
  },
  {
   "cell_type": "code",
   "execution_count": 46,
   "id": "94b64705",
   "metadata": {},
   "outputs": [],
   "source": [
    "## plot of train, test and prediction on same plot"
   ]
  },
  {
   "cell_type": "code",
   "execution_count": 49,
   "id": "798fb060",
   "metadata": {},
   "outputs": [
    {
     "data": {
      "text/plain": [
       "<matplotlib.axes._subplots.AxesSubplot at 0x7f610f06d0f0>"
      ]
     },
     "execution_count": 49,
     "metadata": {},
     "output_type": "execute_result"
    },
    {
     "data": {
      "image/png": "[encoded data removed]",
      "text/plain": [
       "<Figure size 720x432 with 1 Axes>"
      ]
     },
     "metadata": {
      "needs_background": "light"
     },
     "output_type": "display_data"
    },
    {
     "data": {
      "image/png": "[encoded data removed]",
      "text/plain": [
       "<Figure size 720x432 with 1 Axes>"
      ]
     },
     "metadata": {
      "needs_background": "light"
     },
     "output_type": "display_data"
    }
   ],
   "source": [
    "s_train.plot(legend=True, label='Train', figsize=(10,6))\n",
    "s_test.plot(legend=True, label='Test', figsize=(10,6))\n",
    "s_predicted.plot(legend=True, label='Predicted', figsize=(10,6))"
   ]
  },
  {
   "cell_type": "code",
   "execution_count": 50,
   "id": "b4191f00",
   "metadata": {},
   "outputs": [],
   "source": [
    "# It's clear that prediced values are far away from the actual data.\n",
    "# It means ARIMA Model is not giving good result for this case."
   ]
  },
  {
   "cell_type": "code",
   "execution_count": null,
   "id": "f1cf73a3",
   "metadata": {},
   "outputs": [],
   "source": []
  },
  {
   "cell_type": "code",
   "execution_count": 51,
   "id": "a476c1cf",
   "metadata": {},
   "outputs": [],
   "source": [
    "# Predicting unseen data"
   ]
  },
  {
   "cell_type": "code",
   "execution_count": 54,
   "id": "c4259fc3",
   "metadata": {},
   "outputs": [
    {
     "name": "stderr",
     "output_type": "stream",
     "text": [
      "/home/vins/virtenv/py_dev/lib/python3.6/site-packages/statsmodels/tsa/arima_model.py:472: FutureWarning: \n",
      "statsmodels.tsa.arima_model.ARMA and statsmodels.tsa.arima_model.ARIMA have\n",
      "been deprecated in favor of statsmodels.tsa.arima.model.ARIMA (note the .\n",
      "between arima and model) and\n",
      "statsmodels.tsa.SARIMAX. These will be removed after the 0.12 release.\n",
      "\n",
      "statsmodels.tsa.arima.model.ARIMA makes use of the statespace framework and\n",
      "is both well tested and maintained.\n",
      "\n",
      "To silence this warning and continue using ARMA and ARIMA until they are\n",
      "removed, use:\n",
      "\n",
      "import warnings\n",
      "warnings.filterwarnings('ignore', 'statsmodels.tsa.arima_model.ARMA',\n",
      "                        FutureWarning)\n",
      "warnings.filterwarnings('ignore', 'statsmodels.tsa.arima_model.ARIMA',\n",
      "                        FutureWarning)\n",
      "\n",
      "  warnings.warn(ARIMA_DEPRECATION_WARN, FutureWarning)\n"
     ]
    }
   ],
   "source": [
    "final_model = ARIMA(df_m, order=(5,0,0)).fit()"
   ]
  },
  {
   "cell_type": "code",
   "execution_count": 55,
   "id": "c7b232a6",
   "metadata": {},
   "outputs": [],
   "source": [
    "final_model = ARIMA(df_m, order=(5,0,0)).fit()\n",
    "import warnings\n",
    "warnings.filterwarnings('ignore', 'statsmodels.tsa.arima_model.ARMA',\n",
    "                        FutureWarning)"
   ]
  },
  {
   "cell_type": "code",
   "execution_count": 56,
   "id": "33e86152",
   "metadata": {},
   "outputs": [],
   "source": [
    "## predict coming months data"
   ]
  },
  {
   "cell_type": "code",
   "execution_count": 57,
   "id": "f9b6d087",
   "metadata": {},
   "outputs": [],
   "source": [
    "prediction = final_model.predict(len(df_m))"
   ]
  },
  {
   "cell_type": "code",
   "execution_count": 58,
   "id": "fe32b98c",
   "metadata": {},
   "outputs": [
    {
     "data": {
      "text/plain": [
       "2023-01-31    1692.592063\n",
       "Freq: M, dtype: float64"
      ]
     },
     "execution_count": 58,
     "metadata": {},
     "output_type": "execute_result"
    }
   ],
   "source": [
    "prediction"
   ]
  },
  {
   "cell_type": "code",
   "execution_count": 63,
   "id": "1af7a79f",
   "metadata": {},
   "outputs": [
    {
     "data": {
      "text/plain": [
       "2023-01-31    1692.592063\n",
       "2023-02-28    1969.540259\n",
       "2023-03-31    2229.736374\n",
       "2023-04-30    2425.016144\n",
       "2023-05-31    2679.070878\n",
       "2023-06-30    2904.912595\n",
       "2023-07-31    3118.457089\n",
       "Freq: M, dtype: float64"
      ]
     },
     "execution_count": 63,
     "metadata": {},
     "output_type": "execute_result"
    }
   ],
   "source": [
    "final_model.predict(start = len(df_m), end=len(df_m)+6)"
   ]
  },
  {
   "cell_type": "code",
   "execution_count": 67,
   "id": "cc9351d8",
   "metadata": {},
   "outputs": [
    {
     "name": "stderr",
     "output_type": "stream",
     "text": [
      "/home/vins/virtenv/py_dev/lib/python3.6/site-packages/pandas/plotting/_matplotlib/core.py:1095: UserWarning: Attempting to set identical left == right == 636.0 results in singular transformations; automatically expanding.\n",
      "  ax.set_xlim(left, right)\n"
     ]
    },
    {
     "data": {
      "text/plain": [
       "<matplotlib.axes._subplots.AxesSubplot at 0x7f610d979828>"
      ]
     },
     "execution_count": 67,
     "metadata": {},
     "output_type": "execute_result"
    },
    {
     "data": {
      "image/png": "[encoded data removed]",
      "text/plain": [
       "<Figure size 720x432 with 1 Axes>"
      ]
     },
     "metadata": {
      "needs_background": "light"
     },
     "output_type": "display_data"
    }
   ],
   "source": [
    "# df_m.plot(legend=True, label='Train', figsize=(10,6))\n",
    "# s_test.plot(legend=True, label='Test', figsize=(10,6))\n",
    "prediction.plot(legend=True, label='Predicted', figsize=(10,6))"
   ]
  },
  {
   "cell_type": "code",
   "execution_count": 68,
   "id": "03d34bb7",
   "metadata": {},
   "outputs": [
    {
     "data": {
      "text/plain": [
       "<matplotlib.axes._subplots.AxesSubplot at 0x7f610dc2eef0>"
      ]
     },
     "execution_count": 68,
     "metadata": {},
     "output_type": "execute_result"
    },
    {
     "data": {
      "image/png": "[encoded data removed]",
      "text/plain": [
       "<Figure size 720x432 with 1 Axes>"
      ]
     },
     "metadata": {
      "needs_background": "light"
     },
     "output_type": "display_data"
    },
    {
     "data": {
      "image/png": "[encoded data removed]",
      "text/plain": [
       "<Figure size 720x432 with 1 Axes>"
      ]
     },
     "metadata": {
      "needs_background": "light"
     },
     "output_type": "display_data"
    }
   ],
   "source": [
    "df_m.plot(legend=True, label='Train', figsize=(10,6))\n",
    "s_test.plot(legend=True, label='Test', figsize=(10,6))\n",
    "prediction.plot(legend=True, label='Predicted', figsize=(10,6))"
   ]
  },
  {
   "cell_type": "code",
   "execution_count": null,
   "id": "8ab239a4",
   "metadata": {},
   "outputs": [],
   "source": []
  }
 ],
 "metadata": {
  "kernelspec": {
   "display_name": "Python 3",
   "language": "python",
   "name": "python3"
  },
  "language_info": {
   "codemirror_mode": {
    "name": "ipython",
    "version": 3
   },
   "file_extension": ".py",
   "mimetype": "text/x-python",
   "name": "python",
   "nbconvert_exporter": "python",
   "pygments_lexer": "ipython3",
   "version": "3.6.8"
  }
 },
 "nbformat": 4,
 "nbformat_minor": 5
}
