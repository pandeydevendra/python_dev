{
 "cells": [
  {
   "cell_type": "code",
   "execution_count": 1,
   "id": "8931912a",
   "metadata": {},
   "outputs": [],
   "source": [
    "import numpy as np\n",
    "from sklearn.datasets import load_digits\n",
    "import matplotlib.pyplot as plt"
   ]
  },
  {
   "cell_type": "code",
   "execution_count": 4,
   "id": "392243e2",
   "metadata": {},
   "outputs": [],
   "source": [
    "digits = load_digits()"
   ]
  },
  {
   "cell_type": "markdown",
   "id": "b820c93c",
   "metadata": {},
   "source": [
    "#### different model to measuring the performance "
   ]
  },
  {
   "cell_type": "code",
   "execution_count": 5,
   "id": "85133fb1",
   "metadata": {},
   "outputs": [],
   "source": [
    "from sklearn.linear_model import LogisticRegression\n",
    "from sklearn.svm import SVC\n",
    "from sklearn.ensemble import RandomForestClassifier"
   ]
  },
  {
   "cell_type": "code",
   "execution_count": 6,
   "id": "b13b31f4",
   "metadata": {},
   "outputs": [],
   "source": [
    "from sklearn.model_selection import train_test_split\n",
    "X_train, X_test, y_train, y_test = train_test_split(digits.data,digits.target,test_size=0.3)"
   ]
  },
  {
   "cell_type": "code",
   "execution_count": 14,
   "id": "428bc7ef",
   "metadata": {},
   "outputs": [
    {
     "data": {
      "text/plain": [
       "0.9685185185185186"
      ]
     },
     "execution_count": 14,
     "metadata": {},
     "output_type": "execute_result"
    }
   ],
   "source": [
    "# LogisticRegression \n",
    "\n",
    "lr = LogisticRegression(solver='liblinear',multi_class='ovr')\n",
    "lr.fit(X_train, y_train)\n",
    "lr.score(X_test, y_test)"
   ]
  },
  {
   "cell_type": "code",
   "execution_count": 16,
   "id": "ad287db0",
   "metadata": {},
   "outputs": [
    {
     "data": {
      "text/plain": [
       "0.2759259259259259"
      ]
     },
     "execution_count": 16,
     "metadata": {},
     "output_type": "execute_result"
    }
   ],
   "source": [
    "# SVC\n",
    "\n",
    "svm = SVC(gamma='auto')\n",
    "svm.fit(X_train, y_train)\n",
    "svm.score(X_test, y_test)"
   ]
  },
  {
   "cell_type": "code",
   "execution_count": 21,
   "id": "188c4fe9",
   "metadata": {},
   "outputs": [
    {
     "data": {
      "text/plain": [
       "0.9722222222222222"
      ]
     },
     "execution_count": 21,
     "metadata": {},
     "output_type": "execute_result"
    }
   ],
   "source": [
    "# RandomForestClassifier\n",
    "\n",
    "rf = RandomForestClassifier(n_estimators=40)\n",
    "rf.fit(X_train, y_train)\n",
    "rf.score(X_test, y_test)"
   ]
  },
  {
   "cell_type": "markdown",
   "id": "4ae95aa7",
   "metadata": {},
   "source": [
    "#### K_Fold cross validation"
   ]
  },
  {
   "cell_type": "code",
   "execution_count": 22,
   "id": "1a0a8d33",
   "metadata": {},
   "outputs": [],
   "source": [
    "from sklearn.model_selection import KFold"
   ]
  },
  {
   "cell_type": "code",
   "execution_count": 23,
   "id": "b31e6f2d",
   "metadata": {},
   "outputs": [
    {
     "data": {
      "text/plain": [
       "KFold(n_splits=3, random_state=None, shuffle=False)"
      ]
     },
     "execution_count": 23,
     "metadata": {},
     "output_type": "execute_result"
    }
   ],
   "source": [
    "kf = KFold(n_splits=3)\n",
    "kf"
   ]
  },
  {
   "cell_type": "code",
   "execution_count": 24,
   "id": "6a0bd72e",
   "metadata": {},
   "outputs": [
    {
     "name": "stdout",
     "output_type": "stream",
     "text": [
      "[3 4 5 6 7 8] [0 1 2]\n",
      "[0 1 2 6 7 8] [3 4 5]\n",
      "[0 1 2 3 4 5] [6 7 8]\n"
     ]
    }
   ],
   "source": [
    "for train_index, test_index in kf.split([1,2,3,4,5,6,7,8,9]):\n",
    "    print(train_index, test_index)"
   ]
  },
  {
   "cell_type": "code",
   "execution_count": 25,
   "id": "f4a4c778",
   "metadata": {},
   "outputs": [],
   "source": [
    "def get_score(model, X_train, X_test, y_train, y_test):\n",
    "    model.fit(X_train, y_train)\n",
    "    return model.score(X_test, y_test)"
   ]
  },
  {
   "cell_type": "markdown",
   "id": "668d5fa0",
   "metadata": {},
   "source": [
    "#### Stratified_K_Fold Cross_ Validation"
   ]
  },
  {
   "cell_type": "code",
   "execution_count": 26,
   "id": "8fc42366",
   "metadata": {},
   "outputs": [],
   "source": [
    "from sklearn.model_selection import StratifiedKFold\n",
    "folds = StratifiedKFold(n_splits=3)"
   ]
  },
  {
   "cell_type": "code",
   "execution_count": 27,
   "id": "1a68cd70",
   "metadata": {},
   "outputs": [
    {
     "name": "stdout",
     "output_type": "stream",
     "text": [
      "0.8948247078464107\n",
      "0.9532554257095158\n",
      "0.9098497495826378\n"
     ]
    }
   ],
   "source": [
    "for train_index, test_index in folds.split(digits.data,digits.target):\n",
    "    X_train, X_test, y_train, y_test = digits.data[train_index], digits.data[test_index], \\\n",
    "                                       digits.target[train_index], digits.target[test_index]\n",
    "    print(get_score(LogisticRegression(solver='liblinear',multi_class='ovr'), X_train, X_test, y_train, y_test))  "
   ]
  },
  {
   "cell_type": "code",
   "execution_count": 28,
   "id": "669bdf4a",
   "metadata": {},
   "outputs": [],
   "source": [
    "new_folds = StratifiedKFold(n_splits= 10)"
   ]
  },
  {
   "cell_type": "code",
   "execution_count": 29,
   "id": "f8d65f05",
   "metadata": {},
   "outputs": [],
   "source": [
    "scores_logistic = []\n",
    "\n",
    "for train_index, test_index in new_folds.split(digits.data,digits.target):\n",
    "    X_train, X_test, y_train, y_test = digits.data[train_index], digits.data[test_index], \\\n",
    "                                       digits.target[train_index], digits.target[test_index]\n",
    "    scores_logistic.append(get_score(LogisticRegression(solver='liblinear',multi_class='ovr'), X_train, X_test, y_train, y_test))  "
   ]
  },
  {
   "cell_type": "code",
   "execution_count": 30,
   "id": "afe6743f",
   "metadata": {},
   "outputs": [
    {
     "data": {
      "text/plain": [
       "[0.9111111111111111,\n",
       " 0.9388888888888889,\n",
       " 0.8944444444444445,\n",
       " 0.8666666666666667,\n",
       " 0.9444444444444444,\n",
       " 0.9722222222222222,\n",
       " 0.9777777777777777,\n",
       " 0.9497206703910615,\n",
       " 0.8603351955307262,\n",
       " 0.9441340782122905]"
      ]
     },
     "execution_count": 30,
     "metadata": {},
     "output_type": "execute_result"
    }
   ],
   "source": [
    "scores_logistic"
   ]
  },
  {
   "cell_type": "code",
   "execution_count": 34,
   "id": "324331e1",
   "metadata": {},
   "outputs": [],
   "source": [
    "scores_svm = []\n",
    "scores_rf = []\n",
    "    \n",
    "for train_index, test_index in new_folds.split(digits.data,digits.target):\n",
    "    X_train, X_test, y_train, y_test = digits.data[train_index], digits.data[test_index], \\\n",
    "                                       digits.target[train_index], digits.target[test_index]\n",
    "    scores_svm.append(get_score(SVC(gamma='auto'), X_train, X_test, y_train, y_test))\n",
    "    scores_rf.append(get_score(RandomForestClassifier(n_estimators=40), X_train, X_test, y_train, y_test))"
   ]
  },
  {
   "cell_type": "code",
   "execution_count": 35,
   "id": "20600eb2",
   "metadata": {},
   "outputs": [
    {
     "data": {
      "text/plain": [
       "[0.4388888888888889,\n",
       " 0.5777777777777777,\n",
       " 0.4666666666666667,\n",
       " 0.3888888888888889,\n",
       " 0.4722222222222222,\n",
       " 0.4,\n",
       " 0.5055555555555555,\n",
       " 0.5754189944134078,\n",
       " 0.5586592178770949,\n",
       " 0.43575418994413406]"
      ]
     },
     "execution_count": 35,
     "metadata": {},
     "output_type": "execute_result"
    }
   ],
   "source": [
    "scores_svm"
   ]
  },
  {
   "cell_type": "code",
   "execution_count": 36,
   "id": "9d40774b",
   "metadata": {},
   "outputs": [
    {
     "data": {
      "text/plain": [
       "[0.9,\n",
       " 0.9722222222222222,\n",
       " 0.9388888888888889,\n",
       " 0.9166666666666666,\n",
       " 0.9611111111111111,\n",
       " 0.9611111111111111,\n",
       " 0.9555555555555556,\n",
       " 0.9385474860335196,\n",
       " 0.9385474860335196,\n",
       " 0.9217877094972067]"
      ]
     },
     "execution_count": 36,
     "metadata": {},
     "output_type": "execute_result"
    }
   ],
   "source": [
    "scores_rf"
   ]
  },
  {
   "cell_type": "markdown",
   "id": "ab653114",
   "metadata": {},
   "source": [
    "## cross_val_score \n",
    "\n",
    "cross_val_score uses stratifield kfold by default"
   ]
  },
  {
   "cell_type": "code",
   "execution_count": 37,
   "id": "cdbe1139",
   "metadata": {},
   "outputs": [],
   "source": [
    "from sklearn.model_selection import cross_val_score"
   ]
  },
  {
   "cell_type": "markdown",
   "id": "204ddebf",
   "metadata": {},
   "source": [
    "### Logistic regression model performance using cross_val_score"
   ]
  },
  {
   "cell_type": "code",
   "execution_count": 38,
   "id": "44981757",
   "metadata": {},
   "outputs": [
    {
     "data": {
      "text/plain": [
       "array([0.89482471, 0.95325543, 0.90984975])"
      ]
     },
     "execution_count": 38,
     "metadata": {},
     "output_type": "execute_result"
    }
   ],
   "source": [
    "cross_val_score(LogisticRegression(solver='liblinear',multi_class='ovr'), digits.data, digits.target,cv=3)"
   ]
  },
  {
   "cell_type": "markdown",
   "id": "eea707e3",
   "metadata": {},
   "source": [
    "### svm model performance using cross_val_score"
   ]
  },
  {
   "cell_type": "code",
   "execution_count": 39,
   "id": "b53dce31",
   "metadata": {},
   "outputs": [
    {
     "data": {
      "text/plain": [
       "array([0.41111111, 0.45      , 0.454039  , 0.44846797, 0.47910864])"
      ]
     },
     "execution_count": 39,
     "metadata": {},
     "output_type": "execute_result"
    }
   ],
   "source": [
    "cross_val_score(SVC(gamma='auto'), digits.data, digits.target,cv=5)"
   ]
  },
  {
   "cell_type": "markdown",
   "id": "75805704",
   "metadata": {},
   "source": [
    "### random forest performance using cross_val_score"
   ]
  },
  {
   "cell_type": "code",
   "execution_count": 44,
   "id": "852d3fb3",
   "metadata": {},
   "outputs": [
    {
     "data": {
      "text/plain": [
       "array([0.92777778, 0.91666667, 0.95543175, 0.97214485, 0.91643454])"
      ]
     },
     "execution_count": 44,
     "metadata": {},
     "output_type": "execute_result"
    }
   ],
   "source": [
    "cross_val_score(RandomForestClassifier(n_estimators=40),digits.data, digits.target,cv=5)"
   ]
  },
  {
   "cell_type": "markdown",
   "id": "d7b3187f",
   "metadata": {},
   "source": [
    "### Parameter tuning using k fold cross validation"
   ]
  },
  {
   "cell_type": "markdown",
   "id": "c6766b6d",
   "metadata": {},
   "source": [
    "## RandomForestClassifier"
   ]
  },
  {
   "cell_type": "code",
   "execution_count": 46,
   "id": "e9ba8467",
   "metadata": {},
   "outputs": [
    {
     "data": {
      "text/plain": [
       "0.8658845437616387"
      ]
     },
     "execution_count": 46,
     "metadata": {},
     "output_type": "execute_result"
    }
   ],
   "source": [
    "scores_rf1 = cross_val_score(RandomForestClassifier(n_estimators=5),digits.data, digits.target, cv=10)\n",
    "np.average(scores_rf1)"
   ]
  },
  {
   "cell_type": "code",
   "execution_count": 47,
   "id": "f231e0be",
   "metadata": {},
   "outputs": [
    {
     "data": {
      "text/plain": [
       "0.9310055865921786"
      ]
     },
     "execution_count": 47,
     "metadata": {},
     "output_type": "execute_result"
    }
   ],
   "source": [
    "scores_rf2 = cross_val_score(RandomForestClassifier(n_estimators=20),digits.data, digits.target, cv=10)\n",
    "np.average(scores_rf2)"
   ]
  },
  {
   "cell_type": "code",
   "execution_count": 48,
   "id": "75265c6f",
   "metadata": {},
   "outputs": [
    {
     "data": {
      "text/plain": [
       "0.9421011793916823"
      ]
     },
     "execution_count": 48,
     "metadata": {},
     "output_type": "execute_result"
    }
   ],
   "source": [
    "scores_rf3 = cross_val_score(RandomForestClassifier(n_estimators=30),digits.data, digits.target, cv=10)\n",
    "np.average(scores_rf3)"
   ]
  },
  {
   "cell_type": "code",
   "execution_count": 59,
   "id": "ce872c88",
   "metadata": {},
   "outputs": [
    {
     "data": {
      "text/plain": [
       "0.9482340161390439"
      ]
     },
     "execution_count": 59,
     "metadata": {},
     "output_type": "execute_result"
    }
   ],
   "source": [
    "scores_rf4 = cross_val_score(RandomForestClassifier(n_estimators=40),digits.data, digits.target, cv=10)\n",
    "np.average(scores_rf4)"
   ]
  },
  {
   "cell_type": "code",
   "execution_count": null,
   "id": "7c5a0d47",
   "metadata": {},
   "outputs": [],
   "source": []
  }
 ],
 "metadata": {
  "kernelspec": {
   "display_name": "Python 3",
   "language": "python",
   "name": "python3"
  },
  "language_info": {
   "codemirror_mode": {
    "name": "ipython",
    "version": 3
   },
   "file_extension": ".py",
   "mimetype": "text/x-python",
   "name": "python",
   "nbconvert_exporter": "python",
   "pygments_lexer": "ipython3",
   "version": "3.6.8"
  }
 },
 "nbformat": 4,
 "nbformat_minor": 5
}
