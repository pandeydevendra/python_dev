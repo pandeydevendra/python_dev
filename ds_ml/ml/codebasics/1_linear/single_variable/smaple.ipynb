import matplotlib.pyplot as plt
import pandas as pd
import numpy as np

from sklearn import linear_model

excel_file = pd.ExcelFile(filenaame.xlsx) #filename as file name of excel data sheet
print(excel_file.filename)

df = excel_file.parse('x_y') #x= variable1 (input), y= variable2(output)
print(df)


plt.xlabel('x')
plt.ylabel('y')

plt.scatter(df.x, df.y, color = 'blue', marker = '.')

df_x = pd.DataFrame(df.x)

reg = linear_model.LinearRegression()
reg.fit(df_x, df_y)
print(reg.coef_, reg.intercept_)
print(reg.predict([[xn]]))#xn = any value of x to predict corresponding yn
