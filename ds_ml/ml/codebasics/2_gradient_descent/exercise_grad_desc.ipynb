{
 "cells": [
  {
   "cell_type": "code",
   "execution_count": 1,
   "id": "532bd35c",
   "metadata": {},
   "outputs": [],
   "source": [
    "import numpy as np\n",
    "import pandas as pd\n",
    "import matplotlib.pyplot as plt"
   ]
  },
  {
   "cell_type": "code",
   "execution_count": 17,
   "id": "7986de0b",
   "metadata": {},
   "outputs": [],
   "source": [
    "%matplotlib inline\n",
    "def gradient_descent(x,y):\n",
    "    m_curr = b_curr = 0\n",
    "    linear_rate = 0\n",
    "    n = len(x)\n",
    "    plt.scatter(x,y,color='red',marker='+',linewidth='5')\n",
    "    for i in range(10000):\n",
    "        y_predicted = m_curr * x + b_curr\n",
    "        md = -(2/n)*sum(x*(y-y_predicted))\n",
    "        yd = -(2/n)*sum(y-y_predicted)\n",
    "        m_curr = m_curr - linear_rate * md\n",
    "        b_curr = b_curr - linear_rate * yd\n",
    "        plt.plot(x,y_predicted,color='green')"
   ]
  },
  {
   "cell_type": "code",
   "execution_count": 3,
   "id": "50ff894a",
   "metadata": {},
   "outputs": [],
   "source": [
    "df = pd.read_csv('test_scores.csv')"
   ]
  },
  {
   "cell_type": "code",
   "execution_count": 10,
   "id": "4cacc53c",
   "metadata": {},
   "outputs": [
    {
     "data": {
      "text/plain": [
       "(array([92, 56, 88, 70, 80, 49, 65, 35, 66, 67]),\n",
       " array([98, 68, 81, 80, 83, 52, 66, 30, 68, 73]))"
      ]
     },
     "execution_count": 10,
     "metadata": {},
     "output_type": "execute_result"
    }
   ],
   "source": [
    "x_value = np.array(df.math)\n",
    "y_value = np.array(df.cs)\n",
    "x_value, y_value"
   ]
  },
  {
   "cell_type": "code",
   "execution_count": 15,
   "id": "d44b3471",
   "metadata": {},
   "outputs": [
    {
     "data": {
      "text/plain": [
       "(array([[92],\n",
       "        [56],\n",
       "        [88],\n",
       "        [70],\n",
       "        [80],\n",
       "        [49],\n",
       "        [65],\n",
       "        [35],\n",
       "        [66],\n",
       "        [67]]),\n",
       " array([[98],\n",
       "        [68],\n",
       "        [81],\n",
       "        [80],\n",
       "        [83],\n",
       "        [52],\n",
       "        [66],\n",
       "        [30],\n",
       "        [68],\n",
       "        [73]]))"
      ]
     },
     "execution_count": 15,
     "metadata": {},
     "output_type": "execute_result"
    }
   ],
   "source": [
    "x = np.vstack(x_value)\n",
    "y = np.vstack(y_value)\n",
    "x, y"
   ]
  },
  {
   "cell_type": "code",
   "execution_count": 18,
   "id": "5054bc89",
   "metadata": {},
   "outputs": [
    {
     "data": {
      "image/png": "[encoded data removed]",
      "text/plain": [
       "<Figure size 432x288 with 1 Axes>"
      ]
     },
     "metadata": {
      "needs_background": "light"
     },
     "output_type": "display_data"
    }
   ],
   "source": [
    "gradient_descent(x,y)"
   ]
  },
  {
   "cell_type": "code",
   "execution_count": null,
   "id": "a87aa9ae",
   "metadata": {},
   "outputs": [],
   "source": []
  }
 ],
 "metadata": {
  "kernelspec": {
   "display_name": "Python 3",
   "language": "python",
   "name": "python3"
  },
  "language_info": {
   "codemirror_mode": {
    "name": "ipython",
    "version": 3
   },
   "file_extension": ".py",
   "mimetype": "text/x-python",
   "name": "python",
   "nbconvert_exporter": "python",
   "pygments_lexer": "ipython3",
   "version": "3.6.8"
  }
 },
 "nbformat": 4,
 "nbformat_minor": 5
}
