{
 "cells": [
  {
   "cell_type": "code",
   "execution_count": 2,
   "id": "4cf0a79d",
   "metadata": {},
   "outputs": [],
   "source": [
    "import re"
   ]
  },
  {
   "cell_type": "markdown",
   "id": "fcb0cad9",
   "metadata": {},
   "source": [
    "## Retrieve email id and phone:"
   ]
  },
  {
   "cell_type": "code",
   "execution_count": 1,
   "id": "205c031f",
   "metadata": {},
   "outputs": [],
   "source": [
    "sample1 = 'codebasics: you ask lot of questions 😠  1235678912, abc@xyz.com'\n",
    "sample2 = 'codebasics: here it is: (123)-567-8912, abc@xyz.com'\n",
    "sample3 = 'codebasics: yes, phone: 1235678912 email: abc@xyz.com'"
   ]
  },
  {
   "cell_type": "code",
   "execution_count": null,
   "id": "0b55a029",
   "metadata": {},
   "outputs": [],
   "source": []
  },
  {
   "cell_type": "markdown",
   "id": "abde975f",
   "metadata": {},
   "source": [
    "##  pattern to grab email id:"
   ]
  },
  {
   "cell_type": "code",
   "execution_count": 7,
   "id": "4b422827",
   "metadata": {},
   "outputs": [],
   "source": [
    "pattern = '[a-zA-Z0-9_]*@[a-z]*\\.[a-zA-Z0-9]*' "
   ]
  },
  {
   "cell_type": "code",
   "execution_count": 8,
   "id": "161647ee",
   "metadata": {},
   "outputs": [],
   "source": [
    "def get_pattern_match(pattern, text):\n",
    "    matches = re.findall(pattern, text)\n",
    "    if matches:\n",
    "        return matches[0]"
   ]
  },
  {
   "cell_type": "code",
   "execution_count": 9,
   "id": "8988a644",
   "metadata": {},
   "outputs": [
    {
     "data": {
      "text/plain": [
       "'abc@xyz.com'"
      ]
     },
     "execution_count": 9,
     "metadata": {},
     "output_type": "execute_result"
    }
   ],
   "source": [
    "get_pattern_match(pattern, sample1)"
   ]
  },
  {
   "cell_type": "code",
   "execution_count": 10,
   "id": "669acf20",
   "metadata": {},
   "outputs": [
    {
     "data": {
      "text/plain": [
       "'abc@xyz.com'"
      ]
     },
     "execution_count": 10,
     "metadata": {},
     "output_type": "execute_result"
    }
   ],
   "source": [
    "get_pattern_match(pattern, sample2)"
   ]
  },
  {
   "cell_type": "code",
   "execution_count": 11,
   "id": "e3474692",
   "metadata": {},
   "outputs": [
    {
     "data": {
      "text/plain": [
       "'abc@xyz.com'"
      ]
     },
     "execution_count": 11,
     "metadata": {},
     "output_type": "execute_result"
    }
   ],
   "source": [
    "get_pattern_match(pattern, sample3)"
   ]
  },
  {
   "cell_type": "code",
   "execution_count": null,
   "id": "93ef4fb3",
   "metadata": {},
   "outputs": [],
   "source": []
  },
  {
   "cell_type": "markdown",
   "id": "8100a189",
   "metadata": {},
   "source": [
    "##  pattern to grab  phone number:"
   ]
  },
  {
   "cell_type": "code",
   "execution_count": 12,
   "id": "b692ae9c",
   "metadata": {},
   "outputs": [],
   "source": [
    "pattern_phn = '(\\d{10})|(\\(\\d{3}\\)-\\d{3}-\\d{4})'"
   ]
  },
  {
   "cell_type": "code",
   "execution_count": 13,
   "id": "26c26675",
   "metadata": {},
   "outputs": [
    {
     "data": {
      "text/plain": [
       "('1235678912', '')"
      ]
     },
     "execution_count": 13,
     "metadata": {},
     "output_type": "execute_result"
    }
   ],
   "source": [
    "get_pattern_match(pattern_phn, sample1)"
   ]
  },
  {
   "cell_type": "code",
   "execution_count": 14,
   "id": "88fb3ff7",
   "metadata": {},
   "outputs": [
    {
     "data": {
      "text/plain": [
       "('', '(123)-567-8912')"
      ]
     },
     "execution_count": 14,
     "metadata": {},
     "output_type": "execute_result"
    }
   ],
   "source": [
    "get_pattern_match(pattern_phn, sample2)"
   ]
  },
  {
   "cell_type": "code",
   "execution_count": 15,
   "id": "a59d137f",
   "metadata": {},
   "outputs": [
    {
     "data": {
      "text/plain": [
       "('1235678912', '')"
      ]
     },
     "execution_count": 15,
     "metadata": {},
     "output_type": "execute_result"
    }
   ],
   "source": [
    "get_pattern_match(pattern_phn, sample3)"
   ]
  },
  {
   "cell_type": "code",
   "execution_count": null,
   "id": "26b59465",
   "metadata": {},
   "outputs": [],
   "source": []
  }
 ],
 "metadata": {
  "kernelspec": {
   "display_name": "Python 3",
   "language": "python",
   "name": "python3"
  },
  "language_info": {
   "codemirror_mode": {
    "name": "ipython",
    "version": 3
   },
   "file_extension": ".py",
   "mimetype": "text/x-python",
   "name": "python",
   "nbconvert_exporter": "python",
   "pygments_lexer": "ipython3",
   "version": "3.6.8"
  }
 },
 "nbformat": 4,
 "nbformat_minor": 5
}
