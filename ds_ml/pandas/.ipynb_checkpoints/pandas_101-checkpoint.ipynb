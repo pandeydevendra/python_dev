{
 "cells": [
  {
   "cell_type": "code",
   "execution_count": 6,
   "id": "04a90089",
   "metadata": {},
   "outputs": [],
   "source": [
    "# 1. How to import pandas and check the version?\n",
    "import pandas as pd"
   ]
  },
  {
   "cell_type": "code",
   "execution_count": 7,
   "id": "dc6c34eb",
   "metadata": {},
   "outputs": [
    {
     "data": {
      "text/plain": [
       "'1.0.3'"
      ]
     },
     "execution_count": 7,
     "metadata": {},
     "output_type": "execute_result"
    }
   ],
   "source": [
    "pd.__version__ "
   ]
  },
  {
   "cell_type": "code",
   "execution_count": 9,
   "id": "2d3c3953",
   "metadata": {},
   "outputs": [
    {
     "data": {
      "text/plain": [
       "'1.19.5'"
      ]
     },
     "execution_count": 9,
     "metadata": {},
     "output_type": "execute_result"
    }
   ],
   "source": [
    "import numpy as np\n",
    "np.__version__"
   ]
  },
  {
   "cell_type": "code",
   "execution_count": 10,
   "id": "d69902a2",
   "metadata": {},
   "outputs": [],
   "source": [
    "# 2. How to create a series from a list, numpy array and dict?\n",
    "\"\"\"\n",
    "Create a pandas series from each of the items below: a list, numpy and a dictionary Input\n",
    "\n",
    "\"\"\"\n",
    "mylist = list('abcedfghijklmnopqrstuvwxyz')\n",
    "myarr = np.arange(26)\n",
    "mydict = dict(zip(mylist, myarr))"
   ]
  },
  {
   "cell_type": "code",
   "execution_count": 11,
   "id": "9965e6cd",
   "metadata": {},
   "outputs": [
    {
     "data": {
      "text/plain": [
       "'a'"
      ]
     },
     "execution_count": 11,
     "metadata": {},
     "output_type": "execute_result"
    }
   ],
   "source": [
    "mylist[0]"
   ]
  },
  {
   "cell_type": "code",
   "execution_count": 12,
   "id": "b417c7be",
   "metadata": {},
   "outputs": [
    {
     "data": {
      "text/plain": [
       "array([ 0,  1,  2,  3,  4,  5,  6,  7,  8,  9, 10, 11, 12, 13, 14, 15, 16,\n",
       "       17, 18, 19, 20, 21, 22, 23, 24, 25])"
      ]
     },
     "execution_count": 12,
     "metadata": {},
     "output_type": "execute_result"
    }
   ],
   "source": [
    "myarr"
   ]
  },
  {
   "cell_type": "code",
   "execution_count": 370,
   "id": "10b3af6a",
   "metadata": {},
   "outputs": [
    {
     "data": {
      "text/plain": [
       "{'a': 0,\n",
       " 'b': 1,\n",
       " 'c': 2,\n",
       " 'e': 3,\n",
       " 'd': 4,\n",
       " 'f': 5,\n",
       " 'g': 6,\n",
       " 'h': 7,\n",
       " 'i': 8,\n",
       " 'j': 9,\n",
       " 'k': 10,\n",
       " 'l': 11,\n",
       " 'm': 12,\n",
       " 'n': 13,\n",
       " 'o': 14,\n",
       " 'p': 15,\n",
       " 'q': 16,\n",
       " 'r': 17,\n",
       " 's': 18,\n",
       " 't': 19,\n",
       " 'u': 20,\n",
       " 'v': 21,\n",
       " 'w': 22,\n",
       " 'x': 23,\n",
       " 'y': 24,\n",
       " 'z': 25}"
      ]
     },
     "execution_count": 370,
     "metadata": {},
     "output_type": "execute_result"
    }
   ],
   "source": [
    "mydict"
   ]
  },
  {
   "cell_type": "code",
   "execution_count": 374,
   "id": "997e69e9",
   "metadata": {},
   "outputs": [],
   "source": [
    "# pd.Series()\n",
    "\n",
    "mylist_series = pd.Series(mylist)\n",
    "myarr_series = pd.Series(myarr)\n",
    "mydict_series = pd.Series(mydict)"
   ]
  },
  {
   "cell_type": "code",
   "execution_count": 375,
   "id": "e63a4704",
   "metadata": {},
   "outputs": [
    {
     "data": {
      "text/plain": [
       "0    a\n",
       "1    b\n",
       "dtype: object"
      ]
     },
     "execution_count": 375,
     "metadata": {},
     "output_type": "execute_result"
    }
   ],
   "source": [
    "mylist_series.head(2)"
   ]
  },
  {
   "cell_type": "code",
   "execution_count": 376,
   "id": "1d8488cf",
   "metadata": {},
   "outputs": [
    {
     "data": {
      "text/plain": [
       "0    0\n",
       "1    1\n",
       "dtype: int64"
      ]
     },
     "execution_count": 376,
     "metadata": {},
     "output_type": "execute_result"
    }
   ],
   "source": [
    "myarr_series.head(2)"
   ]
  },
  {
   "cell_type": "code",
   "execution_count": 377,
   "id": "376194b4",
   "metadata": {
    "scrolled": true
   },
   "outputs": [
    {
     "data": {
      "text/plain": [
       "a    0\n",
       "dtype: int64"
      ]
     },
     "execution_count": 377,
     "metadata": {},
     "output_type": "execute_result"
    }
   ],
   "source": [
    "mydict_series.head(1)"
   ]
  },
  {
   "cell_type": "code",
   "execution_count": 381,
   "id": "55d617a6",
   "metadata": {},
   "outputs": [
    {
     "data": {
      "text/html": [
       "<div>\n",
       "<style scoped>\n",
       "    .dataframe tbody tr th:only-of-type {\n",
       "        vertical-align: middle;\n",
       "    }\n",
       "\n",
       "    .dataframe tbody tr th {\n",
       "        vertical-align: top;\n",
       "    }\n",
       "\n",
       "    .dataframe thead th {\n",
       "        text-align: right;\n",
       "    }\n",
       "</style>\n",
       "<table border=\"1\" class=\"dataframe\">\n",
       "  <thead>\n",
       "    <tr style=\"text-align: right;\">\n",
       "      <th></th>\n",
       "      <th>0</th>\n",
       "    </tr>\n",
       "  </thead>\n",
       "  <tbody>\n",
       "    <tr>\n",
       "      <th>0</th>\n",
       "      <td>a</td>\n",
       "    </tr>\n",
       "    <tr>\n",
       "      <th>1</th>\n",
       "      <td>b</td>\n",
       "    </tr>\n",
       "  </tbody>\n",
       "</table>\n",
       "</div>"
      ],
      "text/plain": [
       "   0\n",
       "0  a\n",
       "1  b"
      ]
     },
     "execution_count": 381,
     "metadata": {},
     "output_type": "execute_result"
    }
   ],
   "source": [
    "pd.DataFrame(mydict_series.index).head(2)"
   ]
  },
  {
   "cell_type": "code",
   "execution_count": 382,
   "id": "b15cdfbc",
   "metadata": {},
   "outputs": [],
   "source": [
    "# 3. How to convert the index of a series into a column of a dataframe?\n",
    "\"\"\"\n",
    "Convert the series ser into a dataframe with its index as another column on the dataframe.\n",
    "\n",
    "\"\"\"\n",
    "ser = pd.Series(mydict)"
   ]
  },
  {
   "cell_type": "code",
   "execution_count": 383,
   "id": "e3f4d5eb",
   "metadata": {
    "scrolled": true
   },
   "outputs": [
    {
     "data": {
      "text/plain": [
       "Index(['a', 'b', 'c', 'e', 'd', 'f', 'g', 'h', 'i', 'j', 'k', 'l', 'm', 'n',\n",
       "       'o', 'p', 'q', 'r', 's', 't', 'u', 'v', 'w', 'x', 'y', 'z'],\n",
       "      dtype='object')"
      ]
     },
     "execution_count": 383,
     "metadata": {},
     "output_type": "execute_result"
    }
   ],
   "source": [
    "ser.index"
   ]
  },
  {
   "cell_type": "code",
   "execution_count": 384,
   "id": "9e226b85",
   "metadata": {
    "scrolled": false
   },
   "outputs": [
    {
     "data": {
      "text/plain": [
       "a    0\n",
       "b    1\n",
       "dtype: int64"
      ]
     },
     "execution_count": 384,
     "metadata": {},
     "output_type": "execute_result"
    }
   ],
   "source": [
    "ser.head(2)"
   ]
  },
  {
   "cell_type": "code",
   "execution_count": 385,
   "id": "11c854bf",
   "metadata": {},
   "outputs": [
    {
     "data": {
      "text/html": [
       "<div>\n",
       "<style scoped>\n",
       "    .dataframe tbody tr th:only-of-type {\n",
       "        vertical-align: middle;\n",
       "    }\n",
       "\n",
       "    .dataframe tbody tr th {\n",
       "        vertical-align: top;\n",
       "    }\n",
       "\n",
       "    .dataframe thead th {\n",
       "        text-align: right;\n",
       "    }\n",
       "</style>\n",
       "<table border=\"1\" class=\"dataframe\">\n",
       "  <thead>\n",
       "    <tr style=\"text-align: right;\">\n",
       "      <th></th>\n",
       "      <th>0</th>\n",
       "    </tr>\n",
       "  </thead>\n",
       "  <tbody>\n",
       "    <tr>\n",
       "      <th>a</th>\n",
       "      <td>0</td>\n",
       "    </tr>\n",
       "    <tr>\n",
       "      <th>b</th>\n",
       "      <td>1</td>\n",
       "    </tr>\n",
       "  </tbody>\n",
       "</table>\n",
       "</div>"
      ],
      "text/plain": [
       "   0\n",
       "a  0\n",
       "b  1"
      ]
     },
     "execution_count": 385,
     "metadata": {},
     "output_type": "execute_result"
    }
   ],
   "source": [
    "pd.DataFrame(ser).head(2)"
   ]
  },
  {
   "cell_type": "code",
   "execution_count": 386,
   "id": "eacdd837",
   "metadata": {
    "scrolled": true
   },
   "outputs": [
    {
     "data": {
      "text/plain": [
       "RangeIndex(start=0, stop=1, step=1)"
      ]
     },
     "execution_count": 386,
     "metadata": {},
     "output_type": "execute_result"
    }
   ],
   "source": [
    "pd.DataFrame(ser).columns\n",
    "# ser.columns # AttributeError: 'Series' object has no attribute 'columns'"
   ]
  },
  {
   "cell_type": "code",
   "execution_count": 387,
   "id": "43077471",
   "metadata": {},
   "outputs": [
    {
     "data": {
      "text/plain": [
       "Index(['a', 'b', 'c', 'e', 'd', 'f', 'g', 'h', 'i', 'j', 'k', 'l', 'm', 'n',\n",
       "       'o', 'p', 'q', 'r', 's', 't', 'u', 'v', 'w', 'x', 'y', 'z'],\n",
       "      dtype='object')"
      ]
     },
     "execution_count": 387,
     "metadata": {},
     "output_type": "execute_result"
    }
   ],
   "source": [
    "pd.DataFrame(ser).index"
   ]
  },
  {
   "cell_type": "code",
   "execution_count": 389,
   "id": "52b843e7",
   "metadata": {},
   "outputs": [
    {
     "data": {
      "text/html": [
       "<div>\n",
       "<style scoped>\n",
       "    .dataframe tbody tr th:only-of-type {\n",
       "        vertical-align: middle;\n",
       "    }\n",
       "\n",
       "    .dataframe tbody tr th {\n",
       "        vertical-align: top;\n",
       "    }\n",
       "\n",
       "    .dataframe thead th {\n",
       "        text-align: right;\n",
       "    }\n",
       "</style>\n",
       "<table border=\"1\" class=\"dataframe\">\n",
       "  <thead>\n",
       "    <tr style=\"text-align: right;\">\n",
       "      <th></th>\n",
       "      <th>index</th>\n",
       "      <th>0</th>\n",
       "    </tr>\n",
       "  </thead>\n",
       "  <tbody>\n",
       "    <tr>\n",
       "      <th>0</th>\n",
       "      <td>a</td>\n",
       "      <td>0</td>\n",
       "    </tr>\n",
       "    <tr>\n",
       "      <th>1</th>\n",
       "      <td>b</td>\n",
       "      <td>1</td>\n",
       "    </tr>\n",
       "    <tr>\n",
       "      <th>2</th>\n",
       "      <td>c</td>\n",
       "      <td>2</td>\n",
       "    </tr>\n",
       "    <tr>\n",
       "      <th>3</th>\n",
       "      <td>e</td>\n",
       "      <td>3</td>\n",
       "    </tr>\n",
       "    <tr>\n",
       "      <th>4</th>\n",
       "      <td>d</td>\n",
       "      <td>4</td>\n",
       "    </tr>\n",
       "  </tbody>\n",
       "</table>\n",
       "</div>"
      ],
      "text/plain": [
       "  index  0\n",
       "0     a  0\n",
       "1     b  1\n",
       "2     c  2\n",
       "3     e  3\n",
       "4     d  4"
      ]
     },
     "execution_count": 389,
     "metadata": {},
     "output_type": "execute_result"
    }
   ],
   "source": [
    "df = pd.DataFrame(ser)\n",
    "df_index_as_column = df.reset_index()\n",
    "df_index_as_column.head()"
   ]
  },
  {
   "cell_type": "code",
   "execution_count": 391,
   "id": "aacf34ff",
   "metadata": {},
   "outputs": [
    {
     "data": {
      "text/html": [
       "<div>\n",
       "<style scoped>\n",
       "    .dataframe tbody tr th:only-of-type {\n",
       "        vertical-align: middle;\n",
       "    }\n",
       "\n",
       "    .dataframe tbody tr th {\n",
       "        vertical-align: top;\n",
       "    }\n",
       "\n",
       "    .dataframe thead th {\n",
       "        text-align: right;\n",
       "    }\n",
       "</style>\n",
       "<table border=\"1\" class=\"dataframe\">\n",
       "  <thead>\n",
       "    <tr style=\"text-align: right;\">\n",
       "      <th></th>\n",
       "      <th>index</th>\n",
       "      <th>0</th>\n",
       "    </tr>\n",
       "  </thead>\n",
       "  <tbody>\n",
       "    <tr>\n",
       "      <th>0</th>\n",
       "      <td>a</td>\n",
       "      <td>0</td>\n",
       "    </tr>\n",
       "    <tr>\n",
       "      <th>1</th>\n",
       "      <td>b</td>\n",
       "      <td>1</td>\n",
       "    </tr>\n",
       "  </tbody>\n",
       "</table>\n",
       "</div>"
      ],
      "text/plain": [
       "  index  0\n",
       "0     a  0\n",
       "1     b  1"
      ]
     },
     "execution_count": 391,
     "metadata": {},
     "output_type": "execute_result"
    }
   ],
   "source": [
    "# Solution to_frame()\n",
    "df_in_co = ser.to_frame().reset_index()\n",
    "df_in_co.head(2)"
   ]
  },
  {
   "cell_type": "code",
   "execution_count": 392,
   "id": "54b8119c",
   "metadata": {},
   "outputs": [
    {
     "data": {
      "text/html": [
       "<div>\n",
       "<style scoped>\n",
       "    .dataframe tbody tr th:only-of-type {\n",
       "        vertical-align: middle;\n",
       "    }\n",
       "\n",
       "    .dataframe tbody tr th {\n",
       "        vertical-align: top;\n",
       "    }\n",
       "\n",
       "    .dataframe thead th {\n",
       "        text-align: right;\n",
       "    }\n",
       "</style>\n",
       "<table border=\"1\" class=\"dataframe\">\n",
       "  <thead>\n",
       "    <tr style=\"text-align: right;\">\n",
       "      <th></th>\n",
       "      <th>0</th>\n",
       "    </tr>\n",
       "  </thead>\n",
       "  <tbody>\n",
       "    <tr>\n",
       "      <th>a</th>\n",
       "      <td>0</td>\n",
       "    </tr>\n",
       "  </tbody>\n",
       "</table>\n",
       "</div>"
      ],
      "text/plain": [
       "   0\n",
       "a  0"
      ]
     },
     "execution_count": 392,
     "metadata": {},
     "output_type": "execute_result"
    }
   ],
   "source": [
    "df1 = ser.to_frame()\n",
    "df1.head(1)"
   ]
  },
  {
   "cell_type": "code",
   "execution_count": 393,
   "id": "228a5b94",
   "metadata": {},
   "outputs": [
    {
     "data": {
      "text/plain": [
       "pandas.core.frame.DataFrame"
      ]
     },
     "execution_count": 393,
     "metadata": {},
     "output_type": "execute_result"
    }
   ],
   "source": [
    "type(df1)"
   ]
  },
  {
   "cell_type": "code",
   "execution_count": 394,
   "id": "ac79646e",
   "metadata": {},
   "outputs": [
    {
     "data": {
      "text/html": [
       "<div>\n",
       "<style scoped>\n",
       "    .dataframe tbody tr th:only-of-type {\n",
       "        vertical-align: middle;\n",
       "    }\n",
       "\n",
       "    .dataframe tbody tr th {\n",
       "        vertical-align: top;\n",
       "    }\n",
       "\n",
       "    .dataframe thead th {\n",
       "        text-align: right;\n",
       "    }\n",
       "</style>\n",
       "<table border=\"1\" class=\"dataframe\">\n",
       "  <thead>\n",
       "    <tr style=\"text-align: right;\">\n",
       "      <th></th>\n",
       "      <th>0</th>\n",
       "    </tr>\n",
       "  </thead>\n",
       "  <tbody>\n",
       "    <tr>\n",
       "      <th>a</th>\n",
       "      <td>0</td>\n",
       "    </tr>\n",
       "  </tbody>\n",
       "</table>\n",
       "</div>"
      ],
      "text/plain": [
       "   0\n",
       "a  0"
      ]
     },
     "execution_count": 394,
     "metadata": {},
     "output_type": "execute_result"
    }
   ],
   "source": [
    "df2 = pd.DataFrame(ser)\n",
    "df2.head(1)columns"
   ]
  },
  {
   "cell_type": "code",
   "execution_count": 395,
   "id": "b234ac2e",
   "metadata": {},
   "outputs": [
    {
     "data": {
      "text/plain": [
       "pandas.core.frame.DataFrame"
      ]
     },
     "execution_count": 395,
     "metadata": {},
     "output_type": "execute_result"
    }
   ],
   "source": [
    "type(df2)"
   ]
  },
  {
   "cell_type": "code",
   "execution_count": 396,
   "id": "e7f3379c",
   "metadata": {},
   "outputs": [],
   "source": [
    "# 4. How to combine many series to form a dataframe?\n",
    "\n",
    "\"\"\"\n",
    "Combine ser1 and ser2 to form a dataframe. \n",
    "\n",
    "\"\"\"\n",
    "\n",
    "ser1 = pd.Series(list('abcedfghijklmnopqrstuvwxyz'))\n",
    "ser2 = pd.Series(np.arange(26))"
   ]
  },
  {
   "cell_type": "code",
   "execution_count": 397,
   "id": "233ebbb7",
   "metadata": {},
   "outputs": [
    {
     "data": {
      "text/plain": [
       "0    a\n",
       "1    b\n",
       "dtype: object"
      ]
     },
     "execution_count": 397,
     "metadata": {},
     "output_type": "execute_result"
    }
   ],
   "source": [
    "ser1.head(2)"
   ]
  },
  {
   "cell_type": "code",
   "execution_count": 398,
   "id": "4946fae2",
   "metadata": {},
   "outputs": [
    {
     "data": {
      "text/plain": [
       "0    0\n",
       "1    1\n",
       "dtype: int64"
      ]
     },
     "execution_count": 398,
     "metadata": {},
     "output_type": "execute_result"
    }
   ],
   "source": [
    "ser2.head(2)"
   ]
  },
  {
   "cell_type": "code",
   "execution_count": 399,
   "id": "c0285751",
   "metadata": {},
   "outputs": [
    {
     "data": {
      "text/html": [
       "<div>\n",
       "<style scoped>\n",
       "    .dataframe tbody tr th:only-of-type {\n",
       "        vertical-align: middle;\n",
       "    }\n",
       "\n",
       "    .dataframe tbody tr th {\n",
       "        vertical-align: top;\n",
       "    }\n",
       "\n",
       "    .dataframe thead th {\n",
       "        text-align: right;\n",
       "    }\n",
       "</style>\n",
       "<table border=\"1\" class=\"dataframe\">\n",
       "  <thead>\n",
       "    <tr style=\"text-align: right;\">\n",
       "      <th></th>\n",
       "      <th>0</th>\n",
       "      <th>1</th>\n",
       "    </tr>\n",
       "  </thead>\n",
       "  <tbody>\n",
       "    <tr>\n",
       "      <th>0</th>\n",
       "      <td>a</td>\n",
       "      <td>0</td>\n",
       "    </tr>\n",
       "    <tr>\n",
       "      <th>1</th>\n",
       "      <td>b</td>\n",
       "      <td>1</td>\n",
       "    </tr>\n",
       "  </tbody>\n",
       "</table>\n",
       "</div>"
      ],
      "text/plain": [
       "   0  1\n",
       "0  a  0\n",
       "1  b  1"
      ]
     },
     "execution_count": 399,
     "metadata": {},
     "output_type": "execute_result"
    }
   ],
   "source": [
    "# concat\n",
    "df_s1_s2 = pd.concat([ser1, ser2], axis = 1)\n",
    "df_s1_s2.head(2)"
   ]
  },
  {
   "cell_type": "code",
   "execution_count": 400,
   "id": "7d732925",
   "metadata": {},
   "outputs": [
    {
     "data": {
      "text/html": [
       "<div>\n",
       "<style scoped>\n",
       "    .dataframe tbody tr th:only-of-type {\n",
       "        vertical-align: middle;\n",
       "    }\n",
       "\n",
       "    .dataframe tbody tr th {\n",
       "        vertical-align: top;\n",
       "    }\n",
       "\n",
       "    .dataframe thead th {\n",
       "        text-align: right;\n",
       "    }\n",
       "</style>\n",
       "<table border=\"1\" class=\"dataframe\">\n",
       "  <thead>\n",
       "    <tr style=\"text-align: right;\">\n",
       "      <th></th>\n",
       "      <th>index</th>\n",
       "      <th>0</th>\n",
       "    </tr>\n",
       "  </thead>\n",
       "  <tbody>\n",
       "    <tr>\n",
       "      <th>0</th>\n",
       "      <td>0</td>\n",
       "      <td>a</td>\n",
       "    </tr>\n",
       "    <tr>\n",
       "      <th>1</th>\n",
       "      <td>1</td>\n",
       "      <td>b</td>\n",
       "    </tr>\n",
       "  </tbody>\n",
       "</table>\n",
       "</div>"
      ],
      "text/plain": [
       "   index  0\n",
       "0      0  a\n",
       "1      1  b"
      ]
     },
     "execution_count": 400,
     "metadata": {},
     "output_type": "execute_result"
    }
   ],
   "source": [
    "# combine_first\n",
    "s1.combine_first(s2).reset_index().head(2)"
   ]
  },
  {
   "cell_type": "code",
   "execution_count": 401,
   "id": "5356dbbb",
   "metadata": {
    "scrolled": true
   },
   "outputs": [
    {
     "data": {
      "text/html": [
       "<div>\n",
       "<style scoped>\n",
       "    .dataframe tbody tr th:only-of-type {\n",
       "        vertical-align: middle;\n",
       "    }\n",
       "\n",
       "    .dataframe tbody tr th {\n",
       "        vertical-align: top;\n",
       "    }\n",
       "\n",
       "    .dataframe thead th {\n",
       "        text-align: right;\n",
       "    }\n",
       "</style>\n",
       "<table border=\"1\" class=\"dataframe\">\n",
       "  <thead>\n",
       "    <tr style=\"text-align: right;\">\n",
       "      <th></th>\n",
       "      <th>index</th>\n",
       "      <th>0</th>\n",
       "    </tr>\n",
       "  </thead>\n",
       "  <tbody>\n",
       "    <tr>\n",
       "      <th>0</th>\n",
       "      <td>0</td>\n",
       "      <td>a</td>\n",
       "    </tr>\n",
       "    <tr>\n",
       "      <th>1</th>\n",
       "      <td>1</td>\n",
       "      <td>b</td>\n",
       "    </tr>\n",
       "  </tbody>\n",
       "</table>\n",
       "</div>"
      ],
      "text/plain": [
       "   index  0\n",
       "0      0  a\n",
       "1      1  b"
      ]
     },
     "execution_count": 401,
     "metadata": {},
     "output_type": "execute_result"
    }
   ],
   "source": [
    "ser1.combine_first(ser2).reset_index().head(2)"
   ]
  },
  {
   "cell_type": "code",
   "execution_count": 402,
   "id": "fb8d82fc",
   "metadata": {},
   "outputs": [],
   "source": [
    "s1 = pd.Series(list('abcd'))\n",
    "s2 = pd.Series(np.arange(100, 104))"
   ]
  },
  {
   "cell_type": "code",
   "execution_count": 403,
   "id": "e0670ab2",
   "metadata": {},
   "outputs": [
    {
     "data": {
      "text/plain": [
       "0    100\n",
       "1    101\n",
       "2    102\n",
       "3    103\n",
       "dtype: int64"
      ]
     },
     "execution_count": 403,
     "metadata": {},
     "output_type": "execute_result"
    }
   ],
   "source": [
    "s2"
   ]
  },
  {
   "cell_type": "code",
   "execution_count": 405,
   "id": "4cea4528",
   "metadata": {},
   "outputs": [
    {
     "data": {
      "text/html": [
       "<div>\n",
       "<style scoped>\n",
       "    .dataframe tbody tr th:only-of-type {\n",
       "        vertical-align: middle;\n",
       "    }\n",
       "\n",
       "    .dataframe tbody tr th {\n",
       "        vertical-align: top;\n",
       "    }\n",
       "\n",
       "    .dataframe thead th {\n",
       "        text-align: right;\n",
       "    }\n",
       "</style>\n",
       "<table border=\"1\" class=\"dataframe\">\n",
       "  <thead>\n",
       "    <tr style=\"text-align: right;\">\n",
       "      <th></th>\n",
       "      <th>0</th>\n",
       "      <th>1</th>\n",
       "    </tr>\n",
       "  </thead>\n",
       "  <tbody>\n",
       "    <tr>\n",
       "      <th>0</th>\n",
       "      <td>a</td>\n",
       "      <td>100</td>\n",
       "    </tr>\n",
       "    <tr>\n",
       "      <th>1</th>\n",
       "      <td>b</td>\n",
       "      <td>101</td>\n",
       "    </tr>\n",
       "  </tbody>\n",
       "</table>\n",
       "</div>"
      ],
      "text/plain": [
       "   0    1\n",
       "0  a  100\n",
       "1  b  101"
      ]
     },
     "execution_count": 405,
     "metadata": {},
     "output_type": "execute_result"
    }
   ],
   "source": [
    "pd.concat([s1, s2], axis = 1).head(2)"
   ]
  },
  {
   "cell_type": "code",
   "execution_count": 407,
   "id": "0d587107",
   "metadata": {},
   "outputs": [
    {
     "data": {
      "text/html": [
       "<div>\n",
       "<style scoped>\n",
       "    .dataframe tbody tr th:only-of-type {\n",
       "        vertical-align: middle;\n",
       "    }\n",
       "\n",
       "    .dataframe tbody tr th {\n",
       "        vertical-align: top;\n",
       "    }\n",
       "\n",
       "    .dataframe thead th {\n",
       "        text-align: right;\n",
       "    }\n",
       "</style>\n",
       "<table border=\"1\" class=\"dataframe\">\n",
       "  <thead>\n",
       "    <tr style=\"text-align: right;\">\n",
       "      <th></th>\n",
       "      <th>alpha</th>\n",
       "      <th>num</th>\n",
       "    </tr>\n",
       "  </thead>\n",
       "  <tbody>\n",
       "    <tr>\n",
       "      <th>0</th>\n",
       "      <td>a</td>\n",
       "      <td>0</td>\n",
       "    </tr>\n",
       "    <tr>\n",
       "      <th>1</th>\n",
       "      <td>b</td>\n",
       "      <td>1</td>\n",
       "    </tr>\n",
       "  </tbody>\n",
       "</table>\n",
       "</div>"
      ],
      "text/plain": [
       "  alpha  num\n",
       "0     a    0\n",
       "1     b    1"
      ]
     },
     "execution_count": 407,
     "metadata": {},
     "output_type": "execute_result"
    }
   ],
   "source": [
    "df_1 = pd.DataFrame({'alpha': ser1, 'num': ser2})\n",
    "df_1.head(2)"
   ]
  },
  {
   "cell_type": "code",
   "execution_count": 408,
   "id": "bb38264a",
   "metadata": {},
   "outputs": [
    {
     "data": {
      "text/html": [
       "<div>\n",
       "<style scoped>\n",
       "    .dataframe tbody tr th:only-of-type {\n",
       "        vertical-align: middle;\n",
       "    }\n",
       "\n",
       "    .dataframe tbody tr th {\n",
       "        vertical-align: top;\n",
       "    }\n",
       "\n",
       "    .dataframe thead th {\n",
       "        text-align: right;\n",
       "    }\n",
       "</style>\n",
       "<table border=\"1\" class=\"dataframe\">\n",
       "  <thead>\n",
       "    <tr style=\"text-align: right;\">\n",
       "      <th></th>\n",
       "      <th>alpha</th>\n",
       "      <th>num</th>\n",
       "    </tr>\n",
       "  </thead>\n",
       "  <tbody>\n",
       "    <tr>\n",
       "      <th>24</th>\n",
       "      <td>y</td>\n",
       "      <td>24</td>\n",
       "    </tr>\n",
       "    <tr>\n",
       "      <th>25</th>\n",
       "      <td>z</td>\n",
       "      <td>25</td>\n",
       "    </tr>\n",
       "  </tbody>\n",
       "</table>\n",
       "</div>"
      ],
      "text/plain": [
       "   alpha  num\n",
       "24     y   24\n",
       "25     z   25"
      ]
     },
     "execution_count": 408,
     "metadata": {},
     "output_type": "execute_result"
    }
   ],
   "source": [
    "df_1.tail(2)"
   ]
  },
  {
   "cell_type": "code",
   "execution_count": 409,
   "id": "59235c9e",
   "metadata": {},
   "outputs": [
    {
     "data": {
      "text/plain": [
       "a    0\n",
       "b    1\n",
       "dtype: int64"
      ]
     },
     "execution_count": 409,
     "metadata": {},
     "output_type": "execute_result"
    }
   ],
   "source": [
    "# 5. How to assign name to the series’ index?\n",
    "\"\"\"\n",
    "Give a name to the series ser calling it ‘alphabets'\n",
    "\n",
    "\"\"\"\n",
    "ser.head(2)"
   ]
  },
  {
   "cell_type": "code",
   "execution_count": 410,
   "id": "905ace54",
   "metadata": {},
   "outputs": [
    {
     "data": {
      "text/plain": [
       "a    0\n",
       "b    1\n",
       "Name: alphabets, dtype: int64"
      ]
     },
     "execution_count": 410,
     "metadata": {},
     "output_type": "execute_result"
    }
   ],
   "source": [
    "ser.rename(\"alphabets\").head(2)"
   ]
  },
  {
   "cell_type": "code",
   "execution_count": 417,
   "id": "76d8e6c0",
   "metadata": {},
   "outputs": [
    {
     "data": {
      "text/plain": [
       "a    0\n",
       "b    1\n",
       "Name: alphabets, dtype: int64"
      ]
     },
     "execution_count": 417,
     "metadata": {},
     "output_type": "execute_result"
    }
   ],
   "source": [
    "ser.name = 'alphabets'\n",
    "ser.head(2)"
   ]
  },
  {
   "cell_type": "code",
   "execution_count": 418,
   "id": "71f1998c",
   "metadata": {},
   "outputs": [],
   "source": [
    "# 6 How to get the items of series A not present in series B?\n",
    "\"\"\"\n",
    "\"\"\"\n",
    "sera = pd.Series([1, 2, 3, 4, 5])\n",
    "serb = pd.Series([4, 5, 6, 7, 8])"
   ]
  },
  {
   "cell_type": "code",
   "execution_count": 419,
   "id": "2255d228",
   "metadata": {},
   "outputs": [
    {
     "name": "stdout",
     "output_type": "stream",
     "text": [
      "1\n",
      "2\n",
      "3\n",
      "4\n",
      "5\n"
     ]
    }
   ],
   "source": [
    "for item in sera:\n",
    "    print(item)"
   ]
  },
  {
   "cell_type": "code",
   "execution_count": 420,
   "id": "a1d1881d",
   "metadata": {},
   "outputs": [
    {
     "data": {
      "text/plain": [
       "0    1\n",
       "1    2\n",
       "2    3\n",
       "dtype: int64"
      ]
     },
     "execution_count": 420,
     "metadata": {},
     "output_type": "execute_result"
    }
   ],
   "source": [
    "sera_not_b = []\n",
    "for item in sera:\n",
    "    if item in serb.tolist():\n",
    "        pass\n",
    "    else:\n",
    "        sera_not_b.append(item)\n",
    "    \n",
    "pd.Series(sera_not_b)"
   ]
  },
  {
   "cell_type": "code",
   "execution_count": 421,
   "id": "7db19c9f",
   "metadata": {},
   "outputs": [
    {
     "data": {
      "text/plain": [
       "3    4\n",
       "4    5\n",
       "dtype: int64"
      ]
     },
     "execution_count": 421,
     "metadata": {},
     "output_type": "execute_result"
    }
   ],
   "source": [
    "# item of a in b\n",
    "sera[sera.isin(serb)]"
   ]
  },
  {
   "cell_type": "code",
   "execution_count": 422,
   "id": "2140ebcf",
   "metadata": {},
   "outputs": [
    {
     "data": {
      "text/plain": [
       "0    1\n",
       "1    2\n",
       "2    3\n",
       "dtype: int64"
      ]
     },
     "execution_count": 422,
     "metadata": {},
     "output_type": "execute_result"
    }
   ],
   "source": [
    "# item of a not in b = a - (item of a in b)\n",
    "\n",
    "sera[~sera.isin(serb)]"
   ]
  },
  {
   "cell_type": "code",
   "execution_count": 423,
   "id": "af59d7ea",
   "metadata": {},
   "outputs": [
    {
     "data": {
      "text/plain": [
       "0    1\n",
       "1    2\n",
       "2    3\n",
       "dtype: int64"
      ]
     },
     "execution_count": 423,
     "metadata": {},
     "output_type": "execute_result"
    }
   ],
   "source": [
    "# to get the items of series A not present in series B?\n",
    "\n",
    "sera[~sera.isin(serb)]"
   ]
  },
  {
   "cell_type": "code",
   "execution_count": 424,
   "id": "732f8248",
   "metadata": {},
   "outputs": [
    {
     "data": {
      "text/plain": [
       "2    6\n",
       "3    7\n",
       "4    8\n",
       "dtype: int64"
      ]
     },
     "execution_count": 424,
     "metadata": {},
     "output_type": "execute_result"
    }
   ],
   "source": [
    "# 7. How to get the items of series B not present in series A?\n",
    "\n",
    "serb[~serb.isin(sera)]"
   ]
  },
  {
   "cell_type": "code",
   "execution_count": 427,
   "id": "9afe96bd",
   "metadata": {},
   "outputs": [
    {
     "data": {
      "text/plain": [
       "pandas.core.series.Series"
      ]
     },
     "execution_count": 427,
     "metadata": {},
     "output_type": "execute_result"
    }
   ],
   "source": [
    "# 8. How to get the items not common to both series A and series B?\n",
    "sera = pd.Series([1, 2, 3, 4, 5])\n",
    "serb = pd.Series([4, 5, 6, 7, 8])\n",
    "\n",
    "ser_a_not_in_b = sera[~sera.isin(serb)] # [1,2,3]\n",
    "ser_b_not_in_a = serb[~serb.isin(sera)] # [6,7,8]\n",
    "\n",
    "s = pd.concat([ser_a_not_in_b, ser_b_not_in_a], axis = \"rows\") # [1,2,3,6,7,8] # # axis = 0\n",
    "type(s)"
   ]
  },
  {
   "cell_type": "code",
   "execution_count": 428,
   "id": "b62e33a1",
   "metadata": {},
   "outputs": [
    {
     "data": {
      "text/plain": [
       "pandas.core.frame.DataFrame"
      ]
     },
     "execution_count": 428,
     "metadata": {},
     "output_type": "execute_result"
    }
   ],
   "source": [
    "d = pd.concat([ser_a_not_in_b, ser_b_not_in_a], axis = \"columns\") # axis = 1\n",
    "type(d)"
   ]
  },
  {
   "cell_type": "code",
   "execution_count": 429,
   "id": "ae75924c",
   "metadata": {
    "scrolled": true
   },
   "outputs": [
    {
     "data": {
      "text/plain": [
       "0    1\n",
       "1    2\n",
       "2    3\n",
       "5    6\n",
       "6    7\n",
       "7    8\n",
       "dtype: int64"
      ]
     },
     "execution_count": 429,
     "metadata": {},
     "output_type": "execute_result"
    }
   ],
   "source": [
    "# to get the items not common to both series A and series B?\n",
    "\n",
    "ser1 = pd.Series([1, 2, 3, 4, 5])\n",
    "ser2 = pd.Series([4, 5, 6, 7, 8])\n",
    "\n",
    "# Solution\n",
    "pd.Series(np.union1d(ser1, ser2))  # union  # 1, 2, 3, 4, 5, 6, 7, 8\n",
    "pd.Series(np.intersect1d(ser1, ser2))  # intersect # 4,5\n",
    "\n",
    "# items not common to both A & B\n",
    "ser_u[~ser_u.isin(ser_i)]"
   ]
  },
  {
   "cell_type": "code",
   "execution_count": 432,
   "id": "ae07440e",
   "metadata": {},
   "outputs": [
    {
     "data": {
      "text/plain": [
       "0    7.508708\n",
       "1    6.084185\n",
       "dtype: float64"
      ]
     },
     "execution_count": 432,
     "metadata": {},
     "output_type": "execute_result"
    }
   ],
   "source": [
    "# 9. How to get the minimum, 25th percentile, median, 75th, and max of a numeric series?\n",
    "\"\"\"\n",
    "Compute the minimum, 25th percentile, median, 75th, and maximum of ser.\n",
    "\"\"\"\n",
    "ser = pd.Series(np.random.normal(10, 5, 25))\n",
    "\n",
    "# random.normal(loc=0.0, scale=1.0, size=None)\n",
    "\n",
    "ser.head(2)"
   ]
  },
  {
   "cell_type": "code",
   "execution_count": 434,
   "id": "bbcf7b00",
   "metadata": {},
   "outputs": [
    {
     "data": {
      "text/plain": [
       "17.93252990678331"
      ]
     },
     "execution_count": 434,
     "metadata": {},
     "output_type": "execute_result"
    }
   ],
   "source": [
    "ser.max() # 100 %ile"
   ]
  },
  {
   "cell_type": "code",
   "execution_count": 435,
   "id": "b928853e",
   "metadata": {},
   "outputs": [
    {
     "data": {
      "text/plain": [
       "0.11423886285650653"
      ]
     },
     "execution_count": 435,
     "metadata": {},
     "output_type": "execute_result"
    }
   ],
   "source": [
    "ser.min() # 0%ile"
   ]
  },
  {
   "cell_type": "code",
   "execution_count": 436,
   "id": "8baf6142",
   "metadata": {},
   "outputs": [
    {
     "data": {
      "text/plain": [
       "count    25.000000\n",
       "mean      9.430872\n",
       "std       4.623397\n",
       "min       0.114239\n",
       "25%       6.084185\n",
       "50%       8.561907\n",
       "75%      13.700200\n",
       "max      17.932530\n",
       "dtype: float64"
      ]
     },
     "execution_count": 436,
     "metadata": {},
     "output_type": "execute_result"
    }
   ],
   "source": [
    "ser.describe()"
   ]
  },
  {
   "cell_type": "code",
   "execution_count": 438,
   "id": "e262f406",
   "metadata": {},
   "outputs": [
    {
     "data": {
      "text/plain": [
       "8.561906685250912"
      ]
     },
     "execution_count": 438,
     "metadata": {},
     "output_type": "execute_result"
    }
   ],
   "source": [
    "ser.median() # 50%ile"
   ]
  },
  {
   "cell_type": "code",
   "execution_count": 439,
   "id": "31c9ad1b",
   "metadata": {},
   "outputs": [],
   "source": [
    "# ser.info() AttributeError: 'Series' object has no attribute 'info'"
   ]
  },
  {
   "cell_type": "code",
   "execution_count": 442,
   "id": "4bcaba43",
   "metadata": {},
   "outputs": [
    {
     "data": {
      "text/plain": [
       "array([ 1.25117263,  7.70986507, 10.92259345, 13.36360403, 18.0949083 ])"
      ]
     },
     "execution_count": 442,
     "metadata": {},
     "output_type": "execute_result"
    }
   ],
   "source": [
    "# Compute the minimum(0), 25th percentile, median(50), 75th, and maximum(100) of ser\n",
    "np.percentile(ser, q=[0, 25, 50, 75, 100])"
   ]
  },
  {
   "cell_type": "code",
   "execution_count": 443,
   "id": "3dc28d35",
   "metadata": {},
   "outputs": [
    {
     "data": {
      "text/plain": [
       "array([ 1.25117263, 18.0949083 ])"
      ]
     },
     "execution_count": 443,
     "metadata": {},
     "output_type": "execute_result"
    }
   ],
   "source": [
    "np.percentile(ser, [0, 100])"
   ]
  },
  {
   "cell_type": "code",
   "execution_count": 444,
   "id": "d7e4d993",
   "metadata": {},
   "outputs": [
    {
     "data": {
      "text/plain": [
       "0    c\n",
       "1    e\n",
       "2    d\n",
       "3    g\n",
       "4    c\n",
       "dtype: object"
      ]
     },
     "execution_count": 444,
     "metadata": {},
     "output_type": "execute_result"
    }
   ],
   "source": [
    "# 10 How to get frequency counts of unique items of a series?\n",
    "\"\"\"\n",
    "Calculte the frequency counts of each unique value ser.\n",
    "\"\"\" \n",
    "\n",
    "serA = pd.Series(np.take(list('abcdefgh'), np.random.randint(8, size=30)))\n",
    "# random.randint(low, high=None, size=None, dtype=int)\n",
    "serA.head"
   ]
  },
  {
   "cell_type": "code",
   "execution_count": 450,
   "id": "522fbd59",
   "metadata": {},
   "outputs": [
    {
     "data": {
      "text/plain": [
       "c    6\n",
       "e    4\n",
       "d    4\n",
       "b    4\n",
       "f    3\n",
       "h    3\n",
       "a    3\n",
       "g    3\n",
       "dtype: int64"
      ]
     },
     "execution_count": 450,
     "metadata": {},
     "output_type": "execute_result"
    }
   ],
   "source": [
    "serA.value_counts()"
   ]
  },
  {
   "cell_type": "code",
   "execution_count": 451,
   "id": "70e5b6e7",
   "metadata": {
    "scrolled": false
   },
   "outputs": [
    {
     "data": {
      "text/plain": [
       "1    3\n",
       "4    2\n",
       "2    2\n",
       "0    2\n",
       "3    1\n",
       "dtype: int64"
      ]
     },
     "execution_count": 451,
     "metadata": {},
     "output_type": "execute_result"
    }
   ],
   "source": [
    "ser_num = pd.Series(np.random.randint(5, size=10))\n",
    "ser_num.value_counts()"
   ]
  },
  {
   "cell_type": "code",
   "execution_count": 479,
   "id": "c02fdb7f",
   "metadata": {
    "scrolled": true
   },
   "outputs": [
    {
     "data": {
      "text/plain": [
       "L    3\n",
       "X    2\n",
       "Y    2\n",
       "Z    1\n",
       "K    1\n",
       "M    1\n",
       "dtype: int64"
      ]
     },
     "execution_count": 479,
     "metadata": {},
     "output_type": "execute_result"
    }
   ],
   "source": [
    "serN =  pd.Series(np.take(list('XYZKLMN'), np.random.randint(7, size = 10)))\n",
    "serN\n",
    "serN.value_counts()"
   ]
  },
  {
   "cell_type": "code",
   "execution_count": 563,
   "id": "82144918",
   "metadata": {},
   "outputs": [
    {
     "data": {
      "text/plain": [
       "3    3\n",
       "5    2\n",
       "2    2\n",
       "9    1\n",
       "8    1\n",
       "7    1\n",
       "6    1\n",
       "4    1\n",
       "dtype: int64"
      ]
     },
     "execution_count": 563,
     "metadata": {},
     "output_type": "execute_result"
    }
   ],
   "source": [
    "# 11. How to keep only top 2 most frequent values as it is and replace everything else as ‘Other’?\n",
    "\"\"\"\n",
    "From ser, keep the top 2 most frequent items as it is and replace everything else as ‘Other’.\n",
    "\"\"\"\n",
    "np.random.RandomState(100)\n",
    "\n",
    "ser = pd.Series(np.random.randint(2, 10, [12]))\n",
    "# random.randint(low, high=None, size=None, dtype=int)\n",
    "\n",
    "ser\n",
    "ser.value_counts()"
   ]
  },
  {
   "cell_type": "code",
   "execution_count": 564,
   "id": "150f47c8",
   "metadata": {},
   "outputs": [
    {
     "data": {
      "text/plain": [
       "0           3\n",
       "1           3\n",
       "2      top2nd\n",
       "3     topmost\n",
       "4           7\n",
       "5           2\n",
       "6           9\n",
       "7           5\n",
       "8           4\n",
       "9           3\n",
       "10          2\n",
       "11          6\n",
       "dtype: object"
      ]
     },
     "execution_count": 564,
     "metadata": {},
     "output_type": "execute_result"
    }
   ],
   "source": [
    "ser[ser.value_counts().index[:1]] = \"topmost\"\n",
    "ser[ser.value_counts().index[1:2]] = \"top2nd\"\n",
    "ser"
   ]
  },
  {
   "cell_type": "code",
   "execution_count": 565,
   "id": "142f57b0",
   "metadata": {},
   "outputs": [
    {
     "data": {
      "text/plain": [
       "3          3\n",
       "2          2\n",
       "top2nd     1\n",
       "9          1\n",
       "7          1\n",
       "6          1\n",
       "5          1\n",
       "4          1\n",
       "topmost    1\n",
       "dtype: int64"
      ]
     },
     "execution_count": 565,
     "metadata": {},
     "output_type": "execute_result"
    }
   ],
   "source": [
    "ser.value_counts()"
   ]
  },
  {
   "cell_type": "code",
   "execution_count": 566,
   "id": "fbf50afe",
   "metadata": {
    "scrolled": true
   },
   "outputs": [
    {
     "data": {
      "text/plain": [
       "0         3\n",
       "1         3\n",
       "2     Other\n",
       "3     Other\n",
       "4     Other\n",
       "5         2\n",
       "6     Other\n",
       "7     Other\n",
       "8     Other\n",
       "9         3\n",
       "10        2\n",
       "11    Other\n",
       "dtype: object"
      ]
     },
     "execution_count": 566,
     "metadata": {},
     "output_type": "execute_result"
    }
   ],
   "source": [
    "ser[~ser.isin(ser.value_counts().index[:2])] = 'Other'\n",
    "ser"
   ]
  },
  {
   "cell_type": "code",
   "execution_count": 569,
   "id": "ffca051b",
   "metadata": {},
   "outputs": [
    {
     "data": {
      "text/plain": [
       "0     0.474060\n",
       "1     0.448165\n",
       "2     0.868625\n",
       "3     0.053092\n",
       "4     0.341339\n",
       "5     0.246452\n",
       "6     0.431895\n",
       "7     0.627600\n",
       "8     0.105593\n",
       "9     0.857261\n",
       "10    0.047855\n",
       "11    0.760218\n",
       "12    0.557584\n",
       "13    0.540689\n",
       "14    0.831905\n",
       "15    0.797014\n",
       "16    0.891577\n",
       "17    0.199621\n",
       "18    0.720492\n",
       "19    0.490443\n",
       "dtype: float64"
      ]
     },
     "execution_count": 569,
     "metadata": {},
     "output_type": "execute_result"
    }
   ],
   "source": [
    "# 12. How to bin a numeric series to 10 groups of equal size?\n",
    "\n",
    "ser = pd.Series(np.random.random(20))\n",
    "ser"
   ]
  },
  {
   "cell_type": "code",
   "execution_count": 573,
   "id": "4e49f4f6",
   "metadata": {},
   "outputs": [
    {
     "data": {
      "text/plain": [
       "0      5th\n",
       "1      4th\n",
       "2     10th\n",
       "3      1st\n",
       "4      3rd\n",
       "5      3rd\n",
       "6      4th\n",
       "7      7th\n",
       "8      2nd\n",
       "9      9th\n",
       "10     1st\n",
       "11     8th\n",
       "12     6th\n",
       "13     6th\n",
       "14     9th\n",
       "15     8th\n",
       "16    10th\n",
       "17     2nd\n",
       "18     7th\n",
       "19     5th\n",
       "dtype: category\n",
       "Categories (10, object): ['1st' < '2nd' < '3rd' < '4th' ... '7th' < '8th' < '9th' < '10th']"
      ]
     },
     "execution_count": 573,
     "metadata": {},
     "output_type": "execute_result"
    }
   ],
   "source": [
    "pd.qcut(ser, q=[0, .10, .20, .3, .4, .5, .6, .7, .8, .9, 1], \n",
    "        labels=['1st', '2nd', '3rd', '4th', '5th', '6th', '7th', '8th', '9th', '10th'])"
   ]
  },
  {
   "cell_type": "code",
   "execution_count": 577,
   "id": "d256034c",
   "metadata": {},
   "outputs": [
    {
     "data": {
      "text/plain": [
       "9th    4\n",
       "7th    4\n",
       "5th    4\n",
       "3rd    4\n",
       "1st    4\n",
       "dtype: int64"
      ]
     },
     "execution_count": 577,
     "metadata": {},
     "output_type": "execute_result"
    }
   ],
   "source": [
    "pd.qcut(ser, q=[0, .20, .4, .6, .8, 1], \n",
    "        labels=['1st', '3rd', '5th', '7th', '9th']).value_counts()"
   ]
  },
  {
   "cell_type": "code",
   "execution_count": 581,
   "id": "4e832f2e",
   "metadata": {},
   "outputs": [
    {
     "data": {
      "text/plain": [
       "35"
      ]
     },
     "execution_count": 581,
     "metadata": {},
     "output_type": "execute_result"
    }
   ],
   "source": [
    "# 12.1. How to convert a numpy array to a dataframe of given shape? (L1)\n",
    "\"\"\"\n",
    "L1 Reshape the series ser into a dataframe with 7 rows and 5 columns Input\n",
    "\"\"\"\n",
    "ser = pd.Series(np.random.randint(1, 10, 35))\n",
    "\n",
    "# random.randint(low, high=None, size=None, dtype=int)\n",
    "\n",
    "len(ser)"
   ]
  },
  {
   "cell_type": "code",
   "execution_count": 583,
   "id": "7c1eeafd",
   "metadata": {},
   "outputs": [
    {
     "data": {
      "text/plain": [
       "count    35.000000\n",
       "mean      4.885714\n",
       "std       2.773524\n",
       "min       1.000000\n",
       "25%       3.000000\n",
       "50%       4.000000\n",
       "75%       7.000000\n",
       "max       9.000000\n",
       "dtype: float64"
      ]
     },
     "execution_count": 583,
     "metadata": {},
     "output_type": "execute_result"
    }
   ],
   "source": [
    "# ser.info() # # AttributeError: 'Series' object has no attribute 'info'\n",
    "ser.describe()"
   ]
  },
  {
   "cell_type": "code",
   "execution_count": 584,
   "id": "c47606f2",
   "metadata": {},
   "outputs": [
    {
     "data": {
      "text/plain": [
       "(35,)"
      ]
     },
     "execution_count": 584,
     "metadata": {},
     "output_type": "execute_result"
    }
   ],
   "source": [
    "ser.shape"
   ]
  },
  {
   "cell_type": "code",
   "execution_count": 594,
   "id": "e0ae16c7",
   "metadata": {},
   "outputs": [
    {
     "data": {
      "text/plain": [
       "(35, 1)"
      ]
     },
     "execution_count": 594,
     "metadata": {},
     "output_type": "execute_result"
    }
   ],
   "source": [
    "# ser.reshape(7,5)\n",
    "# # AttributeError: 'Series' object has no attribute 'reshape'\n",
    "\n",
    "df_ser = pd.DataFrame(ser)\n",
    "df_ser.shape"
   ]
  },
  {
   "cell_type": "code",
   "execution_count": 596,
   "id": "32938f67",
   "metadata": {},
   "outputs": [],
   "source": [
    "# df_ser.reshape(7,5)\n",
    "# # AttributeError: 'DataFrame' object has no attribute 'reshape'"
   ]
  },
  {
   "cell_type": "code",
   "execution_count": 600,
   "id": "426e4d9c",
   "metadata": {},
   "outputs": [
    {
     "data": {
      "text/plain": [
       "array([[4, 8, 6, 3, 7],\n",
       "       [5, 1, 4, 7, 9],\n",
       "       [7, 1, 9, 4, 4],\n",
       "       [9, 1, 8, 7, 1],\n",
       "       [3, 4, 6, 3, 6],\n",
       "       [1, 8, 9, 4, 5],\n",
       "       [3, 2, 2, 9, 1]])"
      ]
     },
     "execution_count": 600,
     "metadata": {},
     "output_type": "execute_result"
    }
   ],
   "source": [
    "np.array(ser).reshape(7,5)"
   ]
  },
  {
   "cell_type": "code",
   "execution_count": 601,
   "id": "96382c64",
   "metadata": {},
   "outputs": [
    {
     "data": {
      "text/plain": [
       "array([4, 8, 6, 3, 7, 5, 1, 4, 7, 9, 7, 1, 9, 4, 4, 9, 1, 8, 7, 1, 3, 4,\n",
       "       6, 3, 6, 1, 8, 9, 4, 5, 3, 2, 2, 9, 1])"
      ]
     },
     "execution_count": 601,
     "metadata": {},
     "output_type": "execute_result"
    }
   ],
   "source": [
    "np_ser = np.array(ser)\n",
    "np_ser"
   ]
  },
  {
   "cell_type": "code",
   "execution_count": 604,
   "id": "e7863eff",
   "metadata": {},
   "outputs": [
    {
     "data": {
      "text/plain": [
       "(35,)"
      ]
     },
     "execution_count": 604,
     "metadata": {},
     "output_type": "execute_result"
    }
   ],
   "source": [
    "np_ser.shape"
   ]
  },
  {
   "cell_type": "code",
   "execution_count": 605,
   "id": "6cbab0bc",
   "metadata": {},
   "outputs": [
    {
     "data": {
      "text/plain": [
       "array([[4, 8, 6, 3, 7],\n",
       "       [5, 1, 4, 7, 9],\n",
       "       [7, 1, 9, 4, 4],\n",
       "       [9, 1, 8, 7, 1],\n",
       "       [3, 4, 6, 3, 6],\n",
       "       [1, 8, 9, 4, 5],\n",
       "       [3, 2, 2, 9, 1]])"
      ]
     },
     "execution_count": 605,
     "metadata": {},
     "output_type": "execute_result"
    }
   ],
   "source": [
    "np_ser.reshape(7,5)"
   ]
  },
  {
   "cell_type": "code",
   "execution_count": 607,
   "id": "424b81c8",
   "metadata": {},
   "outputs": [
    {
     "data": {
      "text/plain": [
       "array([[4, 8, 6, 3, 7],\n",
       "       [5, 1, 4, 7, 9],\n",
       "       [7, 1, 9, 4, 4],\n",
       "       [9, 1, 8, 7, 1],\n",
       "       [3, 4, 6, 3, 6],\n",
       "       [1, 8, 9, 4, 5],\n",
       "       [3, 2, 2, 9, 1]])"
      ]
     },
     "execution_count": 607,
     "metadata": {},
     "output_type": "execute_result"
    }
   ],
   "source": [
    "# Also\n",
    "ser.values.reshape(7,5)"
   ]
  },
  {
   "cell_type": "code",
   "execution_count": 609,
   "id": "43c8cb25",
   "metadata": {},
   "outputs": [
    {
     "data": {
      "text/html": [
       "<div>\n",
       "<style scoped>\n",
       "    .dataframe tbody tr th:only-of-type {\n",
       "        vertical-align: middle;\n",
       "    }\n",
       "\n",
       "    .dataframe tbody tr th {\n",
       "        vertical-align: top;\n",
       "    }\n",
       "\n",
       "    .dataframe thead th {\n",
       "        text-align: right;\n",
       "    }\n",
       "</style>\n",
       "<table border=\"1\" class=\"dataframe\">\n",
       "  <thead>\n",
       "    <tr style=\"text-align: right;\">\n",
       "      <th></th>\n",
       "      <th>0</th>\n",
       "      <th>1</th>\n",
       "      <th>2</th>\n",
       "      <th>3</th>\n",
       "      <th>4</th>\n",
       "    </tr>\n",
       "  </thead>\n",
       "  <tbody>\n",
       "    <tr>\n",
       "      <th>0</th>\n",
       "      <td>4</td>\n",
       "      <td>8</td>\n",
       "      <td>6</td>\n",
       "      <td>3</td>\n",
       "      <td>7</td>\n",
       "    </tr>\n",
       "    <tr>\n",
       "      <th>1</th>\n",
       "      <td>5</td>\n",
       "      <td>1</td>\n",
       "      <td>4</td>\n",
       "      <td>7</td>\n",
       "      <td>9</td>\n",
       "    </tr>\n",
       "    <tr>\n",
       "      <th>2</th>\n",
       "      <td>7</td>\n",
       "      <td>1</td>\n",
       "      <td>9</td>\n",
       "      <td>4</td>\n",
       "      <td>4</td>\n",
       "    </tr>\n",
       "    <tr>\n",
       "      <th>3</th>\n",
       "      <td>9</td>\n",
       "      <td>1</td>\n",
       "      <td>8</td>\n",
       "      <td>7</td>\n",
       "      <td>1</td>\n",
       "    </tr>\n",
       "    <tr>\n",
       "      <th>4</th>\n",
       "      <td>3</td>\n",
       "      <td>4</td>\n",
       "      <td>6</td>\n",
       "      <td>3</td>\n",
       "      <td>6</td>\n",
       "    </tr>\n",
       "    <tr>\n",
       "      <th>5</th>\n",
       "      <td>1</td>\n",
       "      <td>8</td>\n",
       "      <td>9</td>\n",
       "      <td>4</td>\n",
       "      <td>5</td>\n",
       "    </tr>\n",
       "    <tr>\n",
       "      <th>6</th>\n",
       "      <td>3</td>\n",
       "      <td>2</td>\n",
       "      <td>2</td>\n",
       "      <td>9</td>\n",
       "      <td>1</td>\n",
       "    </tr>\n",
       "  </tbody>\n",
       "</table>\n",
       "</div>"
      ],
      "text/plain": [
       "   0  1  2  3  4\n",
       "0  4  8  6  3  7\n",
       "1  5  1  4  7  9\n",
       "2  7  1  9  4  4\n",
       "3  9  1  8  7  1\n",
       "4  3  4  6  3  6\n",
       "5  1  8  9  4  5\n",
       "6  3  2  2  9  1"
      ]
     },
     "execution_count": 609,
     "metadata": {},
     "output_type": "execute_result"
    }
   ],
   "source": [
    "df_reshape = pd.DataFrame(ser.values.reshape(7,5))\n",
    "df_reshape"
   ]
  },
  {
   "cell_type": "code",
   "execution_count": 627,
   "id": "7caa0391",
   "metadata": {},
   "outputs": [
    {
     "data": {
      "text/plain": [
       "0    2\n",
       "1    5\n",
       "2    1\n",
       "3    9\n",
       "4    9\n",
       "5    4\n",
       "6    4\n",
       "dtype: int64"
      ]
     },
     "execution_count": 627,
     "metadata": {},
     "output_type": "execute_result"
    }
   ],
   "source": [
    "# # 13. How to find the positions of numbers that are multiples of 3 from a series?\n",
    "\"\"\"\n",
    "Find the positions of numbers that are multiples of 3 from ser.\n",
    "\"\"\" \n",
    "ser_postion = pd.Series(np.random.randint(1, 10, 7))\n",
    "ser_postion"
   ]
  },
  {
   "cell_type": "code",
   "execution_count": 614,
   "id": "120f069d",
   "metadata": {},
   "outputs": [
    {
     "data": {
      "text/plain": [
       "6"
      ]
     },
     "execution_count": 614,
     "metadata": {},
     "output_type": "execute_result"
    }
   ],
   "source": [
    "ser_postion.loc[3]"
   ]
  },
  {
   "cell_type": "code",
   "execution_count": 628,
   "id": "a49fccd1",
   "metadata": {
    "scrolled": true
   },
   "outputs": [
    {
     "data": {
      "text/plain": [
       "(array([3, 4]),)"
      ]
     },
     "execution_count": 628,
     "metadata": {},
     "output_type": "execute_result"
    }
   ],
   "source": [
    "np.where(ser_postion % 3==0)"
   ]
  },
  {
   "cell_type": "code",
   "execution_count": 630,
   "id": "e891ee8a",
   "metadata": {},
   "outputs": [
    {
     "data": {
      "text/plain": [
       "(array([ 2,  3,  9, 12, 15, 20, 22, 23, 24, 27, 30, 33]),)"
      ]
     },
     "execution_count": 630,
     "metadata": {},
     "output_type": "execute_result"
    }
   ],
   "source": [
    "np.where(ser % 3==0)"
   ]
  },
  {
   "cell_type": "code",
   "execution_count": 629,
   "id": "d99ada6f",
   "metadata": {},
   "outputs": [
    {
     "name": "stdout",
     "output_type": "stream",
     "text": [
      "1 2 3 4 5 3  42 4 2 4 2  42 5 3 4 3 \n",
      "1 2 4 5 4 2 4 2 5 4\n"
     ]
    }
   ],
   "source": [
    "x = input()\n",
    "num = list(map(int, x.split()))\n",
    "l =[]\n",
    "for i in num:  \n",
    "    if i%3 != 0:\n",
    "        l.append(i)\n",
    "print(*l, sep = \" \")"
   ]
  },
  {
   "cell_type": "code",
   "execution_count": 623,
   "id": "afc05d03",
   "metadata": {},
   "outputs": [
    {
     "name": "stdout",
     "output_type": "stream",
     "text": [
      "1 2 3 45 6 7\n",
      "1 2 7\n"
     ]
    }
   ],
   "source": [
    "print(*(item for item in map(int, input().split()) if item % 3))"
   ]
  },
  {
   "cell_type": "code",
   "execution_count": 631,
   "id": "fffcdba1",
   "metadata": {},
   "outputs": [],
   "source": [
    "# 14. How to extract items at given positions from a series\n",
    "ser_pos = pd.Series(list('abcdefghijklmnopqrstuvwxyz'))\n",
    "pos = [0, 4, 8, 14, 20]"
   ]
  },
  {
   "cell_type": "code",
   "execution_count": 633,
   "id": "7e2403fb",
   "metadata": {},
   "outputs": [
    {
     "data": {
      "text/plain": [
       "0     a\n",
       "4     e\n",
       "8     i\n",
       "14    o\n",
       "20    u\n",
       "dtype: object"
      ]
     },
     "execution_count": 633,
     "metadata": {},
     "output_type": "execute_result"
    }
   ],
   "source": [
    "ser_pos.take(pos)"
   ]
  },
  {
   "cell_type": "code",
   "execution_count": 646,
   "id": "0e45ea77",
   "metadata": {},
   "outputs": [
    {
     "data": {
      "text/plain": [
       "0     a\n",
       "4     e\n",
       "8     i\n",
       "14    o\n",
       "20    u\n",
       "dtype: object"
      ]
     },
     "execution_count": 646,
     "metadata": {},
     "output_type": "execute_result"
    }
   ],
   "source": [
    "ser_pos.iloc[pos]"
   ]
  },
  {
   "cell_type": "code",
   "execution_count": 647,
   "id": "c21dc99e",
   "metadata": {},
   "outputs": [
    {
     "data": {
      "text/plain": [
       "0     a\n",
       "4     e\n",
       "8     i\n",
       "14    o\n",
       "20    u\n",
       "dtype: object"
      ]
     },
     "execution_count": 647,
     "metadata": {},
     "output_type": "execute_result"
    }
   ],
   "source": [
    "ser_pos.loc[pos]"
   ]
  },
  {
   "cell_type": "code",
   "execution_count": 652,
   "id": "42e56efe",
   "metadata": {},
   "outputs": [],
   "source": [
    "# 15. How to stack two series vertically and horizontally ?\n",
    "ser_num = pd.Series(range(5))\n",
    "ser_AB = pd.Series(list('abcde'))"
   ]
  },
  {
   "cell_type": "code",
   "execution_count": 653,
   "id": "4fd4bfd3",
   "metadata": {},
   "outputs": [
    {
     "data": {
      "text/html": [
       "<div>\n",
       "<style scoped>\n",
       "    .dataframe tbody tr th:only-of-type {\n",
       "        vertical-align: middle;\n",
       "    }\n",
       "\n",
       "    .dataframe tbody tr th {\n",
       "        vertical-align: top;\n",
       "    }\n",
       "\n",
       "    .dataframe thead th {\n",
       "        text-align: right;\n",
       "    }\n",
       "</style>\n",
       "<table border=\"1\" class=\"dataframe\">\n",
       "  <thead>\n",
       "    <tr style=\"text-align: right;\">\n",
       "      <th></th>\n",
       "      <th>0</th>\n",
       "      <th>1</th>\n",
       "    </tr>\n",
       "  </thead>\n",
       "  <tbody>\n",
       "    <tr>\n",
       "      <th>0</th>\n",
       "      <td>0</td>\n",
       "      <td>a</td>\n",
       "    </tr>\n",
       "    <tr>\n",
       "      <th>1</th>\n",
       "      <td>1</td>\n",
       "      <td>b</td>\n",
       "    </tr>\n",
       "    <tr>\n",
       "      <th>2</th>\n",
       "      <td>2</td>\n",
       "      <td>c</td>\n",
       "    </tr>\n",
       "    <tr>\n",
       "      <th>3</th>\n",
       "      <td>3</td>\n",
       "      <td>d</td>\n",
       "    </tr>\n",
       "    <tr>\n",
       "      <th>4</th>\n",
       "      <td>4</td>\n",
       "      <td>e</td>\n",
       "    </tr>\n",
       "  </tbody>\n",
       "</table>\n",
       "</div>"
      ],
      "text/plain": [
       "   0  1\n",
       "0  0  a\n",
       "1  1  b\n",
       "2  2  c\n",
       "3  3  d\n",
       "4  4  e"
      ]
     },
     "execution_count": 653,
     "metadata": {},
     "output_type": "execute_result"
    }
   ],
   "source": [
    "# vertically >>  axis = 'columns' ,OR,  axis = 1\n",
    "pd.concat([ser_num, ser_AB], axis = 'columns')"
   ]
  },
  {
   "cell_type": "code",
   "execution_count": 654,
   "id": "a48dfff9",
   "metadata": {},
   "outputs": [
    {
     "data": {
      "text/plain": [
       "0    0\n",
       "1    1\n",
       "2    2\n",
       "3    3\n",
       "4    4\n",
       "0    a\n",
       "1    b\n",
       "2    c\n",
       "3    d\n",
       "4    e\n",
       "dtype: object"
      ]
     },
     "execution_count": 654,
     "metadata": {},
     "output_type": "execute_result"
    }
   ],
   "source": [
    "# horizontally >>  axis = 'rows' ,OR,  axis = 0\n",
    "pd.concat([ser_num, ser_AB], axis = 'rows')"
   ]
  },
  {
   "cell_type": "code",
   "execution_count": 651,
   "id": "e2e39cb4",
   "metadata": {},
   "outputs": [
    {
     "data": {
      "text/plain": [
       "0    0\n",
       "1    1\n",
       "2    2\n",
       "3    3\n",
       "4    4\n",
       "0    a\n",
       "1    b\n",
       "2    c\n",
       "3    d\n",
       "4    e\n",
       "dtype: object"
      ]
     },
     "execution_count": 651,
     "metadata": {},
     "output_type": "execute_result"
    }
   ],
   "source": [
    "pd.concat([ser_num, ser_AB])"
   ]
  },
  {
   "cell_type": "code",
   "execution_count": 655,
   "id": "fa091bbf",
   "metadata": {},
   "outputs": [
    {
     "data": {
      "text/plain": [
       "0    0\n",
       "1    1\n",
       "2    2\n",
       "3    3\n",
       "4    4\n",
       "0    a\n",
       "1    b\n",
       "2    c\n",
       "3    d\n",
       "4    e\n",
       "dtype: object"
      ]
     },
     "execution_count": 655,
     "metadata": {},
     "output_type": "execute_result"
    }
   ],
   "source": [
    "ser1 = pd.Series(range(5))\n",
    "ser2 = pd.Series(list('abcde'))\n",
    "\n",
    "# Output\n",
    "# Vertical\n",
    "ser1.append(ser2)"
   ]
  },
  {
   "cell_type": "code",
   "execution_count": 656,
   "id": "bf28882a",
   "metadata": {},
   "outputs": [
    {
     "data": {
      "text/html": [
       "<div>\n",
       "<style scoped>\n",
       "    .dataframe tbody tr th:only-of-type {\n",
       "        vertical-align: middle;\n",
       "    }\n",
       "\n",
       "    .dataframe tbody tr th {\n",
       "        vertical-align: top;\n",
       "    }\n",
       "\n",
       "    .dataframe thead th {\n",
       "        text-align: right;\n",
       "    }\n",
       "</style>\n",
       "<table border=\"1\" class=\"dataframe\">\n",
       "  <thead>\n",
       "    <tr style=\"text-align: right;\">\n",
       "      <th></th>\n",
       "      <th>0</th>\n",
       "      <th>1</th>\n",
       "    </tr>\n",
       "  </thead>\n",
       "  <tbody>\n",
       "    <tr>\n",
       "      <th>0</th>\n",
       "      <td>0</td>\n",
       "      <td>a</td>\n",
       "    </tr>\n",
       "    <tr>\n",
       "      <th>1</th>\n",
       "      <td>1</td>\n",
       "      <td>b</td>\n",
       "    </tr>\n",
       "    <tr>\n",
       "      <th>2</th>\n",
       "      <td>2</td>\n",
       "      <td>c</td>\n",
       "    </tr>\n",
       "    <tr>\n",
       "      <th>3</th>\n",
       "      <td>3</td>\n",
       "      <td>d</td>\n",
       "    </tr>\n",
       "    <tr>\n",
       "      <th>4</th>\n",
       "      <td>4</td>\n",
       "      <td>e</td>\n",
       "    </tr>\n",
       "  </tbody>\n",
       "</table>\n",
       "</div>"
      ],
      "text/plain": [
       "   0  1\n",
       "0  0  a\n",
       "1  1  b\n",
       "2  2  c\n",
       "3  3  d\n",
       "4  4  e"
      ]
     },
     "execution_count": 656,
     "metadata": {},
     "output_type": "execute_result"
    }
   ],
   "source": [
    "# Horizontal\n",
    "df = pd.concat([ser1, ser2], axis=1)\n",
    "df"
   ]
  },
  {
   "cell_type": "code",
   "execution_count": 657,
   "id": "7b18c973",
   "metadata": {},
   "outputs": [],
   "source": [
    "# 16. How to get the positions of items of series A in another series B?\n",
    "\n",
    "serA = pd.Series([10, 9, 6, 5, 3, 1, 12, 8, 13])\n",
    "serB = pd.Series([1, 3, 10, 13])"
   ]
  },
  {
   "cell_type": "code",
   "execution_count": 663,
   "id": "2b27b226",
   "metadata": {},
   "outputs": [
    {
     "data": {
      "text/plain": [
       "array([ 1,  3,  5,  6,  8,  9, 10, 12, 13])"
      ]
     },
     "execution_count": 663,
     "metadata": {},
     "output_type": "execute_result"
    }
   ],
   "source": [
    "np.union1d(serA,serB)"
   ]
  },
  {
   "cell_type": "code",
   "execution_count": 667,
   "id": "9d8780db",
   "metadata": {},
   "outputs": [
    {
     "data": {
      "text/plain": [
       "array([ 1,  3, 10, 13])"
      ]
     },
     "execution_count": 667,
     "metadata": {},
     "output_type": "execute_result"
    }
   ],
   "source": [
    "np.intersect1d(serA,serB)"
   ]
  },
  {
   "cell_type": "code",
   "execution_count": 670,
   "id": "5aa02836",
   "metadata": {},
   "outputs": [
    {
     "data": {
      "text/plain": [
       "0    10\n",
       "4     3\n",
       "5     1\n",
       "8    13\n",
       "dtype: int64"
      ]
     },
     "execution_count": 670,
     "metadata": {},
     "output_type": "execute_result"
    }
   ],
   "source": [
    "# A in B\n",
    "serA[serA.isin(serB)]"
   ]
  },
  {
   "cell_type": "code",
   "execution_count": 674,
   "id": "e5b37480",
   "metadata": {},
   "outputs": [
    {
     "data": {
      "text/plain": [
       "[5, 4, 0, 8]"
      ]
     },
     "execution_count": 674,
     "metadata": {},
     "output_type": "execute_result"
    }
   ],
   "source": [
    "[np.where(i == serA)[0].tolist()[0] for i in serB]"
   ]
  },
  {
   "cell_type": "code",
   "execution_count": 678,
   "id": "8c497cd4",
   "metadata": {},
   "outputs": [
    {
     "data": {
      "text/plain": [
       "[5, 4, 0, 8]"
      ]
     },
     "execution_count": 678,
     "metadata": {},
     "output_type": "execute_result"
    }
   ],
   "source": [
    "[pd.Index(serA).get_loc(i) for i in serB]"
   ]
  },
  {
   "cell_type": "code",
   "execution_count": 685,
   "id": "5ab4fe81",
   "metadata": {},
   "outputs": [],
   "source": [
    "# 17. How to compute the mean squared error on a truth and predicted series?\n",
    "truth = pd.Series(range(10))\n",
    "pred = pd.Series(range(10)) + np.random.random(10)"
   ]
  },
  {
   "cell_type": "code",
   "execution_count": 694,
   "id": "1d776e30",
   "metadata": {},
   "outputs": [
    {
     "data": {
      "text/plain": [
       "0.48282765846287523"
      ]
     },
     "execution_count": 694,
     "metadata": {},
     "output_type": "execute_result"
    }
   ],
   "source": [
    "sum((truth-pred)**2)/len(truth)"
   ]
  },
  {
   "cell_type": "code",
   "execution_count": 695,
   "id": "9f8fd8e4",
   "metadata": {},
   "outputs": [
    {
     "data": {
      "text/plain": [
       "0.48282765846287523"
      ]
     },
     "execution_count": 695,
     "metadata": {},
     "output_type": "execute_result"
    }
   ],
   "source": [
    "np.mean((truth-pred)**2)"
   ]
  },
  {
   "cell_type": "code",
   "execution_count": 702,
   "id": "17a40a6b",
   "metadata": {},
   "outputs": [
    {
     "data": {
      "text/plain": [
       "0      go\n",
       "1    went\n",
       "2    gone\n",
       "dtype: object"
      ]
     },
     "execution_count": 702,
     "metadata": {},
     "output_type": "execute_result"
    }
   ],
   "source": [
    "# 18. How to convert the first character of each element in a series to uppercase?\n",
    "ser_up = pd.Series([\"go\", \"went\", \"gone\"])\n",
    "ser_up"
   ]
  },
  {
   "cell_type": "code",
   "execution_count": 707,
   "id": "df7ec7da",
   "metadata": {},
   "outputs": [
    {
     "data": {
      "text/plain": [
       "0      Go\n",
       "1    Went\n",
       "2    Gone\n",
       "dtype: object"
      ]
     },
     "execution_count": 707,
     "metadata": {},
     "output_type": "execute_result"
    }
   ],
   "source": [
    "ser_upper = []\n",
    "for val in ser_up:\n",
    "    ser_upper.append(val.title())\n",
    "pd.Series(ser_upper)"
   ]
  },
  {
   "cell_type": "code",
   "execution_count": 708,
   "id": "dd2e64a8",
   "metadata": {},
   "outputs": [
    {
     "data": {
      "text/plain": [
       "0     Fruit\n",
       "1     Apple\n",
       "2    Banana\n",
       "3    Orange\n",
       "dtype: object"
      ]
     },
     "execution_count": 708,
     "metadata": {},
     "output_type": "execute_result"
    }
   ],
   "source": [
    "ser = pd.Series(['fruit', 'apple', 'banana', 'orange'])\n",
    "ser.map(lambda x: x.title())"
   ]
  },
  {
   "cell_type": "code",
   "execution_count": null,
   "id": "2d0e2d0f",
   "metadata": {},
   "outputs": [],
   "source": []
  }
 ],
 "metadata": {
  "kernelspec": {
   "display_name": "Python 3",
   "language": "python",
   "name": "python3"
  },
  "language_info": {
   "codemirror_mode": {
    "name": "ipython",
    "version": 3
   },
   "file_extension": ".py",
   "mimetype": "text/x-python",
   "name": "python",
   "nbconvert_exporter": "python",
   "pygments_lexer": "ipython3",
   "version": "3.6.8"
  }
 },
 "nbformat": 4,
 "nbformat_minor": 5
}
