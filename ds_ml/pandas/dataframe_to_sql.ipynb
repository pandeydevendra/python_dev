{
 "cells": [
  {
   "cell_type": "code",
   "execution_count": 1,
   "metadata": {},
   "outputs": [],
   "source": [
    "# import pandas library\n",
    "import pandas as pd"
   ]
  },
  {
   "cell_type": "code",
   "execution_count": 2,
   "metadata": {},
   "outputs": [
    {
     "name": "stdout",
     "output_type": "stream",
     "text": [
      "     Names         DOB\n",
      "0  Abhinav  10/01/2009\n",
      "1    Aryan  24/03/2009\n",
      "2  Manthan  28/02/2009\n"
     ]
    }
   ],
   "source": [
    "# create a dataframe\n",
    "# object from dictionary\n",
    "dataset = pd.DataFrame({'Names':['Abhinav','Aryan',\n",
    "                                 'Manthan'],\n",
    "                        'DOB' : ['10/01/2009','24/03/2009',\n",
    "                                '28/02/2009']})\n",
    "# show the dataframe\n",
    "print(dataset)"
   ]
  },
  {
   "cell_type": "code",
   "execution_count": 3,
   "metadata": {},
   "outputs": [
    {
     "name": "stdout",
     "output_type": "stream",
     "text": [
      "[(0, 'Abhinav', '10/01/2009'), (1, 'Aryan', '24/03/2009'), (2, 'Manthan', '28/02/2009')]\n"
     ]
    }
   ],
   "source": [
    "#importing sql library\n",
    "from sqlalchemy import create_engine\n",
    " \n",
    "# create a reference\n",
    "# for sql library\n",
    "engine = create_engine('sqlite://',\n",
    "                       echo = False)\n",
    " \n",
    "# attach the data frame to the sql\n",
    "# with a name of the table\n",
    "# as \"Employee_Data\"\n",
    "dataset.to_sql('Employee_Data',\n",
    "               con = engine)\n",
    " \n",
    "# show the complete data\n",
    "# from Employee_Data table\n",
    "print(engine.execute(\"SELECT * FROM Employee_Data\").fetchall())"
   ]
  },
  {
   "cell_type": "code",
   "execution_count": 4,
   "metadata": {},
   "outputs": [
    {
     "name": "stdout",
     "output_type": "stream",
     "text": [
      "[(0, 'Abhinav', '10/01/2009'), (1, 'Aryan', '24/03/2009'), (2, 'Manthan', '28/02/2009'), (0, 'Sonia', '18/10/2009'), (1, 'Priya', '14/06/2009')]\n"
     ]
    }
   ],
   "source": [
    "# Create a dataframe\n",
    "# object from dictionary\n",
    "df1 = pd.DataFrame({'Names' : ['Sonia', 'Priya'],\n",
    "                    'DOB':['18/10/2009','14/06/2009']})\n",
    " \n",
    "# appending new data frame\n",
    "# to existing data frame\n",
    "df1.to_sql('Employee_Data',\n",
    "           con = engine,\n",
    "           if_exists = 'append')\n",
    " \n",
    "# run a sql query\n",
    "print(engine.execute(\"SELECT * FROM Employee_Data\").fetchall())"
   ]
  },
  {
   "cell_type": "code",
   "execution_count": 5,
   "metadata": {},
   "outputs": [
    {
     "name": "stdout",
     "output_type": "stream",
     "text": [
      "         index        DOB\n",
      "Names                    \n",
      "Abhinav      0 2009-10-01\n",
      "Aryan        1 2009-03-24\n",
      "Manthan      2 2009-02-28\n",
      "Sonia        0 2009-10-18\n",
      "Priya        1 2009-06-14\n",
      "\n",
      "<class 'pandas.core.frame.DataFrame'>\n"
     ]
    }
   ],
   "source": [
    "# reading the sql database\n",
    "# with index \"Names\"\n",
    "df2 = pd.read_sql('Employee_Data',\n",
    "                  con = engine,\n",
    "                  index_col = 'Names',\n",
    "                  parse_dates = ['DOB'])\n",
    "# show the dataframe\n",
    "print(df2)\n",
    " \n",
    "# print new line\n",
    "print()\n",
    " \n",
    "# show the type of df2\n",
    "print(type(df2))"
   ]
  },
  {
   "cell_type": "code",
   "execution_count": null,
   "metadata": {},
   "outputs": [],
   "source": []
  }
 ],
 "metadata": {
  "kernelspec": {
   "display_name": "Python 3",
   "language": "python",
   "name": "python3"
  },
  "language_info": {
   "codemirror_mode": {
    "name": "ipython",
    "version": 3
   },
   "file_extension": ".py",
   "mimetype": "text/x-python",
   "name": "python",
   "nbconvert_exporter": "python",
   "pygments_lexer": "ipython3",
   "version": "3.6.8"
  }
 },
 "nbformat": 4,
 "nbformat_minor": 2
}
