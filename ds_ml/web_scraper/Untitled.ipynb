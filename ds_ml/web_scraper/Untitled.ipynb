{
 "cells": [
  {
   "cell_type": "code",
   "execution_count": 2,
   "id": "169a1104",
   "metadata": {},
   "outputs": [],
   "source": [
    "from bs4 import BeautifulSoup\n",
    "import requests, lxml, re, json\n",
    "from datetime import datetime"
   ]
  },
  {
   "cell_type": "code",
   "execution_count": 3,
   "id": "f628c2a5",
   "metadata": {},
   "outputs": [],
   "source": [
    "\n",
    "# user-agent headers to act as a \"real\" user visit\n",
    "headers = {\n",
    "    \"user-agent\":\n",
    "    \"Mozilla/5.0 (Windows NT 10.0; Win64; x64) AppleWebKit/537.36 (KHTML, like Gecko) Chrome/97.0.4692.71 Safari/537.36\"\n",
    "}\n",
    "\n",
    "# search query params\n",
    "params = {\n",
    "    \"id\": \"com.nintendo.zara\",  # app name\n",
    "    \"gl\": \"US\"                  # country\n",
    "}"
   ]
  },
  {
   "cell_type": "code",
   "execution_count": 5,
   "id": "cc7eff9b",
   "metadata": {},
   "outputs": [
    {
     "name": "stdout",
     "output_type": "stream",
     "text": [
      "null\n"
     ]
    }
   ],
   "source": [
    "\n",
    "def scrape_google_store_app():\n",
    "    html = requests.get(\"https://play.google.com/store/apps/details\", params=params, headers=headers, timeout=10).text\n",
    "    soup = BeautifulSoup(html, \"lxml\")\n",
    "\n",
    "    # where all app data will be stored\n",
    "    app_data = []\n",
    "\n",
    "    # <script> position is not changing that's why [12] index being selected. Other <script> tags position are changing.\n",
    "    # [12] index is a basic app information\n",
    "    # https://regex101.com/r/DrK0ih/1\n",
    "    basic_app_info = json.loads(re.findall(r\"<script nonce=\\\".*\\\" type=\\\"application/ld\\+json\\\">(.*?)</script>\",\n",
    "                                           str(soup.select(\"script\")[11]), re.DOTALL)[0])\n",
    "\n",
    "    app_name = basic_app_info[\"name\"]\n",
    "    app_type = basic_app_info[\"@type\"]\n",
    "    app_url = basic_app_info[\"url\"]\n",
    "    app_description = basic_app_info[\"description\"].replace(\"\\n\", \"\")  # replace new line character to nothing\n",
    "    app_category = basic_app_info[\"applicationCategory\"]\n",
    "    app_operating_system = basic_app_info[\"operatingSystem\"]\n",
    "    app_main_thumbnail = basic_app_info[\"image\"]\n",
    "\n",
    "    app_content_rating = basic_app_info[\"contentRating\"]\n",
    "    app_rating = round(float(basic_app_info[\"aggregateRating\"][\"ratingValue\"]), 1)  # 4.287856 -> 4.3\n",
    "    app_reviews = basic_app_info[\"aggregateRating\"][\"ratingCount\"]\n",
    "\n",
    "    app_author = basic_app_info[\"author\"][\"name\"]\n",
    "    app_author_url = basic_app_info[\"author\"][\"url\"]\n",
    "\n",
    "    # https://regex101.com/r/VX8E7U/1\n",
    "    app_images_data = re.findall(r\",\\[\\d{3,4},\\d{3,4}\\],.*?(https.*?)\\\"\", str(soup.select(\"script\")))\n",
    "    # delete duplicates from app_images_data\n",
    "    app_images = [item for item in app_images_data if app_images_data.count(item) == 1]\n",
    "\n",
    "    # User comments\n",
    "    app_user_comments = []\n",
    "\n",
    "    # https://regex101.com/r/SrP5DS/1\n",
    "    app_user_reviews_data = re.findall(r\"(\\[\\\"gp.*?);</script>\",\n",
    "                                       str(soup.select(\"script\")), re.DOTALL)\n",
    "\n",
    "    for review in app_user_reviews_data:\n",
    "        # https://regex101.com/r/M24tiM/1\n",
    "        user_name = re.findall(r\"\\\"gp:.*?\\\",\\s?\\[\\\"(.*?)\\\",\", str(review))\n",
    "        # https://regex101.com/r/TGgR45/1\n",
    "        user_avatar = [avatar.replace('\"', \"\") for avatar in re.findall(r\"\\\"gp:.*?\\\"(https.*?\\\")\", str(review))]\n",
    "\n",
    "        # replace single/double quotes at the start/end of a string\n",
    "        # https://regex101.com/r/iHPOrI/1\n",
    "        user_comments = [comment.replace('\"', \"\").replace(\"'\", \"\") for comment in\n",
    "                        re.findall(r\"gp:.*?https:.*?]]],\\s?\\d+?,.*?,\\s?(.*?),\\s?\\[\\d+,\", str(review))]\n",
    "\n",
    "        # comment utc timestamp\n",
    "        # use datetime.utcfromtimestamp(int(date)).date() to have only a date\n",
    "        user_comment_date = [str(datetime.utcfromtimestamp(int(date))) for date in re.findall(r\"\\[(\\d+),\", str(review))]\n",
    "\n",
    "        # https://regex101.com/r/GrbH9A/1\n",
    "        user_comment_id = [ids.replace('\"', \"\") for ids in re.findall(r\"\\[\\\"(gp.*?),\", str(review))]\n",
    "        # https://regex101.com/r/jRaaQg/1\n",
    "        user_comment_likes = re.findall(r\",?\\d+\\],?(\\d+),?\", str(review))\n",
    "        # https://regex101.com/r/Z7vFqa/1\n",
    "        user_comment_app_rating = re.findall(r\"\\\"gp.*?https.*?\\],(.*?)?,\", str(review))\n",
    "\n",
    "        for name, avatar, comment, date, comment_id, likes, user_app_rating in zip(user_name,\n",
    "                                                                                   user_avatar,\n",
    "                                                                                   user_comments,\n",
    "                                                                                   user_comment_date,\n",
    "                                                                                   user_comment_id,\n",
    "                                                                                   user_comment_likes,\n",
    "                                                                                   user_comment_app_rating):\n",
    "            app_user_comments.append({\n",
    "                \"user_name\": name,\n",
    "                \"user_avatar\": avatar,\n",
    "                \"comment\": comment,\n",
    "                \"user_app_rating\": user_app_rating,\n",
    "                \"user__comment_likes\": likes,\n",
    "                \"user_comment_published_at\": date,\n",
    "                \"user_comment_id\": comment_id\n",
    "            })\n",
    "\n",
    "        app_data.append({\n",
    "            \"app_name\": app_name,\n",
    "            \"app_type\": app_type,\n",
    "            \"app_url\": app_url,\n",
    "            \"app_main_thumbnail\": app_main_thumbnail,\n",
    "            \"app_description\": app_description,\n",
    "            \"app_content_rating\": app_content_rating,\n",
    "            \"app_category\": app_category,\n",
    "            \"app_operating_system\": app_operating_system,\n",
    "            \"app_rating\": app_rating,\n",
    "            \"app_reviews\": app_reviews,\n",
    "            \"app_author\": app_author,\n",
    "            \"app_author_url\": app_author_url,\n",
    "            \"app_screenshots\": app_images\n",
    "        })\n",
    "\n",
    "        return {\"app_data\": app_data, \"app_user_comments\": app_user_comments}\n",
    "\n",
    "\n",
    "print(json.dumps(scrape_google_store_app(), indent=2))"
   ]
  },
  {
   "cell_type": "code",
   "execution_count": 6,
   "id": "93467925",
   "metadata": {},
   "outputs": [
    {
     "ename": "NameError",
     "evalue": "name 'app_data' is not defined",
     "output_type": "error",
     "traceback": [
      "\u001b[0;31m---------------------------------------------------------------------------\u001b[0m",
      "\u001b[0;31mNameError\u001b[0m                                 Traceback (most recent call last)",
      "\u001b[0;32m<ipython-input-6-4f05ea8df8c2>\u001b[0m in \u001b[0;36m<module>\u001b[0;34m\u001b[0m\n\u001b[0;32m----> 1\u001b[0;31m \u001b[0mapp_data\u001b[0m\u001b[0;34m\u001b[0m\u001b[0;34m\u001b[0m\u001b[0m\n\u001b[0m",
      "\u001b[0;31mNameError\u001b[0m: name 'app_data' is not defined"
     ]
    }
   ],
   "source": [
    "app_data"
   ]
  },
  {
   "cell_type": "code",
   "execution_count": null,
   "id": "53f26c23",
   "metadata": {},
   "outputs": [],
   "source": []
  }
 ],
 "metadata": {
  "kernelspec": {
   "display_name": "Python 3",
   "language": "python",
   "name": "python3"
  },
  "language_info": {
   "codemirror_mode": {
    "name": "ipython",
    "version": 3
   },
   "file_extension": ".py",
   "mimetype": "text/x-python",
   "name": "python",
   "nbconvert_exporter": "python",
   "pygments_lexer": "ipython3",
   "version": "3.6.8"
  }
 },
 "nbformat": 4,
 "nbformat_minor": 5
}
