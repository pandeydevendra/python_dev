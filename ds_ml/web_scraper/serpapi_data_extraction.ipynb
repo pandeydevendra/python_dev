{
 "cells": [
  {
   "cell_type": "code",
   "execution_count": 1,
   "id": "b8355d47",
   "metadata": {},
   "outputs": [],
   "source": [
    "from bs4 import BeautifulSoup\n",
    "import requests, lxml, re, json\n",
    "from datetime import datetime"
   ]
  },
  {
   "cell_type": "code",
   "execution_count": 2,
   "id": "d3157a2a",
   "metadata": {},
   "outputs": [],
   "source": [
    "# user-agent headers to act as a \"real\" user visit\n",
    "headers = {\n",
    "    \"user-agent\":\n",
    "    \"Mozilla/5.0 (Windows NT 10.0; Win64; x64) AppleWebKit/537.36 (KHTML, like Gecko) Chrome/97.0.4692.71 Safari/537.36\"\n",
    "}\n",
    "\n",
    "# search query params\n",
    "params = {\n",
    "    \"id\": \"com.nintendo.zara\",  # app name\n",
    "    \"gl\": \"US\"                  # country\n",
    "}"
   ]
  },
  {
   "cell_type": "code",
   "execution_count": 3,
   "id": "9f5557a5",
   "metadata": {},
   "outputs": [],
   "source": [
    "html = requests.get(\"https://play.google.com/store/apps/details\", params=params, headers=headers, timeout=10).text"
   ]
  },
  {
   "cell_type": "code",
   "execution_count": 4,
   "id": "fe114370",
   "metadata": {},
   "outputs": [],
   "source": [
    "soup = BeautifulSoup(html, \"lxml\")"
   ]
  },
  {
   "cell_type": "code",
   "execution_count": 5,
   "id": "64123744",
   "metadata": {},
   "outputs": [],
   "source": [
    "app_data = []"
   ]
  },
  {
   "cell_type": "code",
   "execution_count": 8,
   "id": "a3e6f200",
   "metadata": {},
   "outputs": [],
   "source": [
    "# https://regex101.com/r/DrK0ih/1\n",
    "basic_app_info = json.loads(re.findall(r\"<script nonce=\\\".*\\\" type=\\\"application/ld\\+json\\\">(.*?)</script>\",\n",
    "                                       str(soup.select(\"script\")[11]), re.DOTALL)[0])\n",
    "\n",
    "# script[12]"
   ]
  },
  {
   "cell_type": "code",
   "execution_count": 9,
   "id": "c469a2fd",
   "metadata": {},
   "outputs": [],
   "source": [
    "app_name = basic_app_info[\"name\"]\n",
    "app_type = basic_app_info[\"@type\"]\n",
    "app_url = basic_app_info[\"url\"]\n",
    "app_description = basic_app_info[\"description\"].replace(\"\\n\", \"\")  # replace new line character with nothing\n",
    "app_category = basic_app_info[\"applicationCategory\"]\n",
    "app_operating_system = basic_app_info[\"operatingSystem\"]\n",
    "app_main_thumbnail = basic_app_info[\"image\"]\n",
    "\n",
    "app_content_rating = basic_app_info[\"contentRating\"]\n",
    "app_rating = round(float(basic_app_info[\"aggregateRating\"][\"ratingValue\"]), 1)  # 4.287856 -> 4.3\n",
    "app_reviews = basic_app_info[\"aggregateRating\"][\"ratingCount\"]\n",
    "\n",
    "app_author = basic_app_info[\"author\"][\"name\"]\n",
    "app_author_url = basic_app_info[\"author\"][\"url\"]"
   ]
  },
  {
   "cell_type": "code",
   "execution_count": 10,
   "id": "960bfbe6",
   "metadata": {},
   "outputs": [],
   "source": [
    "# https://regex101.com/r/VX8E7U/1\n",
    "# Follow the link to better understand what regular expression is matching.\n",
    "app_images_data = re.findall(r\",\\[\\d{3,4},\\d{3,4}\\],.*?(https.*?)\\\"\", str(soup.select(\"script\")))"
   ]
  },
  {
   "cell_type": "code",
   "execution_count": 11,
   "id": "8144fa17",
   "metadata": {},
   "outputs": [],
   "source": [
    "app_images = [item for item in app_images_data if app_images_data.count(item) == 1]"
   ]
  },
  {
   "cell_type": "code",
   "execution_count": 12,
   "id": "f284fc1f",
   "metadata": {},
   "outputs": [
    {
     "name": "stdout",
     "output_type": "stream",
     "text": [
      "263\n",
      "['https://play-lh.googleusercontent.com/IciOnDFecb5Xt50Q2jlcNC0LPI7LEGxNojroo-s3AozcyS-vDCwtq4fn7u3wZmRna8OewG9PBrWC-i7i', 'https://play-lh.googleusercontent.com/OBVqgRK7eerY0GPfK8AOzitu5oE9ecC6kG4kURTCb1K41gpqVsN0WjmJwJh-wX8vILzpcc1kYHt56aLN2g', 'https://play-lh.googleusercontent.com/dcv6Z-pr3MsSvxYh_UiwvJem8fktDUsvvkPREnPaHYienbhT31bZ2nUqHqGpM1jdal8', 'https://play-lh.googleusercontent.com/SVYZCU-xg-nvaBeJ-rz6rHSSDp20AK-5AQPfYwI38nV8hPzFHEqIgFpc3LET-Dmu-Q', 'https://play-lh.googleusercontent.com/Nne-dalTl8DJ9iius5oOLmFe-4DnvZocgf92l8LTV0ldr9JVQ2BgeW_Bbjb5nkVngrQ', 'https://play-lh.googleusercontent.com/yIqljB_Jph_T_ITmVFTpmDV0LKXVHWmsyLOVyEuSjL2794nAhTBaoeZDpTZZLahyRsE', 'https://play-lh.googleusercontent.com/5HdGRlNsBvHTNLo-vIsmRLR8Tr9degRfFtungX59APFaz8OwxTnR_gnHOkHfAjhLse7e', 'https://play-lh.googleusercontent.com/bPhRpYiSMGKwO9jkjJk1raR7cJjMgPcUFeHyTg_I8rM7_6GYIO9bQm6xRcS4Q2qr6mRx', 'https://play-lh.googleusercontent.com/7DOCBRsIE5KncQ0AzSA9nSnnBh0u0u804NAgux992BhJllLKGNXkMbVFWH5pwRwHUg', 'https://play-lh.googleusercontent.com/PCaFxQba_CvC2pi2N9Wuu814srQOUmrW42mh-ZPCbk_xSDw3ubBX7vOQeY6qh3Id3YE', 'https://play-lh.googleusercontent.com/fQne-6_Le-sWScYDSRL9QdG-I2hWxMbe2QbDOzEsyu3xbEsAb_f5raRrc6GUNAHBoQ', 'https://play-lh.googleusercontent.com/ql7LENlEZaTq2NaPuB-esEPDXM2hs1knlLa2rWOI3uNuQ77hnC1lLKNJrZi9XKZFb4I', 'https://play-lh.googleusercontent.com/UIHgekhfttfNCkd5qCJNaz2_hPn67fOkv40_5rDjf5xot-QhsDCo2AInl9036huUtCwf', 'https://play-lh.googleusercontent.com/7iH7-GjfS_8JOoO7Q33JhOMnFMK-O8k7jP0MUI75mYALK0kQsMsHpHtIJidBZR46sfU', 'https://play-lh.googleusercontent.com/czt-uL-Xx4fUgzj_JbNA--RJ3xsXtjAxMK7Q_wFZdoMM6nL_g-4S5bxxX3Di3QTCwgw', 'https://play-lh.googleusercontent.com/e5HMIP0FW9MCoAEGYzji9JsrvyovpZ3StHiIANughp3dovUxdv_eHiYT5bMz38bowOI', 'https://play-lh.googleusercontent.com/nv2BP1glvMWX11mHC8GWlh_UPa096_DFOKwLZW4DlQQsrek55pY2lHr29tGwf2FEXHM', 'https://play-lh.googleusercontent.com/xwWDr_Ib6dcOr0H0OTZkHupwSrpBoNFM6AXNzNO27_RpX_BRoZtKIULKEkigX8ETOKI', 'https://play-lh.googleusercontent.com/AxHkW996UZvDE21HTkGtQPU8JiQLzNxp7yLoQiSCN29Y54kZYvf9aWoR6EzAlnoACQ', 'https://play-lh.googleusercontent.com/xFouF73v1_c5kS-mnvQdhKwl_6v3oEaLebsZ2inlJqIeF2eenXjUrUPJsjSdeAd41w', 'https://play-lh.googleusercontent.com/a1pta2nnq6f_b9uV0adiD9Z1VVQrxSfX315fIQqgKDcy8Ji0BRC1H7z8iGnvZZaeg80', 'https://play-lh.googleusercontent.com/SDAFLzC8i4skDJ2EcsEkXidcAJCql5YCZI76eQB15fVaD0j-ojxyxea00klquLVtNAw', 'https://play-lh.googleusercontent.com/H7BcVUoygPu8f7oIs2dm7g5_vVt9N9878f-rGd0ACd-muaDEOK2774okryFfsXv9FaI', 'https://play-lh.googleusercontent.com/5LIMaa7WTNy34bzdFhBETa2MRj7mFJZWb8gCn_uyxQkUvFx_uOFCeQjcK16c6WpBA3E', 'https://play-lh.googleusercontent.com/iTZtyWYr4T-slu1nifgRqEhtMLmxcNagc2rDAyiWntDQWCVLlGR7rDvx0uK6z-zLujwv', 'https://play-lh.googleusercontent.com/iTZtyWYr4T-slu1nifgRqEhtMLmxcNagc2rDAyiWntDQWCVLlGR7rDvx0uK6z-zLujwv', 'https://play-lh.googleusercontent.com/4EZ1uE2I-u2lbS0zFYvv_D4akGy_I811cwSK5ovvjJy7Xs0FTeLVxkAhbfKayDoq-mM', 'https://play-lh.googleusercontent.com/Hpd1ABB7Hyr98bKmFvggtLljldnRIc9x0OnywjjEQdhUOo2QsMBGNK-wmBNcEFAktUuX', 'https://play-lh.googleusercontent.com/eheC-V1SP21RSw-RxPgJPpzoyfJKGygp-RdZM0TNzUIUb1d_cy952fHwAvNohri3YLYj', 'https://play-lh.googleusercontent.com/pYCagdiZE5jr3TP4DFdl2daFLNFG8SxukdeTK_J87Z7WpuLadvVFYpzPdEp1tu68zQ', 'https://play-lh.googleusercontent.com/kUOmBnZX4n7p-hHWLc04dGlIq0tLsa2b_qwCtUMmUKDxB-zFajgVCMReMu091DuXtzA', 'https://play-lh.googleusercontent.com/VtZuEADM8hqxGjvg7RkqLc6RIC0YwO2TtonoG-uCPlcx0AMTM7r1bpAgaly3MHq40g', 'https://play-lh.googleusercontent.com/nF66EQdx9fRlLeJumA80jukG5V5_62HQ6rJPbLO3Y9qPVtelNI5Ia259A6ibde8GPA', 'https://play-lh.googleusercontent.com/swYlwWqpQyXAUFcHOhEtfat9Kt3Wp0E7GKv88l5RF1EGFu4ak9uRMoU8H6hSfnWalheD', 'https://play-lh.googleusercontent.com/-ZjU26YEqb2BrBheDFA6Zzr7gTKacDJOe10GHq1z0Rvk2KENvAEQuiIWKawL-ouuSaPB', 'https://play-lh.googleusercontent.com/gBkDxIEghfs-kUVRQzhYOmd1mSaGa3f9Gi23TbgQsDxXAFH1V7dAegCuiaVM7p0DhXo', 'https://play-lh.googleusercontent.com/UBfgQF9br8nU-gm4HT6oy59pqbRmggU2_xigdVViY9BokX3TRv4ca41nWGfsBksApw', 'https://play-lh.googleusercontent.com/gbF_8h7LXr5ekndKbq7Yxfdxgvn2vaWwissdfHV4XNNwma1mg6Z8jSdSJRO3mFDSUsk', 'https://play-lh.googleusercontent.com/8-YrayG2VOYc9n12U8-GtGZjZDAxUZRTcdU5U3rik-XqajJGj3SwkPvObwRG3pEA0Bw', 'https://play-lh.googleusercontent.com/znsUKStvbVIJiwe2YZ4rYt4U2znTCzW8E_aDB1-PIMdyuFAftMTqIvIqTB02vIQXa9I', 'https://play-lh.googleusercontent.com/dzTgFhYl7JBdXveodH0q86BjXmjoLMcQ8SUkSW88hTIRf8Y-0GQaz90vYXyaUlUuqUw', 'https://play-lh.googleusercontent.com/Ts9bAjj7MmvmwZmOWuFcmxnS-_KN53wBxhzFMCR4XSmhPZLZ42HZ41cxcLLACD-bJiM', 'https://play-lh.googleusercontent.com/p1MX4nGydD9Qg-ovCRNDY-VnfDX_PXXWfgM-gsCkCa2Eqv8rm0kFz8OBIKrY-SLUHKQh', 'https://play-lh.googleusercontent.com/QPx5qH6EHNzzw3xQYj1gOfyhaTtL2FMOQS-eQWvK6ViJ1nbPDu9OxRSucDyygx5QVKU', 'https://play-lh.googleusercontent.com/2uAHfaIHQDNOiKBxm1mhOqKvqbOMb6bdXWGHY2kX4myvKIdLGU3pyyfggWCAVnz_wWQ', 'https://play-lh.googleusercontent.com/tRD0fn2NykEgoHe45KvyQyBify4JX023dGh9hAaPVdK-N6dsBCvJwvay5XH1kHZj6w', 'https://play-lh.googleusercontent.com/vefpLxCyyfXmOEP87U7jpvlBe8obuEnb-o0I5Dk6NNJ3UdBOXf3GeIdogWmRv4oHOg', 'https://play-lh.googleusercontent.com/OMP3BUcu1TI5vApXUvpNmIGbSyKA2V9H744hQBIv4rvRGw0MEF7K7oLUwxna5SD7M_k', 'https://play-lh.googleusercontent.com/th8K8yv5ya_hoo0nu0kQSp2IDj_bj1-BWZ_BtcOs2yqHKAqSiSxeufOAaUf6OD0K3cM', 'https://play-lh.googleusercontent.com/7qh1ZEQ-gIzcqMqOZ5EEYgi59fg_NS7zxA77Yk4zhAYMCTsvsOZTOQ2mn5-FJSEY0lum', 'https://play-lh.googleusercontent.com/9lBiNdjYBjWTXVJuOddI9oVn8ScVLdt7YAZMWLNu7dpS4Us9cWFRa7_GQwWKUTFKqB4', 'https://play-lh.googleusercontent.com/w3OkTsc0ZCt35sw_5qMr0jiORlfkukKwV8Dh7PDNtI-MuKXlj0kdraTBo1Orm_YIErQ', 'https://play-lh.googleusercontent.com/5IR5tmAD35Sqfi-tDrFmb-mk9wronJDZm1w3h8xtFeK1rDX46Cyt0nauwUmUexSU9uM', 'https://play-lh.googleusercontent.com/fbQzDaEqAm98dh_y0SFSVJUe6Wn9YtHwWiG2eaTvfBMD4ksCiIhnrdaWUrCAFYDkxg', 'https://play-lh.googleusercontent.com/26dOho8wDy1FWTEN_54gWvV9o-8mCRHlP_LapAohiwjcUHe3cCTZ7bpFLgjsLVRPfF0', 'https://play-lh.googleusercontent.com/JJy2NtY-K4quRUBqarln-AqksGCpIpph8MWYuuq6vuGGbhtbL27R3WzuQ-IgvdaOHxo', 'https://play-lh.googleusercontent.com/fDXvaz0ADPPv6oh3l7oa2RWKLWhnmxMH20_Ek-dm309a4abBoikrzExAXCD2esF3dIg', 'https://play-lh.googleusercontent.com/LF4yf9bHJ1a3d9aS8SP3ayUjpruta2EdBCCoAUAuSCFW_WIsQn4fxQwy1Q7w7ZJu-0g', 'https://play-lh.googleusercontent.com/0jsgxRt9kRAjPLlzsUskK5oZj3-D-BBcu6DEBk7_drjMVaa_yccpB3cSf6nKanKqcx8', 'https://play-lh.googleusercontent.com/AsvpDARUa6ljMSiPJvQbJOyb0z9NnaJdEFyuPle7eRHrXJByIiAQrz9_RjrQQCewgGc', 'https://play-lh.googleusercontent.com/3j2asJ9gQG19RvNo8E1DfOG8rVt6SD1SIM2Yd9NV5o27M91NqTW09hQOwTKU1BXJKQ', 'https://play-lh.googleusercontent.com/zhpLYJZ7eTm6N852waAdvpG3aRwT-CdMKpojYcLiHb9btFaN2qc_m0pbv8szRHzg7A', 'https://play-lh.googleusercontent.com/-wrFe5CPDfezvQZfs70DCzwTSfPQNrsTz5_9OyHtzv1CcMujqnN8kA-XU_Cti9_Shw', 'https://play-lh.googleusercontent.com/dYHGgCAlOwT_pjcpQRGNRaDPCPJu40yl-eNX1ZcBfW6e9yigbhwOViD3zk44Ui4ue-0', 'https://play-lh.googleusercontent.com/P8UyWVicqkGcgxO571whPENBIAjWkCwiERNqrevVrEPBb-7nJ03AD3BG6_oOKZIhGR0S', 'https://play-lh.googleusercontent.com/WatnR5w8uQuk9aBF_zyMFwAWWfzRcAnrFDVUHqJAexQnPWHdnyFIXV8DAV3i8HPemQ', 'https://play-lh.googleusercontent.com/0_5VmqYsE-dohz4SiyGf0HvK9Fh2qU3_R0RRFPMrN6YdEqeocqxQN12LajahKyH1zGc', 'https://play-lh.googleusercontent.com/As1mqV2HtEBDfLTq-Biz_2J8c-EtUI-kOvstkachC9capO_JZnzrVwru52kUH72kkbI', 'https://play-lh.googleusercontent.com/p8jJaXWD55pieTPAYsQIYaTWdDaHR_M0aDbVIFQN9vSplp3zAWk1tPN7imBR7wsasMs8', 'https://play-lh.googleusercontent.com/YfP0kdSk_U_N96NCxGCjw1iwWchfi80rLb1vYqOmWF2iSjqf1xj02bAid7AbPPiPTxw', 'https://play-lh.googleusercontent.com/xDHFnQnmWLdASn9R5HXYowp--r2wGDN32o0CdEhqHvW8XTEPBr5b6zECoXlzfPWYxlmh', 'https://play-lh.googleusercontent.com/p5azJ8MNtk9QIJlIm1OG-Q36JAImWYVdmqVpLL4GGLfiYOZNZJGtYVGqlnvFs9hNRw', 'https://play-lh.googleusercontent.com/AS5VE0ehtnbRPRhPE2LIEp4V5vvBFPO8oomZh6tRoUDwifFPwA3yiHHntS9gvdlNsoS0', 'https://play-lh.googleusercontent.com/uk12FA3o6r7oOyhmohvrYPm3qk9_HYRIOvT6y4T-p_7ITrl4elg3tK5IRtTrbCvt500', 'https://play-lh.googleusercontent.com/k0PP42lhP5h8Oy6m-a_FuQjfjdLUqOAEIDZmoNmJadKyZjOzFKde3NkMMW5C3lAtRA', 'https://play-lh.googleusercontent.com/1K2F72BJXHojuNaBZ-Vs5PFJs8w2x5kHv_BB5AD-h3LJbdDVmN9pgeBiZssQxa9flv0V', 'https://play-lh.googleusercontent.com/Ty98xx2P6N-Z0BHkqeVNXSmPx_wBOHqIV35-CXAn3X0ddqCRL5kCgo-rDSfTCEvGWTw', 'https://play-lh.googleusercontent.com/x5KxOI69o3jkuqc3ZurB8rWdvx1lrmHU1iF3TZcSVMD_fhI1PXTuIyHqDQjxkSTBkA', 'https://play-lh.googleusercontent.com/WaCVbt3iC0v56NscQizat0uLMEjMFyzSfx7nlbYYUK3Avbks16JPKMg9cDY37vaMS7N8', 'https://play-lh.googleusercontent.com/PYj_Jjoe_Isu2MTPz3HNHe0rY-rMlYQxBhceKYXl314WOG6imZH5u_vJZteOXqrMx4-x', 'https://play-lh.googleusercontent.com/JLTr8yphFpYQ_uMpg6PdDfhX1ZpiRqDH6oT1FU30J9YYQPSb6SrMBEkYYkSzDCa2o-Q', 'https://play-lh.googleusercontent.com/FzZj94iGniPdqMuFFwtAoc9OJxLBHHgDs1FggJhSoONabO7ARa5kmsHTNnh11Ll1Nns', 'https://play-lh.googleusercontent.com/aueEWLoBDmq6NE5jGPwBFxBAUh3jWd8z2fXJf7a-VnNtM22ubbP2Raxv2O82rw0Lu7cf', 'https://play-lh.googleusercontent.com/PNJXWGwKrKkxMveIE6o5YyQ8zomwY92uQ4FeT023iCFIpN1nSUo_QydZ03r-g2ArfpE', 'https://play-lh.googleusercontent.com/nFc7nzPTLQ-kvNuBgg-HAB2r1AXWcj6lthLrA_yEatf-Pr8Gcqkm0TwpxxULfuMlvA', 'https://play-lh.googleusercontent.com/NeYvZWj72PUNqbEfE4O75KcnhZBGwlyFDc88hPgHgswNrCL1sALxi_G46xMpq6N7FN5Z', 'https://play-lh.googleusercontent.com/pes6kflZIWI8ZcSV4QZBz4qpqPEhwWGmcOo4sPAFR3BN0p56Zd23zvfzFI8W0pnivA', 'https://play-lh.googleusercontent.com/lnsJSfmzj--uuoqs-nXKkszYts8huX291foAAwJDKD79SDnghU4sRZJgSccX2vXvvoA', 'https://play-lh.googleusercontent.com/E09OT3-CgkK5EwHs0qbZrwWuMetWcBzDoM5wlypT9B0UzeqsFfNHj7V3o1_MdWQpNt8', 'https://play-lh.googleusercontent.com/cEhF4xTG6xg51TBAl8IlyUnPV_OzZKhMws2nRLCbhX_UyxCuTAaA0JAb080w4QHU4WZP', 'https://play-lh.googleusercontent.com/YIl8nnPWE2KjgpvaSXrLx2G_6uY8vxNUFA-wcFeXUh_thgEgsQjXUfKyzjKqkBBGOg', 'https://play-lh.googleusercontent.com/gCwdkELUmkDiT2QZT_SCn1dGlYaPKiu3kyN0ZVuNg9dQVOHpG5Cx2vSinPae_EB0IkNQ', 'https://play-lh.googleusercontent.com/l3fTi_gbydkjFWQ3wrzs_2wtPlhxq7iNypOWRpSh7HCcAstGitCrgVxxneUm_KdYLXU', 'https://play-lh.googleusercontent.com/S7zjXBWIWAsFuPlXA4ZO370NsCMtuZoCICQcZKnJ79Lt0KEK2ktglco_RZyfljGi8Ys1', 'https://play-lh.googleusercontent.com/Y2IWbI0_MAg7hJh2wqZRku4IL47CXI0mFAd55uIvkwCGUQljMkQjQny7K-AAdPHEKLsO', 'https://play-lh.googleusercontent.com/2khoBAXgkcmaRPMXLwvBd_MKR51z-vdXXcdZObfBRV6ExuYScRS-ztfFSEiIaKEM5dM', 'https://play-lh.googleusercontent.com/93RPIX_Cqii_5s-Y8y2e55oGbXOFDLdtMgyCcBG1ZlihEVBOBu1mBUoG4f6GMCsX16Nw', 'https://play-lh.googleusercontent.com/OAonfoIU6f8C9P1tYT6iGwe3MCvpoMXU8RvqjePc2Zc169EOG4Q3_9lzHTpJO0lRSw', 'https://play-lh.googleusercontent.com/u-sb0YppqMbVFh-0mTfce-NA_RPIkwi3O9GekUVnfD9tuVo0TfUHnW2d4CxUETTY4g', 'https://play-lh.googleusercontent.com/V8n6yLCVwQ10mcA_xpGiDI1FTuqMsO7QCTWcxE3DRT-dFD2AJji_2A7jSCkc3qn9AQ8', 'https://play-lh.googleusercontent.com/lF-CkOXPcpGA4t0AXIDmx8je-T-QfcQgqGCxFV9_XE_HUSbfMIlnPhC1iXoHcyNIMs0K', 'https://play-lh.googleusercontent.com/_ujciy4X2qaO2hPp0SbCd4susWpLb-oz548TWcvaNmxd7j6jo158tRRFAOZnE7L9ujw', 'https://play-lh.googleusercontent.com/6OVBhCTTp29Z3xYIG1x4ZVy1MOHWDLGonIXdfblqYuo2MNnsDlflzFnIW5RhOAQLo1o', 'https://play-lh.googleusercontent.com/5bWzvIRhI3Iv8OtqH01flIb0E53-tEIe-iTJCZVVvszFg8xtRTro94IK3k9taFwsHCvg', 'https://play-lh.googleusercontent.com/ytbeb57st4vSJhlssC8Hnh1lAgQQj0cR-ZnEvm3hKhqXC5lz3TMyrXL-CuBrRWeItw', 'https://play-lh.googleusercontent.com/iQFF7t2r6JmIl9H_TKKJjw6_sQgAVVOt0xwtiLqiQk5DOsE3uJszhiXNm1A9SWTgRLk', 'https://play-lh.googleusercontent.com/wPZHsVYmYdYfC9PHtf5BSsSoYvlCAh8H2bO4HLfyRkPO3T9vZnM0n-X4FQPczw9tatI', 'https://play-lh.googleusercontent.com/hpOKYsmZWhwPimbfH2HRXcjQWtxP_HXtsDDAjEQU4mn-yt_-eS6jz-Dr40wintWlRIc', 'https://play-lh.googleusercontent.com/pWH81rSkZeBcuy1PogjFV9RQTg_e01In5MvFqw9VVIotDqSVoL2RMc4A_Kic3eaIfAG1', 'https://play-lh.googleusercontent.com/fE8MKOo2opGXxpPz2yQcI4RWCegZPvPo3fhHkmhfpjBkQn_WpjWkncc3oKka1CYPyqg', 'https://play-lh.googleusercontent.com/fwQsqk1nLMWn41PucZYmhFufwMr_8o-MUCQ2dADvh3nhPg1oL8VSSveUUiITaYxNBfo', 'https://play-lh.googleusercontent.com/CDVlWdXx1wpQ4UWCuuMzbEM9dyBpnpn-CbqreCLMCyn3H8VoPLopk3VFPcfXPjF42kI', 'https://play-lh.googleusercontent.com/tbSAd00xGnvV73ujuWdYzvILNSFcka1-ZtqTCyDHU_ATcsH26LWyWxAhEovyNKcQoE4', 'https://play-lh.googleusercontent.com/VXrJMDY4Ngpc7YnPiixbx9OcnZa1xhJeHubwCkgn29RBjmXSfU_g8d678DoMwscTD_k', 'https://play-lh.googleusercontent.com/u526yCQwW2q15edrj0BxqdMo6wclFHlAACC1o90zOPR2IlU66SrzGQsZUNe1m4x_ZTyW', 'https://play-lh.googleusercontent.com/Sv5sRXZ_xS8hbozAx9-Jtp6_-PMZB8Wd9UvKYHDD_8O112JaewZHknxClJvzg_ltEHM', 'https://play-lh.googleusercontent.com/XU4bEYTIiaYtr7W0e6MCWgDRFxgPESpRKBmup8N7-l10qVVvTuDz-9VgMq_ODobL88GA', 'https://play-lh.googleusercontent.com/0SsG5WY_lkynEMrnxSuIGF0Fs2_arF2uTgC3XTd5QvQPWKB3KS1Ae0VfHTDh-EFtyA', 'https://play-lh.googleusercontent.com/GFRPIosHosr7WTLGPHM_keLVvsDa_XrQ1e-j_MoII7WeXIj8gW377JaxnzJge-BFXyY', 'https://play-lh.googleusercontent.com/8WkW7fK0qGaGXVjkZZoES2zzEV0jRRPCJIrxHWgJSqqve1vV2DMeOvwC0JojjTmXcnHc', 'https://play-lh.googleusercontent.com/V-lvUzA5kK0Xw3wdg8Ct3vfIMXUX5vXYcNLPmudaZ-eyQjedYz-luqIuLmJO6KodE0Y', 'https://play-lh.googleusercontent.com/m8aIH9unHwVuNECIIWGGPq8RnfEVodGltq5nQ5-bgGiux7u4kXDcKYeVYUUfYFRBiA', 'https://play-lh.googleusercontent.com/8KT9uvVjRusnzFEGzWOCI0OqP2RjNX3Jzr-peeOmpeS69Dt0EJDSGoFrnNLGhkF2QQ', 'https://play-lh.googleusercontent.com/q0DzBFkySshMfxchzAco41Deta7M1VJVXYw_uDJFCVfcRrMhFJXsiEoWoub9hTifaIA', 'https://play-lh.googleusercontent.com/9XvPjUbYtdKgMsnpOwjtSaQLcJDjIs5vcMTsCNm90M6lcF9s17TREfpatC-TAVtFmQ', 'https://play-lh.googleusercontent.com/qP0nLluLJhtkfNDeCKMqHuHJy70dawAB5nEGdaQDTaWqwrkkyZz4rWWrIdNdptqyCNc', 'https://play-lh.googleusercontent.com/gbBpbszOR4FUoEsZRH8UjoR7jzgTeuaKrbiI5xcmlKWFiUUDD1vBgJvH3rzKqDF4mkQ', 'https://play-lh.googleusercontent.com/EZtg0jr8Cj9mryABFWbF8HpEASvi5JXk_VSjXxfa0x5CYSbbvWieAs3VtKYoOYDGkQ', 'https://play-lh.googleusercontent.com/T2AFfeyE3GQ3--Bh15pODG-ACQ0TuAVnfWRuIxqk0VbuM7jlgZcaiwW2YUoAJCWhvA', 'https://play-lh.googleusercontent.com/GZxng-D-Z09D1i-wT0DH60e8qEKInDz7GO1yc7iCpF7_enKzpHiRKDMI7Wwz8zrBCNZx', 'https://play-lh.googleusercontent.com/mjv8VLSc2dsc1r_IFJhR0nuNZUbHPF2AKhy9XrwfTBsbZHHGAKhv4IRagXJ5X_rV7Jg', 'https://play-lh.googleusercontent.com/VRAP7H-KlQY1pDI9iEu0pTzsPvjdCXBIg9oAnnLaOaebXwe_9gyVsF9Q5gJoLod7NQ', 'https://play-lh.googleusercontent.com/kbR5PEEXnf9Y6pGWl2fJ26nocB_qgGOba41jY6X02SpF1r6WQ8DW-jCMhE-rmM9CxLoW', 'https://play-lh.googleusercontent.com/sIFG7BhXDcCaIeAfYSc2569P5mcmi8251-y-1EiIxLvnscKnoLyXMvq2Ihu1FeJfxeM', 'https://play-lh.googleusercontent.com/xRNrxQucQ9EFg8P_LCjuaCG3uZiMpDI0Zx4oLnebH82_fUv46ly58GD2CFrM-e4S8iA', 'https://play-lh.googleusercontent.com/lyP-hhTSNFhjlCuZbit4EtXS-6JVvEUdHcaRdwR81rlZ2AhQzeRo4ZU75JN8iq61ZQ', 'https://play-lh.googleusercontent.com/TYkEeSdxL_Y4EQJ86dsRpUnSbv0negHR3p02AiFylz-J7mcxuIIPL5BJOJnaqiPacH4', 'https://play-lh.googleusercontent.com/5B_KwrxJE0Hy9plZqLBxVrD-4Ka22Six1JIfMapgARh4cesGTw0mIbT-OQrDxDrgCY0', 'https://play-lh.googleusercontent.com/6M5iMnva0AszgNdMBKEOsXPhv2-tATlPM4w1VunP1q2l68Tk_jkaCM5LTNxM7rnJ9v2r', 'https://play-lh.googleusercontent.com/50SxO8wvkzGkxJ8r6YIBi4Hzjw5sFOOgEDEt0vcjt7383WT_15z_tiJoygCuUdVgonMc', 'https://play-lh.googleusercontent.com/056m2BdsWRumTzPegP-PEowL0_vf2DCDxDnKil4nY2A0Otec0Tq3ld0GFe_l3hFUHEY', 'https://play-lh.googleusercontent.com/WOrSzEAWfQ82KxU3KrYmZ-SR1cvFlzsu4NhCB9b8cMsbCb06fofhFxV-GCuoqgLy2e8', 'https://play-lh.googleusercontent.com/HTNChsj8xvfWgPHbU3pmTWgPEBEkshai9JKK0IjlqRMzBdYdYVM6PBJhVgMR_IjeGA', 'https://play-lh.googleusercontent.com/GUcjHtu4N3wIHHhZNvGvbM-8ZZoNNquSgZtZTxqZCzWuAyehNpJn4STU0Yku_mnsYgU', 'https://play-lh.googleusercontent.com/FMS6E5wwlHKXALL6YWXOHPm2zNycFpPIfODk9FeS7QJkjbjJSew5wJkC-gyr58D76Dw', 'https://play-lh.googleusercontent.com/l09RFdmrcZ1cpMrLNPtJocygyHqtIN1XQGJEy3kIvKoWP74lQI3609RfbD6-hBpQpg', 'https://play-lh.googleusercontent.com/uN16HUM01NT3SonHR-WMOcBzmKZnN3sK6Da14Tm_FU2QXGB91moK9zSqutz-Uwszqtl4', 'https://play-lh.googleusercontent.com/U9GiTknmZW3peSAtRPUFRnR-EkWtY8HWeF-fnVvQydXNBHEYdtQZHf2YnIOUrBtYGWqY', 'https://play-lh.googleusercontent.com/1YEWP18Mm-_UM5uGxEi2ucGCyCV2Mw29tNewmFG_EC2ErywkJaylM4QmN-RaYSI0Kg', 'https://play-lh.googleusercontent.com/yJ0wy-U-5XRF-sNPEfCyIHEthcl0UbNTg56dlTLHvjKpMl6miXfd_gh1rD0cPhYc77A', 'https://play-lh.googleusercontent.com/Rw6fFTrbKbJNTuRr9cWyDCqGM6NrFkcjwCieYmgOUGAlGSVaaNsrP9cbi3MdHU9jtjI', 'https://play-lh.googleusercontent.com/nLD_vTN-ofG1Sd8KtMZYWMIqJASpuosc_wdOyCERSssgxuxBbVtcDtg8EaayN4c-N7I', 'https://play-lh.googleusercontent.com/jXbgWe82LwSzR2g7udmkUH62jaoEkCUspy5i1_yL7Jz5Dp692jLIsIYTI3dKGKXqn-bA', 'https://play-lh.googleusercontent.com/dNx_-tXkU3infLBs1aWKECQMT4tDP2utd3_HFvxhKnbvrkCp1941nD118VRHN1I-c-U', 'https://play-lh.googleusercontent.com/JNRGN2FQm4HgkQ6SjY7Ax7q4vjmqNSsTJ1J5XjRyV7_dIe_m_7WYHRKIr3ryrYpvvw', 'https://play-lh.googleusercontent.com/87Q9M9Kf00HxdzKCyeYf6edZB1kwKICD0bJ4qH30jQxUc18ShNojWEoEIxO-XJnyCw', 'https://play-lh.googleusercontent.com/ZOHpWh9LfazTc9uqp-HgcxZHsuAAK6M_QmgJ0Yevq1PnBbxy2tlUcoVHRznMLuzYgw', 'https://play-lh.googleusercontent.com/YHN9Zj7M3GA4Z5wP4mlM0gjwFFW9kxcKnzIs9sR220Jvj5dxUEppbIDEifKJ7aUdlg', 'https://play-lh.googleusercontent.com/YehB5GjqEFhbJhUCHUMzIkSVZUon9VhrSMqHf6q99-69Fr5U-y6dGGdIvUh1E17bzQ8', 'https://play-lh.googleusercontent.com/yN2fQhGxBlvxKBpR-4lMIKiP_gMyrNsSTd-D17TTL7M443ub5DSqAQNlOKQs8spo7aU', 'https://play-lh.googleusercontent.com/prsiyRqiFtBQNUBI1HNo6rFUrCPdnHkxb4MD0Rq0tpCsvZAlxoABnzXimA9nnlNSrg', 'https://play-lh.googleusercontent.com/6utgGb6WJNTct2KGuNGNnp5Vf-LaN7wHGNoQo4q1wYveqdI6gbUq1OpE-OY7NmlDZcQ', 'https://play-lh.googleusercontent.com/qWMfT0lS5r-bvFy1MTFOHl84jOMiw_EMNBu3FwQKpwrk7sIDb_mmEWeBQ2qEt-Ez6L2T', 'https://play-lh.googleusercontent.com/FVFVo5-bd8BydBuqouKbmufPJc9J05D2wAbxmQMt-FgXvM_Fy0O9u7LmWKuC2Y4b1Q', 'https://play-lh.googleusercontent.com/b-VfinCsLYZHnkpqEKZ7qLYR3XhClVseeA50PXSY3ug5PhvXsdaJAXGNTwAQyYHt7w', 'https://play-lh.googleusercontent.com/vkbxn06Sb6Y2GEhYLkXIgHEO_0Yguyb_Af35OBF5eOlfBjog_NEov6dqOVAhyZ9YVcw', 'https://play-lh.googleusercontent.com/P513WAARWpOcmyZvbQ892pqTh9oys8yACi9W8kAr32qou6dWR3A6TT4BjWCwd0d5JMg', 'https://play-lh.googleusercontent.com/WF0thCBsxUffRspArcaI8RCRSO94r_mTBglG4ebGuyy2bPh3YCfkUC3ITZixZnqrwXA', 'https://play-lh.googleusercontent.com/vjd9ofbIQbl6hm8yxZP8Zf_MK9rpvci39Zh1CkQESaSJifQTuOZWU6lVFdzt4tuMHlk', 'https://play-lh.googleusercontent.com/p0PS1D19D93X8zgtSXQEq3lzR32l2z0Vji7TeMVupA1LsR3-sFxI4BCrz33Msf9XRAY', 'https://play-lh.googleusercontent.com/QcAsgJ5GOr7AjDzVl22lrYeZ2vMJ8siNScvl3UhYi4IU0J8bOxgVrTV4eBsrmcfryRM', 'https://play-lh.googleusercontent.com/x9haeVJiZkeTNlBZd_UcBgQSAs2QP0CiYrCUcPGVH698iRmqGpHMTluJdHvTbjZH3b8', 'https://play-lh.googleusercontent.com/oRVgybKpdM5XdCQ3zu0Unm0FMV76QRHWKZlIhQFCkOdPPKIR1lkiVKESu6-gDPfnAg', 'https://play-lh.googleusercontent.com/PL1cpd1I1s0wxJcrSxqnfPsg2uPXNt0mxWV7mKp2FCdNP6SzmUUSEHQabYwzejT_HQ', 'https://play-lh.googleusercontent.com/ym8aNErDRXgIBu4pywP4jinou63IPU8LezLbyj82siMhzsFI2GryKx10MaTYASHYUdHx', 'https://play-lh.googleusercontent.com/6t3J5z6RA4VzUI8YKcP56wCgJra2zWNK25WMTxo2V3ZL_Pu_RER6z5FQa9ddEfmx0cI', 'https://play-lh.googleusercontent.com/OuUoWLfzrpuS97cAbjh07-900vhy5ILivWJA9Xnn6Te7aW5uplP010r-Tmi7gOH7nw', 'https://play-lh.googleusercontent.com/ecIdo9wMJIQZpZoNshYgd3f8x_eJ2v5GqmOWlM0ZVMB2lhHatA1HHPbW9agsKC_guI2W', 'https://play-lh.googleusercontent.com/aOkpBtwkuXgbwD0Ngq2ON0a3wuu77WlvWXOwumc4eS90f7bW_bauS4ey6wtIAgUAJ9s', 'https://play-lh.googleusercontent.com/4Y4u9k6-TaMIXtrZS30jMO7LqLNLRPoVtj0LP5RwKjlfno-szaKuxiQdmBqs7fSc3Q', 'https://play-lh.googleusercontent.com/Ru5oksKMCtBG5tBWdBMiJ2PpLanRM0Lse-pJ31_ROcqV9eMUCpXCM-us2wH6InEQSw', 'https://play-lh.googleusercontent.com/MCUvCgwAWN98hqZOJrtjPq8Qr4lpI44lnLpD8cPpV0RRtzaclXp1R9swivCBR2LOZw', 'https://play-lh.googleusercontent.com/Ox5XEqLjGi2l27Kt1z8deq0a2GgLM1Cc6mLtinJB8db6pKLuXi1eRKqVrLEat80zgbw', 'https://play-lh.googleusercontent.com/sokuIbCVtfVws65xa5sgvaAXBHtWKlCy4jpUnJTP1tuerj8YRPrLX93PLOjrfZrncQ', 'https://play-lh.googleusercontent.com/nMm786aflyDxzmlFD-ywMyqdilzNE4rTxvxv8kdCiVQdsQN0HTVz0XhacAexI1zzuvk', 'https://play-lh.googleusercontent.com/nQxnA--HjPai5p973fEcsyG5K4pat6b2BF5K0flUb7rMmxLJgJubPIGr1HeLcLQo_w', 'https://play-lh.googleusercontent.com/zY13mybzwKJm-OGDo1tZfvn8agH_J3oHu0LwBFbJKFr4gO1-2oztn6pLjdum1KeOjw', 'https://play-lh.googleusercontent.com/z1bbekLcrk7kmxD4Hi18RJFJr0P2fhbbWTIXhSeDhrEqF7YfT2kN5BPyNruYdQ0bVg', 'https://play-lh.googleusercontent.com/h9EKkQQ2FQhakQouP69XgNXgwrkJlUl0Gc96XXzUW2MQZiBFl1NHu_u4IFOXu0h5Qg', 'https://play-lh.googleusercontent.com/YjG3qWP3ptrri2yDTwAjtZVtFtJcuTUMYXykAJM9s1DGq_4C1MqbIWEvCe3aSDbJQQo', 'https://play-lh.googleusercontent.com/Tj9eavOvuaszxO0pgAhYsXuEx55w7dVHaPf43QkXj_fWS-3K7-1UxIuaEY5hBUWXXA', 'https://play-lh.googleusercontent.com/K21F7uExO9GSatm4ZFa7Kly632TiG6NIszilrkFDARM0YaJho9LAbRJ4U9exggR4O_Y', 'https://play-lh.googleusercontent.com/RYsTKDb4nI-e8Fd38trsswqglOOiywhvedSM5yICCEJnDqlp2Ya54dESLeP_BCnj3Io', 'https://play-lh.googleusercontent.com/ULQ8m0kjrzg1x5PbPHnnA6jwIW6OJpWG-81yL76PEgkOJMTtPg_MSoJUq7IEDojWRfs', 'https://play-lh.googleusercontent.com/X6V1kXrN2QziaVha_-4kgpKn4W8eg2CfQNhhltE9zYFNnlBkb1ZYFH2M_px5y8eYvWc', 'https://play-lh.googleusercontent.com/FcL8U0TnRExDrbzYiPXu_YdZZ0JK6wgLpkKvib1T2YrZEa9iA_2bUQR1maiLjT25NA', 'https://play-lh.googleusercontent.com/ER2yGEKm1-qiQnudYu4LyLl9RFT1f2oHvEUi_O5jtvsFwFTH7--ZsblLmH8Hx0JTzQ', 'https://play-lh.googleusercontent.com/KF4paO-kj4AEwrZ_aYh0DKL99dxBVAin_XXsZ5ndWKfgkYd4ShRiqn9yKzP1SpTIuag', 'https://play-lh.googleusercontent.com/zSUp6OsW0EBvjeJ345KMVfdqbYvol8OSbHMS3lXInTAoWoXEDSHW0gyvh4GTj56B698', 'https://play-lh.googleusercontent.com/ecz99XFPFBrfwqtsDezfOuBeno8t2jq_RXW67f91m7L0NpOXeV_rCGI67qFeDQTKxw', 'https://play-lh.googleusercontent.com/WDFEEMW9GYXkilU5kU8kM_HHZIIrdftdQFA_qV_OB-EK_U-U-iwLCpWA_8nSbw7ZWmHt', 'https://play-lh.googleusercontent.com/daY_vgFs4r2SwiH6nEPhBg58SP-UZIiimbep-EnPNeWHpeDsO4xLjLlVATAc1KiAjcg', 'https://play-lh.googleusercontent.com/2IMmjMnzs2LNsnwvPIGsE-iEQ52qJUHyr0EZGL1wB18HTFfbv0bbO7wEgsfBtRFj1Q', 'https://play-lh.googleusercontent.com/cpWge77pQmHl_MeIIF4597LgrAa0vuCFqPTT3loh-Aan3aTh_0wkvwdMpAtn7ezVl0Q', 'https://play-lh.googleusercontent.com/8wdhIibaGGnx7YxHLWRbkU6U0zdNI-SvHSHdUh0YJ3DZ0BJpmlTV3z3rZ3LxvfUtbL0', 'https://play-lh.googleusercontent.com/EzVB6uYQDzCJADLI71b17tJzPqOqedN6FYLGKIXPOgld38PA1LgeB-SfuBSo8ycy3Ag', 'https://play-lh.googleusercontent.com/OGHUMd5K8fIp2hwQ9By4JtXShKCrD-DBOHAfCAs4gCSNBlosLzsbb-Cd3aw-J73Wl2Y', 'https://play-lh.googleusercontent.com/HkYEyi-HIKABCGWDVdXr35-XLx51HwjgRwHN4ltqway-iY7VNoQjEzx6taR9biiI6qWb', 'https://play-lh.googleusercontent.com/qGKYihUij5fWB1HD3ocnR8-MjmfOLvOZsxZjqvgN6xtBe1fnlNsrvAaOHWCkbEZWYso', 'https://play-lh.googleusercontent.com/EdFW776n6LcMzPeKdsdtKnL7uettCPUjZ0KXjdBWu8P9uln_TsUZtZDmdF_QJn1Wx6ue', 'https://play-lh.googleusercontent.com/H0CPtny3fhtv0b_RtVxDD2-2CUTjwble6Bcx46MBk93l7x2d9r6MV1ptUg2Dsi6LaHg', 'https://play-lh.googleusercontent.com/yNeHP6gJ3Jlz6_ZBLzw7g3KvuVdrGf6_1Ij1rXPHpgpBwpA4xtomzJyVmhPKTWYtIlIM', 'https://play-lh.googleusercontent.com/zTUO9Oz6pteKSTYKskkap8QCepPKG9yOEQ2LJkOU6F06x9cnSk0VsGb6A9h8zEs2hza6', 'https://play-lh.googleusercontent.com/dyEhiCmGUPptSPYeTgPiu7TRpsDOJvno8ZXwB4GJvJhcMW_j4v2uqNEkJkI31rOCMA', 'https://play-lh.googleusercontent.com/DwHJVunQzJE7j6oyv2BRqLuJsI1r-2T4hTiGIil0MZeOpTC23UWKihxLLqBZHN7Y6kU', 'https://play-lh.googleusercontent.com/XBFhjkNYGHotUI1RxA3QsuDQn0QTEHi3eyZRj0H5q-NE8NgGFUZUeSe9dAPb7ldG9UM', 'https://play-lh.googleusercontent.com/6ZCDfjCLgDCuz1T6HLOuIWZW-WwfwkuU3cMeoTFC_PAq79UvIYX7NcZcSSoRvBOZBw', 'https://play-lh.googleusercontent.com/RuDv5_cqMX0kFreBBsNCeXfyZ_kbld6LdG_g1PicBCmo9Y4sr9qwJlN23BsdaKmFXxpM', 'https://play-lh.googleusercontent.com/2zjWfYhVP5THfT5HGdQjrciRSRYhw4J1Z1sDp8Q63swloTfKXt6kFedu_h6HbdrL0w', 'https://play-lh.googleusercontent.com/pLx-sFM9bZQPQC31I4Fk1Ln1epQA2Op269pvDh5imWf_1RqMBXy5PaErXXVqFdMnt6oE', 'https://play-lh.googleusercontent.com/8vAg805Hbqbg8TWgyqwNRN2JRAO2hNjn-xFeBNESKeDtSmq-2f6SP-eaW7WpgSOI9No', 'https://play-lh.googleusercontent.com/K3NJStfySSDRR323uuhNwSnHGjT2TesmM2q4sOScykKi5-NpwujjQi-sGu8n1sGfq5he', 'https://play-lh.googleusercontent.com/HZ7aGb30sveU0GqExmvegxs8_5XsQtzlJIpNlHp9T1bvo_ySiha60qy3nvXYdzbYhyna', 'https://play-lh.googleusercontent.com/HO-1u4U6sh_jtJfNVCgeS9FDuJdJ_VzffGPLSNnyYf24VPNKbsg0ZIa45e250PV7M68', 'https://play-lh.googleusercontent.com/pSu7qUZvhtWEra4T5umRCAV3puLFLTrH_pj0uim12_jy2tIDM92ipoEWeGchzwJQ3Ik', 'https://play-lh.googleusercontent.com/knBWPM_ocz2tMA0eScYwkORTuMkWpaeHhKr6l8oOoGUwqBLvIjhfcQ82U4hYDinyn5M', 'https://play-lh.googleusercontent.com/j1PpVrLUrlCiALkYy4gNcoVaXBE6HPpFb97CkXAQRESfaa_JdlMvW_S56U1Lv16T4m0', 'https://play-lh.googleusercontent.com/ox-f50kx_sL4s2t0VPAGz1O2AegHkYTFPMPw2EqjdrlnK2NR8tW519e2okG5ArNXlg', 'https://play-lh.googleusercontent.com/s7oUHC4W5P7oe9zq200a6A6s8GbvzDtpRO5Snk4KiuXxT-RLJ-WjW_RTcBGTcldcswE', 'https://play-lh.googleusercontent.com/gjwtFa9UWT30OJ2h9JZL8qv7LYGkAyJ9KPICHPc2Mkw7NA_3E_mSqZkqLA0gTgBLE2xt', 'https://play-lh.googleusercontent.com/kj0_PohAenanioEkAhqkd0L9XYO4kE72FeZ9cBsyq-bHviWON5ixMu34GXKlbobEl_Q', 'https://play-lh.googleusercontent.com/XHJmIAPEi9F4K5W_-l1kF2p5KHYM80FhPlIRFO2t1VIqrsIXI6JcDs-L2UkXFTCqGXM', 'https://play-lh.googleusercontent.com/YZP8x9KuDZYAOs-txVW1DJzQvyOweY72lcO8wnX8UDeDDnEAhXXt8nC0N7Qu13mkkh4', 'https://play-lh.googleusercontent.com/bczRvMqywrPeQZMOu2rMn7HGV6-JQjU3dIwfLfr7bzeapumNIZzNZHoDxv8bEehcPg', 'https://play-lh.googleusercontent.com/PBdqL1P9_ZH71mAXAFuXq4Gn1qhjzS19LQTKFFkqcbG3KMMToKABNenhlqh3rTPRqwE', 'https://play-lh.googleusercontent.com/PnQhppmGHggv70PWQlqUTYQnETUry4SZTohhVOmtRRGkntDIEXjSsXPkGxcH8kO5Tg', 'https://play-lh.googleusercontent.com/vY5FGcDfYXNvGN8PLIDgzhKr5B-gKiLWMxq3n8k13yzr9AOI9o8e6g54Rfdq0tpDwg', 'https://play-lh.googleusercontent.com/FqXEVsJjwTM40rmYX4uNkhoZuVSgHYfxKHBgiAWI7GQGkl4KvcxZWLN3DhfzWzOBdbQ', 'https://play-lh.googleusercontent.com/pxvuUGwmtA20MdlIrsZpqrVXjxtQj5lRYTkAUJ9cus_qiLFMxK4eohfmBjAdCtf2tg', 'https://play-lh.googleusercontent.com/65suZohY4ozFRhDClWYyKOwbM8kfaZJrrr3o40s_M8VpqJDvU0qVFLjQJoyN4X95eZVN', 'https://play-lh.googleusercontent.com/JC2nrEFjMfyE1ViyhH3oOwrt20L9nv90alE5hM-9uuBc3ron78s2c5Q_-N8UTWUHp1U', 'https://play-lh.googleusercontent.com/u1wTaNhzW3awm3oX1fbZzUxIkYfOU1IJAHB98E7j1JdcqbGHu5F5D4DBC0Kb0VpIsg', 'https://play-lh.googleusercontent.com/9OdJ6vwYMqedeLUGyvOkaNLEO45XliRMmKxIRdu3c4rtNMcWTSIQW3_HviBxY3YwtUJ6', 'https://play-lh.googleusercontent.com/g2528h1qJ9kC7nB7bUnjF69MtvAmE1JoYXyFXmnLqnbHrxceQFtBwnrmCADixf4GYw', 'https://play-lh.googleusercontent.com/Xzo4UjRWS9klmJ40Izj5v5oeEfaKbsKyiWhjLfX_4rGbNJt1YhlLoGaVEZuBJGAlfvCY', 'https://play-lh.googleusercontent.com/EevosjIMV2iVS_vZw9fw-Wyx3I0qR6h3crcAo1m_hM_qPn0Ohloxbg_wUOuFyjcxJOE', 'https://play-lh.googleusercontent.com/pI2NwZLUVRJzN0Jmzb1_G7Qtg0MUfS1k-Wvb4XjYfohtJVO6bQIIdUm6YM7cpfLHlcQ', 'https://play-lh.googleusercontent.com/gFphgZc0fg8Dv_Dblln3nZ3STKCJpaEu9djD2opdF5wl3VzCpk2uiRw58xT4IpyLn_FV', 'https://play-lh.googleusercontent.com/DOJA4sCQy150-JvvfNm5A6IWfT4syFY8feaWQjIDJEcOWa_sRgNnYfLh4uOie5_Xjtq7', 'https://play-lh.googleusercontent.com/kRZgFU-1zq3kg16ApIqE21g2S5T1sPF0Woa5DhtJZ8Sog0uSmwxC_sftv_IYTzWUnMEx', 'https://play-lh.googleusercontent.com/dLLMzL9vN7PDk4_LoIe-thh4Us5VLrlMPJ7MCs6kxM6MqU4lhyVmlbhbt2bGqyqFPQ', 'https://play-lh.googleusercontent.com/1gjRbQamDAPGOldBrs6_U__lP-YQcn-0MCED72pt_vE_ebcYcHpmhCJ-HuOBld7zwes', 'https://play-lh.googleusercontent.com/vMPcxr12eE5b2wcU4FLojadaa9y0S7h-id6RO72m6iZFC6Lr1JTGOTQfQmXLi-EFgtM', 'https://play-lh.googleusercontent.com/V5OD_v45IqPNzAdrZDyAwpirE_XJJ_nZG6HVd1o5W8NeLRhOZBFFKnj3w_DNEa9RF7c', 'https://play-lh.googleusercontent.com/b8ho8Ai1a6Lm1zuFYDBQeHxHPz7kVFQcH--dgPB1i3xNeC6EtjzOmMmcIAiXsiWfPw', 'https://play-lh.googleusercontent.com/2Z7p5mAX5M7QvVI520wBxdh41PNOOgogciuLvfB3NB4hCqUZB3WHIh40aufrUzGJcFE', 'https://play-lh.googleusercontent.com/CVAGAdxYaiI8vAMGhnWNPRsqQ844O1Y6ijb8ERx_KDjluo9EmR3f81ghgV_Fwpw1hBw', 'https://play-lh.googleusercontent.com/5acdLkt3bHNERzrpdxoN_UeEG9LLUbJUCFQR4X1BcF94frOeEZlmSXrS7fMqGamOEw', 'https://play-lh.googleusercontent.com/kkVTYy2t9MH2TRlrQ3w-sntBacoRLzLzf7M3kOACNT8o5qimT5iMjCS2xRVgLwbLcsY', 'https://play-lh.googleusercontent.com/qahkqUU0EiPd2xZLNsD_OlJbVysslRx1tM5e4UiZJCqVzxoKMg8A0vBqMZSwWkcH6RcP', 'https://play-lh.googleusercontent.com/HimO_QEWOOmin6YcmLgAn38uDBqeRP4f0XtGdDLYsPsM-aeWT4HiWx6XzdfnjE4QjA', 'https://play-lh.googleusercontent.com/8g0nSeixeB2UTN08UfgfiKF5W3N7Z1GVwgIJJinX7hYEks3AMySJkNf_X66d9dtjKAc', 'https://play-lh.googleusercontent.com/Q-9qQ2ZaNu-smCgHKqpxnPsYINw2RgxEQLqcT7tgvORCWpmqKadZtqzzbo93MWJ5xFil']\n",
      "261\n",
      "['https://play-lh.googleusercontent.com/IciOnDFecb5Xt50Q2jlcNC0LPI7LEGxNojroo-s3AozcyS-vDCwtq4fn7u3wZmRna8OewG9PBrWC-i7i', 'https://play-lh.googleusercontent.com/OBVqgRK7eerY0GPfK8AOzitu5oE9ecC6kG4kURTCb1K41gpqVsN0WjmJwJh-wX8vILzpcc1kYHt56aLN2g', 'https://play-lh.googleusercontent.com/dcv6Z-pr3MsSvxYh_UiwvJem8fktDUsvvkPREnPaHYienbhT31bZ2nUqHqGpM1jdal8', 'https://play-lh.googleusercontent.com/SVYZCU-xg-nvaBeJ-rz6rHSSDp20AK-5AQPfYwI38nV8hPzFHEqIgFpc3LET-Dmu-Q', 'https://play-lh.googleusercontent.com/Nne-dalTl8DJ9iius5oOLmFe-4DnvZocgf92l8LTV0ldr9JVQ2BgeW_Bbjb5nkVngrQ', 'https://play-lh.googleusercontent.com/yIqljB_Jph_T_ITmVFTpmDV0LKXVHWmsyLOVyEuSjL2794nAhTBaoeZDpTZZLahyRsE', 'https://play-lh.googleusercontent.com/5HdGRlNsBvHTNLo-vIsmRLR8Tr9degRfFtungX59APFaz8OwxTnR_gnHOkHfAjhLse7e', 'https://play-lh.googleusercontent.com/bPhRpYiSMGKwO9jkjJk1raR7cJjMgPcUFeHyTg_I8rM7_6GYIO9bQm6xRcS4Q2qr6mRx', 'https://play-lh.googleusercontent.com/7DOCBRsIE5KncQ0AzSA9nSnnBh0u0u804NAgux992BhJllLKGNXkMbVFWH5pwRwHUg', 'https://play-lh.googleusercontent.com/PCaFxQba_CvC2pi2N9Wuu814srQOUmrW42mh-ZPCbk_xSDw3ubBX7vOQeY6qh3Id3YE', 'https://play-lh.googleusercontent.com/fQne-6_Le-sWScYDSRL9QdG-I2hWxMbe2QbDOzEsyu3xbEsAb_f5raRrc6GUNAHBoQ', 'https://play-lh.googleusercontent.com/ql7LENlEZaTq2NaPuB-esEPDXM2hs1knlLa2rWOI3uNuQ77hnC1lLKNJrZi9XKZFb4I', 'https://play-lh.googleusercontent.com/UIHgekhfttfNCkd5qCJNaz2_hPn67fOkv40_5rDjf5xot-QhsDCo2AInl9036huUtCwf', 'https://play-lh.googleusercontent.com/7iH7-GjfS_8JOoO7Q33JhOMnFMK-O8k7jP0MUI75mYALK0kQsMsHpHtIJidBZR46sfU', 'https://play-lh.googleusercontent.com/czt-uL-Xx4fUgzj_JbNA--RJ3xsXtjAxMK7Q_wFZdoMM6nL_g-4S5bxxX3Di3QTCwgw', 'https://play-lh.googleusercontent.com/e5HMIP0FW9MCoAEGYzji9JsrvyovpZ3StHiIANughp3dovUxdv_eHiYT5bMz38bowOI', 'https://play-lh.googleusercontent.com/nv2BP1glvMWX11mHC8GWlh_UPa096_DFOKwLZW4DlQQsrek55pY2lHr29tGwf2FEXHM', 'https://play-lh.googleusercontent.com/xwWDr_Ib6dcOr0H0OTZkHupwSrpBoNFM6AXNzNO27_RpX_BRoZtKIULKEkigX8ETOKI', 'https://play-lh.googleusercontent.com/AxHkW996UZvDE21HTkGtQPU8JiQLzNxp7yLoQiSCN29Y54kZYvf9aWoR6EzAlnoACQ', 'https://play-lh.googleusercontent.com/xFouF73v1_c5kS-mnvQdhKwl_6v3oEaLebsZ2inlJqIeF2eenXjUrUPJsjSdeAd41w', 'https://play-lh.googleusercontent.com/a1pta2nnq6f_b9uV0adiD9Z1VVQrxSfX315fIQqgKDcy8Ji0BRC1H7z8iGnvZZaeg80', 'https://play-lh.googleusercontent.com/SDAFLzC8i4skDJ2EcsEkXidcAJCql5YCZI76eQB15fVaD0j-ojxyxea00klquLVtNAw', 'https://play-lh.googleusercontent.com/H7BcVUoygPu8f7oIs2dm7g5_vVt9N9878f-rGd0ACd-muaDEOK2774okryFfsXv9FaI', 'https://play-lh.googleusercontent.com/5LIMaa7WTNy34bzdFhBETa2MRj7mFJZWb8gCn_uyxQkUvFx_uOFCeQjcK16c6WpBA3E', 'https://play-lh.googleusercontent.com/4EZ1uE2I-u2lbS0zFYvv_D4akGy_I811cwSK5ovvjJy7Xs0FTeLVxkAhbfKayDoq-mM', 'https://play-lh.googleusercontent.com/Hpd1ABB7Hyr98bKmFvggtLljldnRIc9x0OnywjjEQdhUOo2QsMBGNK-wmBNcEFAktUuX', 'https://play-lh.googleusercontent.com/eheC-V1SP21RSw-RxPgJPpzoyfJKGygp-RdZM0TNzUIUb1d_cy952fHwAvNohri3YLYj', 'https://play-lh.googleusercontent.com/pYCagdiZE5jr3TP4DFdl2daFLNFG8SxukdeTK_J87Z7WpuLadvVFYpzPdEp1tu68zQ', 'https://play-lh.googleusercontent.com/kUOmBnZX4n7p-hHWLc04dGlIq0tLsa2b_qwCtUMmUKDxB-zFajgVCMReMu091DuXtzA', 'https://play-lh.googleusercontent.com/VtZuEADM8hqxGjvg7RkqLc6RIC0YwO2TtonoG-uCPlcx0AMTM7r1bpAgaly3MHq40g', 'https://play-lh.googleusercontent.com/nF66EQdx9fRlLeJumA80jukG5V5_62HQ6rJPbLO3Y9qPVtelNI5Ia259A6ibde8GPA', 'https://play-lh.googleusercontent.com/swYlwWqpQyXAUFcHOhEtfat9Kt3Wp0E7GKv88l5RF1EGFu4ak9uRMoU8H6hSfnWalheD', 'https://play-lh.googleusercontent.com/-ZjU26YEqb2BrBheDFA6Zzr7gTKacDJOe10GHq1z0Rvk2KENvAEQuiIWKawL-ouuSaPB', 'https://play-lh.googleusercontent.com/gBkDxIEghfs-kUVRQzhYOmd1mSaGa3f9Gi23TbgQsDxXAFH1V7dAegCuiaVM7p0DhXo', 'https://play-lh.googleusercontent.com/UBfgQF9br8nU-gm4HT6oy59pqbRmggU2_xigdVViY9BokX3TRv4ca41nWGfsBksApw', 'https://play-lh.googleusercontent.com/gbF_8h7LXr5ekndKbq7Yxfdxgvn2vaWwissdfHV4XNNwma1mg6Z8jSdSJRO3mFDSUsk', 'https://play-lh.googleusercontent.com/8-YrayG2VOYc9n12U8-GtGZjZDAxUZRTcdU5U3rik-XqajJGj3SwkPvObwRG3pEA0Bw', 'https://play-lh.googleusercontent.com/znsUKStvbVIJiwe2YZ4rYt4U2znTCzW8E_aDB1-PIMdyuFAftMTqIvIqTB02vIQXa9I', 'https://play-lh.googleusercontent.com/dzTgFhYl7JBdXveodH0q86BjXmjoLMcQ8SUkSW88hTIRf8Y-0GQaz90vYXyaUlUuqUw', 'https://play-lh.googleusercontent.com/Ts9bAjj7MmvmwZmOWuFcmxnS-_KN53wBxhzFMCR4XSmhPZLZ42HZ41cxcLLACD-bJiM', 'https://play-lh.googleusercontent.com/p1MX4nGydD9Qg-ovCRNDY-VnfDX_PXXWfgM-gsCkCa2Eqv8rm0kFz8OBIKrY-SLUHKQh', 'https://play-lh.googleusercontent.com/QPx5qH6EHNzzw3xQYj1gOfyhaTtL2FMOQS-eQWvK6ViJ1nbPDu9OxRSucDyygx5QVKU', 'https://play-lh.googleusercontent.com/2uAHfaIHQDNOiKBxm1mhOqKvqbOMb6bdXWGHY2kX4myvKIdLGU3pyyfggWCAVnz_wWQ', 'https://play-lh.googleusercontent.com/tRD0fn2NykEgoHe45KvyQyBify4JX023dGh9hAaPVdK-N6dsBCvJwvay5XH1kHZj6w', 'https://play-lh.googleusercontent.com/vefpLxCyyfXmOEP87U7jpvlBe8obuEnb-o0I5Dk6NNJ3UdBOXf3GeIdogWmRv4oHOg', 'https://play-lh.googleusercontent.com/OMP3BUcu1TI5vApXUvpNmIGbSyKA2V9H744hQBIv4rvRGw0MEF7K7oLUwxna5SD7M_k', 'https://play-lh.googleusercontent.com/th8K8yv5ya_hoo0nu0kQSp2IDj_bj1-BWZ_BtcOs2yqHKAqSiSxeufOAaUf6OD0K3cM', 'https://play-lh.googleusercontent.com/7qh1ZEQ-gIzcqMqOZ5EEYgi59fg_NS7zxA77Yk4zhAYMCTsvsOZTOQ2mn5-FJSEY0lum', 'https://play-lh.googleusercontent.com/9lBiNdjYBjWTXVJuOddI9oVn8ScVLdt7YAZMWLNu7dpS4Us9cWFRa7_GQwWKUTFKqB4', 'https://play-lh.googleusercontent.com/w3OkTsc0ZCt35sw_5qMr0jiORlfkukKwV8Dh7PDNtI-MuKXlj0kdraTBo1Orm_YIErQ', 'https://play-lh.googleusercontent.com/5IR5tmAD35Sqfi-tDrFmb-mk9wronJDZm1w3h8xtFeK1rDX46Cyt0nauwUmUexSU9uM', 'https://play-lh.googleusercontent.com/fbQzDaEqAm98dh_y0SFSVJUe6Wn9YtHwWiG2eaTvfBMD4ksCiIhnrdaWUrCAFYDkxg', 'https://play-lh.googleusercontent.com/26dOho8wDy1FWTEN_54gWvV9o-8mCRHlP_LapAohiwjcUHe3cCTZ7bpFLgjsLVRPfF0', 'https://play-lh.googleusercontent.com/JJy2NtY-K4quRUBqarln-AqksGCpIpph8MWYuuq6vuGGbhtbL27R3WzuQ-IgvdaOHxo', 'https://play-lh.googleusercontent.com/fDXvaz0ADPPv6oh3l7oa2RWKLWhnmxMH20_Ek-dm309a4abBoikrzExAXCD2esF3dIg', 'https://play-lh.googleusercontent.com/LF4yf9bHJ1a3d9aS8SP3ayUjpruta2EdBCCoAUAuSCFW_WIsQn4fxQwy1Q7w7ZJu-0g', 'https://play-lh.googleusercontent.com/0jsgxRt9kRAjPLlzsUskK5oZj3-D-BBcu6DEBk7_drjMVaa_yccpB3cSf6nKanKqcx8', 'https://play-lh.googleusercontent.com/AsvpDARUa6ljMSiPJvQbJOyb0z9NnaJdEFyuPle7eRHrXJByIiAQrz9_RjrQQCewgGc', 'https://play-lh.googleusercontent.com/3j2asJ9gQG19RvNo8E1DfOG8rVt6SD1SIM2Yd9NV5o27M91NqTW09hQOwTKU1BXJKQ', 'https://play-lh.googleusercontent.com/zhpLYJZ7eTm6N852waAdvpG3aRwT-CdMKpojYcLiHb9btFaN2qc_m0pbv8szRHzg7A', 'https://play-lh.googleusercontent.com/-wrFe5CPDfezvQZfs70DCzwTSfPQNrsTz5_9OyHtzv1CcMujqnN8kA-XU_Cti9_Shw', 'https://play-lh.googleusercontent.com/dYHGgCAlOwT_pjcpQRGNRaDPCPJu40yl-eNX1ZcBfW6e9yigbhwOViD3zk44Ui4ue-0', 'https://play-lh.googleusercontent.com/P8UyWVicqkGcgxO571whPENBIAjWkCwiERNqrevVrEPBb-7nJ03AD3BG6_oOKZIhGR0S', 'https://play-lh.googleusercontent.com/WatnR5w8uQuk9aBF_zyMFwAWWfzRcAnrFDVUHqJAexQnPWHdnyFIXV8DAV3i8HPemQ', 'https://play-lh.googleusercontent.com/0_5VmqYsE-dohz4SiyGf0HvK9Fh2qU3_R0RRFPMrN6YdEqeocqxQN12LajahKyH1zGc', 'https://play-lh.googleusercontent.com/As1mqV2HtEBDfLTq-Biz_2J8c-EtUI-kOvstkachC9capO_JZnzrVwru52kUH72kkbI', 'https://play-lh.googleusercontent.com/p8jJaXWD55pieTPAYsQIYaTWdDaHR_M0aDbVIFQN9vSplp3zAWk1tPN7imBR7wsasMs8', 'https://play-lh.googleusercontent.com/YfP0kdSk_U_N96NCxGCjw1iwWchfi80rLb1vYqOmWF2iSjqf1xj02bAid7AbPPiPTxw', 'https://play-lh.googleusercontent.com/xDHFnQnmWLdASn9R5HXYowp--r2wGDN32o0CdEhqHvW8XTEPBr5b6zECoXlzfPWYxlmh', 'https://play-lh.googleusercontent.com/p5azJ8MNtk9QIJlIm1OG-Q36JAImWYVdmqVpLL4GGLfiYOZNZJGtYVGqlnvFs9hNRw', 'https://play-lh.googleusercontent.com/AS5VE0ehtnbRPRhPE2LIEp4V5vvBFPO8oomZh6tRoUDwifFPwA3yiHHntS9gvdlNsoS0', 'https://play-lh.googleusercontent.com/uk12FA3o6r7oOyhmohvrYPm3qk9_HYRIOvT6y4T-p_7ITrl4elg3tK5IRtTrbCvt500', 'https://play-lh.googleusercontent.com/k0PP42lhP5h8Oy6m-a_FuQjfjdLUqOAEIDZmoNmJadKyZjOzFKde3NkMMW5C3lAtRA', 'https://play-lh.googleusercontent.com/1K2F72BJXHojuNaBZ-Vs5PFJs8w2x5kHv_BB5AD-h3LJbdDVmN9pgeBiZssQxa9flv0V', 'https://play-lh.googleusercontent.com/Ty98xx2P6N-Z0BHkqeVNXSmPx_wBOHqIV35-CXAn3X0ddqCRL5kCgo-rDSfTCEvGWTw', 'https://play-lh.googleusercontent.com/x5KxOI69o3jkuqc3ZurB8rWdvx1lrmHU1iF3TZcSVMD_fhI1PXTuIyHqDQjxkSTBkA', 'https://play-lh.googleusercontent.com/WaCVbt3iC0v56NscQizat0uLMEjMFyzSfx7nlbYYUK3Avbks16JPKMg9cDY37vaMS7N8', 'https://play-lh.googleusercontent.com/PYj_Jjoe_Isu2MTPz3HNHe0rY-rMlYQxBhceKYXl314WOG6imZH5u_vJZteOXqrMx4-x', 'https://play-lh.googleusercontent.com/JLTr8yphFpYQ_uMpg6PdDfhX1ZpiRqDH6oT1FU30J9YYQPSb6SrMBEkYYkSzDCa2o-Q', 'https://play-lh.googleusercontent.com/FzZj94iGniPdqMuFFwtAoc9OJxLBHHgDs1FggJhSoONabO7ARa5kmsHTNnh11Ll1Nns', 'https://play-lh.googleusercontent.com/aueEWLoBDmq6NE5jGPwBFxBAUh3jWd8z2fXJf7a-VnNtM22ubbP2Raxv2O82rw0Lu7cf', 'https://play-lh.googleusercontent.com/PNJXWGwKrKkxMveIE6o5YyQ8zomwY92uQ4FeT023iCFIpN1nSUo_QydZ03r-g2ArfpE', 'https://play-lh.googleusercontent.com/nFc7nzPTLQ-kvNuBgg-HAB2r1AXWcj6lthLrA_yEatf-Pr8Gcqkm0TwpxxULfuMlvA', 'https://play-lh.googleusercontent.com/NeYvZWj72PUNqbEfE4O75KcnhZBGwlyFDc88hPgHgswNrCL1sALxi_G46xMpq6N7FN5Z', 'https://play-lh.googleusercontent.com/pes6kflZIWI8ZcSV4QZBz4qpqPEhwWGmcOo4sPAFR3BN0p56Zd23zvfzFI8W0pnivA', 'https://play-lh.googleusercontent.com/lnsJSfmzj--uuoqs-nXKkszYts8huX291foAAwJDKD79SDnghU4sRZJgSccX2vXvvoA', 'https://play-lh.googleusercontent.com/E09OT3-CgkK5EwHs0qbZrwWuMetWcBzDoM5wlypT9B0UzeqsFfNHj7V3o1_MdWQpNt8', 'https://play-lh.googleusercontent.com/cEhF4xTG6xg51TBAl8IlyUnPV_OzZKhMws2nRLCbhX_UyxCuTAaA0JAb080w4QHU4WZP', 'https://play-lh.googleusercontent.com/YIl8nnPWE2KjgpvaSXrLx2G_6uY8vxNUFA-wcFeXUh_thgEgsQjXUfKyzjKqkBBGOg', 'https://play-lh.googleusercontent.com/gCwdkELUmkDiT2QZT_SCn1dGlYaPKiu3kyN0ZVuNg9dQVOHpG5Cx2vSinPae_EB0IkNQ', 'https://play-lh.googleusercontent.com/l3fTi_gbydkjFWQ3wrzs_2wtPlhxq7iNypOWRpSh7HCcAstGitCrgVxxneUm_KdYLXU', 'https://play-lh.googleusercontent.com/S7zjXBWIWAsFuPlXA4ZO370NsCMtuZoCICQcZKnJ79Lt0KEK2ktglco_RZyfljGi8Ys1', 'https://play-lh.googleusercontent.com/Y2IWbI0_MAg7hJh2wqZRku4IL47CXI0mFAd55uIvkwCGUQljMkQjQny7K-AAdPHEKLsO', 'https://play-lh.googleusercontent.com/2khoBAXgkcmaRPMXLwvBd_MKR51z-vdXXcdZObfBRV6ExuYScRS-ztfFSEiIaKEM5dM', 'https://play-lh.googleusercontent.com/93RPIX_Cqii_5s-Y8y2e55oGbXOFDLdtMgyCcBG1ZlihEVBOBu1mBUoG4f6GMCsX16Nw', 'https://play-lh.googleusercontent.com/OAonfoIU6f8C9P1tYT6iGwe3MCvpoMXU8RvqjePc2Zc169EOG4Q3_9lzHTpJO0lRSw', 'https://play-lh.googleusercontent.com/u-sb0YppqMbVFh-0mTfce-NA_RPIkwi3O9GekUVnfD9tuVo0TfUHnW2d4CxUETTY4g', 'https://play-lh.googleusercontent.com/V8n6yLCVwQ10mcA_xpGiDI1FTuqMsO7QCTWcxE3DRT-dFD2AJji_2A7jSCkc3qn9AQ8', 'https://play-lh.googleusercontent.com/lF-CkOXPcpGA4t0AXIDmx8je-T-QfcQgqGCxFV9_XE_HUSbfMIlnPhC1iXoHcyNIMs0K', 'https://play-lh.googleusercontent.com/_ujciy4X2qaO2hPp0SbCd4susWpLb-oz548TWcvaNmxd7j6jo158tRRFAOZnE7L9ujw', 'https://play-lh.googleusercontent.com/6OVBhCTTp29Z3xYIG1x4ZVy1MOHWDLGonIXdfblqYuo2MNnsDlflzFnIW5RhOAQLo1o', 'https://play-lh.googleusercontent.com/5bWzvIRhI3Iv8OtqH01flIb0E53-tEIe-iTJCZVVvszFg8xtRTro94IK3k9taFwsHCvg', 'https://play-lh.googleusercontent.com/ytbeb57st4vSJhlssC8Hnh1lAgQQj0cR-ZnEvm3hKhqXC5lz3TMyrXL-CuBrRWeItw', 'https://play-lh.googleusercontent.com/iQFF7t2r6JmIl9H_TKKJjw6_sQgAVVOt0xwtiLqiQk5DOsE3uJszhiXNm1A9SWTgRLk', 'https://play-lh.googleusercontent.com/wPZHsVYmYdYfC9PHtf5BSsSoYvlCAh8H2bO4HLfyRkPO3T9vZnM0n-X4FQPczw9tatI', 'https://play-lh.googleusercontent.com/hpOKYsmZWhwPimbfH2HRXcjQWtxP_HXtsDDAjEQU4mn-yt_-eS6jz-Dr40wintWlRIc', 'https://play-lh.googleusercontent.com/pWH81rSkZeBcuy1PogjFV9RQTg_e01In5MvFqw9VVIotDqSVoL2RMc4A_Kic3eaIfAG1', 'https://play-lh.googleusercontent.com/fE8MKOo2opGXxpPz2yQcI4RWCegZPvPo3fhHkmhfpjBkQn_WpjWkncc3oKka1CYPyqg', 'https://play-lh.googleusercontent.com/fwQsqk1nLMWn41PucZYmhFufwMr_8o-MUCQ2dADvh3nhPg1oL8VSSveUUiITaYxNBfo', 'https://play-lh.googleusercontent.com/CDVlWdXx1wpQ4UWCuuMzbEM9dyBpnpn-CbqreCLMCyn3H8VoPLopk3VFPcfXPjF42kI', 'https://play-lh.googleusercontent.com/tbSAd00xGnvV73ujuWdYzvILNSFcka1-ZtqTCyDHU_ATcsH26LWyWxAhEovyNKcQoE4', 'https://play-lh.googleusercontent.com/VXrJMDY4Ngpc7YnPiixbx9OcnZa1xhJeHubwCkgn29RBjmXSfU_g8d678DoMwscTD_k', 'https://play-lh.googleusercontent.com/u526yCQwW2q15edrj0BxqdMo6wclFHlAACC1o90zOPR2IlU66SrzGQsZUNe1m4x_ZTyW', 'https://play-lh.googleusercontent.com/Sv5sRXZ_xS8hbozAx9-Jtp6_-PMZB8Wd9UvKYHDD_8O112JaewZHknxClJvzg_ltEHM', 'https://play-lh.googleusercontent.com/XU4bEYTIiaYtr7W0e6MCWgDRFxgPESpRKBmup8N7-l10qVVvTuDz-9VgMq_ODobL88GA', 'https://play-lh.googleusercontent.com/0SsG5WY_lkynEMrnxSuIGF0Fs2_arF2uTgC3XTd5QvQPWKB3KS1Ae0VfHTDh-EFtyA', 'https://play-lh.googleusercontent.com/GFRPIosHosr7WTLGPHM_keLVvsDa_XrQ1e-j_MoII7WeXIj8gW377JaxnzJge-BFXyY', 'https://play-lh.googleusercontent.com/8WkW7fK0qGaGXVjkZZoES2zzEV0jRRPCJIrxHWgJSqqve1vV2DMeOvwC0JojjTmXcnHc', 'https://play-lh.googleusercontent.com/V-lvUzA5kK0Xw3wdg8Ct3vfIMXUX5vXYcNLPmudaZ-eyQjedYz-luqIuLmJO6KodE0Y', 'https://play-lh.googleusercontent.com/m8aIH9unHwVuNECIIWGGPq8RnfEVodGltq5nQ5-bgGiux7u4kXDcKYeVYUUfYFRBiA', 'https://play-lh.googleusercontent.com/8KT9uvVjRusnzFEGzWOCI0OqP2RjNX3Jzr-peeOmpeS69Dt0EJDSGoFrnNLGhkF2QQ', 'https://play-lh.googleusercontent.com/q0DzBFkySshMfxchzAco41Deta7M1VJVXYw_uDJFCVfcRrMhFJXsiEoWoub9hTifaIA', 'https://play-lh.googleusercontent.com/9XvPjUbYtdKgMsnpOwjtSaQLcJDjIs5vcMTsCNm90M6lcF9s17TREfpatC-TAVtFmQ', 'https://play-lh.googleusercontent.com/qP0nLluLJhtkfNDeCKMqHuHJy70dawAB5nEGdaQDTaWqwrkkyZz4rWWrIdNdptqyCNc', 'https://play-lh.googleusercontent.com/gbBpbszOR4FUoEsZRH8UjoR7jzgTeuaKrbiI5xcmlKWFiUUDD1vBgJvH3rzKqDF4mkQ', 'https://play-lh.googleusercontent.com/EZtg0jr8Cj9mryABFWbF8HpEASvi5JXk_VSjXxfa0x5CYSbbvWieAs3VtKYoOYDGkQ', 'https://play-lh.googleusercontent.com/T2AFfeyE3GQ3--Bh15pODG-ACQ0TuAVnfWRuIxqk0VbuM7jlgZcaiwW2YUoAJCWhvA', 'https://play-lh.googleusercontent.com/GZxng-D-Z09D1i-wT0DH60e8qEKInDz7GO1yc7iCpF7_enKzpHiRKDMI7Wwz8zrBCNZx', 'https://play-lh.googleusercontent.com/mjv8VLSc2dsc1r_IFJhR0nuNZUbHPF2AKhy9XrwfTBsbZHHGAKhv4IRagXJ5X_rV7Jg', 'https://play-lh.googleusercontent.com/VRAP7H-KlQY1pDI9iEu0pTzsPvjdCXBIg9oAnnLaOaebXwe_9gyVsF9Q5gJoLod7NQ', 'https://play-lh.googleusercontent.com/kbR5PEEXnf9Y6pGWl2fJ26nocB_qgGOba41jY6X02SpF1r6WQ8DW-jCMhE-rmM9CxLoW', 'https://play-lh.googleusercontent.com/sIFG7BhXDcCaIeAfYSc2569P5mcmi8251-y-1EiIxLvnscKnoLyXMvq2Ihu1FeJfxeM', 'https://play-lh.googleusercontent.com/xRNrxQucQ9EFg8P_LCjuaCG3uZiMpDI0Zx4oLnebH82_fUv46ly58GD2CFrM-e4S8iA', 'https://play-lh.googleusercontent.com/lyP-hhTSNFhjlCuZbit4EtXS-6JVvEUdHcaRdwR81rlZ2AhQzeRo4ZU75JN8iq61ZQ', 'https://play-lh.googleusercontent.com/TYkEeSdxL_Y4EQJ86dsRpUnSbv0negHR3p02AiFylz-J7mcxuIIPL5BJOJnaqiPacH4', 'https://play-lh.googleusercontent.com/5B_KwrxJE0Hy9plZqLBxVrD-4Ka22Six1JIfMapgARh4cesGTw0mIbT-OQrDxDrgCY0', 'https://play-lh.googleusercontent.com/6M5iMnva0AszgNdMBKEOsXPhv2-tATlPM4w1VunP1q2l68Tk_jkaCM5LTNxM7rnJ9v2r', 'https://play-lh.googleusercontent.com/50SxO8wvkzGkxJ8r6YIBi4Hzjw5sFOOgEDEt0vcjt7383WT_15z_tiJoygCuUdVgonMc', 'https://play-lh.googleusercontent.com/056m2BdsWRumTzPegP-PEowL0_vf2DCDxDnKil4nY2A0Otec0Tq3ld0GFe_l3hFUHEY', 'https://play-lh.googleusercontent.com/WOrSzEAWfQ82KxU3KrYmZ-SR1cvFlzsu4NhCB9b8cMsbCb06fofhFxV-GCuoqgLy2e8', 'https://play-lh.googleusercontent.com/HTNChsj8xvfWgPHbU3pmTWgPEBEkshai9JKK0IjlqRMzBdYdYVM6PBJhVgMR_IjeGA', 'https://play-lh.googleusercontent.com/GUcjHtu4N3wIHHhZNvGvbM-8ZZoNNquSgZtZTxqZCzWuAyehNpJn4STU0Yku_mnsYgU', 'https://play-lh.googleusercontent.com/FMS6E5wwlHKXALL6YWXOHPm2zNycFpPIfODk9FeS7QJkjbjJSew5wJkC-gyr58D76Dw', 'https://play-lh.googleusercontent.com/l09RFdmrcZ1cpMrLNPtJocygyHqtIN1XQGJEy3kIvKoWP74lQI3609RfbD6-hBpQpg', 'https://play-lh.googleusercontent.com/uN16HUM01NT3SonHR-WMOcBzmKZnN3sK6Da14Tm_FU2QXGB91moK9zSqutz-Uwszqtl4', 'https://play-lh.googleusercontent.com/U9GiTknmZW3peSAtRPUFRnR-EkWtY8HWeF-fnVvQydXNBHEYdtQZHf2YnIOUrBtYGWqY', 'https://play-lh.googleusercontent.com/1YEWP18Mm-_UM5uGxEi2ucGCyCV2Mw29tNewmFG_EC2ErywkJaylM4QmN-RaYSI0Kg', 'https://play-lh.googleusercontent.com/yJ0wy-U-5XRF-sNPEfCyIHEthcl0UbNTg56dlTLHvjKpMl6miXfd_gh1rD0cPhYc77A', 'https://play-lh.googleusercontent.com/Rw6fFTrbKbJNTuRr9cWyDCqGM6NrFkcjwCieYmgOUGAlGSVaaNsrP9cbi3MdHU9jtjI', 'https://play-lh.googleusercontent.com/nLD_vTN-ofG1Sd8KtMZYWMIqJASpuosc_wdOyCERSssgxuxBbVtcDtg8EaayN4c-N7I', 'https://play-lh.googleusercontent.com/jXbgWe82LwSzR2g7udmkUH62jaoEkCUspy5i1_yL7Jz5Dp692jLIsIYTI3dKGKXqn-bA', 'https://play-lh.googleusercontent.com/dNx_-tXkU3infLBs1aWKECQMT4tDP2utd3_HFvxhKnbvrkCp1941nD118VRHN1I-c-U', 'https://play-lh.googleusercontent.com/JNRGN2FQm4HgkQ6SjY7Ax7q4vjmqNSsTJ1J5XjRyV7_dIe_m_7WYHRKIr3ryrYpvvw', 'https://play-lh.googleusercontent.com/87Q9M9Kf00HxdzKCyeYf6edZB1kwKICD0bJ4qH30jQxUc18ShNojWEoEIxO-XJnyCw', 'https://play-lh.googleusercontent.com/ZOHpWh9LfazTc9uqp-HgcxZHsuAAK6M_QmgJ0Yevq1PnBbxy2tlUcoVHRznMLuzYgw', 'https://play-lh.googleusercontent.com/YHN9Zj7M3GA4Z5wP4mlM0gjwFFW9kxcKnzIs9sR220Jvj5dxUEppbIDEifKJ7aUdlg', 'https://play-lh.googleusercontent.com/YehB5GjqEFhbJhUCHUMzIkSVZUon9VhrSMqHf6q99-69Fr5U-y6dGGdIvUh1E17bzQ8', 'https://play-lh.googleusercontent.com/yN2fQhGxBlvxKBpR-4lMIKiP_gMyrNsSTd-D17TTL7M443ub5DSqAQNlOKQs8spo7aU', 'https://play-lh.googleusercontent.com/prsiyRqiFtBQNUBI1HNo6rFUrCPdnHkxb4MD0Rq0tpCsvZAlxoABnzXimA9nnlNSrg', 'https://play-lh.googleusercontent.com/6utgGb6WJNTct2KGuNGNnp5Vf-LaN7wHGNoQo4q1wYveqdI6gbUq1OpE-OY7NmlDZcQ', 'https://play-lh.googleusercontent.com/qWMfT0lS5r-bvFy1MTFOHl84jOMiw_EMNBu3FwQKpwrk7sIDb_mmEWeBQ2qEt-Ez6L2T', 'https://play-lh.googleusercontent.com/FVFVo5-bd8BydBuqouKbmufPJc9J05D2wAbxmQMt-FgXvM_Fy0O9u7LmWKuC2Y4b1Q', 'https://play-lh.googleusercontent.com/b-VfinCsLYZHnkpqEKZ7qLYR3XhClVseeA50PXSY3ug5PhvXsdaJAXGNTwAQyYHt7w', 'https://play-lh.googleusercontent.com/vkbxn06Sb6Y2GEhYLkXIgHEO_0Yguyb_Af35OBF5eOlfBjog_NEov6dqOVAhyZ9YVcw', 'https://play-lh.googleusercontent.com/P513WAARWpOcmyZvbQ892pqTh9oys8yACi9W8kAr32qou6dWR3A6TT4BjWCwd0d5JMg', 'https://play-lh.googleusercontent.com/WF0thCBsxUffRspArcaI8RCRSO94r_mTBglG4ebGuyy2bPh3YCfkUC3ITZixZnqrwXA', 'https://play-lh.googleusercontent.com/vjd9ofbIQbl6hm8yxZP8Zf_MK9rpvci39Zh1CkQESaSJifQTuOZWU6lVFdzt4tuMHlk', 'https://play-lh.googleusercontent.com/p0PS1D19D93X8zgtSXQEq3lzR32l2z0Vji7TeMVupA1LsR3-sFxI4BCrz33Msf9XRAY', 'https://play-lh.googleusercontent.com/QcAsgJ5GOr7AjDzVl22lrYeZ2vMJ8siNScvl3UhYi4IU0J8bOxgVrTV4eBsrmcfryRM', 'https://play-lh.googleusercontent.com/x9haeVJiZkeTNlBZd_UcBgQSAs2QP0CiYrCUcPGVH698iRmqGpHMTluJdHvTbjZH3b8', 'https://play-lh.googleusercontent.com/oRVgybKpdM5XdCQ3zu0Unm0FMV76QRHWKZlIhQFCkOdPPKIR1lkiVKESu6-gDPfnAg', 'https://play-lh.googleusercontent.com/PL1cpd1I1s0wxJcrSxqnfPsg2uPXNt0mxWV7mKp2FCdNP6SzmUUSEHQabYwzejT_HQ', 'https://play-lh.googleusercontent.com/ym8aNErDRXgIBu4pywP4jinou63IPU8LezLbyj82siMhzsFI2GryKx10MaTYASHYUdHx', 'https://play-lh.googleusercontent.com/6t3J5z6RA4VzUI8YKcP56wCgJra2zWNK25WMTxo2V3ZL_Pu_RER6z5FQa9ddEfmx0cI', 'https://play-lh.googleusercontent.com/OuUoWLfzrpuS97cAbjh07-900vhy5ILivWJA9Xnn6Te7aW5uplP010r-Tmi7gOH7nw', 'https://play-lh.googleusercontent.com/ecIdo9wMJIQZpZoNshYgd3f8x_eJ2v5GqmOWlM0ZVMB2lhHatA1HHPbW9agsKC_guI2W', 'https://play-lh.googleusercontent.com/aOkpBtwkuXgbwD0Ngq2ON0a3wuu77WlvWXOwumc4eS90f7bW_bauS4ey6wtIAgUAJ9s', 'https://play-lh.googleusercontent.com/4Y4u9k6-TaMIXtrZS30jMO7LqLNLRPoVtj0LP5RwKjlfno-szaKuxiQdmBqs7fSc3Q', 'https://play-lh.googleusercontent.com/Ru5oksKMCtBG5tBWdBMiJ2PpLanRM0Lse-pJ31_ROcqV9eMUCpXCM-us2wH6InEQSw', 'https://play-lh.googleusercontent.com/MCUvCgwAWN98hqZOJrtjPq8Qr4lpI44lnLpD8cPpV0RRtzaclXp1R9swivCBR2LOZw', 'https://play-lh.googleusercontent.com/Ox5XEqLjGi2l27Kt1z8deq0a2GgLM1Cc6mLtinJB8db6pKLuXi1eRKqVrLEat80zgbw', 'https://play-lh.googleusercontent.com/sokuIbCVtfVws65xa5sgvaAXBHtWKlCy4jpUnJTP1tuerj8YRPrLX93PLOjrfZrncQ', 'https://play-lh.googleusercontent.com/nMm786aflyDxzmlFD-ywMyqdilzNE4rTxvxv8kdCiVQdsQN0HTVz0XhacAexI1zzuvk', 'https://play-lh.googleusercontent.com/nQxnA--HjPai5p973fEcsyG5K4pat6b2BF5K0flUb7rMmxLJgJubPIGr1HeLcLQo_w', 'https://play-lh.googleusercontent.com/zY13mybzwKJm-OGDo1tZfvn8agH_J3oHu0LwBFbJKFr4gO1-2oztn6pLjdum1KeOjw', 'https://play-lh.googleusercontent.com/z1bbekLcrk7kmxD4Hi18RJFJr0P2fhbbWTIXhSeDhrEqF7YfT2kN5BPyNruYdQ0bVg', 'https://play-lh.googleusercontent.com/h9EKkQQ2FQhakQouP69XgNXgwrkJlUl0Gc96XXzUW2MQZiBFl1NHu_u4IFOXu0h5Qg', 'https://play-lh.googleusercontent.com/YjG3qWP3ptrri2yDTwAjtZVtFtJcuTUMYXykAJM9s1DGq_4C1MqbIWEvCe3aSDbJQQo', 'https://play-lh.googleusercontent.com/Tj9eavOvuaszxO0pgAhYsXuEx55w7dVHaPf43QkXj_fWS-3K7-1UxIuaEY5hBUWXXA', 'https://play-lh.googleusercontent.com/K21F7uExO9GSatm4ZFa7Kly632TiG6NIszilrkFDARM0YaJho9LAbRJ4U9exggR4O_Y', 'https://play-lh.googleusercontent.com/RYsTKDb4nI-e8Fd38trsswqglOOiywhvedSM5yICCEJnDqlp2Ya54dESLeP_BCnj3Io', 'https://play-lh.googleusercontent.com/ULQ8m0kjrzg1x5PbPHnnA6jwIW6OJpWG-81yL76PEgkOJMTtPg_MSoJUq7IEDojWRfs', 'https://play-lh.googleusercontent.com/X6V1kXrN2QziaVha_-4kgpKn4W8eg2CfQNhhltE9zYFNnlBkb1ZYFH2M_px5y8eYvWc', 'https://play-lh.googleusercontent.com/FcL8U0TnRExDrbzYiPXu_YdZZ0JK6wgLpkKvib1T2YrZEa9iA_2bUQR1maiLjT25NA', 'https://play-lh.googleusercontent.com/ER2yGEKm1-qiQnudYu4LyLl9RFT1f2oHvEUi_O5jtvsFwFTH7--ZsblLmH8Hx0JTzQ', 'https://play-lh.googleusercontent.com/KF4paO-kj4AEwrZ_aYh0DKL99dxBVAin_XXsZ5ndWKfgkYd4ShRiqn9yKzP1SpTIuag', 'https://play-lh.googleusercontent.com/zSUp6OsW0EBvjeJ345KMVfdqbYvol8OSbHMS3lXInTAoWoXEDSHW0gyvh4GTj56B698', 'https://play-lh.googleusercontent.com/ecz99XFPFBrfwqtsDezfOuBeno8t2jq_RXW67f91m7L0NpOXeV_rCGI67qFeDQTKxw', 'https://play-lh.googleusercontent.com/WDFEEMW9GYXkilU5kU8kM_HHZIIrdftdQFA_qV_OB-EK_U-U-iwLCpWA_8nSbw7ZWmHt', 'https://play-lh.googleusercontent.com/daY_vgFs4r2SwiH6nEPhBg58SP-UZIiimbep-EnPNeWHpeDsO4xLjLlVATAc1KiAjcg', 'https://play-lh.googleusercontent.com/2IMmjMnzs2LNsnwvPIGsE-iEQ52qJUHyr0EZGL1wB18HTFfbv0bbO7wEgsfBtRFj1Q', 'https://play-lh.googleusercontent.com/cpWge77pQmHl_MeIIF4597LgrAa0vuCFqPTT3loh-Aan3aTh_0wkvwdMpAtn7ezVl0Q', 'https://play-lh.googleusercontent.com/8wdhIibaGGnx7YxHLWRbkU6U0zdNI-SvHSHdUh0YJ3DZ0BJpmlTV3z3rZ3LxvfUtbL0', 'https://play-lh.googleusercontent.com/EzVB6uYQDzCJADLI71b17tJzPqOqedN6FYLGKIXPOgld38PA1LgeB-SfuBSo8ycy3Ag', 'https://play-lh.googleusercontent.com/OGHUMd5K8fIp2hwQ9By4JtXShKCrD-DBOHAfCAs4gCSNBlosLzsbb-Cd3aw-J73Wl2Y', 'https://play-lh.googleusercontent.com/HkYEyi-HIKABCGWDVdXr35-XLx51HwjgRwHN4ltqway-iY7VNoQjEzx6taR9biiI6qWb', 'https://play-lh.googleusercontent.com/qGKYihUij5fWB1HD3ocnR8-MjmfOLvOZsxZjqvgN6xtBe1fnlNsrvAaOHWCkbEZWYso', 'https://play-lh.googleusercontent.com/EdFW776n6LcMzPeKdsdtKnL7uettCPUjZ0KXjdBWu8P9uln_TsUZtZDmdF_QJn1Wx6ue', 'https://play-lh.googleusercontent.com/H0CPtny3fhtv0b_RtVxDD2-2CUTjwble6Bcx46MBk93l7x2d9r6MV1ptUg2Dsi6LaHg', 'https://play-lh.googleusercontent.com/yNeHP6gJ3Jlz6_ZBLzw7g3KvuVdrGf6_1Ij1rXPHpgpBwpA4xtomzJyVmhPKTWYtIlIM', 'https://play-lh.googleusercontent.com/zTUO9Oz6pteKSTYKskkap8QCepPKG9yOEQ2LJkOU6F06x9cnSk0VsGb6A9h8zEs2hza6', 'https://play-lh.googleusercontent.com/dyEhiCmGUPptSPYeTgPiu7TRpsDOJvno8ZXwB4GJvJhcMW_j4v2uqNEkJkI31rOCMA', 'https://play-lh.googleusercontent.com/DwHJVunQzJE7j6oyv2BRqLuJsI1r-2T4hTiGIil0MZeOpTC23UWKihxLLqBZHN7Y6kU', 'https://play-lh.googleusercontent.com/XBFhjkNYGHotUI1RxA3QsuDQn0QTEHi3eyZRj0H5q-NE8NgGFUZUeSe9dAPb7ldG9UM', 'https://play-lh.googleusercontent.com/6ZCDfjCLgDCuz1T6HLOuIWZW-WwfwkuU3cMeoTFC_PAq79UvIYX7NcZcSSoRvBOZBw', 'https://play-lh.googleusercontent.com/RuDv5_cqMX0kFreBBsNCeXfyZ_kbld6LdG_g1PicBCmo9Y4sr9qwJlN23BsdaKmFXxpM', 'https://play-lh.googleusercontent.com/2zjWfYhVP5THfT5HGdQjrciRSRYhw4J1Z1sDp8Q63swloTfKXt6kFedu_h6HbdrL0w', 'https://play-lh.googleusercontent.com/pLx-sFM9bZQPQC31I4Fk1Ln1epQA2Op269pvDh5imWf_1RqMBXy5PaErXXVqFdMnt6oE', 'https://play-lh.googleusercontent.com/8vAg805Hbqbg8TWgyqwNRN2JRAO2hNjn-xFeBNESKeDtSmq-2f6SP-eaW7WpgSOI9No', 'https://play-lh.googleusercontent.com/K3NJStfySSDRR323uuhNwSnHGjT2TesmM2q4sOScykKi5-NpwujjQi-sGu8n1sGfq5he', 'https://play-lh.googleusercontent.com/HZ7aGb30sveU0GqExmvegxs8_5XsQtzlJIpNlHp9T1bvo_ySiha60qy3nvXYdzbYhyna', 'https://play-lh.googleusercontent.com/HO-1u4U6sh_jtJfNVCgeS9FDuJdJ_VzffGPLSNnyYf24VPNKbsg0ZIa45e250PV7M68', 'https://play-lh.googleusercontent.com/pSu7qUZvhtWEra4T5umRCAV3puLFLTrH_pj0uim12_jy2tIDM92ipoEWeGchzwJQ3Ik', 'https://play-lh.googleusercontent.com/knBWPM_ocz2tMA0eScYwkORTuMkWpaeHhKr6l8oOoGUwqBLvIjhfcQ82U4hYDinyn5M', 'https://play-lh.googleusercontent.com/j1PpVrLUrlCiALkYy4gNcoVaXBE6HPpFb97CkXAQRESfaa_JdlMvW_S56U1Lv16T4m0', 'https://play-lh.googleusercontent.com/ox-f50kx_sL4s2t0VPAGz1O2AegHkYTFPMPw2EqjdrlnK2NR8tW519e2okG5ArNXlg', 'https://play-lh.googleusercontent.com/s7oUHC4W5P7oe9zq200a6A6s8GbvzDtpRO5Snk4KiuXxT-RLJ-WjW_RTcBGTcldcswE', 'https://play-lh.googleusercontent.com/gjwtFa9UWT30OJ2h9JZL8qv7LYGkAyJ9KPICHPc2Mkw7NA_3E_mSqZkqLA0gTgBLE2xt', 'https://play-lh.googleusercontent.com/kj0_PohAenanioEkAhqkd0L9XYO4kE72FeZ9cBsyq-bHviWON5ixMu34GXKlbobEl_Q', 'https://play-lh.googleusercontent.com/XHJmIAPEi9F4K5W_-l1kF2p5KHYM80FhPlIRFO2t1VIqrsIXI6JcDs-L2UkXFTCqGXM', 'https://play-lh.googleusercontent.com/YZP8x9KuDZYAOs-txVW1DJzQvyOweY72lcO8wnX8UDeDDnEAhXXt8nC0N7Qu13mkkh4', 'https://play-lh.googleusercontent.com/bczRvMqywrPeQZMOu2rMn7HGV6-JQjU3dIwfLfr7bzeapumNIZzNZHoDxv8bEehcPg', 'https://play-lh.googleusercontent.com/PBdqL1P9_ZH71mAXAFuXq4Gn1qhjzS19LQTKFFkqcbG3KMMToKABNenhlqh3rTPRqwE', 'https://play-lh.googleusercontent.com/PnQhppmGHggv70PWQlqUTYQnETUry4SZTohhVOmtRRGkntDIEXjSsXPkGxcH8kO5Tg', 'https://play-lh.googleusercontent.com/vY5FGcDfYXNvGN8PLIDgzhKr5B-gKiLWMxq3n8k13yzr9AOI9o8e6g54Rfdq0tpDwg', 'https://play-lh.googleusercontent.com/FqXEVsJjwTM40rmYX4uNkhoZuVSgHYfxKHBgiAWI7GQGkl4KvcxZWLN3DhfzWzOBdbQ', 'https://play-lh.googleusercontent.com/pxvuUGwmtA20MdlIrsZpqrVXjxtQj5lRYTkAUJ9cus_qiLFMxK4eohfmBjAdCtf2tg', 'https://play-lh.googleusercontent.com/65suZohY4ozFRhDClWYyKOwbM8kfaZJrrr3o40s_M8VpqJDvU0qVFLjQJoyN4X95eZVN', 'https://play-lh.googleusercontent.com/JC2nrEFjMfyE1ViyhH3oOwrt20L9nv90alE5hM-9uuBc3ron78s2c5Q_-N8UTWUHp1U', 'https://play-lh.googleusercontent.com/u1wTaNhzW3awm3oX1fbZzUxIkYfOU1IJAHB98E7j1JdcqbGHu5F5D4DBC0Kb0VpIsg', 'https://play-lh.googleusercontent.com/9OdJ6vwYMqedeLUGyvOkaNLEO45XliRMmKxIRdu3c4rtNMcWTSIQW3_HviBxY3YwtUJ6', 'https://play-lh.googleusercontent.com/g2528h1qJ9kC7nB7bUnjF69MtvAmE1JoYXyFXmnLqnbHrxceQFtBwnrmCADixf4GYw', 'https://play-lh.googleusercontent.com/Xzo4UjRWS9klmJ40Izj5v5oeEfaKbsKyiWhjLfX_4rGbNJt1YhlLoGaVEZuBJGAlfvCY', 'https://play-lh.googleusercontent.com/EevosjIMV2iVS_vZw9fw-Wyx3I0qR6h3crcAo1m_hM_qPn0Ohloxbg_wUOuFyjcxJOE', 'https://play-lh.googleusercontent.com/pI2NwZLUVRJzN0Jmzb1_G7Qtg0MUfS1k-Wvb4XjYfohtJVO6bQIIdUm6YM7cpfLHlcQ', 'https://play-lh.googleusercontent.com/gFphgZc0fg8Dv_Dblln3nZ3STKCJpaEu9djD2opdF5wl3VzCpk2uiRw58xT4IpyLn_FV', 'https://play-lh.googleusercontent.com/DOJA4sCQy150-JvvfNm5A6IWfT4syFY8feaWQjIDJEcOWa_sRgNnYfLh4uOie5_Xjtq7', 'https://play-lh.googleusercontent.com/kRZgFU-1zq3kg16ApIqE21g2S5T1sPF0Woa5DhtJZ8Sog0uSmwxC_sftv_IYTzWUnMEx', 'https://play-lh.googleusercontent.com/dLLMzL9vN7PDk4_LoIe-thh4Us5VLrlMPJ7MCs6kxM6MqU4lhyVmlbhbt2bGqyqFPQ', 'https://play-lh.googleusercontent.com/1gjRbQamDAPGOldBrs6_U__lP-YQcn-0MCED72pt_vE_ebcYcHpmhCJ-HuOBld7zwes', 'https://play-lh.googleusercontent.com/vMPcxr12eE5b2wcU4FLojadaa9y0S7h-id6RO72m6iZFC6Lr1JTGOTQfQmXLi-EFgtM', 'https://play-lh.googleusercontent.com/V5OD_v45IqPNzAdrZDyAwpirE_XJJ_nZG6HVd1o5W8NeLRhOZBFFKnj3w_DNEa9RF7c', 'https://play-lh.googleusercontent.com/b8ho8Ai1a6Lm1zuFYDBQeHxHPz7kVFQcH--dgPB1i3xNeC6EtjzOmMmcIAiXsiWfPw', 'https://play-lh.googleusercontent.com/2Z7p5mAX5M7QvVI520wBxdh41PNOOgogciuLvfB3NB4hCqUZB3WHIh40aufrUzGJcFE', 'https://play-lh.googleusercontent.com/CVAGAdxYaiI8vAMGhnWNPRsqQ844O1Y6ijb8ERx_KDjluo9EmR3f81ghgV_Fwpw1hBw', 'https://play-lh.googleusercontent.com/5acdLkt3bHNERzrpdxoN_UeEG9LLUbJUCFQR4X1BcF94frOeEZlmSXrS7fMqGamOEw', 'https://play-lh.googleusercontent.com/kkVTYy2t9MH2TRlrQ3w-sntBacoRLzLzf7M3kOACNT8o5qimT5iMjCS2xRVgLwbLcsY', 'https://play-lh.googleusercontent.com/qahkqUU0EiPd2xZLNsD_OlJbVysslRx1tM5e4UiZJCqVzxoKMg8A0vBqMZSwWkcH6RcP', 'https://play-lh.googleusercontent.com/HimO_QEWOOmin6YcmLgAn38uDBqeRP4f0XtGdDLYsPsM-aeWT4HiWx6XzdfnjE4QjA', 'https://play-lh.googleusercontent.com/8g0nSeixeB2UTN08UfgfiKF5W3N7Z1GVwgIJJinX7hYEks3AMySJkNf_X66d9dtjKAc', 'https://play-lh.googleusercontent.com/Q-9qQ2ZaNu-smCgHKqpxnPsYINw2RgxEQLqcT7tgvORCWpmqKadZtqzzbo93MWJ5xFil']\n"
     ]
    },
    {
     "data": {
      "text/plain": [
       "\"\\n71\\n['https://play-lh.googleusercontent.com/dcv6Z-pr3MsSvxYh_UiwvJem8fktDUsvvkPREnPaHYienbhT31bZ2nUqHqGpM1jdal8', 'https://play-lh.googleusercontent.com/SVYZCU-xg-nvaBeJ-rz6rHSSDp20AK-5AQPfYwI38nV8hPzFHEqIgFpc3LET-Dmu-Q', 'https://play-lh.googleusercontent.com/Nne-dalTl8DJ9iius5oOLmFe-4DnvZocgf92l8LTV0ldr9JVQ2BgeW_Bbjb5nkVngrQ', 'https://play-lh.googleusercontent.com/yIqljB_Jph_T_ITmVFTpmDV0LKXVHWmsyLOVyEuSjL2794nAhTBaoeZDpTZZLahyRsE', 'https://play-lh.googleusercontent.com/5HdGRlNsBvHTNLo-vIsmRLR8Tr9degRfFtungX59APFaz8OwxTnR_gnHOkHfAjhLse7e', 'https://play-lh.googleusercontent.com/bPhRpYiSMGKwO9jkjJk1raR7cJjMgPcUFeHyTg_I8rM7_6GYIO9bQm6xRcS4Q2qr6mRx', 'https://play-lh.googleusercontent.com/7DOCBRsIE5KncQ0AzSA9nSnnBh0u0u804NAgux992BhJllLKGNXkMbVFWH5pwRwHUg', 'https://play-lh.googleusercontent.com/PCaFxQba_CvC2pi2N9Wuu814srQOUmrW42mh-ZPCbk_xSDw3ubBX7vOQeY6qh3Id3YE', 'https://play-lh.googleusercontent.com/fQne-6_Le-sWScYDSRL9QdG-I2hWxMbe2QbDOzEsyu3xbEsAb_f5raRrc6GUNAHBoQ', 'https://play-lh.googleusercontent.com/ql7LENlEZaTq2NaPuB-esEPDXM2hs1knlLa2rWOI3uNuQ77hnC1lLKNJrZi9XKZFb4I', 'https://play-lh.googleusercontent.com/UIHgekhfttfNCkd5qCJNaz2_hPn67fOkv40_5rDjf5xot-QhsDCo2AInl9036huUtCwf', 'https://play-lh.googleusercontent.com/7iH7-GjfS_8JOoO7Q33JhOMnFMK-O8k7jP0MUI75mYALK0kQsMsHpHtIJidBZR46sfU', 'https://play-lh.googleusercontent.com/czt-uL-Xx4fUgzj_JbNA--RJ3xsXtjAxMK7Q_wFZdoMM6nL_g-4S5bxxX3Di3QTCwgw', 'https://play-lh.googleusercontent.com/e5HMIP0FW9MCoAEGYzji9JsrvyovpZ3StHiIANughp3dovUxdv_eHiYT5bMz38bowOI', 'https://play-lh.googleusercontent.com/nv2BP1glvMWX11mHC8GWlh_UPa096_DFOKwLZW4DlQQsrek55pY2lHr29tGwf2FEXHM', 'https://play-lh.googleusercontent.com/xwWDr_Ib6dcOr0H0OTZkHupwSrpBoNFM6AXNzNO27_RpX_BRoZtKIULKEkigX8ETOKI', 'https://play-lh.googleusercontent.com/AxHkW996UZvDE21HTkGtQPU8JiQLzNxp7yLoQiSCN29Y54kZYvf9aWoR6EzAlnoACQ', 'https://play-lh.googleusercontent.com/xFouF73v1_c5kS-mnvQdhKwl_6v3oEaLebsZ2inlJqIeF2eenXjUrUPJsjSdeAd41w', 'https://play-lh.googleusercontent.com/a1pta2nnq6f_b9uV0adiD9Z1VVQrxSfX315fIQqgKDcy8Ji0BRC1H7z8iGnvZZaeg80', 'https://play-lh.googleusercontent.com/SDAFLzC8i4skDJ2EcsEkXidcAJCql5YCZI76eQB15fVaD0j-ojxyxea00klquLVtNAw', 'https://play-lh.googleusercontent.com/H7BcVUoygPu8f7oIs2dm7g5_vVt9N9878f-rGd0ACd-muaDEOK2774okryFfsXv9FaI', 'https://play-lh.googleusercontent.com/5LIMaa7WTNy34bzdFhBETa2MRj7mFJZWb8gCn_uyxQkUvFx_uOFCeQjcK16c6WpBA3E', 'https://play-lh.googleusercontent.com/iTZtyWYr4T-slu1nifgRqEhtMLmxcNagc2rDAyiWntDQWCVLlGR7rDvx0uK6z-zLujwv', 'https://play-lh.googleusercontent.com/iTZtyWYr4T-slu1nifgRqEhtMLmxcNagc2rDAyiWntDQWCVLlGR7rDvx0uK6z-zLujwv', 'https://play-lh.googleusercontent.com/EbEX3AN4FC4pu3lsElAHCiksluOVU8OgkgtWC43-wmm_aHVq2D65FmEM97bPexilUAvlAY5_4ARH8Tb3RxQ', 'https://play-lh.googleusercontent.com/_re6mcALPaqotePA0WkgYeOQ6TighHRUS62FRmREPEhyZPdGM3QmRjcSpiMt6Pz1O-WZyvEIy4mtGHj9zw', 'https://play-lh.googleusercontent.com/SI2XoFyY35xzlMz3cZdTH7SSxMDfJTJjKNtbso33YIyYknmxJnBLrfLPJ131gz3O259sB9gP9dcmSvRNFw', 'https://play-lh.googleusercontent.com/SI2XoFyY35xzlMz3cZdTH7SSxMDfJTJjKNtbso33YIyYknmxJnBLrfLPJ131gz3O259sB9gP9dcmSvRNFw', 'https://play-lh.googleusercontent.com/pzvdI66OFjncahvxJN714Tu5pHUJ_nJK--vg0tv5cpgaGNvjfwsxC-SKxoQh9_n_wEcCdSQF9FeuZeI', 'https://play-lh.googleusercontent.com/EbEX3AN4FC4pu3lsElAHCiksluOVU8OgkgtWC43-wmm_aHVq2D65FmEM97bPexilUAvlAY5_4ARH8Tb3RxQ', 'https://play-lh.googleusercontent.com/_re6mcALPaqotePA0WkgYeOQ6TighHRUS62FRmREPEhyZPdGM3QmRjcSpiMt6Pz1O-WZyvEIy4mtGHj9zw', 'https://play-lh.googleusercontent.com/_re6mcALPaqotePA0WkgYeOQ6TighHRUS62FRmREPEhyZPdGM3QmRjcSpiMt6Pz1O-WZyvEIy4mtGHj9zw', 'https://play-lh.googleusercontent.com/z6aS2wnyp16KA9CFEep7HvZd2DmwRfoR9NWm9oHWRw-tuXLE_CPbnb1OL39-a456EgA', 'https://play-lh.googleusercontent.com/z6aS2wnyp16KA9CFEep7HvZd2DmwRfoR9NWm9oHWRw-tuXLE_CPbnb1OL39-a456EgA', 'https://play-lh.googleusercontent.com/z6aS2wnyp16KA9CFEep7HvZd2DmwRfoR9NWm9oHWRw-tuXLE_CPbnb1OL39-a456EgA', 'https://play-lh.googleusercontent.com/kMnXlmzr3b8Tbzs_xDy3vq12fnZ6PM4LVlxPlFMKf_VZVkk1v7xeAUpJxW6iYab9m_w', 'https://play-lh.googleusercontent.com/kMnXlmzr3b8Tbzs_xDy3vq12fnZ6PM4LVlxPlFMKf_VZVkk1v7xeAUpJxW6iYab9m_w', 'https://play-lh.googleusercontent.com/kMnXlmzr3b8Tbzs_xDy3vq12fnZ6PM4LVlxPlFMKf_VZVkk1v7xeAUpJxW6iYab9m_w', 'https://play-lh.googleusercontent.com/5BFo6FvdAn0c10xiDKO_GZMtHmn-4qxHTtF6rarC162rCNqnA7jub30CYWmzC_DZ1l4', 'https://play-lh.googleusercontent.com/5BFo6FvdAn0c10xiDKO_GZMtHmn-4qxHTtF6rarC162rCNqnA7jub30CYWmzC_DZ1l4', 'https://play-lh.googleusercontent.com/5BFo6FvdAn0c10xiDKO_GZMtHmn-4qxHTtF6rarC162rCNqnA7jub30CYWmzC_DZ1l4', 'https://play-lh.googleusercontent.com/9EYrR6ilBWJFLt_LE_QniHZjdYlG9on6PzTOqR9tBf3SKiWU4lIDOXq-kXrrSKyyEg', 'https://play-lh.googleusercontent.com/9EYrR6ilBWJFLt_LE_QniHZjdYlG9on6PzTOqR9tBf3SKiWU4lIDOXq-kXrrSKyyEg', 'https://play-lh.googleusercontent.com/9EYrR6ilBWJFLt_LE_QniHZjdYlG9on6PzTOqR9tBf3SKiWU4lIDOXq-kXrrSKyyEg', 'https://play-lh.googleusercontent.com/pyJ4VUsm75cc800LalWMZupRMG7o-JictgTeSIUKni2Hn2ncR4m22hgV_LhTahsRt0U', 'https://play-lh.googleusercontent.com/pyJ4VUsm75cc800LalWMZupRMG7o-JictgTeSIUKni2Hn2ncR4m22hgV_LhTahsRt0U', 'https://play-lh.googleusercontent.com/pyJ4VUsm75cc800LalWMZupRMG7o-JictgTeSIUKni2Hn2ncR4m22hgV_LhTahsRt0U', 'https://play-lh.googleusercontent.com/z6aS2wnyp16KA9CFEep7HvZd2DmwRfoR9NWm9oHWRw-tuXLE_CPbnb1OL39-a456EgA', 'https://play-lh.googleusercontent.com/z6aS2wnyp16KA9CFEep7HvZd2DmwRfoR9NWm9oHWRw-tuXLE_CPbnb1OL39-a456EgA', 'https://play-lh.googleusercontent.com/z6aS2wnyp16KA9CFEep7HvZd2DmwRfoR9NWm9oHWRw-tuXLE_CPbnb1OL39-a456EgA', 'https://play-lh.googleusercontent.com/H8AjtJR4LviiM3M8dg1BrS7_XzHBziG91Cn-udo8w44fRPo5mwj6NL683JBJQslpnZOY', 'https://play-lh.googleusercontent.com/H8AjtJR4LviiM3M8dg1BrS7_XzHBziG91Cn-udo8w44fRPo5mwj6NL683JBJQslpnZOY', 'https://play-lh.googleusercontent.com/H8AjtJR4LviiM3M8dg1BrS7_XzHBziG91Cn-udo8w44fRPo5mwj6NL683JBJQslpnZOY', 'https://play-lh.googleusercontent.com/DGP09C5sfjxaawTV0JUIFTDKJ0579kmss59AkjHzvz6ry6FSjTzjHGO8GiB3BwglPI5g', 'https://play-lh.googleusercontent.com/DGP09C5sfjxaawTV0JUIFTDKJ0579kmss59AkjHzvz6ry6FSjTzjHGO8GiB3BwglPI5g', 'https://play-lh.googleusercontent.com/DGP09C5sfjxaawTV0JUIFTDKJ0579kmss59AkjHzvz6ry6FSjTzjHGO8GiB3BwglPI5g', 'https://play-lh.googleusercontent.com/tUB0fBVdN0pLn_wpfKRETC3jcraaYc7nFEDCOFsE7SUK0WCKpUWO0k3pOi-x-bPkIAo', 'https://play-lh.googleusercontent.com/tUB0fBVdN0pLn_wpfKRETC3jcraaYc7nFEDCOFsE7SUK0WCKpUWO0k3pOi-x-bPkIAo', 'https://play-lh.googleusercontent.com/tUB0fBVdN0pLn_wpfKRETC3jcraaYc7nFEDCOFsE7SUK0WCKpUWO0k3pOi-x-bPkIAo', 'https://play-lh.googleusercontent.com/z6aS2wnyp16KA9CFEep7HvZd2DmwRfoR9NWm9oHWRw-tuXLE_CPbnb1OL39-a456EgA', 'https://play-lh.googleusercontent.com/z6aS2wnyp16KA9CFEep7HvZd2DmwRfoR9NWm9oHWRw-tuXLE_CPbnb1OL39-a456EgA', 'https://play-lh.googleusercontent.com/z6aS2wnyp16KA9CFEep7HvZd2DmwRfoR9NWm9oHWRw-tuXLE_CPbnb1OL39-a456EgA', 'https://play-lh.googleusercontent.com/H8AjtJR4LviiM3M8dg1BrS7_XzHBziG91Cn-udo8w44fRPo5mwj6NL683JBJQslpnZOY', 'https://play-lh.googleusercontent.com/H8AjtJR4LviiM3M8dg1BrS7_XzHBziG91Cn-udo8w44fRPo5mwj6NL683JBJQslpnZOY', 'https://play-lh.googleusercontent.com/H8AjtJR4LviiM3M8dg1BrS7_XzHBziG91Cn-udo8w44fRPo5mwj6NL683JBJQslpnZOY', 'https://play-lh.googleusercontent.com/DGP09C5sfjxaawTV0JUIFTDKJ0579kmss59AkjHzvz6ry6FSjTzjHGO8GiB3BwglPI5g', 'https://play-lh.googleusercontent.com/DGP09C5sfjxaawTV0JUIFTDKJ0579kmss59AkjHzvz6ry6FSjTzjHGO8GiB3BwglPI5g', 'https://play-lh.googleusercontent.com/DGP09C5sfjxaawTV0JUIFTDKJ0579kmss59AkjHzvz6ry6FSjTzjHGO8GiB3BwglPI5g', 'https://play-lh.googleusercontent.com/tUB0fBVdN0pLn_wpfKRETC3jcraaYc7nFEDCOFsE7SUK0WCKpUWO0k3pOi-x-bPkIAo', 'https://play-lh.googleusercontent.com/tUB0fBVdN0pLn_wpfKRETC3jcraaYc7nFEDCOFsE7SUK0WCKpUWO0k3pOi-x-bPkIAo', 'https://play-lh.googleusercontent.com/tUB0fBVdN0pLn_wpfKRETC3jcraaYc7nFEDCOFsE7SUK0WCKpUWO0k3pOi-x-bPkIAo']\\n23\\n['https://play-lh.googleusercontent.com/dcv6Z-pr3MsSvxYh_UiwvJem8fktDUsvvkPREnPaHYienbhT31bZ2nUqHqGpM1jdal8', 'https://play-lh.googleusercontent.com/SVYZCU-xg-nvaBeJ-rz6rHSSDp20AK-5AQPfYwI38nV8hPzFHEqIgFpc3LET-Dmu-Q', 'https://play-lh.googleusercontent.com/Nne-dalTl8DJ9iius5oOLmFe-4DnvZocgf92l8LTV0ldr9JVQ2BgeW_Bbjb5nkVngrQ', 'https://play-lh.googleusercontent.com/yIqljB_Jph_T_ITmVFTpmDV0LKXVHWmsyLOVyEuSjL2794nAhTBaoeZDpTZZLahyRsE', 'https://play-lh.googleusercontent.com/5HdGRlNsBvHTNLo-vIsmRLR8Tr9degRfFtungX59APFaz8OwxTnR_gnHOkHfAjhLse7e', 'https://play-lh.googleusercontent.com/bPhRpYiSMGKwO9jkjJk1raR7cJjMgPcUFeHyTg_I8rM7_6GYIO9bQm6xRcS4Q2qr6mRx', 'https://play-lh.googleusercontent.com/7DOCBRsIE5KncQ0AzSA9nSnnBh0u0u804NAgux992BhJllLKGNXkMbVFWH5pwRwHUg', 'https://play-lh.googleusercontent.com/PCaFxQba_CvC2pi2N9Wuu814srQOUmrW42mh-ZPCbk_xSDw3ubBX7vOQeY6qh3Id3YE', 'https://play-lh.googleusercontent.com/fQne-6_Le-sWScYDSRL9QdG-I2hWxMbe2QbDOzEsyu3xbEsAb_f5raRrc6GUNAHBoQ', 'https://play-lh.googleusercontent.com/ql7LENlEZaTq2NaPuB-esEPDXM2hs1knlLa2rWOI3uNuQ77hnC1lLKNJrZi9XKZFb4I', 'https://play-lh.googleusercontent.com/UIHgekhfttfNCkd5qCJNaz2_hPn67fOkv40_5rDjf5xot-QhsDCo2AInl9036huUtCwf', 'https://play-lh.googleusercontent.com/7iH7-GjfS_8JOoO7Q33JhOMnFMK-O8k7jP0MUI75mYALK0kQsMsHpHtIJidBZR46sfU', 'https://play-lh.googleusercontent.com/czt-uL-Xx4fUgzj_JbNA--RJ3xsXtjAxMK7Q_wFZdoMM6nL_g-4S5bxxX3Di3QTCwgw', 'https://play-lh.googleusercontent.com/e5HMIP0FW9MCoAEGYzji9JsrvyovpZ3StHiIANughp3dovUxdv_eHiYT5bMz38bowOI', 'https://play-lh.googleusercontent.com/nv2BP1glvMWX11mHC8GWlh_UPa096_DFOKwLZW4DlQQsrek55pY2lHr29tGwf2FEXHM', 'https://play-lh.googleusercontent.com/xwWDr_Ib6dcOr0H0OTZkHupwSrpBoNFM6AXNzNO27_RpX_BRoZtKIULKEkigX8ETOKI', 'https://play-lh.googleusercontent.com/AxHkW996UZvDE21HTkGtQPU8JiQLzNxp7yLoQiSCN29Y54kZYvf9aWoR6EzAlnoACQ', 'https://play-lh.googleusercontent.com/xFouF73v1_c5kS-mnvQdhKwl_6v3oEaLebsZ2inlJqIeF2eenXjUrUPJsjSdeAd41w', 'https://play-lh.googleusercontent.com/a1pta2nnq6f_b9uV0adiD9Z1VVQrxSfX315fIQqgKDcy8Ji0BRC1H7z8iGnvZZaeg80', 'https://play-lh.googleusercontent.com/SDAFLzC8i4skDJ2EcsEkXidcAJCql5YCZI76eQB15fVaD0j-ojxyxea00klquLVtNAw', 'https://play-lh.googleusercontent.com/H7BcVUoygPu8f7oIs2dm7g5_vVt9N9878f-rGd0ACd-muaDEOK2774okryFfsXv9FaI', 'https://play-lh.googleusercontent.com/5LIMaa7WTNy34bzdFhBETa2MRj7mFJZWb8gCn_uyxQkUvFx_uOFCeQjcK16c6WpBA3E', 'https://play-lh.googleusercontent.com/pzvdI66OFjncahvxJN714Tu5pHUJ_nJK--vg0tv5cpgaGNvjfwsxC-SKxoQh9_n_wEcCdSQF9FeuZeI']\\n\""
      ]
     },
     "execution_count": 12,
     "metadata": {},
     "output_type": "execute_result"
    }
   ],
   "source": [
    "pp_images_data = re.findall(r\",\\[\\d{3,4},\\d{3,4}\\],.*?(https.*?)\\\"\", str(soup.select(\"script\")))\n",
    "\n",
    "app_images_not_filtered = [item for item in app_images_data]\n",
    "app_images_filtered = [item for item in app_images_data if app_images_data.count(item) == 1]\n",
    "\n",
    "print(len(app_images_not_filtered))\n",
    "print(app_images_not_filtered)\n",
    "\n",
    "print(len(app_images_filtered))\n",
    "print(app_images_filtered)\n",
    "\n",
    "'''\n",
    "71\n",
    "['https://play-lh.googleusercontent.com/dcv6Z-pr3MsSvxYh_UiwvJem8fktDUsvvkPREnPaHYienbhT31bZ2nUqHqGpM1jdal8', 'https://play-lh.googleusercontent.com/SVYZCU-xg-nvaBeJ-rz6rHSSDp20AK-5AQPfYwI38nV8hPzFHEqIgFpc3LET-Dmu-Q', 'https://play-lh.googleusercontent.com/Nne-dalTl8DJ9iius5oOLmFe-4DnvZocgf92l8LTV0ldr9JVQ2BgeW_Bbjb5nkVngrQ', 'https://play-lh.googleusercontent.com/yIqljB_Jph_T_ITmVFTpmDV0LKXVHWmsyLOVyEuSjL2794nAhTBaoeZDpTZZLahyRsE', 'https://play-lh.googleusercontent.com/5HdGRlNsBvHTNLo-vIsmRLR8Tr9degRfFtungX59APFaz8OwxTnR_gnHOkHfAjhLse7e', 'https://play-lh.googleusercontent.com/bPhRpYiSMGKwO9jkjJk1raR7cJjMgPcUFeHyTg_I8rM7_6GYIO9bQm6xRcS4Q2qr6mRx', 'https://play-lh.googleusercontent.com/7DOCBRsIE5KncQ0AzSA9nSnnBh0u0u804NAgux992BhJllLKGNXkMbVFWH5pwRwHUg', 'https://play-lh.googleusercontent.com/PCaFxQba_CvC2pi2N9Wuu814srQOUmrW42mh-ZPCbk_xSDw3ubBX7vOQeY6qh3Id3YE', 'https://play-lh.googleusercontent.com/fQne-6_Le-sWScYDSRL9QdG-I2hWxMbe2QbDOzEsyu3xbEsAb_f5raRrc6GUNAHBoQ', 'https://play-lh.googleusercontent.com/ql7LENlEZaTq2NaPuB-esEPDXM2hs1knlLa2rWOI3uNuQ77hnC1lLKNJrZi9XKZFb4I', 'https://play-lh.googleusercontent.com/UIHgekhfttfNCkd5qCJNaz2_hPn67fOkv40_5rDjf5xot-QhsDCo2AInl9036huUtCwf', 'https://play-lh.googleusercontent.com/7iH7-GjfS_8JOoO7Q33JhOMnFMK-O8k7jP0MUI75mYALK0kQsMsHpHtIJidBZR46sfU', 'https://play-lh.googleusercontent.com/czt-uL-Xx4fUgzj_JbNA--RJ3xsXtjAxMK7Q_wFZdoMM6nL_g-4S5bxxX3Di3QTCwgw', 'https://play-lh.googleusercontent.com/e5HMIP0FW9MCoAEGYzji9JsrvyovpZ3StHiIANughp3dovUxdv_eHiYT5bMz38bowOI', 'https://play-lh.googleusercontent.com/nv2BP1glvMWX11mHC8GWlh_UPa096_DFOKwLZW4DlQQsrek55pY2lHr29tGwf2FEXHM', 'https://play-lh.googleusercontent.com/xwWDr_Ib6dcOr0H0OTZkHupwSrpBoNFM6AXNzNO27_RpX_BRoZtKIULKEkigX8ETOKI', 'https://play-lh.googleusercontent.com/AxHkW996UZvDE21HTkGtQPU8JiQLzNxp7yLoQiSCN29Y54kZYvf9aWoR6EzAlnoACQ', 'https://play-lh.googleusercontent.com/xFouF73v1_c5kS-mnvQdhKwl_6v3oEaLebsZ2inlJqIeF2eenXjUrUPJsjSdeAd41w', 'https://play-lh.googleusercontent.com/a1pta2nnq6f_b9uV0adiD9Z1VVQrxSfX315fIQqgKDcy8Ji0BRC1H7z8iGnvZZaeg80', 'https://play-lh.googleusercontent.com/SDAFLzC8i4skDJ2EcsEkXidcAJCql5YCZI76eQB15fVaD0j-ojxyxea00klquLVtNAw', 'https://play-lh.googleusercontent.com/H7BcVUoygPu8f7oIs2dm7g5_vVt9N9878f-rGd0ACd-muaDEOK2774okryFfsXv9FaI', 'https://play-lh.googleusercontent.com/5LIMaa7WTNy34bzdFhBETa2MRj7mFJZWb8gCn_uyxQkUvFx_uOFCeQjcK16c6WpBA3E', 'https://play-lh.googleusercontent.com/iTZtyWYr4T-slu1nifgRqEhtMLmxcNagc2rDAyiWntDQWCVLlGR7rDvx0uK6z-zLujwv', 'https://play-lh.googleusercontent.com/iTZtyWYr4T-slu1nifgRqEhtMLmxcNagc2rDAyiWntDQWCVLlGR7rDvx0uK6z-zLujwv', 'https://play-lh.googleusercontent.com/EbEX3AN4FC4pu3lsElAHCiksluOVU8OgkgtWC43-wmm_aHVq2D65FmEM97bPexilUAvlAY5_4ARH8Tb3RxQ', 'https://play-lh.googleusercontent.com/_re6mcALPaqotePA0WkgYeOQ6TighHRUS62FRmREPEhyZPdGM3QmRjcSpiMt6Pz1O-WZyvEIy4mtGHj9zw', 'https://play-lh.googleusercontent.com/SI2XoFyY35xzlMz3cZdTH7SSxMDfJTJjKNtbso33YIyYknmxJnBLrfLPJ131gz3O259sB9gP9dcmSvRNFw', 'https://play-lh.googleusercontent.com/SI2XoFyY35xzlMz3cZdTH7SSxMDfJTJjKNtbso33YIyYknmxJnBLrfLPJ131gz3O259sB9gP9dcmSvRNFw', 'https://play-lh.googleusercontent.com/pzvdI66OFjncahvxJN714Tu5pHUJ_nJK--vg0tv5cpgaGNvjfwsxC-SKxoQh9_n_wEcCdSQF9FeuZeI', 'https://play-lh.googleusercontent.com/EbEX3AN4FC4pu3lsElAHCiksluOVU8OgkgtWC43-wmm_aHVq2D65FmEM97bPexilUAvlAY5_4ARH8Tb3RxQ', 'https://play-lh.googleusercontent.com/_re6mcALPaqotePA0WkgYeOQ6TighHRUS62FRmREPEhyZPdGM3QmRjcSpiMt6Pz1O-WZyvEIy4mtGHj9zw', 'https://play-lh.googleusercontent.com/_re6mcALPaqotePA0WkgYeOQ6TighHRUS62FRmREPEhyZPdGM3QmRjcSpiMt6Pz1O-WZyvEIy4mtGHj9zw', 'https://play-lh.googleusercontent.com/z6aS2wnyp16KA9CFEep7HvZd2DmwRfoR9NWm9oHWRw-tuXLE_CPbnb1OL39-a456EgA', 'https://play-lh.googleusercontent.com/z6aS2wnyp16KA9CFEep7HvZd2DmwRfoR9NWm9oHWRw-tuXLE_CPbnb1OL39-a456EgA', 'https://play-lh.googleusercontent.com/z6aS2wnyp16KA9CFEep7HvZd2DmwRfoR9NWm9oHWRw-tuXLE_CPbnb1OL39-a456EgA', 'https://play-lh.googleusercontent.com/kMnXlmzr3b8Tbzs_xDy3vq12fnZ6PM4LVlxPlFMKf_VZVkk1v7xeAUpJxW6iYab9m_w', 'https://play-lh.googleusercontent.com/kMnXlmzr3b8Tbzs_xDy3vq12fnZ6PM4LVlxPlFMKf_VZVkk1v7xeAUpJxW6iYab9m_w', 'https://play-lh.googleusercontent.com/kMnXlmzr3b8Tbzs_xDy3vq12fnZ6PM4LVlxPlFMKf_VZVkk1v7xeAUpJxW6iYab9m_w', 'https://play-lh.googleusercontent.com/5BFo6FvdAn0c10xiDKO_GZMtHmn-4qxHTtF6rarC162rCNqnA7jub30CYWmzC_DZ1l4', 'https://play-lh.googleusercontent.com/5BFo6FvdAn0c10xiDKO_GZMtHmn-4qxHTtF6rarC162rCNqnA7jub30CYWmzC_DZ1l4', 'https://play-lh.googleusercontent.com/5BFo6FvdAn0c10xiDKO_GZMtHmn-4qxHTtF6rarC162rCNqnA7jub30CYWmzC_DZ1l4', 'https://play-lh.googleusercontent.com/9EYrR6ilBWJFLt_LE_QniHZjdYlG9on6PzTOqR9tBf3SKiWU4lIDOXq-kXrrSKyyEg', 'https://play-lh.googleusercontent.com/9EYrR6ilBWJFLt_LE_QniHZjdYlG9on6PzTOqR9tBf3SKiWU4lIDOXq-kXrrSKyyEg', 'https://play-lh.googleusercontent.com/9EYrR6ilBWJFLt_LE_QniHZjdYlG9on6PzTOqR9tBf3SKiWU4lIDOXq-kXrrSKyyEg', 'https://play-lh.googleusercontent.com/pyJ4VUsm75cc800LalWMZupRMG7o-JictgTeSIUKni2Hn2ncR4m22hgV_LhTahsRt0U', 'https://play-lh.googleusercontent.com/pyJ4VUsm75cc800LalWMZupRMG7o-JictgTeSIUKni2Hn2ncR4m22hgV_LhTahsRt0U', 'https://play-lh.googleusercontent.com/pyJ4VUsm75cc800LalWMZupRMG7o-JictgTeSIUKni2Hn2ncR4m22hgV_LhTahsRt0U', 'https://play-lh.googleusercontent.com/z6aS2wnyp16KA9CFEep7HvZd2DmwRfoR9NWm9oHWRw-tuXLE_CPbnb1OL39-a456EgA', 'https://play-lh.googleusercontent.com/z6aS2wnyp16KA9CFEep7HvZd2DmwRfoR9NWm9oHWRw-tuXLE_CPbnb1OL39-a456EgA', 'https://play-lh.googleusercontent.com/z6aS2wnyp16KA9CFEep7HvZd2DmwRfoR9NWm9oHWRw-tuXLE_CPbnb1OL39-a456EgA', 'https://play-lh.googleusercontent.com/H8AjtJR4LviiM3M8dg1BrS7_XzHBziG91Cn-udo8w44fRPo5mwj6NL683JBJQslpnZOY', 'https://play-lh.googleusercontent.com/H8AjtJR4LviiM3M8dg1BrS7_XzHBziG91Cn-udo8w44fRPo5mwj6NL683JBJQslpnZOY', 'https://play-lh.googleusercontent.com/H8AjtJR4LviiM3M8dg1BrS7_XzHBziG91Cn-udo8w44fRPo5mwj6NL683JBJQslpnZOY', 'https://play-lh.googleusercontent.com/DGP09C5sfjxaawTV0JUIFTDKJ0579kmss59AkjHzvz6ry6FSjTzjHGO8GiB3BwglPI5g', 'https://play-lh.googleusercontent.com/DGP09C5sfjxaawTV0JUIFTDKJ0579kmss59AkjHzvz6ry6FSjTzjHGO8GiB3BwglPI5g', 'https://play-lh.googleusercontent.com/DGP09C5sfjxaawTV0JUIFTDKJ0579kmss59AkjHzvz6ry6FSjTzjHGO8GiB3BwglPI5g', 'https://play-lh.googleusercontent.com/tUB0fBVdN0pLn_wpfKRETC3jcraaYc7nFEDCOFsE7SUK0WCKpUWO0k3pOi-x-bPkIAo', 'https://play-lh.googleusercontent.com/tUB0fBVdN0pLn_wpfKRETC3jcraaYc7nFEDCOFsE7SUK0WCKpUWO0k3pOi-x-bPkIAo', 'https://play-lh.googleusercontent.com/tUB0fBVdN0pLn_wpfKRETC3jcraaYc7nFEDCOFsE7SUK0WCKpUWO0k3pOi-x-bPkIAo', 'https://play-lh.googleusercontent.com/z6aS2wnyp16KA9CFEep7HvZd2DmwRfoR9NWm9oHWRw-tuXLE_CPbnb1OL39-a456EgA', 'https://play-lh.googleusercontent.com/z6aS2wnyp16KA9CFEep7HvZd2DmwRfoR9NWm9oHWRw-tuXLE_CPbnb1OL39-a456EgA', 'https://play-lh.googleusercontent.com/z6aS2wnyp16KA9CFEep7HvZd2DmwRfoR9NWm9oHWRw-tuXLE_CPbnb1OL39-a456EgA', 'https://play-lh.googleusercontent.com/H8AjtJR4LviiM3M8dg1BrS7_XzHBziG91Cn-udo8w44fRPo5mwj6NL683JBJQslpnZOY', 'https://play-lh.googleusercontent.com/H8AjtJR4LviiM3M8dg1BrS7_XzHBziG91Cn-udo8w44fRPo5mwj6NL683JBJQslpnZOY', 'https://play-lh.googleusercontent.com/H8AjtJR4LviiM3M8dg1BrS7_XzHBziG91Cn-udo8w44fRPo5mwj6NL683JBJQslpnZOY', 'https://play-lh.googleusercontent.com/DGP09C5sfjxaawTV0JUIFTDKJ0579kmss59AkjHzvz6ry6FSjTzjHGO8GiB3BwglPI5g', 'https://play-lh.googleusercontent.com/DGP09C5sfjxaawTV0JUIFTDKJ0579kmss59AkjHzvz6ry6FSjTzjHGO8GiB3BwglPI5g', 'https://play-lh.googleusercontent.com/DGP09C5sfjxaawTV0JUIFTDKJ0579kmss59AkjHzvz6ry6FSjTzjHGO8GiB3BwglPI5g', 'https://play-lh.googleusercontent.com/tUB0fBVdN0pLn_wpfKRETC3jcraaYc7nFEDCOFsE7SUK0WCKpUWO0k3pOi-x-bPkIAo', 'https://play-lh.googleusercontent.com/tUB0fBVdN0pLn_wpfKRETC3jcraaYc7nFEDCOFsE7SUK0WCKpUWO0k3pOi-x-bPkIAo', 'https://play-lh.googleusercontent.com/tUB0fBVdN0pLn_wpfKRETC3jcraaYc7nFEDCOFsE7SUK0WCKpUWO0k3pOi-x-bPkIAo']\n",
    "23\n",
    "['https://play-lh.googleusercontent.com/dcv6Z-pr3MsSvxYh_UiwvJem8fktDUsvvkPREnPaHYienbhT31bZ2nUqHqGpM1jdal8', 'https://play-lh.googleusercontent.com/SVYZCU-xg-nvaBeJ-rz6rHSSDp20AK-5AQPfYwI38nV8hPzFHEqIgFpc3LET-Dmu-Q', 'https://play-lh.googleusercontent.com/Nne-dalTl8DJ9iius5oOLmFe-4DnvZocgf92l8LTV0ldr9JVQ2BgeW_Bbjb5nkVngrQ', 'https://play-lh.googleusercontent.com/yIqljB_Jph_T_ITmVFTpmDV0LKXVHWmsyLOVyEuSjL2794nAhTBaoeZDpTZZLahyRsE', 'https://play-lh.googleusercontent.com/5HdGRlNsBvHTNLo-vIsmRLR8Tr9degRfFtungX59APFaz8OwxTnR_gnHOkHfAjhLse7e', 'https://play-lh.googleusercontent.com/bPhRpYiSMGKwO9jkjJk1raR7cJjMgPcUFeHyTg_I8rM7_6GYIO9bQm6xRcS4Q2qr6mRx', 'https://play-lh.googleusercontent.com/7DOCBRsIE5KncQ0AzSA9nSnnBh0u0u804NAgux992BhJllLKGNXkMbVFWH5pwRwHUg', 'https://play-lh.googleusercontent.com/PCaFxQba_CvC2pi2N9Wuu814srQOUmrW42mh-ZPCbk_xSDw3ubBX7vOQeY6qh3Id3YE', 'https://play-lh.googleusercontent.com/fQne-6_Le-sWScYDSRL9QdG-I2hWxMbe2QbDOzEsyu3xbEsAb_f5raRrc6GUNAHBoQ', 'https://play-lh.googleusercontent.com/ql7LENlEZaTq2NaPuB-esEPDXM2hs1knlLa2rWOI3uNuQ77hnC1lLKNJrZi9XKZFb4I', 'https://play-lh.googleusercontent.com/UIHgekhfttfNCkd5qCJNaz2_hPn67fOkv40_5rDjf5xot-QhsDCo2AInl9036huUtCwf', 'https://play-lh.googleusercontent.com/7iH7-GjfS_8JOoO7Q33JhOMnFMK-O8k7jP0MUI75mYALK0kQsMsHpHtIJidBZR46sfU', 'https://play-lh.googleusercontent.com/czt-uL-Xx4fUgzj_JbNA--RJ3xsXtjAxMK7Q_wFZdoMM6nL_g-4S5bxxX3Di3QTCwgw', 'https://play-lh.googleusercontent.com/e5HMIP0FW9MCoAEGYzji9JsrvyovpZ3StHiIANughp3dovUxdv_eHiYT5bMz38bowOI', 'https://play-lh.googleusercontent.com/nv2BP1glvMWX11mHC8GWlh_UPa096_DFOKwLZW4DlQQsrek55pY2lHr29tGwf2FEXHM', 'https://play-lh.googleusercontent.com/xwWDr_Ib6dcOr0H0OTZkHupwSrpBoNFM6AXNzNO27_RpX_BRoZtKIULKEkigX8ETOKI', 'https://play-lh.googleusercontent.com/AxHkW996UZvDE21HTkGtQPU8JiQLzNxp7yLoQiSCN29Y54kZYvf9aWoR6EzAlnoACQ', 'https://play-lh.googleusercontent.com/xFouF73v1_c5kS-mnvQdhKwl_6v3oEaLebsZ2inlJqIeF2eenXjUrUPJsjSdeAd41w', 'https://play-lh.googleusercontent.com/a1pta2nnq6f_b9uV0adiD9Z1VVQrxSfX315fIQqgKDcy8Ji0BRC1H7z8iGnvZZaeg80', 'https://play-lh.googleusercontent.com/SDAFLzC8i4skDJ2EcsEkXidcAJCql5YCZI76eQB15fVaD0j-ojxyxea00klquLVtNAw', 'https://play-lh.googleusercontent.com/H7BcVUoygPu8f7oIs2dm7g5_vVt9N9878f-rGd0ACd-muaDEOK2774okryFfsXv9FaI', 'https://play-lh.googleusercontent.com/5LIMaa7WTNy34bzdFhBETa2MRj7mFJZWb8gCn_uyxQkUvFx_uOFCeQjcK16c6WpBA3E', 'https://play-lh.googleusercontent.com/pzvdI66OFjncahvxJN714Tu5pHUJ_nJK--vg0tv5cpgaGNvjfwsxC-SKxoQh9_n_wEcCdSQF9FeuZeI']\n",
    "'''"
   ]
  },
  {
   "cell_type": "code",
   "execution_count": 13,
   "id": "054c90a3",
   "metadata": {},
   "outputs": [],
   "source": [
    "app_user_comments = []"
   ]
  },
  {
   "cell_type": "code",
   "execution_count": 14,
   "id": "777401d8",
   "metadata": {},
   "outputs": [],
   "source": [
    "# https://regex101.com/r/SrP5DS/1\n",
    "# # Follow the link to better understand what regular expression is matching.\n",
    "app_user_reviews_data = re.findall(r\"(\\[\\\"gp.*?);</script>\",\n",
    "                                   str(soup.select(\"script\")), re.DOTALL)"
   ]
  },
  {
   "cell_type": "code",
   "execution_count": 46,
   "id": "a51eaec3",
   "metadata": {},
   "outputs": [
    {
     "ename": "IndentationError",
     "evalue": "unindent does not match any outer indentation level (<tokenize>, line 52)",
     "output_type": "error",
     "traceback": [
      "\u001b[0;36m  File \u001b[0;32m\"<tokenize>\"\u001b[0;36m, line \u001b[0;32m52\u001b[0m\n\u001b[0;31m    return {\"app_data\": app_data, \"app_user_comments\": app_user_comments}\u001b[0m\n\u001b[0m    ^\u001b[0m\n\u001b[0;31mIndentationError\u001b[0m\u001b[0;31m:\u001b[0m unindent does not match any outer indentation level\n"
     ]
    }
   ],
   "source": [
    "# Follow the links to better understand what regular expressions are matching.\n",
    "\n",
    "for review in app_user_reviews_data:\n",
    "    # https://regex101.com/r/M24tiM/1\n",
    "    user_name = re.findall(r\"\\\"gp:.*?\\\",\\s?\\[\\\"(.*?)\\\",\", str(review))\n",
    "    \n",
    "    # https://regex101.com/r/TGgR45/1\n",
    "    user_avatar = [avatar.replace('\"', \"\") for avatar in re.findall(r\"\\\"gp:.*?\\\"(https.*?\\\")\", str(review))]\n",
    "\n",
    "    # replace single/double quotes at the start/end of a string\n",
    "    # https://regex101.com/r/iHPOrI/1\n",
    "    user_comment = [comment.replace('\"', \"\").replace(\"'\", \"\") for comment in\n",
    "                    re.findall(r\"gp:.*?https:.*?]]],\\s?\\d+?,.*?,\\s?(.*?),\\s?\\[\\d+,\", str(review))]\n",
    "\n",
    "    # comment utc timestamp\n",
    "    # use datetime.utcfromtimestamp(int(date)).date() to have only a date: 2022-01-09\n",
    "    user_comment_date = [str(datetime.utcfromtimestamp(int(date))) for date in re.findall(r\"\\[(\\d+),\", str(review))]\n",
    "\n",
    "    # https://regex101.com/r/GrbH9A/1\n",
    "    user_comment_id = [ids.replace('\"', \"\") for ids in re.findall(r\"\\[\\\"(gp.*?),\", str(review))]\n",
    "    \n",
    "    # https://regex101.com/r/jRaaQg/1\n",
    "    user_comment_likes = re.findall(r\",?\\d+\\],?(\\d+),?\", str(review))\n",
    "    \n",
    "    # https://regex101.com/r/Z7vFqa/1\n",
    "    user_comment_app_rating = re.findall(r\"\\\"gp.*?https.*?\\],(.*?)?,\", str(review))\n",
    "    for name, avatar, comment, date, comment_id, likes, user_app_rating in zip(user_name, user_avatar, user_comment, user_comment_date, user_comment_id, user_comment_likes, user_comment_app_rating):\n",
    "            app_user_comments.append({\n",
    "            \"user_name\": name,\n",
    "            \"user_avatar\": avatar,\n",
    "            \"comment\": comment,\n",
    "            \"user_app_rating\": user_app_rating,\n",
    "            \"user__comment_likes\": likes,\n",
    "            \"user_comment_published_at\": date,\n",
    "            \"user_comment_id\": comment_id\n",
    "            })\n",
    "            app_data.append({\n",
    "            \"app_name\": app_name,\n",
    "            \"app_type\": app_type,\n",
    "            \"app_url\": app_url,\n",
    "            \"app_main_thumbnail\": app_main_thumbnail,\n",
    "            \"app_description\": app_description,\n",
    "            \"app_content_rating\": app_content_rating,\n",
    "            \"app_category\": app_category,\n",
    "            \"app_operating_system\": app_operating_system,\n",
    "            \"app_rating\": app_rating,\n",
    "            \"app_reviews\": app_reviews,\n",
    "            \"app_author\": app_author,\n",
    "            \"app_author_url\": app_author_url,\n",
    "            \"app_screenshots\": app_images\n",
    "            })\n",
    "        return {\"app_data\": app_data, \"app_user_comments\": app_user_comments}"
   ]
  },
  {
   "cell_type": "code",
   "execution_count": 21,
   "id": "18ca872d",
   "metadata": {},
   "outputs": [
    {
     "data": {
      "text/plain": [
       "[]"
      ]
     },
     "execution_count": 21,
     "metadata": {},
     "output_type": "execute_result"
    }
   ],
   "source": [
    "app_user_comments"
   ]
  },
  {
   "cell_type": "code",
   "execution_count": 28,
   "id": "27979056",
   "metadata": {},
   "outputs": [
    {
     "ename": "IndentationError",
     "evalue": "unexpected indent (<ipython-input-28-6b8e995f97b6>, line 16)",
     "output_type": "error",
     "traceback": [
      "\u001b[0;36m  File \u001b[0;32m\"<ipython-input-28-6b8e995f97b6>\"\u001b[0;36m, line \u001b[0;32m16\u001b[0m\n\u001b[0;31m    return {\"app_data\": app_data, \"app_user_comments\": app_user_comments}\u001b[0m\n\u001b[0m    ^\u001b[0m\n\u001b[0;31mIndentationError\u001b[0m\u001b[0;31m:\u001b[0m unexpected indent\n"
     ]
    }
   ],
   "source": []
  },
  {
   "cell_type": "code",
   "execution_count": 23,
   "id": "b26492fd",
   "metadata": {},
   "outputs": [
    {
     "data": {
      "text/plain": [
       "[{'app_name': 'Super Mario Run',\n",
       "  'app_type': 'SoftwareApplication',\n",
       "  'app_url': 'https://play.google.com/store/apps/details/Super_Mario_Run?id=com.nintendo.zara&hl=en_US&gl=US',\n",
       "  'app_main_thumbnail': 'https://play-lh.googleusercontent.com/5LIMaa7WTNy34bzdFhBETa2MRj7mFJZWb8gCn_uyxQkUvFx_uOFCeQjcK16c6WpBA3E',\n",
       "  'app_description': 'Control Mario with just a tap!',\n",
       "  'app_content_rating': 'Everyone',\n",
       "  'app_category': 'GAME_ACTION',\n",
       "  'app_operating_system': 'ANDROID',\n",
       "  'app_rating': 4.0,\n",
       "  'app_reviews': '1637594',\n",
       "  'app_author': 'Nintendo Co., Ltd.',\n",
       "  'app_author_url': 'https://supermariorun.com/',\n",
       "  'app_screenshots': ['https://play-lh.googleusercontent.com/IciOnDFecb5Xt50Q2jlcNC0LPI7LEGxNojroo-s3AozcyS-vDCwtq4fn7u3wZmRna8OewG9PBrWC-i7i',\n",
       "   'https://play-lh.googleusercontent.com/OBVqgRK7eerY0GPfK8AOzitu5oE9ecC6kG4kURTCb1K41gpqVsN0WjmJwJh-wX8vILzpcc1kYHt56aLN2g',\n",
       "   'https://play-lh.googleusercontent.com/dcv6Z-pr3MsSvxYh_UiwvJem8fktDUsvvkPREnPaHYienbhT31bZ2nUqHqGpM1jdal8',\n",
       "   'https://play-lh.googleusercontent.com/SVYZCU-xg-nvaBeJ-rz6rHSSDp20AK-5AQPfYwI38nV8hPzFHEqIgFpc3LET-Dmu-Q',\n",
       "   'https://play-lh.googleusercontent.com/Nne-dalTl8DJ9iius5oOLmFe-4DnvZocgf92l8LTV0ldr9JVQ2BgeW_Bbjb5nkVngrQ',\n",
       "   'https://play-lh.googleusercontent.com/yIqljB_Jph_T_ITmVFTpmDV0LKXVHWmsyLOVyEuSjL2794nAhTBaoeZDpTZZLahyRsE',\n",
       "   'https://play-lh.googleusercontent.com/5HdGRlNsBvHTNLo-vIsmRLR8Tr9degRfFtungX59APFaz8OwxTnR_gnHOkHfAjhLse7e',\n",
       "   'https://play-lh.googleusercontent.com/bPhRpYiSMGKwO9jkjJk1raR7cJjMgPcUFeHyTg_I8rM7_6GYIO9bQm6xRcS4Q2qr6mRx',\n",
       "   'https://play-lh.googleusercontent.com/7DOCBRsIE5KncQ0AzSA9nSnnBh0u0u804NAgux992BhJllLKGNXkMbVFWH5pwRwHUg',\n",
       "   'https://play-lh.googleusercontent.com/PCaFxQba_CvC2pi2N9Wuu814srQOUmrW42mh-ZPCbk_xSDw3ubBX7vOQeY6qh3Id3YE',\n",
       "   'https://play-lh.googleusercontent.com/fQne-6_Le-sWScYDSRL9QdG-I2hWxMbe2QbDOzEsyu3xbEsAb_f5raRrc6GUNAHBoQ',\n",
       "   'https://play-lh.googleusercontent.com/ql7LENlEZaTq2NaPuB-esEPDXM2hs1knlLa2rWOI3uNuQ77hnC1lLKNJrZi9XKZFb4I',\n",
       "   'https://play-lh.googleusercontent.com/UIHgekhfttfNCkd5qCJNaz2_hPn67fOkv40_5rDjf5xot-QhsDCo2AInl9036huUtCwf',\n",
       "   'https://play-lh.googleusercontent.com/7iH7-GjfS_8JOoO7Q33JhOMnFMK-O8k7jP0MUI75mYALK0kQsMsHpHtIJidBZR46sfU',\n",
       "   'https://play-lh.googleusercontent.com/czt-uL-Xx4fUgzj_JbNA--RJ3xsXtjAxMK7Q_wFZdoMM6nL_g-4S5bxxX3Di3QTCwgw',\n",
       "   'https://play-lh.googleusercontent.com/e5HMIP0FW9MCoAEGYzji9JsrvyovpZ3StHiIANughp3dovUxdv_eHiYT5bMz38bowOI',\n",
       "   'https://play-lh.googleusercontent.com/nv2BP1glvMWX11mHC8GWlh_UPa096_DFOKwLZW4DlQQsrek55pY2lHr29tGwf2FEXHM',\n",
       "   'https://play-lh.googleusercontent.com/xwWDr_Ib6dcOr0H0OTZkHupwSrpBoNFM6AXNzNO27_RpX_BRoZtKIULKEkigX8ETOKI',\n",
       "   'https://play-lh.googleusercontent.com/AxHkW996UZvDE21HTkGtQPU8JiQLzNxp7yLoQiSCN29Y54kZYvf9aWoR6EzAlnoACQ',\n",
       "   'https://play-lh.googleusercontent.com/xFouF73v1_c5kS-mnvQdhKwl_6v3oEaLebsZ2inlJqIeF2eenXjUrUPJsjSdeAd41w',\n",
       "   'https://play-lh.googleusercontent.com/a1pta2nnq6f_b9uV0adiD9Z1VVQrxSfX315fIQqgKDcy8Ji0BRC1H7z8iGnvZZaeg80',\n",
       "   'https://play-lh.googleusercontent.com/SDAFLzC8i4skDJ2EcsEkXidcAJCql5YCZI76eQB15fVaD0j-ojxyxea00klquLVtNAw',\n",
       "   'https://play-lh.googleusercontent.com/H7BcVUoygPu8f7oIs2dm7g5_vVt9N9878f-rGd0ACd-muaDEOK2774okryFfsXv9FaI',\n",
       "   'https://play-lh.googleusercontent.com/5LIMaa7WTNy34bzdFhBETa2MRj7mFJZWb8gCn_uyxQkUvFx_uOFCeQjcK16c6WpBA3E',\n",
       "   'https://play-lh.googleusercontent.com/4EZ1uE2I-u2lbS0zFYvv_D4akGy_I811cwSK5ovvjJy7Xs0FTeLVxkAhbfKayDoq-mM',\n",
       "   'https://play-lh.googleusercontent.com/Hpd1ABB7Hyr98bKmFvggtLljldnRIc9x0OnywjjEQdhUOo2QsMBGNK-wmBNcEFAktUuX',\n",
       "   'https://play-lh.googleusercontent.com/eheC-V1SP21RSw-RxPgJPpzoyfJKGygp-RdZM0TNzUIUb1d_cy952fHwAvNohri3YLYj',\n",
       "   'https://play-lh.googleusercontent.com/pYCagdiZE5jr3TP4DFdl2daFLNFG8SxukdeTK_J87Z7WpuLadvVFYpzPdEp1tu68zQ',\n",
       "   'https://play-lh.googleusercontent.com/kUOmBnZX4n7p-hHWLc04dGlIq0tLsa2b_qwCtUMmUKDxB-zFajgVCMReMu091DuXtzA',\n",
       "   'https://play-lh.googleusercontent.com/VtZuEADM8hqxGjvg7RkqLc6RIC0YwO2TtonoG-uCPlcx0AMTM7r1bpAgaly3MHq40g',\n",
       "   'https://play-lh.googleusercontent.com/nF66EQdx9fRlLeJumA80jukG5V5_62HQ6rJPbLO3Y9qPVtelNI5Ia259A6ibde8GPA',\n",
       "   'https://play-lh.googleusercontent.com/swYlwWqpQyXAUFcHOhEtfat9Kt3Wp0E7GKv88l5RF1EGFu4ak9uRMoU8H6hSfnWalheD',\n",
       "   'https://play-lh.googleusercontent.com/-ZjU26YEqb2BrBheDFA6Zzr7gTKacDJOe10GHq1z0Rvk2KENvAEQuiIWKawL-ouuSaPB',\n",
       "   'https://play-lh.googleusercontent.com/gBkDxIEghfs-kUVRQzhYOmd1mSaGa3f9Gi23TbgQsDxXAFH1V7dAegCuiaVM7p0DhXo',\n",
       "   'https://play-lh.googleusercontent.com/UBfgQF9br8nU-gm4HT6oy59pqbRmggU2_xigdVViY9BokX3TRv4ca41nWGfsBksApw',\n",
       "   'https://play-lh.googleusercontent.com/gbF_8h7LXr5ekndKbq7Yxfdxgvn2vaWwissdfHV4XNNwma1mg6Z8jSdSJRO3mFDSUsk',\n",
       "   'https://play-lh.googleusercontent.com/8-YrayG2VOYc9n12U8-GtGZjZDAxUZRTcdU5U3rik-XqajJGj3SwkPvObwRG3pEA0Bw',\n",
       "   'https://play-lh.googleusercontent.com/znsUKStvbVIJiwe2YZ4rYt4U2znTCzW8E_aDB1-PIMdyuFAftMTqIvIqTB02vIQXa9I',\n",
       "   'https://play-lh.googleusercontent.com/dzTgFhYl7JBdXveodH0q86BjXmjoLMcQ8SUkSW88hTIRf8Y-0GQaz90vYXyaUlUuqUw',\n",
       "   'https://play-lh.googleusercontent.com/Ts9bAjj7MmvmwZmOWuFcmxnS-_KN53wBxhzFMCR4XSmhPZLZ42HZ41cxcLLACD-bJiM',\n",
       "   'https://play-lh.googleusercontent.com/p1MX4nGydD9Qg-ovCRNDY-VnfDX_PXXWfgM-gsCkCa2Eqv8rm0kFz8OBIKrY-SLUHKQh',\n",
       "   'https://play-lh.googleusercontent.com/QPx5qH6EHNzzw3xQYj1gOfyhaTtL2FMOQS-eQWvK6ViJ1nbPDu9OxRSucDyygx5QVKU',\n",
       "   'https://play-lh.googleusercontent.com/2uAHfaIHQDNOiKBxm1mhOqKvqbOMb6bdXWGHY2kX4myvKIdLGU3pyyfggWCAVnz_wWQ',\n",
       "   'https://play-lh.googleusercontent.com/tRD0fn2NykEgoHe45KvyQyBify4JX023dGh9hAaPVdK-N6dsBCvJwvay5XH1kHZj6w',\n",
       "   'https://play-lh.googleusercontent.com/vefpLxCyyfXmOEP87U7jpvlBe8obuEnb-o0I5Dk6NNJ3UdBOXf3GeIdogWmRv4oHOg',\n",
       "   'https://play-lh.googleusercontent.com/OMP3BUcu1TI5vApXUvpNmIGbSyKA2V9H744hQBIv4rvRGw0MEF7K7oLUwxna5SD7M_k',\n",
       "   'https://play-lh.googleusercontent.com/th8K8yv5ya_hoo0nu0kQSp2IDj_bj1-BWZ_BtcOs2yqHKAqSiSxeufOAaUf6OD0K3cM',\n",
       "   'https://play-lh.googleusercontent.com/7qh1ZEQ-gIzcqMqOZ5EEYgi59fg_NS7zxA77Yk4zhAYMCTsvsOZTOQ2mn5-FJSEY0lum',\n",
       "   'https://play-lh.googleusercontent.com/9lBiNdjYBjWTXVJuOddI9oVn8ScVLdt7YAZMWLNu7dpS4Us9cWFRa7_GQwWKUTFKqB4',\n",
       "   'https://play-lh.googleusercontent.com/w3OkTsc0ZCt35sw_5qMr0jiORlfkukKwV8Dh7PDNtI-MuKXlj0kdraTBo1Orm_YIErQ',\n",
       "   'https://play-lh.googleusercontent.com/5IR5tmAD35Sqfi-tDrFmb-mk9wronJDZm1w3h8xtFeK1rDX46Cyt0nauwUmUexSU9uM',\n",
       "   'https://play-lh.googleusercontent.com/fbQzDaEqAm98dh_y0SFSVJUe6Wn9YtHwWiG2eaTvfBMD4ksCiIhnrdaWUrCAFYDkxg',\n",
       "   'https://play-lh.googleusercontent.com/26dOho8wDy1FWTEN_54gWvV9o-8mCRHlP_LapAohiwjcUHe3cCTZ7bpFLgjsLVRPfF0',\n",
       "   'https://play-lh.googleusercontent.com/JJy2NtY-K4quRUBqarln-AqksGCpIpph8MWYuuq6vuGGbhtbL27R3WzuQ-IgvdaOHxo',\n",
       "   'https://play-lh.googleusercontent.com/fDXvaz0ADPPv6oh3l7oa2RWKLWhnmxMH20_Ek-dm309a4abBoikrzExAXCD2esF3dIg',\n",
       "   'https://play-lh.googleusercontent.com/LF4yf9bHJ1a3d9aS8SP3ayUjpruta2EdBCCoAUAuSCFW_WIsQn4fxQwy1Q7w7ZJu-0g',\n",
       "   'https://play-lh.googleusercontent.com/0jsgxRt9kRAjPLlzsUskK5oZj3-D-BBcu6DEBk7_drjMVaa_yccpB3cSf6nKanKqcx8',\n",
       "   'https://play-lh.googleusercontent.com/AsvpDARUa6ljMSiPJvQbJOyb0z9NnaJdEFyuPle7eRHrXJByIiAQrz9_RjrQQCewgGc',\n",
       "   'https://play-lh.googleusercontent.com/3j2asJ9gQG19RvNo8E1DfOG8rVt6SD1SIM2Yd9NV5o27M91NqTW09hQOwTKU1BXJKQ',\n",
       "   'https://play-lh.googleusercontent.com/zhpLYJZ7eTm6N852waAdvpG3aRwT-CdMKpojYcLiHb9btFaN2qc_m0pbv8szRHzg7A',\n",
       "   'https://play-lh.googleusercontent.com/-wrFe5CPDfezvQZfs70DCzwTSfPQNrsTz5_9OyHtzv1CcMujqnN8kA-XU_Cti9_Shw',\n",
       "   'https://play-lh.googleusercontent.com/dYHGgCAlOwT_pjcpQRGNRaDPCPJu40yl-eNX1ZcBfW6e9yigbhwOViD3zk44Ui4ue-0',\n",
       "   'https://play-lh.googleusercontent.com/P8UyWVicqkGcgxO571whPENBIAjWkCwiERNqrevVrEPBb-7nJ03AD3BG6_oOKZIhGR0S',\n",
       "   'https://play-lh.googleusercontent.com/WatnR5w8uQuk9aBF_zyMFwAWWfzRcAnrFDVUHqJAexQnPWHdnyFIXV8DAV3i8HPemQ',\n",
       "   'https://play-lh.googleusercontent.com/0_5VmqYsE-dohz4SiyGf0HvK9Fh2qU3_R0RRFPMrN6YdEqeocqxQN12LajahKyH1zGc',\n",
       "   'https://play-lh.googleusercontent.com/As1mqV2HtEBDfLTq-Biz_2J8c-EtUI-kOvstkachC9capO_JZnzrVwru52kUH72kkbI',\n",
       "   'https://play-lh.googleusercontent.com/p8jJaXWD55pieTPAYsQIYaTWdDaHR_M0aDbVIFQN9vSplp3zAWk1tPN7imBR7wsasMs8',\n",
       "   'https://play-lh.googleusercontent.com/YfP0kdSk_U_N96NCxGCjw1iwWchfi80rLb1vYqOmWF2iSjqf1xj02bAid7AbPPiPTxw',\n",
       "   'https://play-lh.googleusercontent.com/xDHFnQnmWLdASn9R5HXYowp--r2wGDN32o0CdEhqHvW8XTEPBr5b6zECoXlzfPWYxlmh',\n",
       "   'https://play-lh.googleusercontent.com/p5azJ8MNtk9QIJlIm1OG-Q36JAImWYVdmqVpLL4GGLfiYOZNZJGtYVGqlnvFs9hNRw',\n",
       "   'https://play-lh.googleusercontent.com/AS5VE0ehtnbRPRhPE2LIEp4V5vvBFPO8oomZh6tRoUDwifFPwA3yiHHntS9gvdlNsoS0',\n",
       "   'https://play-lh.googleusercontent.com/uk12FA3o6r7oOyhmohvrYPm3qk9_HYRIOvT6y4T-p_7ITrl4elg3tK5IRtTrbCvt500',\n",
       "   'https://play-lh.googleusercontent.com/k0PP42lhP5h8Oy6m-a_FuQjfjdLUqOAEIDZmoNmJadKyZjOzFKde3NkMMW5C3lAtRA',\n",
       "   'https://play-lh.googleusercontent.com/1K2F72BJXHojuNaBZ-Vs5PFJs8w2x5kHv_BB5AD-h3LJbdDVmN9pgeBiZssQxa9flv0V',\n",
       "   'https://play-lh.googleusercontent.com/Ty98xx2P6N-Z0BHkqeVNXSmPx_wBOHqIV35-CXAn3X0ddqCRL5kCgo-rDSfTCEvGWTw',\n",
       "   'https://play-lh.googleusercontent.com/x5KxOI69o3jkuqc3ZurB8rWdvx1lrmHU1iF3TZcSVMD_fhI1PXTuIyHqDQjxkSTBkA',\n",
       "   'https://play-lh.googleusercontent.com/WaCVbt3iC0v56NscQizat0uLMEjMFyzSfx7nlbYYUK3Avbks16JPKMg9cDY37vaMS7N8',\n",
       "   'https://play-lh.googleusercontent.com/PYj_Jjoe_Isu2MTPz3HNHe0rY-rMlYQxBhceKYXl314WOG6imZH5u_vJZteOXqrMx4-x',\n",
       "   'https://play-lh.googleusercontent.com/JLTr8yphFpYQ_uMpg6PdDfhX1ZpiRqDH6oT1FU30J9YYQPSb6SrMBEkYYkSzDCa2o-Q',\n",
       "   'https://play-lh.googleusercontent.com/FzZj94iGniPdqMuFFwtAoc9OJxLBHHgDs1FggJhSoONabO7ARa5kmsHTNnh11Ll1Nns',\n",
       "   'https://play-lh.googleusercontent.com/aueEWLoBDmq6NE5jGPwBFxBAUh3jWd8z2fXJf7a-VnNtM22ubbP2Raxv2O82rw0Lu7cf',\n",
       "   'https://play-lh.googleusercontent.com/PNJXWGwKrKkxMveIE6o5YyQ8zomwY92uQ4FeT023iCFIpN1nSUo_QydZ03r-g2ArfpE',\n",
       "   'https://play-lh.googleusercontent.com/nFc7nzPTLQ-kvNuBgg-HAB2r1AXWcj6lthLrA_yEatf-Pr8Gcqkm0TwpxxULfuMlvA',\n",
       "   'https://play-lh.googleusercontent.com/NeYvZWj72PUNqbEfE4O75KcnhZBGwlyFDc88hPgHgswNrCL1sALxi_G46xMpq6N7FN5Z',\n",
       "   'https://play-lh.googleusercontent.com/pes6kflZIWI8ZcSV4QZBz4qpqPEhwWGmcOo4sPAFR3BN0p56Zd23zvfzFI8W0pnivA',\n",
       "   'https://play-lh.googleusercontent.com/lnsJSfmzj--uuoqs-nXKkszYts8huX291foAAwJDKD79SDnghU4sRZJgSccX2vXvvoA',\n",
       "   'https://play-lh.googleusercontent.com/E09OT3-CgkK5EwHs0qbZrwWuMetWcBzDoM5wlypT9B0UzeqsFfNHj7V3o1_MdWQpNt8',\n",
       "   'https://play-lh.googleusercontent.com/cEhF4xTG6xg51TBAl8IlyUnPV_OzZKhMws2nRLCbhX_UyxCuTAaA0JAb080w4QHU4WZP',\n",
       "   'https://play-lh.googleusercontent.com/YIl8nnPWE2KjgpvaSXrLx2G_6uY8vxNUFA-wcFeXUh_thgEgsQjXUfKyzjKqkBBGOg',\n",
       "   'https://play-lh.googleusercontent.com/gCwdkELUmkDiT2QZT_SCn1dGlYaPKiu3kyN0ZVuNg9dQVOHpG5Cx2vSinPae_EB0IkNQ',\n",
       "   'https://play-lh.googleusercontent.com/l3fTi_gbydkjFWQ3wrzs_2wtPlhxq7iNypOWRpSh7HCcAstGitCrgVxxneUm_KdYLXU',\n",
       "   'https://play-lh.googleusercontent.com/S7zjXBWIWAsFuPlXA4ZO370NsCMtuZoCICQcZKnJ79Lt0KEK2ktglco_RZyfljGi8Ys1',\n",
       "   'https://play-lh.googleusercontent.com/Y2IWbI0_MAg7hJh2wqZRku4IL47CXI0mFAd55uIvkwCGUQljMkQjQny7K-AAdPHEKLsO',\n",
       "   'https://play-lh.googleusercontent.com/2khoBAXgkcmaRPMXLwvBd_MKR51z-vdXXcdZObfBRV6ExuYScRS-ztfFSEiIaKEM5dM',\n",
       "   'https://play-lh.googleusercontent.com/93RPIX_Cqii_5s-Y8y2e55oGbXOFDLdtMgyCcBG1ZlihEVBOBu1mBUoG4f6GMCsX16Nw',\n",
       "   'https://play-lh.googleusercontent.com/OAonfoIU6f8C9P1tYT6iGwe3MCvpoMXU8RvqjePc2Zc169EOG4Q3_9lzHTpJO0lRSw',\n",
       "   'https://play-lh.googleusercontent.com/u-sb0YppqMbVFh-0mTfce-NA_RPIkwi3O9GekUVnfD9tuVo0TfUHnW2d4CxUETTY4g',\n",
       "   'https://play-lh.googleusercontent.com/V8n6yLCVwQ10mcA_xpGiDI1FTuqMsO7QCTWcxE3DRT-dFD2AJji_2A7jSCkc3qn9AQ8',\n",
       "   'https://play-lh.googleusercontent.com/lF-CkOXPcpGA4t0AXIDmx8je-T-QfcQgqGCxFV9_XE_HUSbfMIlnPhC1iXoHcyNIMs0K',\n",
       "   'https://play-lh.googleusercontent.com/_ujciy4X2qaO2hPp0SbCd4susWpLb-oz548TWcvaNmxd7j6jo158tRRFAOZnE7L9ujw',\n",
       "   'https://play-lh.googleusercontent.com/6OVBhCTTp29Z3xYIG1x4ZVy1MOHWDLGonIXdfblqYuo2MNnsDlflzFnIW5RhOAQLo1o',\n",
       "   'https://play-lh.googleusercontent.com/5bWzvIRhI3Iv8OtqH01flIb0E53-tEIe-iTJCZVVvszFg8xtRTro94IK3k9taFwsHCvg',\n",
       "   'https://play-lh.googleusercontent.com/ytbeb57st4vSJhlssC8Hnh1lAgQQj0cR-ZnEvm3hKhqXC5lz3TMyrXL-CuBrRWeItw',\n",
       "   'https://play-lh.googleusercontent.com/iQFF7t2r6JmIl9H_TKKJjw6_sQgAVVOt0xwtiLqiQk5DOsE3uJszhiXNm1A9SWTgRLk',\n",
       "   'https://play-lh.googleusercontent.com/wPZHsVYmYdYfC9PHtf5BSsSoYvlCAh8H2bO4HLfyRkPO3T9vZnM0n-X4FQPczw9tatI',\n",
       "   'https://play-lh.googleusercontent.com/hpOKYsmZWhwPimbfH2HRXcjQWtxP_HXtsDDAjEQU4mn-yt_-eS6jz-Dr40wintWlRIc',\n",
       "   'https://play-lh.googleusercontent.com/pWH81rSkZeBcuy1PogjFV9RQTg_e01In5MvFqw9VVIotDqSVoL2RMc4A_Kic3eaIfAG1',\n",
       "   'https://play-lh.googleusercontent.com/fE8MKOo2opGXxpPz2yQcI4RWCegZPvPo3fhHkmhfpjBkQn_WpjWkncc3oKka1CYPyqg',\n",
       "   'https://play-lh.googleusercontent.com/fwQsqk1nLMWn41PucZYmhFufwMr_8o-MUCQ2dADvh3nhPg1oL8VSSveUUiITaYxNBfo',\n",
       "   'https://play-lh.googleusercontent.com/CDVlWdXx1wpQ4UWCuuMzbEM9dyBpnpn-CbqreCLMCyn3H8VoPLopk3VFPcfXPjF42kI',\n",
       "   'https://play-lh.googleusercontent.com/tbSAd00xGnvV73ujuWdYzvILNSFcka1-ZtqTCyDHU_ATcsH26LWyWxAhEovyNKcQoE4',\n",
       "   'https://play-lh.googleusercontent.com/VXrJMDY4Ngpc7YnPiixbx9OcnZa1xhJeHubwCkgn29RBjmXSfU_g8d678DoMwscTD_k',\n",
       "   'https://play-lh.googleusercontent.com/u526yCQwW2q15edrj0BxqdMo6wclFHlAACC1o90zOPR2IlU66SrzGQsZUNe1m4x_ZTyW',\n",
       "   'https://play-lh.googleusercontent.com/Sv5sRXZ_xS8hbozAx9-Jtp6_-PMZB8Wd9UvKYHDD_8O112JaewZHknxClJvzg_ltEHM',\n",
       "   'https://play-lh.googleusercontent.com/XU4bEYTIiaYtr7W0e6MCWgDRFxgPESpRKBmup8N7-l10qVVvTuDz-9VgMq_ODobL88GA',\n",
       "   'https://play-lh.googleusercontent.com/0SsG5WY_lkynEMrnxSuIGF0Fs2_arF2uTgC3XTd5QvQPWKB3KS1Ae0VfHTDh-EFtyA',\n",
       "   'https://play-lh.googleusercontent.com/GFRPIosHosr7WTLGPHM_keLVvsDa_XrQ1e-j_MoII7WeXIj8gW377JaxnzJge-BFXyY',\n",
       "   'https://play-lh.googleusercontent.com/8WkW7fK0qGaGXVjkZZoES2zzEV0jRRPCJIrxHWgJSqqve1vV2DMeOvwC0JojjTmXcnHc',\n",
       "   'https://play-lh.googleusercontent.com/V-lvUzA5kK0Xw3wdg8Ct3vfIMXUX5vXYcNLPmudaZ-eyQjedYz-luqIuLmJO6KodE0Y',\n",
       "   'https://play-lh.googleusercontent.com/m8aIH9unHwVuNECIIWGGPq8RnfEVodGltq5nQ5-bgGiux7u4kXDcKYeVYUUfYFRBiA',\n",
       "   'https://play-lh.googleusercontent.com/8KT9uvVjRusnzFEGzWOCI0OqP2RjNX3Jzr-peeOmpeS69Dt0EJDSGoFrnNLGhkF2QQ',\n",
       "   'https://play-lh.googleusercontent.com/q0DzBFkySshMfxchzAco41Deta7M1VJVXYw_uDJFCVfcRrMhFJXsiEoWoub9hTifaIA',\n",
       "   'https://play-lh.googleusercontent.com/9XvPjUbYtdKgMsnpOwjtSaQLcJDjIs5vcMTsCNm90M6lcF9s17TREfpatC-TAVtFmQ',\n",
       "   'https://play-lh.googleusercontent.com/qP0nLluLJhtkfNDeCKMqHuHJy70dawAB5nEGdaQDTaWqwrkkyZz4rWWrIdNdptqyCNc',\n",
       "   'https://play-lh.googleusercontent.com/gbBpbszOR4FUoEsZRH8UjoR7jzgTeuaKrbiI5xcmlKWFiUUDD1vBgJvH3rzKqDF4mkQ',\n",
       "   'https://play-lh.googleusercontent.com/EZtg0jr8Cj9mryABFWbF8HpEASvi5JXk_VSjXxfa0x5CYSbbvWieAs3VtKYoOYDGkQ',\n",
       "   'https://play-lh.googleusercontent.com/T2AFfeyE3GQ3--Bh15pODG-ACQ0TuAVnfWRuIxqk0VbuM7jlgZcaiwW2YUoAJCWhvA',\n",
       "   'https://play-lh.googleusercontent.com/GZxng-D-Z09D1i-wT0DH60e8qEKInDz7GO1yc7iCpF7_enKzpHiRKDMI7Wwz8zrBCNZx',\n",
       "   'https://play-lh.googleusercontent.com/mjv8VLSc2dsc1r_IFJhR0nuNZUbHPF2AKhy9XrwfTBsbZHHGAKhv4IRagXJ5X_rV7Jg',\n",
       "   'https://play-lh.googleusercontent.com/VRAP7H-KlQY1pDI9iEu0pTzsPvjdCXBIg9oAnnLaOaebXwe_9gyVsF9Q5gJoLod7NQ',\n",
       "   'https://play-lh.googleusercontent.com/kbR5PEEXnf9Y6pGWl2fJ26nocB_qgGOba41jY6X02SpF1r6WQ8DW-jCMhE-rmM9CxLoW',\n",
       "   'https://play-lh.googleusercontent.com/sIFG7BhXDcCaIeAfYSc2569P5mcmi8251-y-1EiIxLvnscKnoLyXMvq2Ihu1FeJfxeM',\n",
       "   'https://play-lh.googleusercontent.com/xRNrxQucQ9EFg8P_LCjuaCG3uZiMpDI0Zx4oLnebH82_fUv46ly58GD2CFrM-e4S8iA',\n",
       "   'https://play-lh.googleusercontent.com/lyP-hhTSNFhjlCuZbit4EtXS-6JVvEUdHcaRdwR81rlZ2AhQzeRo4ZU75JN8iq61ZQ',\n",
       "   'https://play-lh.googleusercontent.com/TYkEeSdxL_Y4EQJ86dsRpUnSbv0negHR3p02AiFylz-J7mcxuIIPL5BJOJnaqiPacH4',\n",
       "   'https://play-lh.googleusercontent.com/5B_KwrxJE0Hy9plZqLBxVrD-4Ka22Six1JIfMapgARh4cesGTw0mIbT-OQrDxDrgCY0',\n",
       "   'https://play-lh.googleusercontent.com/6M5iMnva0AszgNdMBKEOsXPhv2-tATlPM4w1VunP1q2l68Tk_jkaCM5LTNxM7rnJ9v2r',\n",
       "   'https://play-lh.googleusercontent.com/50SxO8wvkzGkxJ8r6YIBi4Hzjw5sFOOgEDEt0vcjt7383WT_15z_tiJoygCuUdVgonMc',\n",
       "   'https://play-lh.googleusercontent.com/056m2BdsWRumTzPegP-PEowL0_vf2DCDxDnKil4nY2A0Otec0Tq3ld0GFe_l3hFUHEY',\n",
       "   'https://play-lh.googleusercontent.com/WOrSzEAWfQ82KxU3KrYmZ-SR1cvFlzsu4NhCB9b8cMsbCb06fofhFxV-GCuoqgLy2e8',\n",
       "   'https://play-lh.googleusercontent.com/HTNChsj8xvfWgPHbU3pmTWgPEBEkshai9JKK0IjlqRMzBdYdYVM6PBJhVgMR_IjeGA',\n",
       "   'https://play-lh.googleusercontent.com/GUcjHtu4N3wIHHhZNvGvbM-8ZZoNNquSgZtZTxqZCzWuAyehNpJn4STU0Yku_mnsYgU',\n",
       "   'https://play-lh.googleusercontent.com/FMS6E5wwlHKXALL6YWXOHPm2zNycFpPIfODk9FeS7QJkjbjJSew5wJkC-gyr58D76Dw',\n",
       "   'https://play-lh.googleusercontent.com/l09RFdmrcZ1cpMrLNPtJocygyHqtIN1XQGJEy3kIvKoWP74lQI3609RfbD6-hBpQpg',\n",
       "   'https://play-lh.googleusercontent.com/uN16HUM01NT3SonHR-WMOcBzmKZnN3sK6Da14Tm_FU2QXGB91moK9zSqutz-Uwszqtl4',\n",
       "   'https://play-lh.googleusercontent.com/U9GiTknmZW3peSAtRPUFRnR-EkWtY8HWeF-fnVvQydXNBHEYdtQZHf2YnIOUrBtYGWqY',\n",
       "   'https://play-lh.googleusercontent.com/1YEWP18Mm-_UM5uGxEi2ucGCyCV2Mw29tNewmFG_EC2ErywkJaylM4QmN-RaYSI0Kg',\n",
       "   'https://play-lh.googleusercontent.com/yJ0wy-U-5XRF-sNPEfCyIHEthcl0UbNTg56dlTLHvjKpMl6miXfd_gh1rD0cPhYc77A',\n",
       "   'https://play-lh.googleusercontent.com/Rw6fFTrbKbJNTuRr9cWyDCqGM6NrFkcjwCieYmgOUGAlGSVaaNsrP9cbi3MdHU9jtjI',\n",
       "   'https://play-lh.googleusercontent.com/nLD_vTN-ofG1Sd8KtMZYWMIqJASpuosc_wdOyCERSssgxuxBbVtcDtg8EaayN4c-N7I',\n",
       "   'https://play-lh.googleusercontent.com/jXbgWe82LwSzR2g7udmkUH62jaoEkCUspy5i1_yL7Jz5Dp692jLIsIYTI3dKGKXqn-bA',\n",
       "   'https://play-lh.googleusercontent.com/dNx_-tXkU3infLBs1aWKECQMT4tDP2utd3_HFvxhKnbvrkCp1941nD118VRHN1I-c-U',\n",
       "   'https://play-lh.googleusercontent.com/JNRGN2FQm4HgkQ6SjY7Ax7q4vjmqNSsTJ1J5XjRyV7_dIe_m_7WYHRKIr3ryrYpvvw',\n",
       "   'https://play-lh.googleusercontent.com/87Q9M9Kf00HxdzKCyeYf6edZB1kwKICD0bJ4qH30jQxUc18ShNojWEoEIxO-XJnyCw',\n",
       "   'https://play-lh.googleusercontent.com/ZOHpWh9LfazTc9uqp-HgcxZHsuAAK6M_QmgJ0Yevq1PnBbxy2tlUcoVHRznMLuzYgw',\n",
       "   'https://play-lh.googleusercontent.com/YHN9Zj7M3GA4Z5wP4mlM0gjwFFW9kxcKnzIs9sR220Jvj5dxUEppbIDEifKJ7aUdlg',\n",
       "   'https://play-lh.googleusercontent.com/YehB5GjqEFhbJhUCHUMzIkSVZUon9VhrSMqHf6q99-69Fr5U-y6dGGdIvUh1E17bzQ8',\n",
       "   'https://play-lh.googleusercontent.com/yN2fQhGxBlvxKBpR-4lMIKiP_gMyrNsSTd-D17TTL7M443ub5DSqAQNlOKQs8spo7aU',\n",
       "   'https://play-lh.googleusercontent.com/prsiyRqiFtBQNUBI1HNo6rFUrCPdnHkxb4MD0Rq0tpCsvZAlxoABnzXimA9nnlNSrg',\n",
       "   'https://play-lh.googleusercontent.com/6utgGb6WJNTct2KGuNGNnp5Vf-LaN7wHGNoQo4q1wYveqdI6gbUq1OpE-OY7NmlDZcQ',\n",
       "   'https://play-lh.googleusercontent.com/qWMfT0lS5r-bvFy1MTFOHl84jOMiw_EMNBu3FwQKpwrk7sIDb_mmEWeBQ2qEt-Ez6L2T',\n",
       "   'https://play-lh.googleusercontent.com/FVFVo5-bd8BydBuqouKbmufPJc9J05D2wAbxmQMt-FgXvM_Fy0O9u7LmWKuC2Y4b1Q',\n",
       "   'https://play-lh.googleusercontent.com/b-VfinCsLYZHnkpqEKZ7qLYR3XhClVseeA50PXSY3ug5PhvXsdaJAXGNTwAQyYHt7w',\n",
       "   'https://play-lh.googleusercontent.com/vkbxn06Sb6Y2GEhYLkXIgHEO_0Yguyb_Af35OBF5eOlfBjog_NEov6dqOVAhyZ9YVcw',\n",
       "   'https://play-lh.googleusercontent.com/P513WAARWpOcmyZvbQ892pqTh9oys8yACi9W8kAr32qou6dWR3A6TT4BjWCwd0d5JMg',\n",
       "   'https://play-lh.googleusercontent.com/WF0thCBsxUffRspArcaI8RCRSO94r_mTBglG4ebGuyy2bPh3YCfkUC3ITZixZnqrwXA',\n",
       "   'https://play-lh.googleusercontent.com/vjd9ofbIQbl6hm8yxZP8Zf_MK9rpvci39Zh1CkQESaSJifQTuOZWU6lVFdzt4tuMHlk',\n",
       "   'https://play-lh.googleusercontent.com/p0PS1D19D93X8zgtSXQEq3lzR32l2z0Vji7TeMVupA1LsR3-sFxI4BCrz33Msf9XRAY',\n",
       "   'https://play-lh.googleusercontent.com/QcAsgJ5GOr7AjDzVl22lrYeZ2vMJ8siNScvl3UhYi4IU0J8bOxgVrTV4eBsrmcfryRM',\n",
       "   'https://play-lh.googleusercontent.com/x9haeVJiZkeTNlBZd_UcBgQSAs2QP0CiYrCUcPGVH698iRmqGpHMTluJdHvTbjZH3b8',\n",
       "   'https://play-lh.googleusercontent.com/oRVgybKpdM5XdCQ3zu0Unm0FMV76QRHWKZlIhQFCkOdPPKIR1lkiVKESu6-gDPfnAg',\n",
       "   'https://play-lh.googleusercontent.com/PL1cpd1I1s0wxJcrSxqnfPsg2uPXNt0mxWV7mKp2FCdNP6SzmUUSEHQabYwzejT_HQ',\n",
       "   'https://play-lh.googleusercontent.com/ym8aNErDRXgIBu4pywP4jinou63IPU8LezLbyj82siMhzsFI2GryKx10MaTYASHYUdHx',\n",
       "   'https://play-lh.googleusercontent.com/6t3J5z6RA4VzUI8YKcP56wCgJra2zWNK25WMTxo2V3ZL_Pu_RER6z5FQa9ddEfmx0cI',\n",
       "   'https://play-lh.googleusercontent.com/OuUoWLfzrpuS97cAbjh07-900vhy5ILivWJA9Xnn6Te7aW5uplP010r-Tmi7gOH7nw',\n",
       "   'https://play-lh.googleusercontent.com/ecIdo9wMJIQZpZoNshYgd3f8x_eJ2v5GqmOWlM0ZVMB2lhHatA1HHPbW9agsKC_guI2W',\n",
       "   'https://play-lh.googleusercontent.com/aOkpBtwkuXgbwD0Ngq2ON0a3wuu77WlvWXOwumc4eS90f7bW_bauS4ey6wtIAgUAJ9s',\n",
       "   'https://play-lh.googleusercontent.com/4Y4u9k6-TaMIXtrZS30jMO7LqLNLRPoVtj0LP5RwKjlfno-szaKuxiQdmBqs7fSc3Q',\n",
       "   'https://play-lh.googleusercontent.com/Ru5oksKMCtBG5tBWdBMiJ2PpLanRM0Lse-pJ31_ROcqV9eMUCpXCM-us2wH6InEQSw',\n",
       "   'https://play-lh.googleusercontent.com/MCUvCgwAWN98hqZOJrtjPq8Qr4lpI44lnLpD8cPpV0RRtzaclXp1R9swivCBR2LOZw',\n",
       "   'https://play-lh.googleusercontent.com/Ox5XEqLjGi2l27Kt1z8deq0a2GgLM1Cc6mLtinJB8db6pKLuXi1eRKqVrLEat80zgbw',\n",
       "   'https://play-lh.googleusercontent.com/sokuIbCVtfVws65xa5sgvaAXBHtWKlCy4jpUnJTP1tuerj8YRPrLX93PLOjrfZrncQ',\n",
       "   'https://play-lh.googleusercontent.com/nMm786aflyDxzmlFD-ywMyqdilzNE4rTxvxv8kdCiVQdsQN0HTVz0XhacAexI1zzuvk',\n",
       "   'https://play-lh.googleusercontent.com/nQxnA--HjPai5p973fEcsyG5K4pat6b2BF5K0flUb7rMmxLJgJubPIGr1HeLcLQo_w',\n",
       "   'https://play-lh.googleusercontent.com/zY13mybzwKJm-OGDo1tZfvn8agH_J3oHu0LwBFbJKFr4gO1-2oztn6pLjdum1KeOjw',\n",
       "   'https://play-lh.googleusercontent.com/z1bbekLcrk7kmxD4Hi18RJFJr0P2fhbbWTIXhSeDhrEqF7YfT2kN5BPyNruYdQ0bVg',\n",
       "   'https://play-lh.googleusercontent.com/h9EKkQQ2FQhakQouP69XgNXgwrkJlUl0Gc96XXzUW2MQZiBFl1NHu_u4IFOXu0h5Qg',\n",
       "   'https://play-lh.googleusercontent.com/YjG3qWP3ptrri2yDTwAjtZVtFtJcuTUMYXykAJM9s1DGq_4C1MqbIWEvCe3aSDbJQQo',\n",
       "   'https://play-lh.googleusercontent.com/Tj9eavOvuaszxO0pgAhYsXuEx55w7dVHaPf43QkXj_fWS-3K7-1UxIuaEY5hBUWXXA',\n",
       "   'https://play-lh.googleusercontent.com/K21F7uExO9GSatm4ZFa7Kly632TiG6NIszilrkFDARM0YaJho9LAbRJ4U9exggR4O_Y',\n",
       "   'https://play-lh.googleusercontent.com/RYsTKDb4nI-e8Fd38trsswqglOOiywhvedSM5yICCEJnDqlp2Ya54dESLeP_BCnj3Io',\n",
       "   'https://play-lh.googleusercontent.com/ULQ8m0kjrzg1x5PbPHnnA6jwIW6OJpWG-81yL76PEgkOJMTtPg_MSoJUq7IEDojWRfs',\n",
       "   'https://play-lh.googleusercontent.com/X6V1kXrN2QziaVha_-4kgpKn4W8eg2CfQNhhltE9zYFNnlBkb1ZYFH2M_px5y8eYvWc',\n",
       "   'https://play-lh.googleusercontent.com/FcL8U0TnRExDrbzYiPXu_YdZZ0JK6wgLpkKvib1T2YrZEa9iA_2bUQR1maiLjT25NA',\n",
       "   'https://play-lh.googleusercontent.com/ER2yGEKm1-qiQnudYu4LyLl9RFT1f2oHvEUi_O5jtvsFwFTH7--ZsblLmH8Hx0JTzQ',\n",
       "   'https://play-lh.googleusercontent.com/KF4paO-kj4AEwrZ_aYh0DKL99dxBVAin_XXsZ5ndWKfgkYd4ShRiqn9yKzP1SpTIuag',\n",
       "   'https://play-lh.googleusercontent.com/zSUp6OsW0EBvjeJ345KMVfdqbYvol8OSbHMS3lXInTAoWoXEDSHW0gyvh4GTj56B698',\n",
       "   'https://play-lh.googleusercontent.com/ecz99XFPFBrfwqtsDezfOuBeno8t2jq_RXW67f91m7L0NpOXeV_rCGI67qFeDQTKxw',\n",
       "   'https://play-lh.googleusercontent.com/WDFEEMW9GYXkilU5kU8kM_HHZIIrdftdQFA_qV_OB-EK_U-U-iwLCpWA_8nSbw7ZWmHt',\n",
       "   'https://play-lh.googleusercontent.com/daY_vgFs4r2SwiH6nEPhBg58SP-UZIiimbep-EnPNeWHpeDsO4xLjLlVATAc1KiAjcg',\n",
       "   'https://play-lh.googleusercontent.com/2IMmjMnzs2LNsnwvPIGsE-iEQ52qJUHyr0EZGL1wB18HTFfbv0bbO7wEgsfBtRFj1Q',\n",
       "   'https://play-lh.googleusercontent.com/cpWge77pQmHl_MeIIF4597LgrAa0vuCFqPTT3loh-Aan3aTh_0wkvwdMpAtn7ezVl0Q',\n",
       "   'https://play-lh.googleusercontent.com/8wdhIibaGGnx7YxHLWRbkU6U0zdNI-SvHSHdUh0YJ3DZ0BJpmlTV3z3rZ3LxvfUtbL0',\n",
       "   'https://play-lh.googleusercontent.com/EzVB6uYQDzCJADLI71b17tJzPqOqedN6FYLGKIXPOgld38PA1LgeB-SfuBSo8ycy3Ag',\n",
       "   'https://play-lh.googleusercontent.com/OGHUMd5K8fIp2hwQ9By4JtXShKCrD-DBOHAfCAs4gCSNBlosLzsbb-Cd3aw-J73Wl2Y',\n",
       "   'https://play-lh.googleusercontent.com/HkYEyi-HIKABCGWDVdXr35-XLx51HwjgRwHN4ltqway-iY7VNoQjEzx6taR9biiI6qWb',\n",
       "   'https://play-lh.googleusercontent.com/qGKYihUij5fWB1HD3ocnR8-MjmfOLvOZsxZjqvgN6xtBe1fnlNsrvAaOHWCkbEZWYso',\n",
       "   'https://play-lh.googleusercontent.com/EdFW776n6LcMzPeKdsdtKnL7uettCPUjZ0KXjdBWu8P9uln_TsUZtZDmdF_QJn1Wx6ue',\n",
       "   'https://play-lh.googleusercontent.com/H0CPtny3fhtv0b_RtVxDD2-2CUTjwble6Bcx46MBk93l7x2d9r6MV1ptUg2Dsi6LaHg',\n",
       "   'https://play-lh.googleusercontent.com/yNeHP6gJ3Jlz6_ZBLzw7g3KvuVdrGf6_1Ij1rXPHpgpBwpA4xtomzJyVmhPKTWYtIlIM',\n",
       "   'https://play-lh.googleusercontent.com/zTUO9Oz6pteKSTYKskkap8QCepPKG9yOEQ2LJkOU6F06x9cnSk0VsGb6A9h8zEs2hza6',\n",
       "   'https://play-lh.googleusercontent.com/dyEhiCmGUPptSPYeTgPiu7TRpsDOJvno8ZXwB4GJvJhcMW_j4v2uqNEkJkI31rOCMA',\n",
       "   'https://play-lh.googleusercontent.com/DwHJVunQzJE7j6oyv2BRqLuJsI1r-2T4hTiGIil0MZeOpTC23UWKihxLLqBZHN7Y6kU',\n",
       "   'https://play-lh.googleusercontent.com/XBFhjkNYGHotUI1RxA3QsuDQn0QTEHi3eyZRj0H5q-NE8NgGFUZUeSe9dAPb7ldG9UM',\n",
       "   'https://play-lh.googleusercontent.com/6ZCDfjCLgDCuz1T6HLOuIWZW-WwfwkuU3cMeoTFC_PAq79UvIYX7NcZcSSoRvBOZBw',\n",
       "   'https://play-lh.googleusercontent.com/RuDv5_cqMX0kFreBBsNCeXfyZ_kbld6LdG_g1PicBCmo9Y4sr9qwJlN23BsdaKmFXxpM',\n",
       "   'https://play-lh.googleusercontent.com/2zjWfYhVP5THfT5HGdQjrciRSRYhw4J1Z1sDp8Q63swloTfKXt6kFedu_h6HbdrL0w',\n",
       "   'https://play-lh.googleusercontent.com/pLx-sFM9bZQPQC31I4Fk1Ln1epQA2Op269pvDh5imWf_1RqMBXy5PaErXXVqFdMnt6oE',\n",
       "   'https://play-lh.googleusercontent.com/8vAg805Hbqbg8TWgyqwNRN2JRAO2hNjn-xFeBNESKeDtSmq-2f6SP-eaW7WpgSOI9No',\n",
       "   'https://play-lh.googleusercontent.com/K3NJStfySSDRR323uuhNwSnHGjT2TesmM2q4sOScykKi5-NpwujjQi-sGu8n1sGfq5he',\n",
       "   'https://play-lh.googleusercontent.com/HZ7aGb30sveU0GqExmvegxs8_5XsQtzlJIpNlHp9T1bvo_ySiha60qy3nvXYdzbYhyna',\n",
       "   'https://play-lh.googleusercontent.com/HO-1u4U6sh_jtJfNVCgeS9FDuJdJ_VzffGPLSNnyYf24VPNKbsg0ZIa45e250PV7M68',\n",
       "   'https://play-lh.googleusercontent.com/pSu7qUZvhtWEra4T5umRCAV3puLFLTrH_pj0uim12_jy2tIDM92ipoEWeGchzwJQ3Ik',\n",
       "   'https://play-lh.googleusercontent.com/knBWPM_ocz2tMA0eScYwkORTuMkWpaeHhKr6l8oOoGUwqBLvIjhfcQ82U4hYDinyn5M',\n",
       "   'https://play-lh.googleusercontent.com/j1PpVrLUrlCiALkYy4gNcoVaXBE6HPpFb97CkXAQRESfaa_JdlMvW_S56U1Lv16T4m0',\n",
       "   'https://play-lh.googleusercontent.com/ox-f50kx_sL4s2t0VPAGz1O2AegHkYTFPMPw2EqjdrlnK2NR8tW519e2okG5ArNXlg',\n",
       "   'https://play-lh.googleusercontent.com/s7oUHC4W5P7oe9zq200a6A6s8GbvzDtpRO5Snk4KiuXxT-RLJ-WjW_RTcBGTcldcswE',\n",
       "   'https://play-lh.googleusercontent.com/gjwtFa9UWT30OJ2h9JZL8qv7LYGkAyJ9KPICHPc2Mkw7NA_3E_mSqZkqLA0gTgBLE2xt',\n",
       "   'https://play-lh.googleusercontent.com/kj0_PohAenanioEkAhqkd0L9XYO4kE72FeZ9cBsyq-bHviWON5ixMu34GXKlbobEl_Q',\n",
       "   'https://play-lh.googleusercontent.com/XHJmIAPEi9F4K5W_-l1kF2p5KHYM80FhPlIRFO2t1VIqrsIXI6JcDs-L2UkXFTCqGXM',\n",
       "   'https://play-lh.googleusercontent.com/YZP8x9KuDZYAOs-txVW1DJzQvyOweY72lcO8wnX8UDeDDnEAhXXt8nC0N7Qu13mkkh4',\n",
       "   'https://play-lh.googleusercontent.com/bczRvMqywrPeQZMOu2rMn7HGV6-JQjU3dIwfLfr7bzeapumNIZzNZHoDxv8bEehcPg',\n",
       "   'https://play-lh.googleusercontent.com/PBdqL1P9_ZH71mAXAFuXq4Gn1qhjzS19LQTKFFkqcbG3KMMToKABNenhlqh3rTPRqwE',\n",
       "   'https://play-lh.googleusercontent.com/PnQhppmGHggv70PWQlqUTYQnETUry4SZTohhVOmtRRGkntDIEXjSsXPkGxcH8kO5Tg',\n",
       "   'https://play-lh.googleusercontent.com/vY5FGcDfYXNvGN8PLIDgzhKr5B-gKiLWMxq3n8k13yzr9AOI9o8e6g54Rfdq0tpDwg',\n",
       "   'https://play-lh.googleusercontent.com/FqXEVsJjwTM40rmYX4uNkhoZuVSgHYfxKHBgiAWI7GQGkl4KvcxZWLN3DhfzWzOBdbQ',\n",
       "   'https://play-lh.googleusercontent.com/pxvuUGwmtA20MdlIrsZpqrVXjxtQj5lRYTkAUJ9cus_qiLFMxK4eohfmBjAdCtf2tg',\n",
       "   'https://play-lh.googleusercontent.com/65suZohY4ozFRhDClWYyKOwbM8kfaZJrrr3o40s_M8VpqJDvU0qVFLjQJoyN4X95eZVN',\n",
       "   'https://play-lh.googleusercontent.com/JC2nrEFjMfyE1ViyhH3oOwrt20L9nv90alE5hM-9uuBc3ron78s2c5Q_-N8UTWUHp1U',\n",
       "   'https://play-lh.googleusercontent.com/u1wTaNhzW3awm3oX1fbZzUxIkYfOU1IJAHB98E7j1JdcqbGHu5F5D4DBC0Kb0VpIsg',\n",
       "   'https://play-lh.googleusercontent.com/9OdJ6vwYMqedeLUGyvOkaNLEO45XliRMmKxIRdu3c4rtNMcWTSIQW3_HviBxY3YwtUJ6',\n",
       "   'https://play-lh.googleusercontent.com/g2528h1qJ9kC7nB7bUnjF69MtvAmE1JoYXyFXmnLqnbHrxceQFtBwnrmCADixf4GYw',\n",
       "   'https://play-lh.googleusercontent.com/Xzo4UjRWS9klmJ40Izj5v5oeEfaKbsKyiWhjLfX_4rGbNJt1YhlLoGaVEZuBJGAlfvCY',\n",
       "   'https://play-lh.googleusercontent.com/EevosjIMV2iVS_vZw9fw-Wyx3I0qR6h3crcAo1m_hM_qPn0Ohloxbg_wUOuFyjcxJOE',\n",
       "   'https://play-lh.googleusercontent.com/pI2NwZLUVRJzN0Jmzb1_G7Qtg0MUfS1k-Wvb4XjYfohtJVO6bQIIdUm6YM7cpfLHlcQ',\n",
       "   'https://play-lh.googleusercontent.com/gFphgZc0fg8Dv_Dblln3nZ3STKCJpaEu9djD2opdF5wl3VzCpk2uiRw58xT4IpyLn_FV',\n",
       "   'https://play-lh.googleusercontent.com/DOJA4sCQy150-JvvfNm5A6IWfT4syFY8feaWQjIDJEcOWa_sRgNnYfLh4uOie5_Xjtq7',\n",
       "   'https://play-lh.googleusercontent.com/kRZgFU-1zq3kg16ApIqE21g2S5T1sPF0Woa5DhtJZ8Sog0uSmwxC_sftv_IYTzWUnMEx',\n",
       "   'https://play-lh.googleusercontent.com/dLLMzL9vN7PDk4_LoIe-thh4Us5VLrlMPJ7MCs6kxM6MqU4lhyVmlbhbt2bGqyqFPQ',\n",
       "   'https://play-lh.googleusercontent.com/1gjRbQamDAPGOldBrs6_U__lP-YQcn-0MCED72pt_vE_ebcYcHpmhCJ-HuOBld7zwes',\n",
       "   'https://play-lh.googleusercontent.com/vMPcxr12eE5b2wcU4FLojadaa9y0S7h-id6RO72m6iZFC6Lr1JTGOTQfQmXLi-EFgtM',\n",
       "   'https://play-lh.googleusercontent.com/V5OD_v45IqPNzAdrZDyAwpirE_XJJ_nZG6HVd1o5W8NeLRhOZBFFKnj3w_DNEa9RF7c',\n",
       "   'https://play-lh.googleusercontent.com/b8ho8Ai1a6Lm1zuFYDBQeHxHPz7kVFQcH--dgPB1i3xNeC6EtjzOmMmcIAiXsiWfPw',\n",
       "   'https://play-lh.googleusercontent.com/2Z7p5mAX5M7QvVI520wBxdh41PNOOgogciuLvfB3NB4hCqUZB3WHIh40aufrUzGJcFE',\n",
       "   'https://play-lh.googleusercontent.com/CVAGAdxYaiI8vAMGhnWNPRsqQ844O1Y6ijb8ERx_KDjluo9EmR3f81ghgV_Fwpw1hBw',\n",
       "   'https://play-lh.googleusercontent.com/5acdLkt3bHNERzrpdxoN_UeEG9LLUbJUCFQR4X1BcF94frOeEZlmSXrS7fMqGamOEw',\n",
       "   'https://play-lh.googleusercontent.com/kkVTYy2t9MH2TRlrQ3w-sntBacoRLzLzf7M3kOACNT8o5qimT5iMjCS2xRVgLwbLcsY',\n",
       "   'https://play-lh.googleusercontent.com/qahkqUU0EiPd2xZLNsD_OlJbVysslRx1tM5e4UiZJCqVzxoKMg8A0vBqMZSwWkcH6RcP',\n",
       "   'https://play-lh.googleusercontent.com/HimO_QEWOOmin6YcmLgAn38uDBqeRP4f0XtGdDLYsPsM-aeWT4HiWx6XzdfnjE4QjA',\n",
       "   'https://play-lh.googleusercontent.com/8g0nSeixeB2UTN08UfgfiKF5W3N7Z1GVwgIJJinX7hYEks3AMySJkNf_X66d9dtjKAc',\n",
       "   'https://play-lh.googleusercontent.com/Q-9qQ2ZaNu-smCgHKqpxnPsYINw2RgxEQLqcT7tgvORCWpmqKadZtqzzbo93MWJ5xFil']}]"
      ]
     },
     "execution_count": 23,
     "metadata": {},
     "output_type": "execute_result"
    }
   ],
   "source": [
    "app_data"
   ]
  },
  {
   "cell_type": "code",
   "execution_count": 24,
   "id": "cd4638aa",
   "metadata": {},
   "outputs": [
    {
     "data": {
      "text/plain": [
       "1"
      ]
     },
     "execution_count": 24,
     "metadata": {},
     "output_type": "execute_result"
    }
   ],
   "source": [
    "len(app_data)"
   ]
  },
  {
   "cell_type": "code",
   "execution_count": 26,
   "id": "41663a48",
   "metadata": {},
   "outputs": [
    {
     "ename": "SyntaxError",
     "evalue": "'return' outside function (<ipython-input-26-9d61a819c93f>, line 1)",
     "output_type": "error",
     "traceback": [
      "\u001b[0;36m  File \u001b[0;32m\"<ipython-input-26-9d61a819c93f>\"\u001b[0;36m, line \u001b[0;32m1\u001b[0m\n\u001b[0;31m    return {\"app_data\": app_data, \"app_user_comments\": app_user_comments}\u001b[0m\n\u001b[0m                                                                         ^\u001b[0m\n\u001b[0;31mSyntaxError\u001b[0m\u001b[0;31m:\u001b[0m 'return' outside function\n"
     ]
    }
   ],
   "source": []
  },
  {
   "cell_type": "code",
   "execution_count": null,
   "id": "7fa2fe4e",
   "metadata": {},
   "outputs": [],
   "source": []
  }
 ],
 "metadata": {
  "kernelspec": {
   "display_name": "Python 3",
   "language": "python",
   "name": "python3"
  },
  "language_info": {
   "codemirror_mode": {
    "name": "ipython",
    "version": 3
   },
   "file_extension": ".py",
   "mimetype": "text/x-python",
   "name": "python",
   "nbconvert_exporter": "python",
   "pygments_lexer": "ipython3",
   "version": "3.6.8"
  }
 },
 "nbformat": 4,
 "nbformat_minor": 5
}
